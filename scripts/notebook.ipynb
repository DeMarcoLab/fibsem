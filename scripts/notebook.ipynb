{
 "cells": [
  {
   "cell_type": "markdown",
   "metadata": {},
   "source": [
    "## Testing Notebook\n"
   ]
  },
  {
   "cell_type": "code",
   "execution_count": null,
   "metadata": {},
   "outputs": [],
   "source": [
    "%load_ext autoreload\n",
    "%autoreload 2\n",
    "\n",
    "from fibsem import utils, acquire, patterning\n",
    "from fibsem.structures import BeamType\n",
    "from pprint import pprint\n",
    "import matplotlib.pyplot as plt\n",
    "\n",
    "\n",
    "microscope, settings = utils.setup_session()"
   ]
  },
  {
   "cell_type": "code",
   "execution_count": null,
   "metadata": {},
   "outputs": [],
   "source": [
    "## apply configuration\n",
    "\n",
    "microscope.apply_configuration()\n",
    "\n",
    "\n",
    "electron = microscope.get_beam_system_settings(beam_type=BeamType.ELECTRON)\n",
    "pprint(electron.to_dict())\n",
    "\n",
    "ion = microscope.get_beam_system_settings(beam_type=BeamType.ION)\n",
    "pprint(ion.to_dict())\n",
    "\n"
   ]
  },
  {
   "cell_type": "code",
   "execution_count": null,
   "metadata": {},
   "outputs": [],
   "source": [
    "# flat to beams\n",
    "microscope.move_flat_to_beam(beam_type=BeamType.ELECTRON)"
   ]
  },
  {
   "cell_type": "code",
   "execution_count": null,
   "metadata": {},
   "outputs": [],
   "source": [
    "microscope.move_flat_to_beam(beam_type=BeamType.ION)"
   ]
  },
  {
   "cell_type": "code",
   "execution_count": null,
   "metadata": {},
   "outputs": [],
   "source": [
    "state = microscope.get_microscope_state()\n",
    "\n",
    "pprint(state.to_dict())"
   ]
  },
  {
   "cell_type": "code",
   "execution_count": null,
   "metadata": {},
   "outputs": [],
   "source": [
    "# move to state\n",
    "microscope.set_microscope_state(state)"
   ]
  },
  {
   "cell_type": "code",
   "execution_count": null,
   "metadata": {},
   "outputs": [],
   "source": [
    "## manipulator\n",
    "\n",
    "microscope.insert_manipulator(\"PARK\")\n",
    "\n",
    "\n",
    "settings.image.hfw = 400e-6\n",
    "eb_image, ib_image = acquire.take_reference_images(microscope, settings.image)\n",
    "\n",
    "fig, ax = plt.subplots(1,2, figsize=(10,5))\n",
    "ax[0].imshow(eb_image.data, cmap=\"gray\")\n",
    "ax[1].imshow(ib_image.data, cmap=\"gray\")\n",
    "\n",
    "plt.show()\n"
   ]
  },
  {
   "cell_type": "code",
   "execution_count": null,
   "metadata": {},
   "outputs": [],
   "source": [
    "\n",
    "from autolamella.workflows import actions\n",
    "actions.move_needle_to_liftout_position(microscope)\n",
    "\n",
    "settings.image.hfw = 400e-6\n",
    "eb_image, ib_image = acquire.take_reference_images(microscope, settings.image)\n",
    "\n",
    "fig, ax = plt.subplots(1,2, figsize=(10,5))\n",
    "ax[0].imshow(eb_image.data, cmap=\"gray\")\n",
    "ax[1].imshow(ib_image.data, cmap=\"gray\")\n",
    "\n",
    "plt.show()\n"
   ]
  },
  {
   "cell_type": "code",
   "execution_count": null,
   "metadata": {},
   "outputs": [],
   "source": [
    "microscope.move_manipulator_corrected(dx=10e-6, dy=10e-6, beam_type=BeamType.ELECTRON)\n",
    "\n",
    "settings.image.hfw = 400e-6\n",
    "eb_image, ib_image = acquire.take_reference_images(microscope, settings.image)\n",
    "\n",
    "fig, ax = plt.subplots(1,2, figsize=(10,5))\n",
    "ax[0].imshow(eb_image.data, cmap=\"gray\")\n",
    "ax[1].imshow(ib_image.data, cmap=\"gray\")\n",
    "\n",
    "plt.show()\n",
    "\n",
    "microscope.move_manipulator_corrected(dx=10e-6, dy=10e-6, beam_type=BeamType.ION)\n",
    "\n",
    "settings.image.hfw = 400e-6\n",
    "eb_image, ib_image = acquire.take_reference_images(microscope, settings.image)\n",
    "\n",
    "fig, ax = plt.subplots(1,2, figsize=(10,5))\n",
    "ax[0].imshow(eb_image.data, cmap=\"gray\")\n",
    "ax[1].imshow(ib_image.data, cmap=\"gray\")\n",
    "\n",
    "plt.show()"
   ]
  },
  {
   "cell_type": "code",
   "execution_count": null,
   "metadata": {},
   "outputs": [],
   "source": [
    "# chamber camera\n",
    "image = microscope.acquire_chamber_image()\n",
    "\n",
    "plt.imshow(image.data, cmap=\"gray\")\n",
    "plt.show()\n"
   ]
  },
  {
   "cell_type": "code",
   "execution_count": null,
   "metadata": {},
   "outputs": [],
   "source": [
    "# waffle dry run - full\n",
    "\n",
    "# serial liftout - prep, mill trench, liftout"
   ]
  },
  {
   "cell_type": "code",
   "execution_count": null,
   "metadata": {},
   "outputs": [],
   "source": [
    "%load_ext autoreload\n",
    "%autoreload 2\n",
    "\n",
    "from fibsem.patterning import get_milling_stages\n",
    "from fibsem.milling import mill_stages, draw_patterns\n",
    "\n",
    "from fibsem import utils\n",
    "\n",
    "protocol = {\"milling\": { \n",
    "            \"trench\": {        \n",
    "        \"application_file\": \"Si\",\n",
    "        \"depth\": 1.25e-06,\n",
    "        \"hfw\": 0.00018,\n",
    "        \"lamella_height\": 2.5e-05,\n",
    "        \"lamella_width\": 2.2e-05,\n",
    "        \"milling_current\": 50e-12,\n",
    "        \"milling_voltage\": 2000,\n",
    "        \"offset\": 0.0,\n",
    "        \"size_ratio\": 1.0,\n",
    "        \"trench_height\": 3.2e-05,\n",
    "        \"type\": \"Trench\",\n",
    "        \"time\": 30,\n",
    "        \"milling_channel\": \"ELECTRON\",\n",
    "            }\n",
    "}}\n",
    "\n",
    "\n",
    "microscope, settings = utils.setup_session()\n",
    "settings.protocol =  protocol\n",
    "\n",
    "stages = get_milling_stages(\"trench\", settings.protocol[\"milling\"])\n",
    "\n",
    "from fibsem.milling import draw_patterns\n",
    "\n",
    "# microscope.connection.imaging.set_active_view(BeamType.ELECTRON.value)  # the ion beam view\n",
    "# microscope.connection.imaging.set_active_device(BeamType.ELECTRON.value)\n",
    "# microscope.connection.patterning.set_default_beam_type(BeamType.ELECTRON.value)\n",
    "# microscope.connection.patterning.clear_patterns()\n",
    "draw_patterns(microscope, stages[0].pattern.patterns)\n",
    "\n",
    "# mill_stages(microscope, stages)"
   ]
  },
  {
   "cell_type": "code",
   "execution_count": null,
   "metadata": {},
   "outputs": [],
   "source": [
    "from fibsem.structures import BeamType\n",
    "microscope.set(\"voltage\", 2000, BeamType.ELECTRON)"
   ]
  },
  {
   "cell_type": "code",
   "execution_count": null,
   "metadata": {},
   "outputs": [],
   "source": []
  },
  {
   "cell_type": "markdown",
   "metadata": {},
   "source": [
    "#### Parallel Trench Milling\n",
    "\n",
    "REF: https://www.biorxiv.org/content/10.1101/2024.06.20.599830v1.full.pdf"
   ]
  },
  {
   "cell_type": "code",
   "execution_count": null,
   "metadata": {},
   "outputs": [],
   "source": [
    "%load_ext autoreload\n",
    "%autoreload 2\n",
    "\n",
    "import os\n",
    "\n",
    "import matplotlib.pyplot as plt\n",
    "from fibsem import utils, conversions, patterning, milling, acquire\n",
    "from fibsem.ui.utils import _draw_milling_stages_on_image\n",
    "from fibsem import config as fcfg\n",
    "from fibsem.imaging import _tile\n",
    "from fibsem.structures import ImageSettings, BeamType, FibsemImage\n",
    "from autolamella.structures import Experiment\n",
    "\n",
    "# Steps:\n",
    "# 1. Open AutoLamella, create a new experiment, load waffle protocol\n",
    "# 2. Open Minimap, acquire Ion overview (max size 960um), select positions\n",
    "# 3. Run this script to parallelize the trench milling\n",
    "\n",
    "# paths\n",
    "PATH = \"/home/patrick/development/openfibsem/autolamella/autolamella/log/AutoLamella-2024-06-25-14-49\"\n",
    "EXPERIMENT_PATH = os.path.join(PATH, \"experiment.yaml\")\n",
    "PROTOCOL_PATH = os.path.join(PATH, \"protocol.yaml\")\n",
    "\n",
    "microscope, settings = utils.setup_session(protocol_path=PROTOCOL_PATH)\n",
    "\n",
    "\n",
    "# load the experiment\n",
    "exp = Experiment.load(os.path.join(PATH, \"experiment.yaml\"))\n",
    "\n",
    "# load the overview image\n",
    "overview_image = FibsemImage.load(os.path.join(PATH, \"overview-image.tif\"))\n",
    "\n",
    "# move to the overview image position\n",
    "microscope.move_stage_absolute(overview_image.metadata.microscope_state.stage_position)\n",
    "\n",
    "# get the positions from the experiment (trench positions)\n",
    "positions = [position for position in exp.positions]\n",
    "stage_positions = [pos.state.microscope_state.stage_position for pos in positions]\n",
    "points = _tile._reproject_positions(overview_image, stage_positions)\n",
    "\n",
    "# convert the points to microscope image coordinates\n",
    "milling_points = []\n",
    "for point in points:\n",
    "    mp = conversions.image_to_microscope_image_coordinates(point, overview_image.data, overview_image.metadata.pixel_size.x)\n",
    "    mp.name = point.name\n",
    "    milling_points.append(mp)\n",
    "\n",
    "# check the points are within the field of view\n",
    "# get the maximum field of view\n",
    "shape = overview_image.data.shape\n",
    "MAX_HFW = 960e-6 # ION BEAM MAX HFW\n",
    "MAX_VFW = MAX_HFW * (shape[0] / shape[1])\n",
    "print(\"Maximum FOV: \", MAX_HFW, MAX_VFW)\n",
    "\n",
    "# check if the points are outside the field of view\n",
    "\n",
    "for point, mp in zip(points, milling_points):\n",
    "    if mp.x > MAX_HFW or mp.x < -MAX_HFW:\n",
    "        print(f\"Point {point.name} is outside the field of view\")\n",
    "    if mp.y > MAX_VFW or mp.y < -MAX_VFW:\n",
    "        print(f\"Point {point.name} is outside the field of view\")\n",
    "\n",
    "# plot the stage positions on the overview image\n",
    "plt.imshow(overview_image.data, cmap=\"gray\")\n",
    "for point, pos in zip(points, stage_positions):\n",
    "    plt.plot(point[0], point[1], \"ro\",) #label=pos.name)\n",
    "plt.legend()\n",
    "\n",
    "plt.show()\n",
    "\n",
    "print('MILLING POINTS')\n",
    "\n",
    "milling_stages = []\n",
    "for pos, mp, sp in zip(positions, milling_points, stage_positions):\n",
    "\n",
    "    stages = patterning.get_milling_stages(\"trench\", settings.protocol[\"milling\"], point=mp)\n",
    "\n",
    "    stages[0].name = f\"Trench {mp.name}\"\n",
    "\n",
    "    milling_stages.extend(stages)\n",
    "\n",
    "fig = _draw_milling_stages_on_image(overview_image, milling_stages)\n",
    "plt.show()\n",
    "\n",
    "# mill the stages\n",
    "milling.mill_stages(microscope, milling_stages)\n",
    "\n",
    "# mark each position as finished trench milling\n",
    "# go to each trench position and acquire reference images, mark finished? basically do trench workflow just dont mill\n",
    "\n",
    "\n",
    "for pos in positions:\n",
    "    \n",
    "    settings.image.path = pos.path\n",
    "\n",
    "    # move to the position\n",
    "    microscope.move_stage_absolute(pos.state.microscope_state.stage_position)\n",
    "\n",
    "    # acquire reference images\n",
    "    reference_images = acquire.take_set_of_reference_images(\n",
    "        microscope=microscope,\n",
    "        image_settings=settings.image,\n",
    "        hfws=[fcfg.REFERENCE_HFW_MEDIUM, fcfg.REFERENCE_HFW_HIGH],\n",
    "        filename=f\"ref_{pos.state.stage.name}_final\",\n",
    "    )\n",
    "\n",
    "\n",
    "# ASSUMPTION: \n",
    "# all trenchs fit within a single max fov\n",
    "# all trenches use the same milling parameters\n",
    "\n",
    "# IMPROVEMENTS:\n",
    "# Dont change current back down between milling stages - Done in script, not UI\n",
    "# convert the milling points into the proper protocol format for consistency\n",
    "# Implement in the user interface\n",
    "# automatic save (ready) when selecting from minimap"
   ]
  },
  {
   "cell_type": "code",
   "execution_count": null,
   "metadata": {},
   "outputs": [],
   "source": []
  }
 ],
 "metadata": {
  "kernelspec": {
   "display_name": "fibsem",
   "language": "python",
   "name": "python3"
  },
  "language_info": {
   "codemirror_mode": {
    "name": "ipython",
    "version": 3
   },
   "file_extension": ".py",
   "mimetype": "text/x-python",
   "name": "python",
   "nbconvert_exporter": "python",
   "pygments_lexer": "ipython3",
   "version": "3.9.18"
  }
 },
 "nbformat": 4,
 "nbformat_minor": 2
}
