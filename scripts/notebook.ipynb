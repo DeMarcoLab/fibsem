{
 "cells": [
  {
   "cell_type": "markdown",
   "metadata": {},
   "source": [
    "## Testing Notebook\n"
   ]
  },
  {
   "cell_type": "code",
   "execution_count": null,
   "metadata": {},
   "outputs": [],
   "source": [
    "%load_ext autoreload\n",
    "%autoreload 2\n",
    "\n",
    "from pprint import pprint\n",
    "\n",
    "import matplotlib.pyplot as plt\n",
    "\n",
    "from fibsem import acquire, patterning, utils\n",
    "from fibsem.structures import BeamType\n",
    "\n",
    "microscope, settings = utils.setup_session()"
   ]
  },
  {
   "cell_type": "code",
   "execution_count": null,
   "metadata": {},
   "outputs": [],
   "source": [
    "## apply configuration\n",
    "\n",
    "microscope.apply_configuration()\n",
    "\n",
    "\n",
    "electron = microscope.get_beam_system_settings(beam_type=BeamType.ELECTRON)\n",
    "pprint(electron.to_dict())\n",
    "\n",
    "ion = microscope.get_beam_system_settings(beam_type=BeamType.ION)\n",
    "pprint(ion.to_dict())\n",
    "\n"
   ]
  },
  {
   "cell_type": "code",
   "execution_count": null,
   "metadata": {},
   "outputs": [],
   "source": [
    "# flat to beams\n",
    "microscope.move_flat_to_beam(beam_type=BeamType.ELECTRON)"
   ]
  },
  {
   "cell_type": "code",
   "execution_count": null,
   "metadata": {},
   "outputs": [],
   "source": [
    "microscope.move_flat_to_beam(beam_type=BeamType.ION)"
   ]
  },
  {
   "cell_type": "code",
   "execution_count": null,
   "metadata": {},
   "outputs": [],
   "source": [
    "state = microscope.get_microscope_state()\n",
    "\n",
    "pprint(state.to_dict())"
   ]
  },
  {
   "cell_type": "code",
   "execution_count": null,
   "metadata": {},
   "outputs": [],
   "source": [
    "# move to state\n",
    "microscope.set_microscope_state(state)"
   ]
  },
  {
   "cell_type": "code",
   "execution_count": null,
   "metadata": {},
   "outputs": [],
   "source": [
    "## manipulator\n",
    "\n",
    "microscope.insert_manipulator(\"PARK\")\n",
    "\n",
    "\n",
    "settings.image.hfw = 400e-6\n",
    "eb_image, ib_image = acquire.take_reference_images(microscope, settings.image)\n",
    "\n",
    "fig, ax = plt.subplots(1,2, figsize=(10,5))\n",
    "ax[0].imshow(eb_image.data, cmap=\"gray\")\n",
    "ax[1].imshow(ib_image.data, cmap=\"gray\")\n",
    "\n",
    "plt.show()\n"
   ]
  },
  {
   "cell_type": "code",
   "execution_count": null,
   "metadata": {},
   "outputs": [],
   "source": [
    "\n",
    "from autolamella.workflows import actions\n",
    "\n",
    "actions.move_needle_to_liftout_position(microscope)\n",
    "\n",
    "settings.image.hfw = 400e-6\n",
    "eb_image, ib_image = acquire.take_reference_images(microscope, settings.image)\n",
    "\n",
    "fig, ax = plt.subplots(1,2, figsize=(10,5))\n",
    "ax[0].imshow(eb_image.data, cmap=\"gray\")\n",
    "ax[1].imshow(ib_image.data, cmap=\"gray\")\n",
    "\n",
    "plt.show()\n"
   ]
  },
  {
   "cell_type": "code",
   "execution_count": null,
   "metadata": {},
   "outputs": [],
   "source": [
    "microscope.move_manipulator_corrected(dx=10e-6, dy=10e-6, beam_type=BeamType.ELECTRON)\n",
    "\n",
    "settings.image.hfw = 400e-6\n",
    "eb_image, ib_image = acquire.take_reference_images(microscope, settings.image)\n",
    "\n",
    "fig, ax = plt.subplots(1,2, figsize=(10,5))\n",
    "ax[0].imshow(eb_image.data, cmap=\"gray\")\n",
    "ax[1].imshow(ib_image.data, cmap=\"gray\")\n",
    "\n",
    "plt.show()\n",
    "\n",
    "microscope.move_manipulator_corrected(dx=10e-6, dy=10e-6, beam_type=BeamType.ION)\n",
    "\n",
    "settings.image.hfw = 400e-6\n",
    "eb_image, ib_image = acquire.take_reference_images(microscope, settings.image)\n",
    "\n",
    "fig, ax = plt.subplots(1,2, figsize=(10,5))\n",
    "ax[0].imshow(eb_image.data, cmap=\"gray\")\n",
    "ax[1].imshow(ib_image.data, cmap=\"gray\")\n",
    "\n",
    "plt.show()"
   ]
  },
  {
   "cell_type": "code",
   "execution_count": null,
   "metadata": {},
   "outputs": [],
   "source": [
    "# chamber camera\n",
    "image = microscope.acquire_chamber_image()\n",
    "\n",
    "plt.imshow(image.data, cmap=\"gray\")\n",
    "plt.show()\n"
   ]
  },
  {
   "cell_type": "code",
   "execution_count": null,
   "metadata": {},
   "outputs": [],
   "source": [
    "# waffle dry run - full\n",
    "\n",
    "# serial liftout - prep, mill trench, liftout"
   ]
  },
  {
   "cell_type": "code",
   "execution_count": null,
   "metadata": {},
   "outputs": [],
   "source": []
  },
  {
   "cell_type": "markdown",
   "metadata": {},
   "source": [
    "\n"
   ]
  },
  {
   "cell_type": "code",
   "execution_count": 11,
   "metadata": {},
   "outputs": [
    {
     "name": "stdout",
     "output_type": "stream",
     "text": [
      "The autoreload extension is already loaded. To reload it, use:\n",
      "  %reload_ext autoreload\n",
      "2024-09-05 13:39:14,750 — root — INFO — connect_to_microscope:5355 — Microscope client connected to DemoMicroscope with serial number 123456 and software version 0.1\n",
      "2024-09-05 13:39:14,750 — root — INFO — setup_session:217 — Finished setup for session: demo_2024-09-05-01-39-14PM\n",
      "2024-09-05 13:39:14,750 — root — INFO — acquire_image:5372 — acquiring new ELECTRON image.\n",
      "2024-09-05 13:39:14,755 — root — INFO — __init__:1633 — data.dtype:uint8, data.shape:(2048, 3072), data.ndim:2\n",
      "Point(x=298, y=1198, name=None)\n",
      "Shifting beam by -2.0149739583333333e-05, -2.8320312500000002e-06\n"
     ]
    },
    {
     "data": {
      "image/png": "[encoded data removed]",
      "text/plain": [
       "<Figure size 640x480 with 1 Axes>"
      ]
     },
     "metadata": {},
     "output_type": "display_data"
    }
   ],
   "source": [
    "%load_ext autoreload\n",
    "%autoreload 2\n",
    "\n",
    "import matplotlib.pyplot as plt\n",
    "import numpy as np\n",
    "from adaptive_polish import gis_measurement as gm\n",
    "\n",
    "from fibsem import acquire, conversions, utils\n",
    "from fibsem.detection.detection import AdaptiveLamellaCentre\n",
    "from fibsem.structures import BeamType\n",
    "\n",
    "SIM_NO_MODEL = True\n",
    "\n",
    "# connect to microscope\n",
    "microscope, settings = utils.setup_session()\n",
    "\n",
    "# load model\n",
    "if not SIM_NO_MODEL:\n",
    "    model_path = \"\"\n",
    "    gm.init_model_with_path(model_path)\n",
    "\n",
    "\n",
    "# acquire image\n",
    "settings.image.resolution = [3072, 2048]\n",
    "settings.image.hfw = 50e-6\n",
    "settings.image.beam_type = BeamType.ELECTRON\n",
    "image = acquire.acquire_image(microscope, settings.image)\n",
    "\n",
    "\n",
    "LAMELLA_CLASS_IDX = 2\n",
    "# segment, lamella class: idx == 2\n",
    "if not SIM_NO_MODEL:\n",
    "    pred = gm.segment(image.data)\n",
    "else:\n",
    "    # create a rectangle mask 250x175 pixels at a random position\n",
    "    mask = np.zeros_like(image.data)\n",
    "    shape = image.data.shape\n",
    "    size_x, size_y = 500, 600\n",
    "    x, y = np.random.randint(0, shape[1] - size_x), np.random.randint(0, shape[0] - size_y)\n",
    "    mask[y:y+size_y, x:x+size_x] = 2\n",
    "    pred = mask\n",
    "\n",
    "# detect\n",
    "feature = AdaptiveLamellaCentre()\n",
    "centre_px = feature.detect(image.data, pred, None)\n",
    "\n",
    "# convert to microscope image coordinates (0, 0 at centre of image)\n",
    "centre_m = conversions.image_to_microscope_image_coordinates(\n",
    "    centre_px, image.data, image.metadata.pixel_size.x\n",
    ")\n",
    "print(centre_px)\n",
    "# shift beam\n",
    "dx, dy = centre_m.x, centre_m.y\n",
    "print(f\"Shifting beam by {dx}, {dy}\")\n",
    "microscope.beam_shift(dx, dy, settings.image.beam_type)\n",
    "\n",
    "# plot\n",
    "plt.imshow(pred, cmap=\"gray\")\n",
    "plt.scatter(centre_px.x, centre_px.y, c=\"r\", marker=\"+\", label=\"lamella_centre\")\n",
    "plt.scatter(shape[1]//2, shape[0]//2, c=\"g\", marker=\"+\", label=\"image_centre\")\n",
    "plt.legend()\n",
    "plt.show()\n"
   ]
  },
  {
   "cell_type": "code",
   "execution_count": 6,
   "metadata": {},
   "outputs": [
    {
     "name": "stdout",
     "output_type": "stream",
     "text": [
      "2024-09-05 13:33:09,511 — root — INFO — connect_to_microscope:5355 — Microscope client connected to DemoMicroscope with serial number 123456 and software version 0.1\n",
      "2024-09-05 13:33:09,511 — root — INFO — setup_session:217 — Finished setup for session: demo_2024-09-05-01-33-09PM\n"
     ]
    },
    {
     "ename": "KeyError",
     "evalue": "'milling'",
     "output_type": "error",
     "traceback": [
      "\u001b[0;31m---------------------------------------------------------------------------\u001b[0m",
      "\u001b[0;31mKeyError\u001b[0m                                  Traceback (most recent call last)",
      "Cell \u001b[0;32mIn[6], line 12\u001b[0m\n\u001b[1;32m      9\u001b[0m microscope, settings \u001b[38;5;241m=\u001b[39m utils\u001b[38;5;241m.\u001b[39msetup_session()\n\u001b[1;32m     11\u001b[0m \u001b[38;5;66;03m# load model\u001b[39;00m\n\u001b[0;32m---> 12\u001b[0m adaptive_polish_protocol \u001b[38;5;241m=\u001b[39m \u001b[43msettings\u001b[49m\u001b[38;5;241;43m.\u001b[39;49m\u001b[43mprotocol\u001b[49m\u001b[43m[\u001b[49m\u001b[38;5;124;43m\"\u001b[39;49m\u001b[38;5;124;43mmilling\u001b[39;49m\u001b[38;5;124;43m\"\u001b[39;49m\u001b[43m]\u001b[49m[\u001b[38;5;124m\"\u001b[39m\u001b[38;5;124madaptive_polish\u001b[39m\u001b[38;5;124m\"\u001b[39m]\n\u001b[1;32m     13\u001b[0m gm\u001b[38;5;241m.\u001b[39minit_model_with_path(adaptive_polish_protocol[\u001b[38;5;124m\"\u001b[39m\u001b[38;5;124mmodel_path\u001b[39m\u001b[38;5;124m\"\u001b[39m])\n\u001b[1;32m     15\u001b[0m \u001b[38;5;66;03m# acquire image\u001b[39;00m\n",
      "\u001b[0;31mKeyError\u001b[0m: 'milling'"
     ]
    }
   ],
   "source": [
    "# beam shift alignment\n",
    "import matplotlib.pyplot as plt\n",
    "from adaptive_polish import gis_measurement as gm\n",
    "\n",
    "from fibsem import acquire, conversions, utils\n",
    "from fibsem.detection.detection import AdaptiveLamellaCentre\n",
    "from fibsem.structures import BeamType\n",
    "\n",
    "# connect to microscope\n",
    "PROTOCOL_PATH = \"path/to/adaptive-polish-protocol.yaml\"\n",
    "microscope, settings = utils.setup_session(protocol_path=PROTOCOL_PATH)\n",
    "\n",
    "# load model\n",
    "adaptive_polish_protocol = settings.protocol[\"milling\"][\"adaptive_polish\"]\n",
    "gm.init_model_with_path(adaptive_polish_protocol[\"model_path\"])\n",
    "\n",
    "# acquire image\n",
    "settings.image.resolution = adaptive_polish_protocol[\"electron\"][\"resolution\"]\n",
    "settings.image.hfw = adaptive_polish_protocol[\"electron\"][\"hfw\"]\n",
    "settings.image.beam_type = BeamType.ELECTRON\n",
    "image = acquire.acquire_image(microscope, settings.image)\n",
    "\n",
    "# segment, lamella class: idx == 2\n",
    "LAMELLA_CLASS_IDX = 2\n",
    "pred = gm.segment(image.data)\n",
    "\n",
    "# detect\n",
    "feature = AdaptiveLamellaCentre()\n",
    "centre_px = feature.detect(image.data, pred, None)\n",
    "\n",
    "# convert to microscope image coordinates (0, 0 at centre of image)\n",
    "centre_m = conversions.image_to_microscope_image_coordinates(\n",
    "    centre_px, image.data, image.metadata.pixel_size.x\n",
    ")\n",
    "\n",
    "# shift beam\n",
    "dx, dy = centre_m.x, centre_m.y\n",
    "microscope.beam_shift(dx, dy, settings.image.beam_type)\n",
    "\n",
    "# plot\n",
    "plt.imshow(pred, cmap=\"gray\")\n",
    "plt.scatter(centre_px.x, centre_px.y, c=\"r\", marker=\"+\", label=\"lamella_centre\")\n",
    "plt.scatter(shape[1]//2, shape[0]//2, c=\"g\", marker=\"+\", label=\"image_centre\")\n",
    "plt.legend()\n",
    "plt.show()"
   ]
  },
  {
   "cell_type": "code",
   "execution_count": null,
   "metadata": {},
   "outputs": [],
   "source": []
  }
 ],
 "metadata": {
  "kernelspec": {
   "display_name": "fibsem",
   "language": "python",
   "name": "python3"
  },
  "language_info": {
   "codemirror_mode": {
    "name": "ipython",
    "version": 3
   },
   "file_extension": ".py",
   "mimetype": "text/x-python",
   "name": "python",
   "nbconvert_exporter": "python",
   "pygments_lexer": "ipython3",
   "version": "3.9.18"
  }
 },
 "nbformat": 4,
 "nbformat_minor": 2
}
