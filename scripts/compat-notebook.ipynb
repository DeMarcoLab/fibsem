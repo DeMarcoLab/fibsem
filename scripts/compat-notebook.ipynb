{
 "cells": [
  {
   "cell_type": "markdown",
   "metadata": {},
   "source": [
    "## Python 3.8 Compatibility (Headless)"
   ]
  },
  {
   "cell_type": "code",
   "execution_count": null,
   "metadata": {},
   "outputs": [],
   "source": [
    "%load_ext autoreload\n",
    "%autoreload 2\n",
    "\n",
    "\n",
    "from fibsem import utils, acquire\n",
    "import matplotlib.pyplot as plt\n",
    "from fibsem.structures import BeamType\n",
    "\n",
    "from fibsem.patterns.ui import draw_milling_patterns\n",
    "from fibsem.patterning import get_milling_stages\n",
    "\n",
    "\n",
    "PROTOCOL_PATH = \"/home/patrick/github/autolamella/autolamella/protocol/protocol-odemis-on-grid.yaml\"\n",
    "\n",
    "microscope, settings = utils.setup_session(protocol_path=PROTOCOL_PATH)"
   ]
  },
  {
   "cell_type": "code",
   "execution_count": null,
   "metadata": {},
   "outputs": [],
   "source": [
    "settings.image.hfw = 80e-6\n",
    "settings.image.beam_type = BeamType.ELECTRON\n",
    "\n",
    "image = acquire.acquire_image(microscope, settings.image)\n",
    "\n",
    "stages = get_milling_stages(\"lamella\", settings.protocol[\"milling\"])\n",
    "\n",
    "fig = draw_milling_patterns(image, stages)\n"
   ]
  },
  {
   "cell_type": "code",
   "execution_count": null,
   "metadata": {},
   "outputs": [],
   "source": []
  }
 ],
 "metadata": {
  "kernelspec": {
   "display_name": "fibsem-3.8",
   "language": "python",
   "name": "python3"
  },
  "language_info": {
   "codemirror_mode": {
    "name": "ipython",
    "version": 3
   },
   "file_extension": ".py",
   "mimetype": "text/x-python",
   "name": "python",
   "nbconvert_exporter": "python",
   "pygments_lexer": "ipython3",
   "version": "3.8.20"
  }
 },
 "nbformat": 4,
 "nbformat_minor": 2
}
