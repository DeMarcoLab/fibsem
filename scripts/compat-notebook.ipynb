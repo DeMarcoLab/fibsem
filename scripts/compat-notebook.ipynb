{
 "cells": [
  {
   "cell_type": "markdown",
   "metadata": {},
   "source": [
    "## Python 3.8 Compatibility (Headless)"
   ]
  },
  {
   "cell_type": "code",
   "execution_count": null,
   "metadata": {},
   "outputs": [],
   "source": [
    "%load_ext autoreload\n",
    "%autoreload 2\n",
    "\n",
    "\n",
    "from fibsem import utils, acquire\n",
    "import matplotlib.pyplot as plt\n",
    "from fibsem.structures import BeamType\n",
    "\n",
    "from fibsem.milling.patterning.plotting import draw_milling_patterns\n",
    "from fibsem.milling import get_milling_stages\n",
    "\n",
    "\n",
    "PROTOCOL_PATH = \"/home/patrick/github/autolamella/autolamella/protocol/protocol-odemis-on-grid.yaml\"\n",
    "\n",
    "microscope, settings = utils.setup_session(protocol_path=PROTOCOL_PATH)"
   ]
  },
  {
   "cell_type": "code",
   "execution_count": null,
   "metadata": {},
   "outputs": [],
   "source": []
  },
  {
   "cell_type": "code",
   "execution_count": null,
   "metadata": {},
   "outputs": [],
   "source": [
    "settings.image.hfw = 80e-6\n",
    "settings.image.beam_type = BeamType.ELECTRON\n",
    "\n",
    "image = acquire.acquire_image(microscope, settings.image)\n",
    "\n",
    "stages = get_milling_stages(\"lamella\", settings.protocol[\"milling\"])\n",
    "\n",
    "fig = draw_milling_patterns(image, stages)\n"
   ]
  },
  {
   "cell_type": "code",
   "execution_count": null,
   "metadata": {},
   "outputs": [],
   "source": []
  },
  {
   "cell_type": "markdown",
   "metadata": {},
   "source": [
    "## v0.4.0 Refactor "
   ]
  },
  {
   "cell_type": "code",
   "execution_count": null,
   "metadata": {},
   "outputs": [],
   "source": [
    "%load_ext autoreload\n",
    "%autoreload 2\n",
    "\n",
    "# convert milling tasks to milling stages\n",
    "import os\n",
    "import time\n",
    "from fibsem.microscopes.odemis_microscope import add_odemis_path\n",
    "add_odemis_path()\n",
    "\n",
    "from odemis.acq.milling.tasks import load_milling_tasks\n",
    "from odemis.acq.milling.tasks import __file__ as milling_tasks_file\n",
    "from odemis.acq.milling.openfibsem import run_milling_tasks_openfibsem\n",
    "\n",
    "MILLING_TASKS_PATH = os.path.join(os.path.dirname(milling_tasks_file), \"milling_tasks.yaml\")\n",
    "milling_tasks = load_milling_tasks(MILLING_TASKS_PATH)\n"
   ]
  },
  {
   "cell_type": "code",
   "execution_count": null,
   "metadata": {},
   "outputs": [],
   "source": [
    "tasks = list(milling_tasks.values())[:2]\n",
    "f = run_milling_tasks_openfibsem(tasks)\n",
    "# time.sleep(10)\n",
    "# f.cancel()\n",
    "f.result()"
   ]
  }
 ],
 "metadata": {
  "kernelspec": {
   "display_name": "fibsem-headless",
   "language": "python",
   "name": "python3"
  },
  "language_info": {
   "codemirror_mode": {
    "name": "ipython",
    "version": 3
   },
   "file_extension": ".py",
   "mimetype": "text/x-python",
   "name": "python",
   "nbconvert_exporter": "python",
   "pygments_lexer": "ipython3",
   "version": "3.9.19"
  }
 },
 "nbformat": 4,
 "nbformat_minor": 2
}
