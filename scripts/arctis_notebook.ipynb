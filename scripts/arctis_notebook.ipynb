{
 "cells": [
  {
   "cell_type": "markdown",
   "metadata": {},
   "source": [
    "# TFS Arctis Testing"
   ]
  },
  {
   "cell_type": "code",
   "execution_count": null,
   "metadata": {},
   "outputs": [],
   "source": [
    "%load_ext autoreload\n",
    "%autoreload 2\n",
    "\n",
    "from fibsem import utils, acquire\n",
    "from fibsem.structures import BeamType\n",
    "import numpy as np\n",
    "import matplotlib.pyplot as plt\n",
    "\n",
    "# replace with path to your configuration file\n",
    "CONFIGURATION_PATH = \"/Users/patrickcleeve/Documents/fibsem/fibsem/fibsem/config/arctis-configuration.yaml\"\n",
    "microscope, settings = utils.setup_session(config_path=CONFIGURATION_PATH)\n",
    "\n",
    "print(f\"Using Compustage: {microscope.stage_is_compustage}, Pre-Tilt: {microscope.system.stage.shuttle_pre_tilt} deg\")\n",
    "print(f\"Electron Column Tilt: {microscope.system.electron.column_tilt} deg\")\n",
    "print(f\"Ion Column Tilt: {microscope.system.ion.column_tilt} deg\")\n",
    "\n",
    "assert microscope.stage_is_compustage, \"This notebook requires the compustage to run\"\n",
    "assert microscope.system.stage.shuttle_pre_tilt == 0, \"This notebook requires the pre-tilt to be 0\""
   ]
  },
  {
   "cell_type": "markdown",
   "metadata": {},
   "source": [
    "## Move Flat to Beam"
   ]
  },
  {
   "cell_type": "code",
   "execution_count": null,
   "metadata": {},
   "outputs": [],
   "source": [
    "# move flat to electron\n",
    "microscope.move_flat_to_beam(BeamType.ELECTRON)\n",
    "stage_position = microscope.get_stage_position()\n",
    "print(f\"Stage Position Flat to Electron: {stage_position}\")\n",
    "print(f\"Stage Tilt: {np.rad2deg(stage_position.t)} deg\")\n",
    "\n",
    "# acquire reference images flat to electron\n",
    "eb_image, ib_image = acquire.take_reference_images(microscope, settings.image)\n",
    "fig, ax = plt.subplots(1, 2, figsize=(10, 5))\n",
    "ax[0].imshow(eb_image.data, cmap='gray')\n",
    "ax[1].imshow(ib_image.data, cmap='gray')\n",
    "plt.show()\n"
   ]
  },
  {
   "cell_type": "code",
   "execution_count": null,
   "metadata": {},
   "outputs": [],
   "source": [
    "\n",
    "# move flat to ion\n",
    "microscope.move_flat_to_beam(BeamType.ION)\n",
    "stage_position = microscope.get_stage_position()\n",
    "print(f\"Stage Position Flat to Ion: {stage_position}\")\n",
    "print(f\"Stage Tilt: {np.rad2deg(stage_position.t)} deg\")\n",
    "\n",
    "# acquire reference images flat to electron\n",
    "eb_image, ib_image = acquire.take_reference_images(microscope, settings.image)\n",
    "fig, ax = plt.subplots(1, 2, figsize=(10, 5))\n",
    "ax[0].imshow(eb_image.data, cmap='gray')\n",
    "ax[0].set_title(\"Electron Beam Image\")\n",
    "ax[1].imshow(ib_image.data, cmap='gray')\n",
    "ax[0].set_title(\"Ion Beam Image\")\n",
    "plt.show()\n"
   ]
  },
  {
   "cell_type": "markdown",
   "metadata": {},
   "source": [
    "## Stable Movement\n",
    "\n",
    "These movements maintain coincidence between the beams when moving the stage. You should first make the beams coincident, and then run this cell. After running, the beams should still be coincidence, but the stage should have moved in y by 20um. \n",
    "\n",
    "These movements also correct for the imaging perspective, which is calculated based on the stage tilt, shuttle pre-tilt and column tilt. The other way to think about this movement is 'move by dx, dy in the imaging perspective' which is why it also takes a beam_type. \n",
    "\n",
    "This perspective correction will likely be the source of error, as for the arctis we need to offset this perspective correction by -180 to account for imaging the back of the stage. The bulk of this correction is in ThermoMicroscope._y_corrected_stage_movement, and it's a bit messy. \n"
   ]
  },
  {
   "cell_type": "code",
   "execution_count": null,
   "metadata": {},
   "outputs": [],
   "source": [
    "\n",
    "# go flat to ion\n",
    "microscope.move_flat_to_beam(BeamType.ION)\n",
    "\n",
    "# take reference images \n",
    "eb_image, ib_image = acquire.take_reference_images(microscope, settings.image)\n",
    "\n",
    "# get current stage position\n",
    "stage_position = microscope.get_stage_position()\n",
    " \n",
    "# stable move, dy=20e-6 in Ion\n",
    "# should move 20e-6 upwards, and maintain coincidence between electron and ion\n",
    "microscope.stable_move(dx=0, dy=20e-6, beam_type=BeamType.ION)\n",
    "\n",
    "# get new stage position\n",
    "new_stage_position = microscope.get_stage_position()\n",
    "\n",
    "# acquire new images\n",
    "new_eb_image, new_ib_image = acquire.take_reference_images(microscope, settings.image)\n",
    "\n",
    "# check movement in y, and z\n",
    "print(f\"Initial Stage Position: {stage_position}\")\n",
    "print(f\"New Stage Position: {new_stage_position}\")\n",
    "\n",
    "# plot with lime crosshair on each centre\n",
    "fig, ax = plt.subplots(2, 2, figsize=(12, 7))\n",
    "ax[0, 0].imshow(eb_image.data, cmap='gray')\n",
    "ax[0, 0].plot(eb_image.data.shape[1]//2, eb_image.data.shape[0]//2, '+', color='lime')\n",
    "ax[0, 0].set_title(\"Initial Electron Beam Image\")\n",
    "ax[0, 1].imshow(ib_image.data, cmap='gray')\n",
    "ax[0, 1].plot(ib_image.data.shape[1]//2, ib_image.data.shape[0]//2, '+', color='lime')\n",
    "ax[0, 1].set_title(\"Initial Ion Beam Image\")\n",
    "ax[1, 0].imshow(new_eb_image.data, cmap='gray')\n",
    "ax[1, 0].plot(new_eb_image.data.shape[1]//2, new_eb_image.data.shape[0]//2, '+', color='lime')\n",
    "ax[1, 0].set_title(\"New Electron Beam Image\")\n",
    "ax[1, 1].imshow(new_ib_image.data, cmap='gray')\n",
    "ax[1, 1].plot(new_ib_image.data.shape[1]//2, new_ib_image.data.shape[0]//2, '+', color='lime')\n",
    "ax[1, 1].set_title(\"New Ion Beam Image\")\n",
    "plt.show()\n"
   ]
  },
  {
   "cell_type": "markdown",
   "metadata": {},
   "source": [
    "## Vertical Move\n",
    "\n",
    "This movement is for restoring coincidence (and eucentricity) between the beams. First move flat to the ion beam and then move the stage down vertically so that the coincidence of the beams is slightly off (~20um). \n",
    "\n",
    "This movement currently relies on the inbuilt y-z link to move the stage vertically, with a imaging perspective correction. The source of error will be depend on whether the stage z-axis is based off the tilt (as it is in other systems), and if it inverts direction when the stage tilt is negative. That is to say, does moving by z=1um move you up in the same way whether the stage tilt is 0 deg or -180 deg? We use the raw coordinate system so the z-axis is up (towards SEM Column)"
   ]
  },
  {
   "cell_type": "code",
   "execution_count": null,
   "metadata": {},
   "outputs": [],
   "source": [
    "# move the stage purely vertical, to realign coincidence\n",
    "# electron beam should not move, ion should move 20e-6 upwards\n",
    "\n",
    "# move stage purely vertical\n",
    "\n",
    "# go flat to ion\n",
    "microscope.move_flat_to_beam(BeamType.ION)\n",
    "\n",
    "# take reference images \n",
    "eb_image, ib_image = acquire.take_reference_images(microscope, settings.image)\n",
    "\n",
    "# get current stage position\n",
    "stage_position = microscope.get_stage_position()\n",
    "\n",
    "# move stage purely vertical \n",
    "microscope.vertical_move(dy=20e-6)\n",
    "\n",
    "# get new stage position\n",
    "new_stage_position = microscope.get_stage_position()\n",
    "\n",
    "# acquire new images\n",
    "new_eb_image, new_ib_image = acquire.take_reference_images(microscope, settings.image)\n",
    "\n",
    "# check movement in y, and z\n",
    "print(f\"Initial Stage Position: {stage_position}\")\n",
    "print(f\"New Stage Position: {new_stage_position}\")\n",
    "\n",
    "# plot with lime crosshair on each centre\n",
    "fig, ax = plt.subplots(2, 2, figsize=(12, 7))\n",
    "ax[0, 0].imshow(eb_image.data, cmap='gray')\n",
    "ax[0, 0].plot(eb_image.data.shape[1]//2, eb_image.data.shape[0]//2, '+', color='lime')\n",
    "ax[0, 0].set_title(\"Initial Electron Beam Image\")\n",
    "ax[0, 1].imshow(ib_image.data, cmap='gray')\n",
    "ax[0, 1].plot(ib_image.data.shape[1]//2, ib_image.data.shape[0]//2, '+', color='lime')\n",
    "ax[0, 1].set_title(\"Initial Ion Beam Image\")\n",
    "ax[1, 0].imshow(new_eb_image.data, cmap='gray')\n",
    "ax[1, 0].plot(new_eb_image.data.shape[1]//2, new_eb_image.data.shape[0]//2, '+', color='lime')\n",
    "ax[1, 0].set_title(\"New Electron Beam Image\")\n",
    "ax[1, 1].imshow(new_ib_image.data, cmap='gray')\n",
    "ax[1, 1].plot(new_ib_image.data.shape[1]//2, new_ib_image.data.shape[0]//2, '+', color='lime')\n",
    "ax[1, 1].set_title(\"New Ion Beam Image\")\n",
    "plt.show()"
   ]
  },
  {
   "cell_type": "code",
   "execution_count": null,
   "metadata": {},
   "outputs": [],
   "source": []
  }
 ],
 "metadata": {
  "kernelspec": {
   "display_name": "fibsem",
   "language": "python",
   "name": "python3"
  },
  "language_info": {
   "codemirror_mode": {
    "name": "ipython",
    "version": 3
   },
   "file_extension": ".py",
   "mimetype": "text/x-python",
   "name": "python",
   "nbconvert_exporter": "python",
   "pygments_lexer": "ipython3",
   "version": "3.9.18"
  }
 },
 "nbformat": 4,
 "nbformat_minor": 2
}
