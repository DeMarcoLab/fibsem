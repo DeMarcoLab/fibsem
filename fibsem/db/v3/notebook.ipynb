{
 "cells": [
  {
   "cell_type": "markdown",
   "metadata": {},
   "source": [
    "## FIBSEM Database (SQLModel Version)"
   ]
  },
  {
   "cell_type": "code",
   "execution_count": null,
   "metadata": {},
   "outputs": [],
   "source": [
    "%load_ext autoreload\n",
    "%autoreload 2\n",
    "\n",
    "from fibsem.db.v3 import models\n",
    "\n",
    "user = models.User(username='patrick', \n",
    "                name='Patrick Cleeve',\n",
    "                email = 'patrick@openfibsem.org',\n",
    "                password = 'password',\n",
    "                role = 'admin')\n",
    "\n",
    "print(user.username)\n",
    "\n",
    "\n"
   ]
  },
  {
   "cell_type": "code",
   "execution_count": null,
   "metadata": {},
   "outputs": [],
   "source": [
    "from sqlmodel import Session, SQLModel, create_engine, select\n",
    "\n",
    "from fibsem import config as cfg\n",
    "\n",
    "def create_connection(database_path: str = cfg.DATABASE_PATH, echo: bool = False):\n",
    "    # create a connection to the database\n",
    "    engine = create_engine(f'sqlite:///{database_path}', echo=echo)\n",
    "\n",
    "    return engine\n",
    "\n",
    "def create_database(engine):\n",
    "    # create the database\n",
    "    SQLModel.metadata.create_all(engine)\n",
    "\n",
    "engine = create_connection(echo=True)\n",
    "create_database(engine)\n",
    "\n",
    "# with Session(engine) as session:\n",
    "    # session.add(user)\n",
    "    # session.commit()"
   ]
  },
  {
   "cell_type": "code",
   "execution_count": null,
   "metadata": {},
   "outputs": [],
   "source": [
    "with Session(engine) as session:\n",
    "    statement = select(models.User)\n",
    "    users = session.exec(statement)\n",
    "    for user in users:\n",
    "        print(user)"
   ]
  },
  {
   "cell_type": "code",
   "execution_count": null,
   "metadata": {},
   "outputs": [],
   "source": []
  }
 ],
 "metadata": {
  "kernelspec": {
   "display_name": "fibsem",
   "language": "python",
   "name": "python3"
  },
  "language_info": {
   "codemirror_mode": {
    "name": "ipython",
    "version": 3
   },
   "file_extension": ".py",
   "mimetype": "text/x-python",
   "name": "python",
   "nbconvert_exporter": "python",
   "pygments_lexer": "ipython3",
   "version": "3.9.18"
  }
 },
 "nbformat": 4,
 "nbformat_minor": 2
}
