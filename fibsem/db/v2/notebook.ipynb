{
 "cells": [
  {
   "cell_type": "markdown",
   "metadata": {},
   "source": [
    "# FIBSEM Database v2\n"
   ]
  },
  {
   "cell_type": "code",
   "execution_count": null,
   "metadata": {},
   "outputs": [],
   "source": [
    "%load_ext autoreload\n",
    "%autoreload 2\n",
    "\n",
    "from fibsem.db.v2.util import *\n"
   ]
  },
  {
   "cell_type": "code",
   "execution_count": null,
   "metadata": {},
   "outputs": [],
   "source": []
  },
  {
   "cell_type": "code",
   "execution_count": null,
   "metadata": {},
   "outputs": [],
   "source": [
    "\n",
    "# create the database\n",
    "engine = create_connection()\n",
    "create_database(engine)\n"
   ]
  },
  {
   "cell_type": "code",
   "execution_count": null,
   "metadata": {},
   "outputs": [],
   "source": [
    "engine = create_connection()\n",
    "session = create_session(engine)"
   ]
  },
  {
   "cell_type": "code",
   "execution_count": null,
   "metadata": {},
   "outputs": [],
   "source": [
    "# Create a new user\n",
    "new_user = User(username='patrick', \n",
    "                name='Patrick Cleeve', \n",
    "                email='patrick@openfibsem.org', \n",
    "                password='password', \n",
    "                role='admin',\n",
    "                )\n",
    "\n",
    "\n",
    "\n",
    "user = create_user(session, new_user)\n",
    "print(user.username)"
   ]
  },
  {
   "cell_type": "code",
   "execution_count": null,
   "metadata": {},
   "outputs": [],
   "source": [
    "# create a new project\n",
    "new_project = Project(name='autolamella', \n",
    "                      description='autolamella software development',\n",
    "                      user_id=user.id)\n",
    "\n",
    "engine = create_connection()\n",
    "session = create_session(engine)\n",
    "project = create_project(session, new_project)\n"
   ]
  },
  {
   "cell_type": "code",
   "execution_count": null,
   "metadata": {},
   "outputs": [],
   "source": [
    "pprint(project.name)"
   ]
  },
  {
   "cell_type": "code",
   "execution_count": null,
   "metadata": {},
   "outputs": [],
   "source": [
    "\n",
    "users = get_users(session)\n",
    "pprint(users[0].name)\n",
    "\n",
    "projects = get_projects(session)\n",
    "pprint(projects[0].name)\n"
   ]
  },
  {
   "cell_type": "code",
   "execution_count": null,
   "metadata": {},
   "outputs": [],
   "source": [
    "# query for all projects belonging to a user\n",
    "projects = session.query(Project).filter(Project.id == user.id).all()\n",
    "\n",
    "for project in projects:\n",
    "    print(project.id, project.name, project.description, project.user_id)\n"
   ]
  },
  {
   "cell_type": "code",
   "execution_count": null,
   "metadata": {},
   "outputs": [],
   "source": [
    "# create a new sample\n",
    "new_sample = Sample(name='mouse-01', \n",
    "                    description='mouse synapase - 20230801',\n",
    "                    organism='mouse',\n",
    "                    user_id=user.id)\n",
    "\n",
    "sample = create_sample(session, new_sample)\n",
    "\n",
    "pprint(sample.name)\n"
   ]
  },
  {
   "cell_type": "code",
   "execution_count": null,
   "metadata": {},
   "outputs": [],
   "source": [
    "samples = get_samples(session)\n",
    "pprint(samples[0].name)"
   ]
  },
  {
   "cell_type": "code",
   "execution_count": null,
   "metadata": {},
   "outputs": [],
   "source": [
    "# change user preferences\n",
    "user_to_update = session.query(User).filter(User.username == 'patrick').first()\n",
    "user_to_update.preferences = {'theme': 'light'}\n",
    "\n",
    "session.commit()"
   ]
  },
  {
   "cell_type": "code",
   "execution_count": null,
   "metadata": {},
   "outputs": [],
   "source": [
    "# get user\n",
    "user = get_user(session, 'patrick')\n",
    "pprint(user.preferences)"
   ]
  },
  {
   "cell_type": "code",
   "execution_count": null,
   "metadata": {},
   "outputs": [],
   "source": []
  }
 ],
 "metadata": {
  "kernelspec": {
   "display_name": "fibsem",
   "language": "python",
   "name": "python3"
  },
  "language_info": {
   "codemirror_mode": {
    "name": "ipython",
    "version": 3
   },
   "file_extension": ".py",
   "mimetype": "text/x-python",
   "name": "python",
   "nbconvert_exporter": "python",
   "pygments_lexer": "ipython3",
   "version": "3.9.18"
  }
 },
 "nbformat": 4,
 "nbformat_minor": 2
}
