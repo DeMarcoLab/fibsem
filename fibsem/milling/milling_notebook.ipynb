{
 "cells": [
  {
   "cell_type": "markdown",
   "metadata": {},
   "source": [
    "### Milling Testing Notebook\n"
   ]
  },
  {
   "cell_type": "code",
   "execution_count": null,
   "metadata": {},
   "outputs": [],
   "source": [
    "%load_ext autoreload\n",
    "%autoreload 2\n",
    "\n",
    "from fibsem import utils\n",
    "from fibsem import acquire\n",
    "from fibsem.structures import ImageSettings, BeamType\n",
    "\n",
    "import numpy as np\n",
    "import matplotlib.pyplot as plt\n",
    "\n",
    "PROTOCOL_PATH = r\"C:\\Users\\Admin\\Github\\autolamella\\autolamella\\protocol\\protocol-on-grid.yaml\"\n",
    "\n",
    "microscope, settings = utils.setup_session(protocol_path=PROTOCOL_PATH)"
   ]
  },
  {
   "cell_type": "code",
   "execution_count": null,
   "metadata": {},
   "outputs": [],
   "source": [
    "images = acquire.take_reference_images(microscope, settings.image)\n",
    "\n",
    "fig, ax = plt.subplots(1, 2, figsize=(10, 10))\n",
    "ax[0].imshow(images[0].data, cmap='gray')\n",
    "ax[1].imshow(images[1].data, cmap='gray')\n",
    "plt.show()"
   ]
  },
  {
   "cell_type": "code",
   "execution_count": null,
   "metadata": {},
   "outputs": [],
   "source": [
    "from fibsem.milling import get_milling_stages\n",
    "from fibsem.milling.patterning.plotting import generate_blank_image, draw_milling_patterns\n",
    "stages = get_milling_stages(\"mill_rough\", settings.protocol[\"milling\"]) \n",
    "stages.extend(get_milling_stages(\"mill_polishing\", settings.protocol[\"milling\"]))\n",
    "stages.extend(get_milling_stages(\"microexpansion\", settings.protocol[\"milling\"]))\n",
    "\n",
    "settings.image.hfw = stages[0].milling.hfw\n",
    "settings.image.beam_type = BeamType.ION\n",
    "image = acquire.acquire_image(microscope, settings.image)\n",
    "\n",
    "fig = draw_milling_patterns(image, stages)\n"
   ]
  },
  {
   "cell_type": "code",
   "execution_count": null,
   "metadata": {},
   "outputs": [],
   "source": [
    "from fibsem.milling import mill_stages\n",
    "\n",
    "mill_stages(microscope, stages)"
   ]
  },
  {
   "cell_type": "code",
   "execution_count": null,
   "metadata": {},
   "outputs": [],
   "source": []
  },
  {
   "cell_type": "code",
   "execution_count": 3,
   "metadata": {},
   "outputs": [
    {
     "name": "stdout",
     "output_type": "stream",
     "text": [
      "2024-12-05 15:49:54,777 — root — INFO — _set:2740 — ION current set to 3e-11 A.\n",
      "2024-12-05 15:49:54,787 — root — INFO — _set:2744 — ION voltage set to 30000 V.\n",
      "2024-12-05 15:49:54,800 — root — INFO — finish_milling:72 — Finished Ion Beam Milling.\n"
     ]
    }
   ],
   "source": [
    "stage = stages[1]\n",
    "from fibsem.milling import mill_stages\n",
    "# from fibsem.milling.strategy.overtilt import OvertiltTrenchMillingStrategy\n",
    "# stage.strategy = OvertiltTrenchMillingStrategy(overtilt_deg=2)\n",
    "print(stage.strategy.config)\n",
    "\n",
    "mill_stages(microscope, [stage])\n"
   ]
  },
  {
   "cell_type": "code",
   "execution_count": null,
   "metadata": {},
   "outputs": [],
   "source": [
    "%load_ext autoreload\n",
    "%autoreload 2\n",
    "\n",
    "from fibsem.milling import MillingStrategy\n",
    "strat_d = {\"name\": \"Overtilt\", \"overtilt\": 2}\n",
    "strat = MillingStrategy.from_dict(strat_d)\n",
    "print(strat)\n",
    "print(strat.config)"
   ]
  },
  {
   "cell_type": "code",
   "execution_count": null,
   "metadata": {},
   "outputs": [],
   "source": [
    "strat.from_dict(strat.to_dict())"
   ]
  },
  {
   "cell_type": "code",
   "execution_count": null,
   "metadata": {},
   "outputs": [],
   "source": [
    "%load_ext autoreload\n",
    "%autoreload 2\n",
    "\n",
    "from fibsem.milling.base import get_strategy\n",
    "\n",
    "strat = get_strategy(name=\"Overtilt\", config={\"config\" :{\"overtilt\": 2}})\n",
    "print(strat)\n",
    "print(strat.config)"
   ]
  },
  {
   "cell_type": "code",
   "execution_count": null,
   "metadata": {},
   "outputs": [],
   "source": [
    "from pprint import pprint\n",
    "stage = stages[0]\n",
    "stage.strategy = strat\n",
    "ddict = stage.to_dict()\n",
    "\n",
    "from fibsem.milling import FibsemMillingStage\n",
    "stage = FibsemMillingStage.from_dict(ddict)\n",
    "pprint(stage.strategy.config)"
   ]
  },
  {
   "cell_type": "code",
   "execution_count": null,
   "metadata": {},
   "outputs": [],
   "source": []
  }
 ],
 "metadata": {
  "kernelspec": {
   "display_name": "fibsem",
   "language": "python",
   "name": "python3"
  },
  "language_info": {
   "codemirror_mode": {
    "name": "ipython",
    "version": 3
   },
   "file_extension": ".py",
   "mimetype": "text/x-python",
   "name": "python",
   "nbconvert_exporter": "python",
   "pygments_lexer": "ipython3",
   "version": "3.9.20"
  }
 },
 "nbformat": 4,
 "nbformat_minor": 2
}
