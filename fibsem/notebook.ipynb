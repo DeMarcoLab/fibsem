{
 "cells": [
  {
   "cell_type": "code",
   "execution_count": 1,
   "metadata": {},
   "outputs": [],
   "source": [
    "%load_ext autoreload\n",
    "%autoreload 2\n",
    "import pytest\n",
    "import tifffile as tff\n",
    "import fibsem.fibsemImage as fb\n",
    "import numpy as np\n",
    "import os\n",
    "from fibsem.structures import BeamType, GammaSettings, ImageSettings\n",
    "\n",
    "\n",
    "\n",
    "\n",
    "def test_metadata():\n",
    "    array1 = np.random.rand(32,32)\n",
    "    gamma_dict = {\n",
    "        \"enabled\": True,\n",
    "        \"min_gamma\": 0.5,\n",
    "        \"max_gamma\": 1.8,\n",
    "        \"scale_factor\": 0.01,\n",
    "        \"threshold\": 46\n",
    "    }\n",
    "    Image_settings = {\n",
    "        \"resolution\": \"1536x1024\",\n",
    "        \"dwell_time\": 1.e-6,\n",
    "        \"hfw\": 150.e-6,\n",
    "        \"autocontrast\": True,\n",
    "        \"beam_type\": \"ELECTRON\", \n",
    "        \"gamma\": gamma_dict,\n",
    "        \"save\": False,\n",
    "        \"save_path\": \"path\",\n",
    "        \"label\": \"label\"\n",
    "    }\n",
    "\n",
    "    metadata = fb.Metadata(\n",
    "            image_settings = ImageSettings.__from_dict__(Image_settings)\n",
    "        )\n",
    "    img = fb.fibsemImage(array1, metadata)\n",
    "    img.save_to_TIFF('test.tif')\n",
    "    img.load_from_TIFF('test.tif')\n",
    "    print(img.metadata)\n",
    "    pass\n",
    "\n",
    "\n"
   ]
  },
  {
   "cell_type": "code",
   "execution_count": 2,
   "metadata": {},
   "outputs": [
    {
     "name": "stdout",
     "output_type": "stream",
     "text": [
      "{'beam_type': 'ELECTRON', 'resolution': '1536x1024', 'dwell_time': 1e-06, 'hfw': 0.00015, 'autocontrast': True, 'gamma': {'enabled': True, 'min_gamma': 0.5, 'max_gamma': 1.8, 'scale_factor': 0.01, 'threshold': 46}, 'save': False, 'save_path': 'path', 'label': 'label', 'shape': [32, 32]}\n",
      "Metadata(image_settings=ImageSettings(resolution='1536x1024', dwell_time=1e-06, hfw=0.00015, autocontrast=True, beam_type=<BeamType.ELECTRON: 1>, save=False, label='label', gamma=GammaSettings(enabled=True, min_gamma=0.5, max_gamma=1.8, scale_factor=0.01, threshold=46), save_path='path'))\n"
     ]
    }
   ],
   "source": [
    "test_metadata()"
   ]
  },
  {
   "cell_type": "code",
   "execution_count": null,
   "metadata": {},
   "outputs": [],
   "source": []
  }
 ],
 "metadata": {
  "kernelspec": {
   "display_name": "Python 3.9.13",
   "language": "python",
   "name": "python3"
  },
  "language_info": {
   "codemirror_mode": {
    "name": "ipython",
    "version": 3
   },
   "file_extension": ".py",
   "mimetype": "text/x-python",
   "name": "python",
   "nbconvert_exporter": "python",
   "pygments_lexer": "ipython3",
   "version": "3.9.13"
  },
  "orig_nbformat": 4,
  "vscode": {
   "interpreter": {
    "hash": "dfd385977d9ccdc365b7fa138fb5baebfcc47440065f7b0362d539c2851e81a2"
   }
  }
 },
 "nbformat": 4,
 "nbformat_minor": 2
}
