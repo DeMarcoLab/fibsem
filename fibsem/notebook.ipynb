{
 "cells": [
  {
   "cell_type": "code",
   "execution_count": 1,
   "metadata": {},
   "outputs": [],
   "source": [
    "%load_ext autoreload\n",
    "%autoreload 2\n",
    "import pytest\n",
    "import tifffile as tff\n",
    "import fibsem.utils as fb\n",
    "import numpy as np\n",
    "import os\n",
    "from fibsem.structures import BeamType, GammaSettings, ImageSettings, ini\n",
    "from autoscript_sdb_microscope_client.structures import AdornedImage\n",
    "from matplotlib import pyplot as plt\n",
    "\n",
    "\n",
    "\n",
    "def test_metadata():\n",
    "    array1 = np.random.rand(256,256)\n",
    "    from matplotlib import pyplot as plt\n",
    "    plt.imshow(array1, interpolation='nearest')\n",
    "    plt.show()    \n",
    "    gamma_dict = {\n",
    "        \"enabled\": True,\n",
    "        \"min_gamma\": 0.5,\n",
    "        \"max_gamma\": 1.8,\n",
    "        \"scale_factor\": 0.01,\n",
    "        \"threshold\": 46\n",
    "    }\n",
    "    Image_settings = {\n",
    "        \"resolution\": (1536,1024),\n",
    "        \"dwell_time\": 1.e-6,\n",
    "        \"hfw\": 150.e-6,\n",
    "        \"autocontrast\": True,\n",
    "        \"beam_type\": \"ELECTRON\", \n",
    "        \"gamma\": gamma_dict,\n",
    "        \"save\": False,\n",
    "        \"save_path\": \"path\",\n",
    "        \"label\": \"label\"\n",
    "    }\n",
    "\n",
    "    metadata = fb.Metadata(\n",
    "            image_settings = ImageSettings.__from_dict__(Image_settings)\n",
    "        )\n",
    "    img = fb.fibsemImage(array1, metadata)\n",
    "    img.save_to_TIFF('test.tif')\n",
    "    img.load_from_TIFF('test.tif')\n",
    "    plt.imshow(img.data, interpolation='nearest')\n",
    "    plt.show() \n",
    "    print(img.metadata)\n",
    "    pass\n",
    "\n",
    "img_settings = ImageSettings(\n",
    "        resolution=(32,32),\n",
    "        dwell_time=1.e-6,\n",
    "        hfw=150.e-6,\n",
    "        autocontrast=True,\n",
    "        beam_type=BeamType.ELECTRON,\n",
    "        gamma=GammaSettings,\n",
    "        save=False,\n",
    "        save_path=\"path\",\n",
    "        label=\"label\"\n",
    "    )\n",
    "\n",
    "def test_adorned_image_conversion(img_settings = ImageSettings):\n",
    "    array1 = np.uint8(255 * np.random.rand(32, 32))\n",
    "    metadata = img_settings\n",
    "    img1 = fb.FibsemImage(array1, metadata)\n",
    "    adorned = AdornedImage(array1)\n",
    "    img2 = fb.FibsemImage.fromAdornedImage(adorned, metadata)\n",
    "    plt.imshow(img2.data, interpolation='nearest')\n",
    "    plt.show() "
   ]
  },
  {
   "cell_type": "code",
   "execution_count": 2,
   "metadata": {},
   "outputs": [
    {
     "ename": "AttributeError",
     "evalue": "module 'fibsem.utils' has no attribute 'FibsemImage'",
     "output_type": "error",
     "traceback": [
      "\u001b[1;31m---------------------------------------------------------------------------\u001b[0m",
      "\u001b[1;31mAttributeError\u001b[0m                            Traceback (most recent call last)",
      "\u001b[1;32mc:\\Users\\lucil\\OneDrive\\Bureau\\DeMarco_Lab\\fibsem\\fibsem\\notebook.ipynb Cell 2\u001b[0m in \u001b[0;36m<cell line: 1>\u001b[1;34m()\u001b[0m\n\u001b[1;32m----> <a href='vscode-notebook-cell:/c%3A/Users/lucil/OneDrive/Bureau/DeMarco_Lab/fibsem/fibsem/notebook.ipynb#W1sZmlsZQ%3D%3D?line=0'>1</a>\u001b[0m test_adorned_image_conversion(img_settings)\n",
      "\u001b[1;32mc:\\Users\\lucil\\OneDrive\\Bureau\\DeMarco_Lab\\fibsem\\fibsem\\notebook.ipynb Cell 2\u001b[0m in \u001b[0;36mtest_adorned_image_conversion\u001b[1;34m(img_settings)\u001b[0m\n\u001b[0;32m     <a href='vscode-notebook-cell:/c%3A/Users/lucil/OneDrive/Bureau/DeMarco_Lab/fibsem/fibsem/notebook.ipynb#W1sZmlsZQ%3D%3D?line=61'>62</a>\u001b[0m array1 \u001b[39m=\u001b[39m np\u001b[39m.\u001b[39muint8(\u001b[39m255\u001b[39m \u001b[39m*\u001b[39m np\u001b[39m.\u001b[39mrandom\u001b[39m.\u001b[39mrand(\u001b[39m32\u001b[39m, \u001b[39m32\u001b[39m))\n\u001b[0;32m     <a href='vscode-notebook-cell:/c%3A/Users/lucil/OneDrive/Bureau/DeMarco_Lab/fibsem/fibsem/notebook.ipynb#W1sZmlsZQ%3D%3D?line=62'>63</a>\u001b[0m metadata \u001b[39m=\u001b[39m img_settings\n\u001b[1;32m---> <a href='vscode-notebook-cell:/c%3A/Users/lucil/OneDrive/Bureau/DeMarco_Lab/fibsem/fibsem/notebook.ipynb#W1sZmlsZQ%3D%3D?line=63'>64</a>\u001b[0m img1 \u001b[39m=\u001b[39m fb\u001b[39m.\u001b[39;49mFibsemImage(array1, metadata)\n\u001b[0;32m     <a href='vscode-notebook-cell:/c%3A/Users/lucil/OneDrive/Bureau/DeMarco_Lab/fibsem/fibsem/notebook.ipynb#W1sZmlsZQ%3D%3D?line=64'>65</a>\u001b[0m adorned \u001b[39m=\u001b[39m AdornedImage(array1)\n\u001b[0;32m     <a href='vscode-notebook-cell:/c%3A/Users/lucil/OneDrive/Bureau/DeMarco_Lab/fibsem/fibsem/notebook.ipynb#W1sZmlsZQ%3D%3D?line=65'>66</a>\u001b[0m img2 \u001b[39m=\u001b[39m fb\u001b[39m.\u001b[39mFibsemImage\u001b[39m.\u001b[39mfromAdornedImage(adorned, metadata)\n",
      "\u001b[1;31mAttributeError\u001b[0m: module 'fibsem.utils' has no attribute 'FibsemImage'"
     ]
    }
   ],
   "source": [
    "test_adorned_image_conversion(img_settings)"
   ]
  },
  {
   "cell_type": "code",
   "execution_count": 3,
   "metadata": {},
   "outputs": [
    {
     "name": "stdout",
     "output_type": "stream",
     "text": [
      "BeamType.ELECTRON\n"
     ]
    }
   ],
   "source": [
    "print(img_settings.beam_type)"
   ]
  },
  {
   "cell_type": "code",
   "execution_count": null,
   "metadata": {},
   "outputs": [],
   "source": [
    "img.load_from_TIFF('test.tif')\n",
    "\n",
    "fb.ini_metadata()"
   ]
  }
 ],
 "metadata": {
  "kernelspec": {
   "display_name": "NeoNatal",
   "language": "python",
   "name": "python3"
  },
  "language_info": {
   "codemirror_mode": {
    "name": "ipython",
    "version": 3
   },
   "file_extension": ".py",
   "mimetype": "text/x-python",
   "name": "python",
   "nbconvert_exporter": "python",
   "pygments_lexer": "ipython3",
   "version": "3.9.7 (default, Sep 16 2021, 16:59:28) [MSC v.1916 64 bit (AMD64)]"
  },
  "orig_nbformat": 4,
  "vscode": {
   "interpreter": {
    "hash": "97983a1f55ac8c945a7564dc43df09ede4f0c80976c4907f206dbe2c90ffe8f9"
   }
  }
 },
 "nbformat": 4,
 "nbformat_minor": 2
}
