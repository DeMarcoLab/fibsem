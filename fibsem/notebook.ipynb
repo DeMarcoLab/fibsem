{
 "cells": [
  {
   "cell_type": "code",
   "execution_count": 10,
   "metadata": {},
   "outputs": [
    {
     "name": "stdout",
     "output_type": "stream",
     "text": [
      "The autoreload extension is already loaded. To reload it, use:\n",
      "  %reload_ext autoreload\n"
     ]
    }
   ],
   "source": [
    "%load_ext autoreload\n",
    "%autoreload 2\n",
    "import pytest\n",
    "import tifffile as tff\n",
    "import fibsem.fibsemImage as fb\n",
    "import numpy as np\n",
    "import os\n",
    "from fibsem.structures import BeamType, GammaSettings, ImageSettings\n",
    "from autoscript_sdb_microscope_client.structures import AdornedImage\n",
    "from matplotlib import pyplot as plt\n",
    "\n",
    "\n",
    "\n",
    "def test_metadata():\n",
    "    array1 = np.random.rand(256,256)\n",
    "    from matplotlib import pyplot as plt\n",
    "    plt.imshow(array1, interpolation='nearest')\n",
    "    plt.show()    \n",
    "    gamma_dict = {\n",
    "        \"enabled\": True,\n",
    "        \"min_gamma\": 0.5,\n",
    "        \"max_gamma\": 1.8,\n",
    "        \"scale_factor\": 0.01,\n",
    "        \"threshold\": 46\n",
    "    }\n",
    "    Image_settings = {\n",
    "        \"resolution\": \"1536x1024\",\n",
    "        \"dwell_time\": 1.e-6,\n",
    "        \"hfw\": 150.e-6,\n",
    "        \"autocontrast\": True,\n",
    "        \"beam_type\": \"ELECTRON\", \n",
    "        \"gamma\": gamma_dict,\n",
    "        \"save\": False,\n",
    "        \"save_path\": \"path\",\n",
    "        \"label\": \"label\"\n",
    "    }\n",
    "\n",
    "    metadata = fb.Metadata(\n",
    "            image_settings = ImageSettings.__from_dict__(Image_settings)\n",
    "        )\n",
    "    img = fb.fibsemImage(array1, metadata)\n",
    "    img.save_to_TIFF('test.tif')\n",
    "    img.load_from_TIFF('test.tif')\n",
    "    plt.imshow(img.data, interpolation='nearest')\n",
    "    plt.show() \n",
    "    print(img.metadata)\n",
    "    pass\n",
    "\n",
    "img_settings = ImageSettings(\n",
    "        resolution=\"32x32\",\n",
    "        dwell_time=1.e-6,\n",
    "        hfw=150.e-6,\n",
    "        autocontrast=True,\n",
    "        beam_type=BeamType.ELECTRON,\n",
    "        gamma=GammaSettings,\n",
    "        save=False,\n",
    "        save_path=\"path\",\n",
    "        label=\"label\"\n",
    "    )\n",
    "\n",
    "def test_adorned_image_conversion(img_settings = ImageSettings):\n",
    "    array1 = np.uint8(255 * np.random.rand(32, 32))\n",
    "    metadata = img_settings\n",
    "    img1 = fb.FibsemImage(array1, metadata)\n",
    "    adorned = AdornedImage(array1)\n",
    "    img2 = fb.FibsemImage.fromAdornedImage(adorned, metadata)\n",
    "    plt.imshow(img2.data, interpolation='nearest')\n",
    "    plt.show() "
   ]
  },
  {
   "cell_type": "code",
   "execution_count": 11,
   "metadata": {},
   "outputs": [
    {
     "data": {
      "image/png": "[encoded data removed]",
      "text/plain": [
       "<Figure size 432x288 with 1 Axes>"
      ]
     },
     "metadata": {
      "needs_background": "light"
     },
     "output_type": "display_data"
    },
    {
     "data": {
      "image/png": "[encoded data removed]",
      "text/plain": [
       "<Figure size 432x288 with 1 Axes>"
      ]
     },
     "metadata": {
      "needs_background": "light"
     },
     "output_type": "display_data"
    }
   ],
   "source": [
    "test_adorned_image_conversion(img_settings)"
   ]
  },
  {
   "cell_type": "code",
   "execution_count": null,
   "metadata": {},
   "outputs": [],
   "source": []
  }
 ],
 "metadata": {
  "kernelspec": {
   "display_name": "Python 3.9.13",
   "language": "python",
   "name": "python3"
  },
  "language_info": {
   "codemirror_mode": {
    "name": "ipython",
    "version": 3
   },
   "file_extension": ".py",
   "mimetype": "text/x-python",
   "name": "python",
   "nbconvert_exporter": "python",
   "pygments_lexer": "ipython3",
   "version": "3.9.13"
  },
  "orig_nbformat": 4,
  "vscode": {
   "interpreter": {
    "hash": "dfd385977d9ccdc365b7fa138fb5baebfcc47440065f7b0362d539c2851e81a2"
   }
  }
 },
 "nbformat": 4,
 "nbformat_minor": 2
}
