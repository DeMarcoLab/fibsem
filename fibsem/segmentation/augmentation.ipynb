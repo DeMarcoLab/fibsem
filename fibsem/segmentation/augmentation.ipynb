{
 "cells": [
  {
   "cell_type": "markdown",
   "metadata": {},
   "source": [
    "### Training Data Augmentation"
   ]
  },
  {
   "cell_type": "code",
   "execution_count": null,
   "metadata": {},
   "outputs": [],
   "source": [
    "%load_ext autoreload\n",
    "%autoreload 2\n",
    "\n",
    "\n",
    "from fibsem.segmentation.train import _setup_dataset, _setup_model, _setup_wandb\n",
    "from fibsem.segmentation import utils\n",
    "\n",
    "import yaml\n",
    "\n",
    "import wandb\n",
    "import matplotlib.pyplot as plt\n",
    "\n"
   ]
  },
  {
   "cell_type": "code",
   "execution_count": null,
   "metadata": {},
   "outputs": [],
   "source": [
    "\n",
    "\n",
    "CONFIG_PATH = \"config-autolamella-aug.yml\"\n",
    "\n",
    "# NOTE: Setup your config.yml file\n",
    "with open(CONFIG_PATH, \"r\") as f:\n",
    "    config = yaml.safe_load(f)\n",
    "\n",
    "utils.validate_config(config)\n",
    "\n",
    "_setup_wandb(config)\n",
    "\n",
    "################################## LOAD DATASET ##################################\n",
    "\n"
   ]
  },
  {
   "cell_type": "code",
   "execution_count": null,
   "metadata": {},
   "outputs": [],
   "source": [
    "import numpy as np\n",
    "from skimage.io import imshow, imread\n",
    "import torchvision\n",
    "from torchvision import transforms\n",
    "from torchvision.utils import make_grid\n",
    "import torch\n",
    "\n",
    "import matplotlib.pyplot as plt\n",
    "import matplotlib as mpl\n",
    "%matplotlib inline\n",
    "mpl.rcParams['axes.grid'] = False\n",
    "mpl.rcParams['image.interpolation'] = 'nearest'\n",
    "mpl.rcParams['figure.figsize'] = 15, 10\n",
    "\n",
    "def show(img):\n",
    "    npimg = img.numpy()\n",
    "    plt.figure()\n",
    "    plt.imshow(np.transpose(npimg, (1, 2, 0)), interpolation='nearest')"
   ]
  },
  {
   "cell_type": "code",
   "execution_count": null,
   "metadata": {},
   "outputs": [],
   "source": [
    "\n",
    "\n"
   ]
  },
  {
   "cell_type": "code",
   "execution_count": null,
   "metadata": {},
   "outputs": [],
   "source": [
    "BASE_DATA = \"/home/patrick/github/data/liftout/training/train/images\"\n",
    "BASE_LABELS = \"/home/patrick/github/data/liftout/training/train/labels\"\n",
    "\n",
    "FINETUNE_DATA = \"/home/patrick/github/data/liftout/train-new/train\"\n",
    "FINETUNE_LABELS = \"/home/patrick/github/data/liftout/train-new/train/labels/\"\n",
    "\n",
    "\n",
    "CONFIG_PATH = \"config-autoliftout-aug-base-combo.yml\"\n",
    "\n",
    "# NOTE: Setup your config.yml file\n",
    "with open(CONFIG_PATH, \"r\") as f:\n",
    "    config = yaml.safe_load(f)\n",
    "\n",
    "from pprint import pprint\n",
    "\n",
    "pprint(config)\n",
    "\n",
    "\n",
    "# from fibsem.segmentation.dataset import load_dask_dataset_v2, load_dask_dataset, preprocess_data\n",
    "\n",
    "# DATA_PATHS = [BASE_DATA, FINETUNE_DATA]\n",
    "# LABEL_PATHS = [BASE_LABELS, FINETUNE_LABELS]\n",
    "\n",
    "# images, masks = load_dask_dataset_v2(DATA_PATHS, LABEL_PATHS)\n",
    "# train_data_loader, val_data_loader = _setup_dataset(config)\n"
   ]
  },
  {
   "cell_type": "code",
   "execution_count": null,
   "metadata": {},
   "outputs": [],
   "source": [
    "train_data_loader, val_data_loader = _setup_dataset(config)\n",
    "\n",
    "from fibsem.segmentation.utils import decode_segmap\n",
    "\n",
    "for i, (img, mask) in enumerate(train_data_loader):\n",
    "\n",
    "    print(\"img: \", img.shape)\n",
    "    print(\"mask: \", mask.shape)\n",
    "    # unique values in mask\n",
    "    # print(\"image range: \", np.min(img), np.max(img))\n",
    "    print(\"mask unique: \", np.unique(mask))\n",
    "\n",
    "\n",
    "    # print ddtype\n",
    "    print(\"img dtype: \", img.dtype)\n",
    "    print(\"mask dtype: \", mask.dtype)\n",
    "\n",
    "    fig, ax = plt.subplots(1, img.shape[0], figsize=(15, 10))\n",
    "\n",
    "    for j in range(img.shape[0]):\n",
    "        ax[j].imshow(img[j, 0, :, :], cmap='gray')\n",
    "        ax[j].imshow(decode_segmap(mask[j, 0, :, :], nc=config[\"num_classes\"]), alpha=0.5)\n",
    "        ax[j].axis('off')\n",
    "\n",
    "    # subplot adjust\n",
    "    plt.subplots_adjust(wspace=0, hspace=0)\n",
    "    plt.show()\n",
    "    if i > 4:\n",
    "        break"
   ]
  },
  {
   "cell_type": "code",
   "execution_count": null,
   "metadata": {},
   "outputs": [],
   "source": []
  }
 ],
 "metadata": {
  "kernelspec": {
   "display_name": "fibsem",
   "language": "python",
   "name": "python3"
  },
  "language_info": {
   "codemirror_mode": {
    "name": "ipython",
    "version": 3
   },
   "file_extension": ".py",
   "mimetype": "text/x-python",
   "name": "python",
   "nbconvert_exporter": "python",
   "pygments_lexer": "ipython3",
   "version": "3.9.16"
  },
  "orig_nbformat": 4
 },
 "nbformat": 4,
 "nbformat_minor": 2
}
