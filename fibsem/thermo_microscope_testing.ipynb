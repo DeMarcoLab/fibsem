{
 "cells": [
  {
   "cell_type": "markdown",
   "metadata": {},
   "source": [
    "Testing FIBSEM Microscope overall class\n",
    "    - Testing Thermo Fisher instance of class\n",
    "    "
   ]
  },
  {
   "cell_type": "markdown",
   "metadata": {},
   "source": [
    "Importing Relevant Modules"
   ]
  },
  {
   "cell_type": "code",
   "execution_count": 15,
   "metadata": {},
   "outputs": [
    {
     "name": "stdout",
     "output_type": "stream",
     "text": [
      "The autoreload extension is already loaded. To reload it, use:\n",
      "  %reload_ext autoreload\n"
     ]
    }
   ],
   "source": [
    "%load_ext autoreload\n",
    "%autoreload 2\n",
    "\n",
    "import fibsem\n",
    "from fibsem import utils, acquire\n",
    "import fibsem.alignment as fa\n",
    "from fibsem.structures import BeamType, ImageSettings, GammaSettings, FibsemRectangle, FibsemImage, check_data_format\n",
    "import matplotlib.pyplot as plt\n",
    "from fibsem import FibsemMicroscope, calibration\n",
    "import os\n",
    "import logging\n",
    "from fibsem.utils import current_timestamp, configure_logging\n",
    "from pathlib import Path\n",
    "from autoscript_sdb_microscope_client.structures import (\n",
    "    AdornedImage,\n",
    "    GrabFrameSettings,\n",
    "    Rectangle,\n",
    "    RunAutoCbSettings,\n",
    ")"
   ]
  },
  {
   "cell_type": "markdown",
   "metadata": {},
   "source": [
    "Importing settings from config"
   ]
  },
  {
   "cell_type": "code",
   "execution_count": 5,
   "metadata": {},
   "outputs": [],
   "source": [
    "settings = utils.load_settings_from_config()\n"
   ]
  },
  {
   "cell_type": "markdown",
   "metadata": {},
   "source": []
  },
  {
   "cell_type": "markdown",
   "metadata": {},
   "source": [
    "Testing Setup "
   ]
  },
  {
   "cell_type": "code",
   "execution_count": 7,
   "metadata": {},
   "outputs": [
    {
     "name": "stderr",
     "output_type": "stream",
     "text": [
      "[autoreload of fibsem.FibsemMicroscope failed: Traceback (most recent call last):\n",
      "  File \"c:\\Users\\lnae0002\\Anaconda3\\envs\\fibsem\\lib\\site-packages\\IPython\\extensions\\autoreload.py\", line 261, in check\n",
      "    superreload(m, reload, self.old_objects)\n",
      "  File \"c:\\Users\\lnae0002\\Anaconda3\\envs\\fibsem\\lib\\site-packages\\IPython\\extensions\\autoreload.py\", line 459, in superreload\n",
      "    module = reload(module)\n",
      "  File \"c:\\Users\\lnae0002\\Anaconda3\\envs\\fibsem\\lib\\importlib\\__init__.py\", line 169, in reload\n",
      "    _bootstrap._exec(spec, module)\n",
      "  File \"<frozen importlib._bootstrap>\", line 613, in _exec\n",
      "  File \"<frozen importlib._bootstrap_external>\", line 850, in exec_module\n",
      "  File \"<frozen importlib._bootstrap>\", line 228, in _call_with_frames_removed\n",
      "  File \"C:\\Users\\lnae0002\\Desktop\\fibsem\\fibsem\\FibsemMicroscope.py\", line 12, in <module>\n",
      "    from tescanautomation import Automation\n",
      "ModuleNotFoundError: No module named 'tescanautomation'\n",
      "]\n"
     ]
    },
    {
     "ename": "FileNotFoundError",
     "evalue": "[Errno 2] No such file or directory: 'C:\\\\Users\\\\lnae0002\\\\Desktop\\\\fibsem\\\\config\\\\system.yaml'",
     "output_type": "error",
     "traceback": [
      "\u001b[1;31m---------------------------------------------------------------------------\u001b[0m",
      "\u001b[1;31mFileNotFoundError\u001b[0m                         Traceback (most recent call last)",
      "Cell \u001b[1;32mIn[7], line 1\u001b[0m\n\u001b[1;32m----> 1\u001b[0m microscope, settings \u001b[39m=\u001b[39m utils\u001b[39m.\u001b[39;49msetup_session()\n",
      "File \u001b[1;32m~\\Desktop\\fibsem\\fibsem\\utils.py:254\u001b[0m, in \u001b[0;36msetup_session\u001b[1;34m(session_path, config_path, protocol_path, setup_logging)\u001b[0m\n\u001b[0;32m    242\u001b[0m \u001b[39m\"\"\"Setup microscope session\u001b[39;00m\n\u001b[0;32m    243\u001b[0m \n\u001b[0;32m    244\u001b[0m \u001b[39mArgs:\u001b[39;00m\n\u001b[1;32m   (...)\u001b[0m\n\u001b[0;32m    250\u001b[0m \u001b[39m    tuple: microscope, settings\u001b[39;00m\n\u001b[0;32m    251\u001b[0m \u001b[39m\"\"\"\u001b[39;00m\n\u001b[0;32m    253\u001b[0m \u001b[39m# load settings\u001b[39;00m\n\u001b[1;32m--> 254\u001b[0m settings \u001b[39m=\u001b[39m load_settings_from_config(config_path, protocol_path)\n\u001b[0;32m    256\u001b[0m \u001b[39m# create session directories\u001b[39;00m\n\u001b[0;32m    257\u001b[0m session \u001b[39m=\u001b[39m \u001b[39mf\u001b[39m\u001b[39m'\u001b[39m\u001b[39m{\u001b[39;00msettings\u001b[39m.\u001b[39mprotocol[\u001b[39m\"\u001b[39m\u001b[39mname\u001b[39m\u001b[39m\"\u001b[39m]\u001b[39m}\u001b[39;00m\u001b[39m_\u001b[39m\u001b[39m{\u001b[39;00mcurrent_timestamp()\u001b[39m}\u001b[39;00m\u001b[39m'\u001b[39m\n",
      "File \u001b[1;32m~\\Desktop\\fibsem\\fibsem\\utils.py:308\u001b[0m, in \u001b[0;36mload_settings_from_config\u001b[1;34m(config_path, protocol_path)\u001b[0m\n\u001b[0;32m    305\u001b[0m     config_path \u001b[39m=\u001b[39m CONFIG_PATH\n\u001b[0;32m    307\u001b[0m \u001b[39m# system settings\u001b[39;00m\n\u001b[1;32m--> 308\u001b[0m settings \u001b[39m=\u001b[39m load_yaml(os\u001b[39m.\u001b[39;49mpath\u001b[39m.\u001b[39;49mjoin(config_path, \u001b[39m\"\u001b[39;49m\u001b[39msystem.yaml\u001b[39;49m\u001b[39m\"\u001b[39;49m))\n\u001b[0;32m    309\u001b[0m system_settings \u001b[39m=\u001b[39m SystemSettings\u001b[39m.\u001b[39m__from_dict__(settings[\u001b[39m\"\u001b[39m\u001b[39msystem\u001b[39m\u001b[39m\"\u001b[39m])\n\u001b[0;32m    311\u001b[0m \u001b[39m# user settings\u001b[39;00m\n\u001b[0;32m    312\u001b[0m \u001b[39m# default_settings = DefaultSettings.__from_dict__(settings[\"user\"])\u001b[39;00m\n",
      "File \u001b[1;32m~\\Desktop\\fibsem\\fibsem\\utils.py:161\u001b[0m, in \u001b[0;36mload_yaml\u001b[1;34m(fname)\u001b[0m\n\u001b[0;32m    159\u001b[0m \u001b[39mdef\u001b[39;00m \u001b[39mload_yaml\u001b[39m(fname: Path) \u001b[39m-\u001b[39m\u001b[39m>\u001b[39m \u001b[39mdict\u001b[39m:\n\u001b[1;32m--> 161\u001b[0m     \u001b[39mwith\u001b[39;00m \u001b[39mopen\u001b[39;49m(fname, \u001b[39m\"\u001b[39;49m\u001b[39mr\u001b[39;49m\u001b[39m\"\u001b[39;49m) \u001b[39mas\u001b[39;00m f:\n\u001b[0;32m    162\u001b[0m         config \u001b[39m=\u001b[39m yaml\u001b[39m.\u001b[39msafe_load(f)\n\u001b[0;32m    164\u001b[0m     \u001b[39mreturn\u001b[39;00m config\n",
      "\u001b[1;31mFileNotFoundError\u001b[0m: [Errno 2] No such file or directory: 'C:\\\\Users\\\\lnae0002\\\\Desktop\\\\fibsem\\\\config\\\\system.yaml'"
     ]
    }
   ],
   "source": [
    "microscope, settings = utils.setup_session()"
   ]
  },
  {
   "cell_type": "code",
   "execution_count": 21,
   "metadata": {},
   "outputs": [
    {
     "ename": "AttributeError",
     "evalue": "'NoneType' object has no attribute 'send'",
     "output_type": "error",
     "traceback": [
      "\u001b[1;31m---------------------------------------------------------------------------\u001b[0m",
      "\u001b[1;31mAttributeError\u001b[0m                            Traceback (most recent call last)",
      "Cell \u001b[1;32mIn[21], line 1\u001b[0m\n\u001b[1;32m----> 1\u001b[0m \u001b[39mprint\u001b[39m(microscope\u001b[39m.\u001b[39;49mconnection\u001b[39m.\u001b[39;49mSEM\u001b[39m.\u001b[39;49mBeam\u001b[39m.\u001b[39;49mGetStatus())\n",
      "File \u001b[1;32mc:\\Users\\rkan0039\\Anaconda3\\envs\\fibsem\\lib\\site-packages\\tescanautomation\\tescanautomation.py:6367\u001b[0m, in \u001b[0;36mAutomation.SEM.Beam.GetStatus\u001b[1;34m(self)\u001b[0m\n\u001b[0;32m   6344\u001b[0m \u001b[39mdef\u001b[39;00m \u001b[39mGetStatus\u001b[39m(\u001b[39mself\u001b[39m) \u001b[39m-\u001b[39m\u001b[39m>\u001b[39m Status:\n\u001b[0;32m   6345\u001b[0m     \u001b[39m\"\"\"\u001b[39;00m\n\u001b[0;32m   6346\u001b[0m \u001b[39m    Get beam status.\u001b[39;00m\n\u001b[0;32m   6347\u001b[0m \u001b[39m    \u001b[39;00m\n\u001b[1;32m   (...)\u001b[0m\n\u001b[0;32m   6365\u001b[0m \u001b[39m    :return: Beam\u001b[39;00m\n\u001b[0;32m   6366\u001b[0m \u001b[39m    \"\"\"\u001b[39;00m\n\u001b[1;32m-> 6367\u001b[0m     \u001b[39mreturn\u001b[39;00m \u001b[39mself\u001b[39;49m\u001b[39m.\u001b[39;49m_client\u001b[39m.\u001b[39;49mHVGetBeam()\n",
      "File \u001b[1;32mc:\\Users\\rkan0039\\Anaconda3\\envs\\fibsem\\lib\\site-packages\\tescanautomation\\abstract.py:2245\u001b[0m, in \u001b[0;36mAutomationAbstract.HVGetBeam\u001b[1;34m(self)\u001b[0m\n\u001b[0;32m   2222\u001b[0m \u001b[39mdef\u001b[39;00m \u001b[39mHVGetBeam\u001b[39m(\u001b[39mself\u001b[39m) \u001b[39m-\u001b[39m\u001b[39m>\u001b[39m SEM\u001b[39m.\u001b[39mHVBeamStatus:\n\u001b[0;32m   2223\u001b[0m     \u001b[39m\"\"\"\u001b[39;00m\n\u001b[0;32m   2224\u001b[0m \u001b[39m    Get beam status.\u001b[39;00m\n\u001b[0;32m   2225\u001b[0m \n\u001b[1;32m   (...)\u001b[0m\n\u001b[0;32m   2243\u001b[0m \u001b[39m    :return: Beam\u001b[39;00m\n\u001b[0;32m   2244\u001b[0m \u001b[39m    \"\"\"\u001b[39;00m\n\u001b[1;32m-> 2245\u001b[0m     \u001b[39mreturn\u001b[39;00m SEM\u001b[39m.\u001b[39mHVBeamStatus(\u001b[39msuper\u001b[39;49m()\u001b[39m.\u001b[39;49mHVGetBeam())\n",
      "File \u001b[1;32mc:\\Users\\rkan0039\\Anaconda3\\envs\\fibsem\\lib\\site-packages\\tescansharksem\\sem.py:5168\u001b[0m, in \u001b[0;36mSem.HVGetBeam\u001b[1;34m(self)\u001b[0m\n\u001b[0;32m   5140\u001b[0m \u001b[39mdef\u001b[39;00m \u001b[39mHVGetBeam\u001b[39m(\u001b[39mself\u001b[39m) \u001b[39m-\u001b[39m\u001b[39m>\u001b[39m \u001b[39mint\u001b[39m:\n\u001b[0;32m   5141\u001b[0m     \u001b[39m\"\"\"\u001b[39;00m\n\u001b[0;32m   5142\u001b[0m \u001b[39m    Get beam status.\u001b[39;00m\n\u001b[0;32m   5143\u001b[0m \u001b[39m    \u001b[39;00m\n\u001b[1;32m   (...)\u001b[0m\n\u001b[0;32m   5166\u001b[0m \u001b[39m    :return: Beam\u001b[39;00m\n\u001b[0;32m   5167\u001b[0m \u001b[39m    \"\"\"\u001b[39;00m\n\u001b[1;32m-> 5168\u001b[0m     \u001b[39mreturn\u001b[39;00m \u001b[39mself\u001b[39m\u001b[39m.\u001b[39m_Return(\u001b[39mself\u001b[39;49m\u001b[39m.\u001b[39;49mconnection\u001b[39m.\u001b[39;49mRecv(\u001b[39m'\u001b[39;49m\u001b[39mHVGetBeam\u001b[39;49m\u001b[39m'\u001b[39;49m, (sem_conn\u001b[39m.\u001b[39;49mArgType\u001b[39m.\u001b[39;49mInt, )))\n",
      "File \u001b[1;32mc:\\Users\\rkan0039\\Anaconda3\\envs\\fibsem\\lib\\site-packages\\tescansharksem\\sem_conn.py:487\u001b[0m, in \u001b[0;36mSemConnection.Recv\u001b[1;34m(self, fn_name, retval, *args)\u001b[0m\n\u001b[0;32m    466\u001b[0m \u001b[39m\"\"\" Send message and receive response\u001b[39;00m\n\u001b[0;32m    467\u001b[0m \u001b[39m\u001b[39;00m\n\u001b[0;32m    468\u001b[0m \u001b[39mThis call has variable number of input arguments.\u001b[39;00m\n\u001b[1;32m   (...)\u001b[0m\n\u001b[0;32m    483\u001b[0m \u001b[39mIf array is specified, it appears as a list object in the output list.\u001b[39;00m\n\u001b[0;32m    484\u001b[0m \u001b[39m\"\"\"\u001b[39;00m\n\u001b[0;32m    486\u001b[0m \u001b[39m# send request\u001b[39;00m\n\u001b[1;32m--> 487\u001b[0m \u001b[39mself\u001b[39;49m\u001b[39m.\u001b[39;49mSend(fn_name, \u001b[39m*\u001b[39;49margs)\n\u001b[0;32m    489\u001b[0m exception \u001b[39m=\u001b[39m \u001b[39mNone\u001b[39;00m\n\u001b[0;32m    491\u001b[0m \u001b[39mtry\u001b[39;00m:\n",
      "File \u001b[1;32mc:\\Users\\rkan0039\\Anaconda3\\envs\\fibsem\\lib\\site-packages\\tescansharksem\\sem_conn.py:460\u001b[0m, in \u001b[0;36mSemConnection.Send\u001b[1;34m(self, fn_name, *args)\u001b[0m\n\u001b[0;32m    457\u001b[0m hdr \u001b[39m+\u001b[39m\u001b[39m=\u001b[39m struct\u001b[39m.\u001b[39mpack(\u001b[39m\"\u001b[39m\u001b[39m<IIHHI\u001b[39m\u001b[39m\"\u001b[39m, bodyLen, \u001b[39m0\u001b[39m, (\u001b[39mself\u001b[39m\u001b[39m.\u001b[39mwait_flags \u001b[39m<<\u001b[39m \u001b[39m8\u001b[39m), \u001b[39m0\u001b[39m, \u001b[39m0\u001b[39m)  \u001b[39m# arguments\u001b[39;00m\n\u001b[0;32m    459\u001b[0m \u001b[39mif\u001b[39;00m bodyLen \u001b[39m>\u001b[39m\u001b[39m=\u001b[39m \u001b[39m0\u001b[39m \u001b[39mand\u001b[39;00m bodyLen \u001b[39m<\u001b[39m (\u001b[39m2\u001b[39m \u001b[39m*\u001b[39m\u001b[39m*\u001b[39m \u001b[39m31\u001b[39m):\n\u001b[1;32m--> 460\u001b[0m     \u001b[39mself\u001b[39;49m\u001b[39m.\u001b[39;49m_SendStr(hdr)      \u001b[39m# send header\u001b[39;00m\n\u001b[0;32m    461\u001b[0m     \u001b[39mself\u001b[39m\u001b[39m.\u001b[39m_SendStr(body)     \u001b[39m# send body\u001b[39;00m\n\u001b[0;32m    462\u001b[0m \u001b[39melse\u001b[39;00m:\n",
      "File \u001b[1;32mc:\\Users\\rkan0039\\Anaconda3\\envs\\fibsem\\lib\\site-packages\\tescansharksem\\sem_conn.py:70\u001b[0m, in \u001b[0;36mSemConnection._SendStr\u001b[1;34m(self, s)\u001b[0m\n\u001b[0;32m     68\u001b[0m start \u001b[39m=\u001b[39m \u001b[39m0\u001b[39m\n\u001b[0;32m     69\u001b[0m \u001b[39mwhile\u001b[39;00m start \u001b[39m<\u001b[39m size:\n\u001b[1;32m---> 70\u001b[0m     res \u001b[39m=\u001b[39m \u001b[39mself\u001b[39;49m\u001b[39m.\u001b[39;49msocket_c\u001b[39m.\u001b[39;49msend(s[start:size])\n\u001b[0;32m     71\u001b[0m     start \u001b[39m=\u001b[39m start \u001b[39m+\u001b[39m res\n",
      "\u001b[1;31mAttributeError\u001b[0m: 'NoneType' object has no attribute 'send'"
     ]
    }
   ],
   "source": [
    "print(microscope.connection.SEM.Beam.GetStatus())"
   ]
  },
  {
   "cell_type": "code",
   "execution_count": 20,
   "metadata": {},
   "outputs": [],
   "source": [
    "microscope.disconnect()"
   ]
  },
  {
   "cell_type": "markdown",
   "metadata": {},
   "source": [
    "Setting up for image acquisition"
   ]
  },
  {
   "cell_type": "code",
   "execution_count": null,
   "metadata": {},
   "outputs": [],
   "source": [
    "print(settings)"
   ]
  },
  {
   "cell_type": "code",
   "execution_count": null,
   "metadata": {},
   "outputs": [],
   "source": [
    "# set gamma settings\n",
    "gamma_settings = GammaSettings(\n",
    "        enabled=True,\n",
    "        min_gamma=0.5,\n",
    "        max_gamma=1.8,\n",
    "        scale_factor=0.01,\n",
    "        threshold=46,\n",
    "    )\n",
    "\n",
    "# set imaging settings\n",
    "image_settings = ImageSettings(\n",
    "        resolution=\"1536x1024\",\n",
    "        dwell_time=1.0e-6,\n",
    "        hfw=150.0e-6,\n",
    "        autocontrast=True,\n",
    "        beam_type=BeamType.ELECTRON,\n",
    "        gamma=gamma_settings,\n",
    "        save=True,\n",
    "        save_path=\"fibsem\\\\test_images\",\n",
    "        label=utils.current_timestamp(),\n",
    "        reduced_area=None,\n",
    "    )\n"
   ]
  },
  {
   "cell_type": "markdown",
   "metadata": {},
   "source": [
    "Autoconcrast"
   ]
  },
  {
   "cell_type": "code",
   "execution_count": null,
   "metadata": {},
   "outputs": [],
   "source": [
    "microscope.autocontrast(beam_type=image_settings.beam_type)\n",
    "microscope.autocontrast(beam_type=BeamType.ION)\n"
   ]
  },
  {
   "cell_type": "markdown",
   "metadata": {},
   "source": [
    "Take new image"
   ]
  },
  {
   "cell_type": "code",
   "execution_count": null,
   "metadata": {},
   "outputs": [],
   "source": [
    "new_image = acquire.new_image(microscope, image_settings)\n",
    "\n",
    "plt.imshow(new_image.data)\n",
    "plt.show()\n"
   ]
  },
  {
   "cell_type": "markdown",
   "metadata": {},
   "source": [
    "Checks"
   ]
  },
  {
   "cell_type": "code",
   "execution_count": null,
   "metadata": {},
   "outputs": [],
   "source": [
    "assert isinstance(new_image, FibsemImage)\n",
    "assert check_data_format(new_image.data)\n",
    "\n",
    "assert new_image.metadata.compare_image_settings(image_settings)\n",
    "assert new_image.metadata.version == 'v1'\n",
    "assert os.path.exists(f\"{os.path.join(image_settings.save_path, image_settings.label)}_eb.tif\")\n",
    "assert new_image.metadata.microscope_state.absolute_position == microscope.get_stage_position()\n",
    "\n",
    "print(new_image.metadata.microscope_state)"
   ]
  },
  {
   "cell_type": "markdown",
   "metadata": {},
   "source": [
    "Take last image"
   ]
  },
  {
   "cell_type": "code",
   "execution_count": null,
   "metadata": {},
   "outputs": [],
   "source": [
    "label = f\"{image_settings.label}_last\"\n",
    "\n",
    "last_image = microscope.last_image(image_settings.beam_type)\n",
    "\n",
    "plt.imshow(last_image.data)\n",
    "plt.show()\n",
    "\n",
    "if image_settings.save:\n",
    "    filename = os.path.join(image_settings.save_path, label)\n",
    "    last_image.save(save_path=filename)\n"
   ]
  },
  {
   "cell_type": "markdown",
   "metadata": {},
   "source": [
    "Checks"
   ]
  },
  {
   "cell_type": "code",
   "execution_count": null,
   "metadata": {},
   "outputs": [],
   "source": [
    "# assert isinstance(last_image, FibsemImage)\n",
    "assert check_data_format(last_image.data)\n",
    "\n",
    "\n",
    "# assert last_image.metadata.compare_image_settings(image_settings) # TODO: FIX THIS, different than img settings\n",
    "assert last_image.metadata.version == 'v1'\n",
    "assert os.path.exists(f\"{filename}.tif\")\n",
    "\n",
    "print(last_image.metadata.microscope_state)"
   ]
  },
  {
   "cell_type": "code",
   "execution_count": null,
   "metadata": {},
   "outputs": [],
   "source": [
    "\n"
   ]
  },
  {
   "cell_type": "markdown",
   "metadata": {},
   "source": [
    "Take reference images"
   ]
  },
  {
   "cell_type": "code",
   "execution_count": null,
   "metadata": {},
   "outputs": [],
   "source": [
    "#taking set of ref images\n",
    "hfws =  [400e-6, 150.0e-6]\n",
    "ref_images = acquire.take_set_of_reference_images(microscope, image_settings,hfws)\n",
    "fig = plt.figure(figsize=(10, 7))\n",
    "\n",
    "print(ref_images)\n",
    "\n",
    "fig.add_subplot(2, 2, 1)\n",
    "plt.imshow(ref_images.low_res_eb.data)\n",
    "fig.add_subplot(2, 2, 2)\n",
    "plt.imshow(ref_images.high_res_eb.data)\n",
    "fig.add_subplot(2, 2, 3)\n",
    "plt.imshow(ref_images.low_res_ib.data)\n",
    "fig.add_subplot(2, 2, 4)\n",
    "plt.imshow(ref_images.high_res_ib.data)\n",
    "\n",
    "#checking image data \n",
    "# if ref_images.low_res_eb.metadata.compare_image_settings(image_settings):\n",
    "#     print(\"Image settings are the same\")\n",
    "# print(ref_images[0].metadata.microscope_state.timestamp)\n",
    "# print(ref_images[0].metadata.version)\n",
    "\n",
    "\n",
    "assert ref_images.low_res_eb.metadata.image_settings.hfw == hfws[0], f\"hfw: {ref_images.low_res_eb.metadata.image_settings.hfw} != {hfws[0]}\"\n",
    "assert ref_images.low_res_ib.metadata.image_settings.hfw == hfws[0], f\"hfw: {ref_images.low_res_ib.metadata.image_settings.hfw} != {hfws[0]}\"\n",
    "assert ref_images.high_res_eb.metadata.image_settings.hfw == hfws[1], f\"hfw: {ref_images.high_res_eb.metadata.image_settings.hfw} != {hfws[1]}\"\n",
    "assert ref_images.high_res_ib.metadata.image_settings.hfw == hfws[1], f\"hfw: {ref_images.high_res_ib.metadata.image_settings.hfw} != {hfws[1]}\"\n"
   ]
  },
  {
   "cell_type": "markdown",
   "metadata": {},
   "source": [
    "Beam shift"
   ]
  },
  {
   "cell_type": "code",
   "execution_count": null,
   "metadata": {},
   "outputs": [],
   "source": [
    "print(\"electron: \", microscope.connection.beams.electron_beam.beam_shift.value)\n",
    "print(\"ion: \", microscope.connection.beams.ion_beam.beam_shift.value)\n",
    "\n",
    "microscope.reset_beam_shifts()\n",
    "\n",
    "print(\"electron: \", microscope.connection.beams.electron_beam.beam_shift.value)\n",
    "print(\"ion: \", microscope.connection.beams.ion_beam.beam_shift.value)\n",
    "\n",
    "assert microscope.connection.beams.electron_beam.beam_shift.value.x == 0\n",
    "assert microscope.connection.beams.electron_beam.beam_shift.value.y ==  0\n",
    "\n",
    "assert microscope.connection.beams.ion_beam.beam_shift.value.x == 0\n",
    "assert microscope.connection.beams.ion_beam.beam_shift.value.y ==  0"
   ]
  },
  {
   "cell_type": "markdown",
   "metadata": {},
   "source": [
    "Disconnect from Microscope"
   ]
  },
  {
   "cell_type": "code",
   "execution_count": null,
   "metadata": {},
   "outputs": [],
   "source": [
    "microscope.disconnect()"
   ]
  }
 ],
 "metadata": {
  "kernelspec": {
   "display_name": "Python 3.9.15 ('fibsem')",
   "language": "python",
   "name": "python3"
  },
  "language_info": {
   "codemirror_mode": {
    "name": "ipython",
    "version": 3
   },
   "file_extension": ".py",
   "mimetype": "text/x-python",
   "name": "python",
   "nbconvert_exporter": "python",
   "pygments_lexer": "ipython3",
   "version": "3.9.15"
  },
  "orig_nbformat": 4,
  "vscode": {
   "interpreter": {
    "hash": "ee1c8e441684a99ca641d4f8e0d2909961506438b67b7f4ca81e6199e1c8ed35"
   }
  }
 },
 "nbformat": 4,
 "nbformat_minor": 2
}
