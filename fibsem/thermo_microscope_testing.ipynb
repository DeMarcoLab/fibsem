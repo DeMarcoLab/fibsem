{
 "cells": [
  {
   "cell_type": "markdown",
   "metadata": {},
   "source": [
    "Testing FIBSEM Microscope overall class\n",
    "    - Testing Thermo Fisher instance of class\n",
    "    "
   ]
  },
  {
   "cell_type": "markdown",
   "metadata": {},
   "source": [
    "Importing Relevant Modules"
   ]
  },
  {
   "cell_type": "code",
   "execution_count": 3,
   "metadata": {},
   "outputs": [
    {
     "name": "stdout",
     "output_type": "stream",
     "text": [
      "The autoreload extension is already loaded. To reload it, use:\n",
      "  %reload_ext autoreload\n"
     ]
    }
   ],
   "source": [
    "%load_ext autoreload\n",
    "%autoreload 2\n",
    "\n",
    "import fibsem\n",
    "from fibsem import utils, acquire\n",
    "import fibsem.alignment as fa\n",
    "from fibsem.structures import BeamType, ImageSettings, FibsemRectangle, FibsemImage, check_data_format, FibsemStagePosition\n",
    "import matplotlib.pyplot as plt\n",
    "from fibsem import FibsemMicroscope, calibration\n",
    "import os\n",
    "import logging\n",
    "from fibsem.utils import current_timestamp, configure_logging\n",
    "from pathlib import Path\n",
    "from autoscript_sdb_microscope_client.structures import (\n",
    "    AdornedImage,\n",
    "    GrabFrameSettings,\n",
    "    Rectangle,\n",
    "    RunAutoCbSettings,\n",
    ")"
   ]
  },
  {
   "cell_type": "markdown",
   "metadata": {},
   "source": [
    "Importing settings from config"
   ]
  },
  {
   "cell_type": "code",
   "execution_count": 4,
   "metadata": {},
   "outputs": [],
   "source": [
    "settings = utils.load_settings_from_config()\n"
   ]
  },
  {
   "cell_type": "markdown",
   "metadata": {},
   "source": []
  },
  {
   "attachments": {},
   "cell_type": "markdown",
   "metadata": {},
   "source": [
    "# Testing Milling "
   ]
  },
  {
   "cell_type": "code",
   "execution_count": 5,
   "metadata": {},
   "outputs": [
    {
     "name": "stdout",
     "output_type": "stream",
     "text": [
      "2023-01-31 14:27:35,458 — root — INFO — setup_session:162 — Finished setup for session: demo_2023-01-31-02-27-35PM\n"
     ]
    }
   ],
   "source": [
    "microscope, settings = utils.setup_session()"
   ]
  },
  {
   "cell_type": "code",
   "execution_count": null,
   "metadata": {},
   "outputs": [],
   "source": [
    "microscope.move_flat_to_beam(beam_type=BeamType.ELECTRON)"
   ]
  },
  {
   "cell_type": "code",
   "execution_count": 5,
   "metadata": {},
   "outputs": [],
   "source": [
    "from FibsemMilling import setup_milling, run_milling, finish_milling, draw_rectangle, milling_protocol\n",
    "from structures import MillingSettings"
   ]
  },
  {
   "cell_type": "code",
   "execution_count": 7,
   "metadata": {},
   "outputs": [],
   "source": [
    "image_settings = settings.image\n",
    "image_settings.reduced_area = FibsemRectangle(0, 0, 100, 100)\n",
    "# mill_settings = MillingSettings(\n",
    "#     width = 10e-6, # 1 mm\n",
    "#     height = 10e-6, # 1 mm\n",
    "#     depth = 0.1e-6, # 1 mm\n",
    "#     rotation = 0, # radians?\n",
    "#     centre_x = 0,\n",
    "#     centre_y = 0,\n",
    "#     milling_current = 2e-9,\n",
    "#     scan_direction = \"TopToBottom\",\n",
    "#     cleaning_cross_section = False\n",
    "# )"
   ]
  },
  {
   "cell_type": "code",
   "execution_count": 10,
   "metadata": {},
   "outputs": [
    {
     "data": {
      "image/png": "[encoded data removed]",
      "text/plain": [
       "<Figure size 640x480 with 1 Axes>"
      ]
     },
     "metadata": {},
     "output_type": "display_data"
    }
   ],
   "source": [
    "eb_image = acquire.new_image(microscope, image_settings)\n",
    "image_settings.beam_type = BeamType.ION\n",
    "# ib_image = acquire.new_image(microscope, image_settings)\n",
    "\n",
    "plt.imshow(eb_image.data)\n",
    "# plt.imshow(ib_image.data)\n",
    "\n",
    "plt.show()\n"
   ]
  },
  {
   "cell_type": "code",
   "execution_count": 7,
   "metadata": {},
   "outputs": [
    {
     "name": "stdout",
     "output_type": "stream",
     "text": [
      "2023-01-24 14:35:27,923 — root — INFO — setup_milling:39 — setup ion beam milling\n",
      "2023-01-24 14:35:27,923 — root — INFO — setup_milling:40 — application file:  autolamella, pattern mode: Serial, hfw: 0.00015\n"
     ]
    }
   ],
   "source": [
    "# setup milling\n",
    "hfw = image_settings.hfw\n",
    "setup_milling(microscope, hfw=hfw, mill_settings=mill_settings)\n",
    "\n"
   ]
  },
  {
   "cell_type": "code",
   "execution_count": 8,
   "metadata": {},
   "outputs": [],
   "source": [
    "# draw patterns NOTE: Currently only implementing rectangle pattern\n",
    "draw_rectangle(microscope, mill_settings)\n",
    "\n"
   ]
  },
  {
   "cell_type": "code",
   "execution_count": 9,
   "metadata": {},
   "outputs": [
    {
     "name": "stdout",
     "output_type": "stream",
     "text": [
      " |████████████████████████████████████████████████████████████████████████████████████████████████████| 100% Finished\n"
     ]
    }
   ],
   "source": [
    "# run milling\n",
    "run_milling(microscope, mill_settings.milling_current)\n",
    "\n"
   ]
  },
  {
   "cell_type": "code",
   "execution_count": 10,
   "metadata": {},
   "outputs": [
    {
     "name": "stdout",
     "output_type": "stream",
     "text": [
      "2023-01-24 14:35:37,332 — root — INFO — finish_milling:71 — changing to imaging current: 2.00e-11\n",
      "2023-01-24 14:35:37,333 — root — INFO — finish_milling:73 — finished ion beam milling.\n"
     ]
    }
   ],
   "source": [
    "# finish milling\n",
    "finish_milling(microscope)"
   ]
  },
  {
   "cell_type": "code",
   "execution_count": 12,
   "metadata": {},
   "outputs": [
    {
     "name": "stdout",
     "output_type": "stream",
     "text": [
      "2023-01-24 14:36:35,847 — root — INFO — setup_milling:39 — setup ion beam milling\n",
      "2023-01-24 14:36:35,847 — root — INFO — setup_milling:40 — application file:  autolamella, pattern mode: Serial, hfw: 0.00015\n",
      " |████████████████████████████████████████████████████████████████████████████████████████████████████| 100% Finished\n",
      "2023-01-24 14:36:37,325 — root — INFO — finish_milling:71 — changing to imaging current: 2.00e-11\n",
      "2023-01-24 14:36:37,326 — root — INFO — finish_milling:73 — finished ion beam milling.\n"
     ]
    }
   ],
   "source": [
    "milling_protocol(microscope, image_settings, mill_settings, application_file=\"autolamella\", patterning_mode=\"Serial\")"
   ]
  },
  {
   "attachments": {},
   "cell_type": "markdown",
   "metadata": {},
   "source": [
    "# Finished Milling Testing"
   ]
  },
  {
   "cell_type": "code",
   "execution_count": 8,
   "metadata": {},
   "outputs": [
    {
     "name": "stdout",
     "output_type": "stream",
     "text": [
      "2023-01-12 13:52:24,315 — root — INFO — eucentric_move:646 — moving stage (ELECTRON): FibsemStagePosition(x=0.003, y=0.0008919563855811247, z=0.0006245545849381899, r=None, t=None, coordinate_system=None)\n"
     ]
    }
   ],
   "source": [
    "position = FibsemStagePosition(0.001, 0.0, 0.010, 0.0, 0.0)\n",
    "microscope.move_stage_absolute(position)\n",
    "\n",
    "microscope.move_stage_relative(0.003, 0.0, 0.0, 0.0, 45)\n",
    "\n",
    "microscope.eucentric_move(settings, 0.003, 0.001, BeamType.ELECTRON)"
   ]
  },
  {
   "cell_type": "code",
   "execution_count": null,
   "metadata": {},
   "outputs": [],
   "source": [
    "print(microscope.connection.SEM.Beam.GetStatus())"
   ]
  },
  {
   "cell_type": "markdown",
   "metadata": {},
   "source": [
    "Setting up for image acquisition"
   ]
  },
  {
   "cell_type": "code",
   "execution_count": null,
   "metadata": {},
   "outputs": [],
   "source": [
    "print(settings)"
   ]
  },
  {
   "cell_type": "code",
   "execution_count": null,
   "metadata": {},
   "outputs": [],
   "source": [
    "# set gamma settings\n",
    "gamma_settings = GammaSettings(\n",
    "        enabled=True,\n",
    "        min_gamma=0.5,\n",
    "        max_gamma=1.8,\n",
    "        scale_factor=0.01,\n",
    "        threshold=46,\n",
    "    )\n",
    "\n",
    "# set imaging settings\n",
    "image_settings = ImageSettings(\n",
    "        resolution=(1536,1024),\n",
    "        dwell_time=1.0e-6,\n",
    "        hfw=300.0e-6,\n",
    "        autocontrast=True,\n",
    "        beam_type=BeamType.ION,\n",
    "        gamma=gamma_settings,\n",
    "        save=True,\n",
    "        save_path=\"fibsem\\\\test_images\",\n",
    "        label=utils.current_timestamp(),\n",
    "        reduced_area=None,\n",
    "    )\n"
   ]
  },
  {
   "cell_type": "markdown",
   "metadata": {},
   "source": [
    "Autoconcrast"
   ]
  },
  {
   "cell_type": "code",
   "execution_count": null,
   "metadata": {},
   "outputs": [],
   "source": [
    "microscope.autocontrast(beam_type=image_settings.beam_type)\n",
    "microscope.autocontrast(beam_type=BeamType.ION)\n"
   ]
  },
  {
   "cell_type": "markdown",
   "metadata": {},
   "source": [
    "Take new image"
   ]
  },
  {
   "cell_type": "code",
   "execution_count": null,
   "metadata": {},
   "outputs": [],
   "source": [
    "new_image = acquire.new_image(microscope, image_settings)\n",
    "\n",
    "plt.imshow(new_image.data)\n",
    "plt.show()\n"
   ]
  },
  {
   "cell_type": "markdown",
   "metadata": {},
   "source": [
    "Checks"
   ]
  },
  {
   "cell_type": "code",
   "execution_count": null,
   "metadata": {},
   "outputs": [],
   "source": [
    "assert isinstance(new_image, FibsemImage)\n",
    "assert check_data_format(new_image.data)\n",
    "\n",
    "assert new_image.metadata.compare_image_settings(image_settings)\n",
    "assert new_image.metadata.version == 'v1'\n",
    "assert os.path.exists(f\"{os.path.join(image_settings.save_path, image_settings.label)}_eb.tif\")\n",
    "#assert new_image.metadata.microscope_state.absolute_position == microscope.get_stage_position()\n",
    "\n",
    "print(new_image.metadata.microscope_state)"
   ]
  },
  {
   "cell_type": "markdown",
   "metadata": {},
   "source": [
    "Take last image"
   ]
  },
  {
   "cell_type": "code",
   "execution_count": null,
   "metadata": {},
   "outputs": [],
   "source": [
    "label = f\"{image_settings.label}_last\"\n",
    "\n",
    "last_image = microscope.last_image(image_settings.beam_type)\n",
    "\n",
    "plt.imshow(last_image.data)\n",
    "plt.show()\n",
    "\n",
    "if image_settings.save:\n",
    "    filename = os.path.join(image_settings.save_path, label)\n",
    "    last_image.save(save_path=filename)\n"
   ]
  },
  {
   "cell_type": "markdown",
   "metadata": {},
   "source": [
    "Checks"
   ]
  },
  {
   "cell_type": "code",
   "execution_count": null,
   "metadata": {},
   "outputs": [],
   "source": [
    "# assert isinstance(last_image, FibsemImage)\n",
    "assert check_data_format(last_image.data)\n",
    "\n",
    "\n",
    "# assert last_image.metadata.compare_image_settings(image_settings) # TODO: FIX THIS, different than img settings\n",
    "assert last_image.metadata.version == 'v1'\n",
    "assert os.path.exists(f\"{filename}.tif\")\n",
    "\n",
    "print(last_image.metadata.microscope_state)"
   ]
  },
  {
   "cell_type": "code",
   "execution_count": null,
   "metadata": {},
   "outputs": [],
   "source": [
    "params = microscope.connection.FIB.Optics.EnumParameters()\n",
    "print(new_image.metadata.microscope_state.ib_settings.working_distance)\n",
    "print(microscope.connection.FIB.Optics.Get(1))\n",
    "print(params)\n",
    "print(params.find('Working Distance'))\n"
   ]
  },
  {
   "cell_type": "code",
   "execution_count": null,
   "metadata": {},
   "outputs": [],
   "source": [
    "# find index\n",
    "split_params = params.split(\"\\n\")\n",
    "for i, word in enumerate(split_params):\n",
    "    if \"Working Distance\" in word:\n",
    "        idx = int(word.split(\".\")[1])\n",
    "        count = int(split_params[i+1].split(\"=\")[-1]) - 1\n",
    "        unit = split_params[i+2].split(\"=\")[-1]\n",
    "# get index\n",
    "print(count)\n",
    "wd = microscope.connection.FIB.Optics.Get(idx)[count]\n",
    "\n",
    "print(f\"wd: {wd}{unit}\")\n",
    "\n"
   ]
  },
  {
   "cell_type": "markdown",
   "metadata": {},
   "source": [
    "Take reference images"
   ]
  },
  {
   "cell_type": "code",
   "execution_count": null,
   "metadata": {},
   "outputs": [],
   "source": [
    "#taking set of ref images\n",
    "hfws =  [400e-6, 150.0e-6]\n",
    "ref_images = acquire.take_set_of_reference_images(microscope, image_settings,hfws)\n",
    "fig = plt.figure(figsize=(10, 7))\n",
    "\n",
    "print(ref_images)\n",
    "\n",
    "fig.add_subplot(2, 2, 1)\n",
    "plt.imshow(ref_images.low_res_eb.data)\n",
    "fig.add_subplot(2, 2, 2)\n",
    "plt.imshow(ref_images.high_res_eb.data)\n",
    "fig.add_subplot(2, 2, 3)\n",
    "plt.imshow(ref_images.low_res_ib.data)\n",
    "fig.add_subplot(2, 2, 4)\n",
    "plt.imshow(ref_images.high_res_ib.data)\n",
    "\n",
    "#checking image data \n",
    "# if ref_images.low_res_eb.metadata.compare_image_settings(image_settings):\n",
    "#     print(\"Image settings are the same\")\n",
    "# print(ref_images[0].metadata.microscope_state.timestamp)\n",
    "# print(ref_images[0].metadata.version)\n",
    "\n",
    "\n",
    "assert ref_images.low_res_eb.metadata.image_settings.hfw == hfws[0], f\"hfw: {ref_images.low_res_eb.metadata.image_settings.hfw} != {hfws[0]}\"\n",
    "assert ref_images.low_res_ib.metadata.image_settings.hfw == hfws[0], f\"hfw: {ref_images.low_res_ib.metadata.image_settings.hfw} != {hfws[0]}\"\n",
    "assert ref_images.high_res_eb.metadata.image_settings.hfw == hfws[1], f\"hfw: {ref_images.high_res_eb.metadata.image_settings.hfw} != {hfws[1]}\"\n",
    "assert ref_images.high_res_ib.metadata.image_settings.hfw == hfws[1], f\"hfw: {ref_images.high_res_ib.metadata.image_settings.hfw} != {hfws[1]}\"\n"
   ]
  },
  {
   "cell_type": "markdown",
   "metadata": {},
   "source": [
    "Beam shift"
   ]
  },
  {
   "cell_type": "code",
   "execution_count": null,
   "metadata": {},
   "outputs": [],
   "source": [
    "print(\"electron: \", microscope.connection.beams.electron_beam.beam_shift.value)\n",
    "print(\"ion: \", microscope.connection.beams.ion_beam.beam_shift.value)\n",
    "\n",
    "microscope.reset_beam_shifts()\n",
    "\n",
    "print(\"electron: \", microscope.connection.beams.electron_beam.beam_shift.value)\n",
    "print(\"ion: \", microscope.connection.beams.ion_beam.beam_shift.value)\n",
    "\n",
    "assert microscope.connection.beams.electron_beam.beam_shift.value.x == 0\n",
    "assert microscope.connection.beams.electron_beam.beam_shift.value.y ==  0\n",
    "\n",
    "assert microscope.connection.beams.ion_beam.beam_shift.value.x == 0\n",
    "assert microscope.connection.beams.ion_beam.beam_shift.value.y ==  0"
   ]
  },
  {
   "cell_type": "markdown",
   "metadata": {},
   "source": [
    "Disconnect from Microscope"
   ]
  },
  {
   "cell_type": "code",
   "execution_count": null,
   "metadata": {},
   "outputs": [],
   "source": [
    "microscope.disconnect()"
   ]
  }
 ],
 "metadata": {
  "kernelspec": {
   "display_name": "NeoNatal",
   "language": "python",
   "name": "python3"
  },
  "language_info": {
   "codemirror_mode": {
    "name": "ipython",
    "version": 3
   },
   "file_extension": ".py",
   "mimetype": "text/x-python",
   "name": "python",
   "nbconvert_exporter": "python",
   "pygments_lexer": "ipython3",
   "version": "3.9.7 (default, Sep 16 2021, 16:59:28) [MSC v.1916 64 bit (AMD64)]"
  },
  "orig_nbformat": 4,
  "vscode": {
   "interpreter": {
    "hash": "97983a1f55ac8c945a7564dc43df09ede4f0c80976c4907f206dbe2c90ffe8f9"
   }
  }
 },
 "nbformat": 4,
 "nbformat_minor": 2
}
