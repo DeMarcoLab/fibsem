{
 "cells": [
  {
   "cell_type": "markdown",
   "metadata": {},
   "source": [
    "Testing FIBSEM Microscope overall class\n",
    "    - Testing Thermo Fisher instance of class\n",
    "    "
   ]
  },
  {
   "cell_type": "markdown",
   "metadata": {},
   "source": [
    "Importing Relevant Modules"
   ]
  },
  {
   "cell_type": "code",
   "execution_count": null,
   "metadata": {},
   "outputs": [],
   "source": [
    "%load_ext autoreload\n",
    "%autoreload 2\n",
    "\n",
    "from fibsem import utils, acquire\n",
    "import fibsem.alignment as fa\n",
    "from fibsem.structures import BeamType, ImageSettings, GammaSettings, FibsemRectangle, FibsemImage, check_data_format\n",
    "import matplotlib.pyplot as plt\n",
    "from fibsem import FibsemMicroscope, calibration\n",
    "import os\n",
    "import logging\n",
    "from fibsem.utils import current_timestamp, configure_logging\n",
    "from pathlib import Path\n",
    "from autoscript_sdb_microscope_client.structures import (\n",
    "    AdornedImage,\n",
    "    GrabFrameSettings,\n",
    "    Rectangle,\n",
    "    RunAutoCbSettings,\n",
    ")"
   ]
  },
  {
   "cell_type": "markdown",
   "metadata": {},
   "source": [
    "Importing settings from config"
   ]
  },
  {
   "cell_type": "code",
   "execution_count": null,
   "metadata": {},
   "outputs": [],
   "source": [
    "settings = utils.load_settings_from_config()\n"
   ]
  },
  {
   "cell_type": "markdown",
   "metadata": {},
   "source": [
    "Testing Setup "
   ]
  },
  {
   "cell_type": "code",
   "execution_count": null,
   "metadata": {},
   "outputs": [],
   "source": [
    "microscope, settings = utils.setup_session()"
   ]
  },
  {
   "cell_type": "markdown",
   "metadata": {},
   "source": [
    "Setting up for image acquisition"
   ]
  },
  {
   "cell_type": "code",
   "execution_count": null,
   "metadata": {},
   "outputs": [],
   "source": [
    "print(settings)"
   ]
  },
  {
   "cell_type": "code",
   "execution_count": null,
   "metadata": {},
   "outputs": [],
   "source": [
    "# set gamma settings\n",
    "gamma_settings = GammaSettings(\n",
    "        enabled=True,\n",
    "        min_gamma=0.5,\n",
    "        max_gamma=1.8,\n",
    "        scale_factor=0.01,\n",
    "        threshold=46,\n",
    "    )\n",
    "\n",
    "# set imaging settings\n",
    "image_settings = ImageSettings(\n",
    "        resolution=\"1536x1024\",\n",
    "        dwell_time=1.0e-6,\n",
    "        hfw=150.0e-6,\n",
    "        autocontrast=True,\n",
    "        beam_type=BeamType.ELECTRON,\n",
    "        gamma=gamma_settings,\n",
    "        save=True,\n",
    "        save_path=\"fibsem\\\\test_images\",\n",
    "        label=utils.current_timestamp(),\n",
    "        reduced_area=None,\n",
    "    )\n",
    "\n",
    "frame_settings = GrabFrameSettings(\n",
    "    resolution=image_settings.resolution,\n",
    "    dwell_time=image_settings.dwell_time,\n",
    "    reduced_area=image_settings.reduced_area,\n",
    ")\n",
    "\n",
    " # set label\n",
    "if image_settings.beam_type is BeamType.ELECTRON:\n",
    "    label = f\"{image_settings.label}_eb\"\n",
    "\n",
    "if image_settings.beam_type is BeamType.ION:\n",
    "    label = f\"{image_settings.label}_ib\""
   ]
  },
  {
   "cell_type": "markdown",
   "metadata": {},
   "source": [
    "Autoconcrast"
   ]
  },
  {
   "cell_type": "code",
   "execution_count": null,
   "metadata": {},
   "outputs": [],
   "source": [
    "microscope.autocontrast(beam_type=image_settings.beam_type)\n",
    "microscope.autocontrast(beam_type=BeamType.ION)\n"
   ]
  },
  {
   "cell_type": "markdown",
   "metadata": {},
   "source": [
    "Take new image"
   ]
  },
  {
   "cell_type": "code",
   "execution_count": null,
   "metadata": {},
   "outputs": [],
   "source": [
    "new_image = microscope.acquire_image(frame_settings, image_settings)\n",
    "# apply gamma correction\n",
    "if image_settings.gamma.enabled:\n",
    "    image = acquire.auto_gamma(new_image, image_settings.gamma)\n",
    "\n",
    "plt.imshow(new_image.data)\n",
    "plt.show()\n",
    "\n",
    "# save image\n",
    "if image_settings.save:\n",
    "    filename = os.path.join(image_settings.save_path, label)\n",
    "    image.save(save_path=filename)\n",
    "    print(\"Image saved\")"
   ]
  },
  {
   "cell_type": "markdown",
   "metadata": {},
   "source": [
    "Checks"
   ]
  },
  {
   "cell_type": "code",
   "execution_count": null,
   "metadata": {},
   "outputs": [],
   "source": [
    "assert isinstance(new_image, FibsemImage)\n",
    "check_data_format(new_image.data)\n",
    "\n",
    "assert new_image.metadata.compare_image_settings(image_settings)\n",
    "assert new_image.metadata.version == 'v1'\n",
    "assert os.path.exists(f\"{filename}.tif\")\n",
    "\n",
    "print(new_image.metadata.microscope_state)"
   ]
  },
  {
   "cell_type": "markdown",
   "metadata": {},
   "source": [
    "Take last image"
   ]
  },
  {
   "cell_type": "code",
   "execution_count": null,
   "metadata": {},
   "outputs": [],
   "source": [
    "label = f\"{image_settings.label}_last\"\n",
    "\n",
    "last_image = microscope.last_image(image_settings.beam_type)\n",
    "\n",
    "plt.imshow(last_image.data)\n",
    "plt.show()\n",
    "\n",
    "if image_settings.save:\n",
    "    filename = os.path.join(image_settings.save_path, label)\n",
    "    image.save(save_path=filename)\n"
   ]
  },
  {
   "cell_type": "markdown",
   "metadata": {},
   "source": [
    "Checks"
   ]
  },
  {
   "cell_type": "code",
   "execution_count": null,
   "metadata": {},
   "outputs": [],
   "source": [
    "assert isinstance(last_image, FibsemImage)\n",
    "check_data_format(last_image.data)\n",
    "\n",
    "assert last_image.metadata.compare_image_settings(image_settings)\n",
    "assert last_image.metadata.version == 'v1'\n",
    "assert os.path.exists(f\"{filename}.tif\")\n",
    "\n",
    "print(last_image.metadata.microscope_state)"
   ]
  },
  {
   "cell_type": "markdown",
   "metadata": {},
   "source": [
    "Beam shift"
   ]
  },
  {
   "cell_type": "code",
   "execution_count": null,
   "metadata": {},
   "outputs": [],
   "source": [
    "print(\"electron: \", microscope.connection.beams.electron_beam.beam_shift.value)\n",
    "print(\"ion: \", microscope.connection.beams.ion_beam.beam_shift.value)\n",
    "\n",
    "microscope.reset_beam_shifts()\n",
    "\n",
    "print(\"electron: \", microscope.connection.beams.electron_beam.beam_shift.value)\n",
    "print(\"ion: \", microscope.connection.beams.ion_beam.beam_shift.value)\n",
    "\n",
    "assert microscope.connection.beams.electron_beam.beam_shift.value.x == 0\n",
    "assert microscope.connection.beams.electron_beam.beam_shift.value.y ==  0\n",
    "\n",
    "assert microscope.connection.beams.ion_beam.beam_shift.value.x == 0\n",
    "assert microscope.connection.beams.ion_beam.beam_shift.value.y ==  0"
   ]
  },
  {
   "cell_type": "markdown",
   "metadata": {},
   "source": [
    "Disconnect from Microscope"
   ]
  },
  {
   "cell_type": "code",
   "execution_count": null,
   "metadata": {},
   "outputs": [],
   "source": [
    "microscope.disconnect()"
   ]
  }
 ],
 "metadata": {
  "kernelspec": {
   "display_name": "Python 3.9.13 ('fibsem')",
   "language": "python",
   "name": "python3"
  },
  "language_info": {
   "codemirror_mode": {
    "name": "ipython",
    "version": 3
   },
   "file_extension": ".py",
   "mimetype": "text/x-python",
   "name": "python",
   "nbconvert_exporter": "python",
   "pygments_lexer": "ipython3",
   "version": "3.9.13"
  },
  "orig_nbformat": 4,
  "vscode": {
   "interpreter": {
    "hash": "0a2a3e79b4f176c2e070ce876a1bd3ff6703a5f7b6def63010d7eaaf622b9192"
   }
  }
 },
 "nbformat": 4,
 "nbformat_minor": 2
}
