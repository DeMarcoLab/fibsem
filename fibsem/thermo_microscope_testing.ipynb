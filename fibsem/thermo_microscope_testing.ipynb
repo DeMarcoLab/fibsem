{
 "cells": [
  {
   "cell_type": "markdown",
   "metadata": {},
   "source": [
    "Testing FIBSEM Microscope overall class\n",
    "    - Testing Thermo Fisher instance of class\n",
    "    "
   ]
  },
  {
   "cell_type": "markdown",
   "metadata": {},
   "source": [
    "Importing Relevant Modules"
   ]
  },
  {
   "cell_type": "code",
   "execution_count": null,
   "metadata": {},
   "outputs": [],
   "source": [
    "%load_ext autoreload\n",
    "%autoreload 2\n",
    "\n",
    "from fibsem import utils, acquire\n",
    "import fibsem.alignment as fa\n",
    "from fibsem.structures import BeamType, ImageSettings, GammaSettings, FibsemRectangle, FibsemImage\n",
    "import matplotlib.pyplot as plt\n",
    "from fibsem import FibsemMicroscope\n",
    "import os\n",
    "import logging\n",
    "from fibsem.utils import current_timestamp, configure_logging\n",
    "from typing import Path\n",
    "from autoscript_sdb_microscope_client.structures import (\n",
    "    AdornedImage,\n",
    "    GrabFrameSettings,\n",
    "    Rectangle,\n",
    "    RunAutoCbSettings,\n",
    ")"
   ]
  },
  {
   "cell_type": "markdown",
   "metadata": {},
   "source": [
    "Importing settings from config"
   ]
  },
  {
   "cell_type": "code",
   "execution_count": null,
   "metadata": {},
   "outputs": [],
   "source": [
    "settings = utils.load_settings_from_config()\n"
   ]
  },
  {
   "cell_type": "code",
   "execution_count": null,
   "metadata": {},
   "outputs": [],
   "source": [
    "session_path: Path = None,\n",
    "config_path: Path = None,\n",
    "protocol_path: Path = None,\n",
    "setup_logging: bool = True,"
   ]
  },
  {
   "cell_type": "code",
   "execution_count": null,
   "metadata": {},
   "outputs": [],
   "source": [
    "session = f'{settings.protocol[\"name\"]}_{current_timestamp()}'\n",
    "if protocol_path is None:\n",
    "    protocol_path = os.getcwd()\n",
    "\n",
    "# configure paths\n",
    "if session_path is None:\n",
    "    session_path = os.path.join(os.path.dirname(protocol_path), session)\n",
    "os.makedirs(session_path, exist_ok=True)\n",
    "\n",
    "# configure logging\n",
    "if setup_logging:\n",
    "    configure_logging(session_path)\n",
    "\n",
    "\n",
    "# image_setttings\n",
    "settings.image.save_path = session_path\n",
    "\n",
    "logging.info(f\"Finished setup for session: {session}\")"
   ]
  },
  {
   "cell_type": "markdown",
   "metadata": {},
   "source": [
    "Initialising a microscope instance (Thermo Fisher Microscope)"
   ]
  },
  {
   "cell_type": "code",
   "execution_count": null,
   "metadata": {},
   "outputs": [],
   "source": [
    "microscope = FibsemMicroscope.ThermoMicroscope()"
   ]
  },
  {
   "cell_type": "markdown",
   "metadata": {},
   "source": [
    "Testing Connection "
   ]
  },
  {
   "cell_type": "code",
   "execution_count": null,
   "metadata": {},
   "outputs": [],
   "source": [
    "microscope.connect()"
   ]
  },
  {
   "cell_type": "markdown",
   "metadata": {},
   "source": [
    "Setting up for image acquisition"
   ]
  },
  {
   "cell_type": "code",
   "execution_count": null,
   "metadata": {},
   "outputs": [],
   "source": [
    "# set gamma settings\n",
    "gamma_settings = GammaSettings(\n",
    "        enabled=True,\n",
    "        min_gamma=0.5,\n",
    "        max_gamma=1.8,\n",
    "        scale_factor=0.01,\n",
    "        threshold=46,\n",
    "    )\n",
    "\n",
    "# set imaging settings\n",
    "image_settings = ImageSettings(\n",
    "        resolution=\"1536x1024\",\n",
    "        dwell_time=1.0e-6,\n",
    "        hfw=150.0e-6,\n",
    "        autocontrast=True,\n",
    "        beam_type=BeamType.ELECTRON,\n",
    "        gamma=gamma_settings,\n",
    "        save=False,\n",
    "        save_path=\"path\",\n",
    "        label=\"label\",\n",
    "        reduced_area=None,\n",
    "    )\n",
    "\n",
    "frame_settings = GrabFrameSettings(\n",
    "    resolution=image_settings.resolution,\n",
    "    dwell_time=image_settings.dwell_time,\n",
    "    reduced_area=image_settings.reduced_area,\n",
    ")\n",
    "\n",
    " # set label\n",
    "if image_settings.beam_type is BeamType.ELECTRON:\n",
    "    label = f\"{settings.label}_eb\"\n",
    "\n",
    "if image_settings.beam_type is BeamType.ION:\n",
    "    label = f\"{settings.label}_ib\""
   ]
  },
  {
   "cell_type": "markdown",
   "metadata": {},
   "source": [
    "Autoconcrast"
   ]
  },
  {
   "cell_type": "code",
   "execution_count": null,
   "metadata": {},
   "outputs": [],
   "source": [
    "microscope.autocontrast(beam_type=image_settings.beam_type)"
   ]
  },
  {
   "cell_type": "markdown",
   "metadata": {},
   "source": [
    "Take new image"
   ]
  },
  {
   "cell_type": "code",
   "execution_count": null,
   "metadata": {},
   "outputs": [],
   "source": [
    "new_image = microscope.acquire_image(frame_settings, image_settings)\n",
    "# apply gamma correction\n",
    "if settings.gamma.enabled:\n",
    "    image = acquire.auto_gamma(new_image, settings.gamma)\n",
    "\n",
    "plt.imshow(new_image.data)\n",
    "plt.show()"
   ]
  },
  {
   "cell_type": "markdown",
   "metadata": {},
   "source": [
    "Take last image"
   ]
  },
  {
   "cell_type": "code",
   "execution_count": null,
   "metadata": {},
   "outputs": [],
   "source": [
    "new_image = microscope.last_image(image_settings.beam_type.value)\n",
    "\n",
    "plt.imshow(new_image.data)\n",
    "plt.show()"
   ]
  }
 ],
 "metadata": {
  "kernelspec": {
   "display_name": "Python 3.9.13",
   "language": "python",
   "name": "python3"
  },
  "language_info": {
   "name": "python",
   "version": "3.9.13"
  },
  "orig_nbformat": 4,
  "vscode": {
   "interpreter": {
    "hash": "dfd385977d9ccdc365b7fa138fb5baebfcc47440065f7b0362d539c2851e81a2"
   }
  }
 },
 "nbformat": 4,
 "nbformat_minor": 2
}
