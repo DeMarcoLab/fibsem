{
 "cells": [
  {
   "cell_type": "markdown",
   "metadata": {},
   "source": [
    "Testing FIBSEM Microscope overall class\n",
    "    - Testing Thermo Fisher instance of class\n",
    "    "
   ]
  },
  {
   "cell_type": "markdown",
   "metadata": {},
   "source": [
    "Importing Relevant Modules"
   ]
  },
  {
   "cell_type": "code",
   "execution_count": 1,
   "metadata": {},
   "outputs": [],
   "source": [
    "%load_ext autoreload\n",
    "%autoreload 2\n",
    "\n",
    "import fibsem\n",
    "from fibsem import utils, acquire\n",
    "import fibsem.alignment as fa\n",
    "from fibsem.structures import BeamType, ImageSettings, GammaSettings, FibsemRectangle, FibsemImage, check_data_format\n",
    "import matplotlib.pyplot as plt\n",
    "from fibsem import FibsemMicroscope, calibration\n",
    "import os\n",
    "import logging\n",
    "from fibsem.utils import current_timestamp, configure_logging\n",
    "from pathlib import Path\n",
    "from autoscript_sdb_microscope_client.structures import (\n",
    "    AdornedImage,\n",
    "    GrabFrameSettings,\n",
    "    Rectangle,\n",
    "    RunAutoCbSettings,\n",
    ")"
   ]
  },
  {
   "cell_type": "markdown",
   "metadata": {},
   "source": [
    "Importing settings from config"
   ]
  },
  {
   "cell_type": "code",
   "execution_count": 2,
   "metadata": {},
   "outputs": [],
   "source": [
    "settings = utils.load_settings_from_config()\n"
   ]
  },
  {
   "cell_type": "markdown",
   "metadata": {},
   "source": []
  },
  {
   "cell_type": "markdown",
   "metadata": {},
   "source": [
    "Testing Setup "
   ]
  },
  {
   "cell_type": "code",
   "execution_count": 3,
   "metadata": {},
   "outputs": [
    {
     "name": "stdout",
     "output_type": "stream",
     "text": [
      "2022-12-07 13:52:34,722 — root — INFO — setup_session:284 — Finished setup for session: demo_2022-12-07-01-52-34PM\n"
     ]
    }
   ],
   "source": [
    "microscope, settings = utils.setup_session()"
   ]
  },
  {
   "cell_type": "code",
   "execution_count": null,
   "metadata": {},
   "outputs": [],
   "source": [
    "print(microscope.connection.SEM.Beam.GetStatus())"
   ]
  },
  {
   "cell_type": "code",
   "execution_count": null,
   "metadata": {},
   "outputs": [],
   "source": [
    "microscope.disconnect()"
   ]
  },
  {
   "cell_type": "markdown",
   "metadata": {},
   "source": [
    "Setting up for image acquisition"
   ]
  },
  {
   "cell_type": "code",
   "execution_count": null,
   "metadata": {},
   "outputs": [],
   "source": [
    "print(settings)"
   ]
  },
  {
   "cell_type": "code",
   "execution_count": 4,
   "metadata": {},
   "outputs": [],
   "source": [
    "# set gamma settings\n",
    "gamma_settings = GammaSettings(\n",
    "        enabled=True,\n",
    "        min_gamma=0.5,\n",
    "        max_gamma=1.8,\n",
    "        scale_factor=0.01,\n",
    "        threshold=46,\n",
    "    )\n",
    "\n",
    "# set imaging settings\n",
    "image_settings = ImageSettings(\n",
    "        resolution=\"1536x1024\",\n",
    "        dwell_time=1.0e-6,\n",
    "        hfw=150.0e-6,\n",
    "        autocontrast=True,\n",
    "        beam_type=BeamType.ELECTRON,\n",
    "        gamma=gamma_settings,\n",
    "        save=True,\n",
    "        save_path=\"fibsem\\\\test_images\",\n",
    "        label=utils.current_timestamp(),\n",
    "        reduced_area=None,\n",
    "    )\n"
   ]
  },
  {
   "cell_type": "markdown",
   "metadata": {},
   "source": [
    "Autoconcrast"
   ]
  },
  {
   "cell_type": "code",
   "execution_count": null,
   "metadata": {},
   "outputs": [],
   "source": [
    "microscope.autocontrast(beam_type=image_settings.beam_type)\n",
    "microscope.autocontrast(beam_type=BeamType.ION)\n"
   ]
  },
  {
   "cell_type": "markdown",
   "metadata": {},
   "source": [
    "Take new image"
   ]
  },
  {
   "cell_type": "code",
   "execution_count": 20,
   "metadata": {},
   "outputs": [
    {
     "ename": "KeyError",
     "evalue": "'Main'",
     "output_type": "error",
     "traceback": [
      "\u001b[1;31m---------------------------------------------------------------------------\u001b[0m",
      "\u001b[1;31mKeyError\u001b[0m                                  Traceback (most recent call last)",
      "Cell \u001b[1;32mIn[20], line 1\u001b[0m\n\u001b[1;32m----> 1\u001b[0m new_image \u001b[39m=\u001b[39m acquire\u001b[39m.\u001b[39;49mnew_image(microscope, image_settings)\n\u001b[0;32m      3\u001b[0m plt\u001b[39m.\u001b[39mimshow(new_image\u001b[39m.\u001b[39mdata)\n\u001b[0;32m      4\u001b[0m plt\u001b[39m.\u001b[39mshow()\n",
      "File \u001b[1;32m~\\Desktop\\fibsem\\fibsem\\acquire.py:221\u001b[0m, in \u001b[0;36mnew_image\u001b[1;34m(microscope, settings, reduced_area)\u001b[0m\n\u001b[0;32m    218\u001b[0m     microscope\u001b[39m.\u001b[39mautocontrast(beam_type\u001b[39m=\u001b[39msettings\u001b[39m.\u001b[39mbeam_type)\n\u001b[0;32m    220\u001b[0m \u001b[39m# acquire the image\u001b[39;00m\n\u001b[1;32m--> 221\u001b[0m image \u001b[39m=\u001b[39m microscope\u001b[39m.\u001b[39;49macquire_image(\n\u001b[0;32m    222\u001b[0m     image_settings\u001b[39m=\u001b[39;49msettings,\n\u001b[0;32m    223\u001b[0m )\n\u001b[0;32m    225\u001b[0m \u001b[39m# apply gamma correction\u001b[39;00m\n\u001b[0;32m    226\u001b[0m \u001b[39mif\u001b[39;00m settings\u001b[39m.\u001b[39mgamma\u001b[39m.\u001b[39menabled:\n",
      "File \u001b[1;32m~\\Desktop\\fibsem\\fibsem\\FibsemMicroscope.py:230\u001b[0m, in \u001b[0;36mTescanMicroscope.acquire_image\u001b[1;34m(self, image_settings)\u001b[0m\n\u001b[0;32m    226\u001b[0m \u001b[39mdef\u001b[39;00m \u001b[39macquire_image\u001b[39m(\n\u001b[0;32m    227\u001b[0m     \u001b[39mself\u001b[39m, image_settings\u001b[39m=\u001b[39mImageSettings\n\u001b[0;32m    228\u001b[0m ) \u001b[39m-\u001b[39m\u001b[39m>\u001b[39m FibsemImage:\n\u001b[0;32m    229\u001b[0m     \u001b[39mif\u001b[39;00m image_settings\u001b[39m.\u001b[39mbeam_type\u001b[39m.\u001b[39mvalue \u001b[39m==\u001b[39m \u001b[39m1\u001b[39m:\n\u001b[1;32m--> 230\u001b[0m         image \u001b[39m=\u001b[39m \u001b[39mself\u001b[39;49m\u001b[39m.\u001b[39;49m_get_eb_image(image_settings)\n\u001b[0;32m    231\u001b[0m     \u001b[39mif\u001b[39;00m image_settings\u001b[39m.\u001b[39mbeam_type\u001b[39m.\u001b[39mvalue \u001b[39m==\u001b[39m \u001b[39m2\u001b[39m:\n\u001b[0;32m    232\u001b[0m         image \u001b[39m=\u001b[39m \u001b[39mself\u001b[39m\u001b[39m.\u001b[39m_get_ib_image(image_settings)\n",
      "File \u001b[1;32m~\\Desktop\\fibsem\\fibsem\\FibsemMicroscope.py:276\u001b[0m, in \u001b[0;36mTescanMicroscope._get_eb_image\u001b[1;34m(self, image_settings)\u001b[0m\n\u001b[0;32m    254\u001b[0m microscope_state \u001b[39m=\u001b[39m MicroscopeState(\n\u001b[0;32m    255\u001b[0m     timestamp\u001b[39m=\u001b[39m datetime\u001b[39m.\u001b[39mdatetime\u001b[39m.\u001b[39mtimestamp(datetime\u001b[39m.\u001b[39mdatetime\u001b[39m.\u001b[39mnow()),\n\u001b[0;32m    256\u001b[0m     absolute_position\u001b[39m=\u001b[39m FibsemStagePosition(\n\u001b[1;32m   (...)\u001b[0m\n\u001b[0;32m    272\u001b[0m     ib_settings \u001b[39m=\u001b[39m BeamSettings(beam_type\u001b[39m=\u001b[39mBeamType\u001b[39m.\u001b[39mION)\n\u001b[0;32m    273\u001b[0m )\n\u001b[0;32m    275\u001b[0m \u001b[39m#fibsem_image = FibsemImage(np.array(image.Image))\u001b[39;00m\n\u001b[1;32m--> 276\u001b[0m fibsem_image \u001b[39m=\u001b[39m FibsemImage\u001b[39m.\u001b[39mfromTescanImage(image, image_settings, microscope_state)\n\u001b[0;32m    278\u001b[0m fibsem_image\u001b[39m.\u001b[39mmetadata\u001b[39m.\u001b[39mcompare_image_settings(image_settings)\n\u001b[0;32m    279\u001b[0m \u001b[39mprint\u001b[39m(\u001b[39m\"\u001b[39m\u001b[39mbla\u001b[39m\u001b[39m\"\u001b[39m)\n",
      "File \u001b[1;32m~\\Desktop\\fibsem\\fibsem\\structures.py:809\u001b[0m, in \u001b[0;36mFibsemImage.fromTescanImage\u001b[1;34m(cls, image, image_settings, state)\u001b[0m\n\u001b[0;32m    791\u001b[0m \u001b[39m@classmethod\u001b[39m\n\u001b[0;32m    792\u001b[0m \u001b[39mdef\u001b[39;00m \u001b[39mfromTescanImage\u001b[39m(\n\u001b[0;32m    793\u001b[0m     \u001b[39mcls\u001b[39m,\n\u001b[1;32m   (...)\u001b[0m\n\u001b[0;32m    796\u001b[0m     state: MicroscopeState,\n\u001b[0;32m    797\u001b[0m ) \u001b[39m-\u001b[39m\u001b[39m>\u001b[39m \u001b[39m\"\u001b[39m\u001b[39mFibsemImage\u001b[39m\u001b[39m\"\u001b[39m:\n\u001b[0;32m    798\u001b[0m     \u001b[39m\"\"\"Creates FibsemImage from an AdornedImage (microscope output format).\u001b[39;00m\n\u001b[0;32m    799\u001b[0m \n\u001b[0;32m    800\u001b[0m \u001b[39m    Args:\u001b[39;00m\n\u001b[1;32m   (...)\u001b[0m\n\u001b[0;32m    805\u001b[0m \u001b[39m        FibsemImage: instance of FibsemImage from AdornedImage\u001b[39;00m\n\u001b[0;32m    806\u001b[0m \u001b[39m    \"\"\"\u001b[39;00m\n\u001b[0;32m    808\u001b[0m     pixel_size \u001b[39m=\u001b[39m Point(\n\u001b[1;32m--> 809\u001b[0m         \u001b[39mfloat\u001b[39m(image\u001b[39m.\u001b[39;49mHeader[\u001b[39m\"\u001b[39;49m\u001b[39mMain\u001b[39;49m\u001b[39m\"\u001b[39;49m][\u001b[39m\"\u001b[39m\u001b[39mPixelSizeX\u001b[39m\u001b[39m\"\u001b[39m]),\n\u001b[0;32m    810\u001b[0m         \u001b[39mfloat\u001b[39m(image\u001b[39m.\u001b[39mHeader[\u001b[39m\"\u001b[39m\u001b[39mMain\u001b[39m\u001b[39m\"\u001b[39m][\u001b[39m\"\u001b[39m\u001b[39mPixelSizeY\u001b[39m\u001b[39m\"\u001b[39m])\n\u001b[0;32m    811\u001b[0m     )\n\u001b[0;32m    812\u001b[0m     metadata \u001b[39m=\u001b[39m FibsemImageMetadata(\n\u001b[0;32m    813\u001b[0m         image_settings\u001b[39m=\u001b[39mimage_settings, pixel_size\u001b[39m=\u001b[39mpixel_size, microscope_state\u001b[39m=\u001b[39mstate\n\u001b[0;32m    814\u001b[0m     )\n\u001b[0;32m    815\u001b[0m     \u001b[39mreturn\u001b[39;00m \u001b[39mcls\u001b[39m(data\u001b[39m=\u001b[39mnp\u001b[39m.\u001b[39marray(image\u001b[39m.\u001b[39mImage), metadata\u001b[39m=\u001b[39mmetadata)\n",
      "File \u001b[1;32mc:\\Users\\lnae0002\\Anaconda3\\envs\\fibsem\\lib\\configparser.py:963\u001b[0m, in \u001b[0;36mRawConfigParser.__getitem__\u001b[1;34m(self, key)\u001b[0m\n\u001b[0;32m    961\u001b[0m \u001b[39mdef\u001b[39;00m \u001b[39m__getitem__\u001b[39m(\u001b[39mself\u001b[39m, key):\n\u001b[0;32m    962\u001b[0m     \u001b[39mif\u001b[39;00m key \u001b[39m!=\u001b[39m \u001b[39mself\u001b[39m\u001b[39m.\u001b[39mdefault_section \u001b[39mand\u001b[39;00m \u001b[39mnot\u001b[39;00m \u001b[39mself\u001b[39m\u001b[39m.\u001b[39mhas_section(key):\n\u001b[1;32m--> 963\u001b[0m         \u001b[39mraise\u001b[39;00m \u001b[39mKeyError\u001b[39;00m(key)\n\u001b[0;32m    964\u001b[0m     \u001b[39mreturn\u001b[39;00m \u001b[39mself\u001b[39m\u001b[39m.\u001b[39m_proxies[key]\n",
      "\u001b[1;31mKeyError\u001b[0m: 'Main'"
     ]
    }
   ],
   "source": [
    "new_image = acquire.new_image(microscope, image_settings)\n",
    "\n",
    "plt.imshow(new_image.data)\n",
    "plt.show()\n"
   ]
  },
  {
   "cell_type": "markdown",
   "metadata": {},
   "source": [
    "Checks"
   ]
  },
  {
   "cell_type": "code",
   "execution_count": null,
   "metadata": {},
   "outputs": [],
   "source": [
    "assert isinstance(new_image, FibsemImage)\n",
    "assert check_data_format(new_image.data)\n",
    "\n",
    "assert new_image.metadata.compare_image_settings(image_settings)\n",
    "assert new_image.metadata.version == 'v1'\n",
    "assert os.path.exists(f\"{os.path.join(image_settings.save_path, image_settings.label)}_eb.tif\")\n",
    "assert new_image.metadata.microscope_state.absolute_position == microscope.get_stage_position()\n",
    "\n",
    "print(new_image.metadata.microscope_state)"
   ]
  },
  {
   "cell_type": "markdown",
   "metadata": {},
   "source": [
    "Take last image"
   ]
  },
  {
   "cell_type": "code",
   "execution_count": null,
   "metadata": {},
   "outputs": [],
   "source": [
    "label = f\"{image_settings.label}_last\"\n",
    "\n",
    "last_image = microscope.last_image(image_settings.beam_type)\n",
    "\n",
    "plt.imshow(last_image.data)\n",
    "plt.show()\n",
    "\n",
    "if image_settings.save:\n",
    "    filename = os.path.join(image_settings.save_path, label)\n",
    "    last_image.save(save_path=filename)\n"
   ]
  },
  {
   "cell_type": "markdown",
   "metadata": {},
   "source": [
    "Checks"
   ]
  },
  {
   "cell_type": "code",
   "execution_count": null,
   "metadata": {},
   "outputs": [],
   "source": [
    "# assert isinstance(last_image, FibsemImage)\n",
    "assert check_data_format(last_image.data)\n",
    "\n",
    "\n",
    "# assert last_image.metadata.compare_image_settings(image_settings) # TODO: FIX THIS, different than img settings\n",
    "assert last_image.metadata.version == 'v1'\n",
    "assert os.path.exists(f\"{filename}.tif\")\n",
    "\n",
    "print(last_image.metadata.microscope_state)"
   ]
  },
  {
   "cell_type": "code",
   "execution_count": null,
   "metadata": {},
   "outputs": [],
   "source": [
    "\n"
   ]
  },
  {
   "cell_type": "markdown",
   "metadata": {},
   "source": [
    "Take reference images"
   ]
  },
  {
   "cell_type": "code",
   "execution_count": null,
   "metadata": {},
   "outputs": [],
   "source": [
    "#taking set of ref images\n",
    "hfws =  [400e-6, 150.0e-6]\n",
    "ref_images = acquire.take_set_of_reference_images(microscope, image_settings,hfws)\n",
    "fig = plt.figure(figsize=(10, 7))\n",
    "\n",
    "print(ref_images)\n",
    "\n",
    "fig.add_subplot(2, 2, 1)\n",
    "plt.imshow(ref_images.low_res_eb.data)\n",
    "fig.add_subplot(2, 2, 2)\n",
    "plt.imshow(ref_images.high_res_eb.data)\n",
    "fig.add_subplot(2, 2, 3)\n",
    "plt.imshow(ref_images.low_res_ib.data)\n",
    "fig.add_subplot(2, 2, 4)\n",
    "plt.imshow(ref_images.high_res_ib.data)\n",
    "\n",
    "#checking image data \n",
    "# if ref_images.low_res_eb.metadata.compare_image_settings(image_settings):\n",
    "#     print(\"Image settings are the same\")\n",
    "# print(ref_images[0].metadata.microscope_state.timestamp)\n",
    "# print(ref_images[0].metadata.version)\n",
    "\n",
    "\n",
    "assert ref_images.low_res_eb.metadata.image_settings.hfw == hfws[0], f\"hfw: {ref_images.low_res_eb.metadata.image_settings.hfw} != {hfws[0]}\"\n",
    "assert ref_images.low_res_ib.metadata.image_settings.hfw == hfws[0], f\"hfw: {ref_images.low_res_ib.metadata.image_settings.hfw} != {hfws[0]}\"\n",
    "assert ref_images.high_res_eb.metadata.image_settings.hfw == hfws[1], f\"hfw: {ref_images.high_res_eb.metadata.image_settings.hfw} != {hfws[1]}\"\n",
    "assert ref_images.high_res_ib.metadata.image_settings.hfw == hfws[1], f\"hfw: {ref_images.high_res_ib.metadata.image_settings.hfw} != {hfws[1]}\"\n"
   ]
  },
  {
   "cell_type": "markdown",
   "metadata": {},
   "source": [
    "Beam shift"
   ]
  },
  {
   "cell_type": "code",
   "execution_count": null,
   "metadata": {},
   "outputs": [],
   "source": [
    "print(\"electron: \", microscope.connection.beams.electron_beam.beam_shift.value)\n",
    "print(\"ion: \", microscope.connection.beams.ion_beam.beam_shift.value)\n",
    "\n",
    "microscope.reset_beam_shifts()\n",
    "\n",
    "print(\"electron: \", microscope.connection.beams.electron_beam.beam_shift.value)\n",
    "print(\"ion: \", microscope.connection.beams.ion_beam.beam_shift.value)\n",
    "\n",
    "assert microscope.connection.beams.electron_beam.beam_shift.value.x == 0\n",
    "assert microscope.connection.beams.electron_beam.beam_shift.value.y ==  0\n",
    "\n",
    "assert microscope.connection.beams.ion_beam.beam_shift.value.x == 0\n",
    "assert microscope.connection.beams.ion_beam.beam_shift.value.y ==  0"
   ]
  },
  {
   "cell_type": "markdown",
   "metadata": {},
   "source": [
    "Disconnect from Microscope"
   ]
  },
  {
   "cell_type": "code",
   "execution_count": null,
   "metadata": {},
   "outputs": [],
   "source": [
    "microscope.disconnect()"
   ]
  }
 ],
 "metadata": {
  "kernelspec": {
   "display_name": "Python 3.9.15 ('fibsem')",
   "language": "python",
   "name": "python3"
  },
  "language_info": {
   "codemirror_mode": {
    "name": "ipython",
    "version": 3
   },
   "file_extension": ".py",
   "mimetype": "text/x-python",
   "name": "python",
   "nbconvert_exporter": "python",
   "pygments_lexer": "ipython3",
   "version": "3.9.15"
  },
  "orig_nbformat": 4,
  "vscode": {
   "interpreter": {
    "hash": "1d9ac1935ec374efeb6f5bc205a1d2bf9478f4a0776248bf6d4eb389f65ee0fd"
   }
  }
 },
 "nbformat": 4,
 "nbformat_minor": 2
}
