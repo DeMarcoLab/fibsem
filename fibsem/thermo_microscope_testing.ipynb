{
 "cells": [
  {
   "cell_type": "markdown",
   "metadata": {},
   "source": [
    "Testing FIBSEM Microscope overall class\n",
    "    - Testing Thermo Fisher instance of class\n",
    "    "
   ]
  },
  {
   "cell_type": "markdown",
   "metadata": {},
   "source": [
    "Importing Relevant Modules"
   ]
  },
  {
   "cell_type": "code",
   "execution_count": null,
   "metadata": {},
   "outputs": [],
   "source": [
    "%load_ext autoreload\n",
    "%autoreload 2\n",
    "\n",
    "from fibsem import utils, acquire\n",
    "import fibsem.alignment as fa\n",
    "from fibsem.structures import BeamType, ImageSettings, GammaSettings, FibsemRectangle, FibsemImage\n",
    "import matplotlib.pyplot as plt\n",
    "from fibsem import FibsemMicroscope\n",
    "import os\n",
    "import logging\n",
    "from utils import current_timestamp, configure_logging\n",
    "from typing import Path"
   ]
  },
  {
   "cell_type": "markdown",
   "metadata": {},
   "source": [
    "Importing settings from config"
   ]
  },
  {
   "cell_type": "code",
   "execution_count": null,
   "metadata": {},
   "outputs": [],
   "source": [
    "settings = utils.load_settings_from_config()\n"
   ]
  },
  {
   "cell_type": "code",
   "execution_count": null,
   "metadata": {},
   "outputs": [],
   "source": [
    "session_path: Path = None,\n",
    "config_path: Path = None,\n",
    "protocol_path: Path = None,\n",
    "setup_logging: bool = True,"
   ]
  },
  {
   "cell_type": "code",
   "execution_count": null,
   "metadata": {},
   "outputs": [],
   "source": [
    "session = f'{settings.protocol[\"name\"]}_{current_timestamp()}'\n",
    "if protocol_path is None:\n",
    "    protocol_path = os.getcwd()\n",
    "\n",
    "# configure paths\n",
    "if session_path is None:\n",
    "    session_path = os.path.join(os.path.dirname(protocol_path), session)\n",
    "os.makedirs(session_path, exist_ok=True)\n",
    "\n",
    "# configure logging\n",
    "if setup_logging:\n",
    "    configure_logging(session_path)\n",
    "\n",
    "\n",
    "# image_setttings\n",
    "settings.image.save_path = session_path\n",
    "\n",
    "logging.info(f\"Finished setup for session: {session}\")"
   ]
  },
  {
   "cell_type": "markdown",
   "metadata": {},
   "source": [
    "Initialising a microscope instance (Thermo Fisher Microscope)"
   ]
  },
  {
   "cell_type": "code",
   "execution_count": null,
   "metadata": {},
   "outputs": [],
   "source": [
    "microscope1 = FibsemMicroscope.ThermoMicroscope()"
   ]
  },
  {
   "cell_type": "markdown",
   "metadata": {},
   "source": [
    "Testing Connection "
   ]
  },
  {
   "cell_type": "code",
   "execution_count": null,
   "metadata": {},
   "outputs": [],
   "source": [
    "microscope1.connect()"
   ]
  }
 ],
 "metadata": {
  "kernelspec": {
   "display_name": "Python 3.9.13",
   "language": "python",
   "name": "python3"
  },
  "language_info": {
   "name": "python",
   "version": "3.9.13"
  },
  "orig_nbformat": 4,
  "vscode": {
   "interpreter": {
    "hash": "dfd385977d9ccdc365b7fa138fb5baebfcc47440065f7b0362d539c2851e81a2"
   }
  }
 },
 "nbformat": 4,
 "nbformat_minor": 2
}
