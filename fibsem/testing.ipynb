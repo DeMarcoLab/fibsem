{
 "cells": [
  {
   "cell_type": "code",
   "execution_count": 2,
   "metadata": {},
   "outputs": [],
   "source": [
    "%load_ext autoreload\n",
    "%autoreload 2 \n",
    "from fibsem import utils, milling, acquire\n",
    "from fibsem.microscope import FibsemMicroscope\n",
    "from fibsem.structures import FibsemPatternSettings, FibsemPattern, FibsemImage, BeamType\n",
    "import matplotlib\n",
    "import matplotlib.pyplot as plt"
   ]
  },
  {
   "cell_type": "code",
   "execution_count": 8,
   "metadata": {},
   "outputs": [
    {
     "name": "stdout",
     "output_type": "stream",
     "text": [
      "[MAIN]\n",
      "AccFrames=2\n",
      "AccType=Frame\n",
      "Company=\n",
      "Date=2023-05-17\n",
      "Description=\n",
      "Device=TESCAN AMBER\n",
      "DeviceModel=S8202G\n",
      "FullUserName=supervisor\n",
      "ImageStripSize=90\n",
      "Magnification=5270.0\n",
      "MagnificationReference=0.4216\n",
      "OrigFileName=image_ChanA_000005\n",
      "PixelSizeX=0.000000052083333\n",
      "PixelSizeY=0.000000052083333\n",
      "SerialNumber=42\n",
      "Sign=\n",
      "SoftwareVersion=TESCAN Essence Version 1.2.1.0, build 5762\n",
      "Time=23:53:15\n",
      "UserName=supervisor\n",
      "ViewFieldsCountX=1\n",
      "ViewFieldsCountY=1\n",
      "\n",
      "[FIB]\n",
      "ChamberPressure=0.0005\n",
      "ColumnPressure=0.001005404\n",
      "ColumnTilt=55\n",
      "Condenser=30000\n",
      "Detector=SE\n",
      "Detector0=SE\n",
      "Detector0Gain=42.19\n",
      "Detector0Offset=48.75\n",
      "DwellTime=0.0000032\n",
      "EmissionCurrent=0.000002000025\n",
      "Extractor=7664.612\n",
      "GunPiezoX=0.000001\n",
      "GunPiezoY=-0.000005\n",
      "GunPressure=0.000001007\n",
      "HV=30000.0\n",
      "ImageShiftX=-0.00000201\n",
      "ImageShiftY=-0.00000058\n",
      "LUTGamma=1.0060301\n",
      "LUTMaximum=1.0\n",
      "LUTMinimum=0.0\n",
      "Objective=16261\n",
      "PredictedBeamCurrent=0.0000000000002\n",
      "PresetAlignmentX=0.0\n",
      "PresetAlignmentY=0.0\n",
      "PrimaryDetectorGain=42.19\n",
      "PrimaryDetectorOffset=48.75\n",
      "ProbeApertureDiameter=0.00002\n",
      "ProbeApertureIndex=1\n",
      "ProbeApertureLabel=#1\n",
      "ProbeAperturePositionX=-0.005247025\n",
      "ProbeAperturePositionY=0.004905097\n",
      "ScanID=412\n",
      "ScanRotation=180.0\n",
      "ScanSpeed=4.0\n",
      "SessionID=a1b6d1c7-38ee-48ee-9620-3cf5460c4511\n",
      "SpotSize=0.000000005064\n",
      "StageRotation=90.0\n",
      "StageTilt=0.0\n",
      "StageX=0.0000122569\n",
      "StageY=0.0135214904\n",
      "StageZ=0.06\n",
      "StigmatorX=0.0\n",
      "StigmatorY=0.0\n",
      "Suppresor=829.133\n",
      "TiltCorrection=0.0\n",
      "WD=0.012\n",
      "\n",
      "\n"
     ]
    }
   ],
   "source": [
    "img = FibsemImage.fromTescanFile(image_path=r\"C:\\Tescan\\Tescan Essence Demo AMBER\\users\\supervisor\\images\\image_ChanA_000005.tif\", metadata_path=r\"C:\\Tescan\\Tescan Essence Demo AMBER\\users\\supervisor\\images\\image_ChanA_000005-tif.hdr\", beam_type=BeamType.ION)"
   ]
  },
  {
   "cell_type": "code",
   "execution_count": 13,
   "metadata": {},
   "outputs": [
    {
     "name": "stdout",
     "output_type": "stream",
     "text": [
      "2023-03-16 10:58:48,696 — root — INFO — connect_to_microscope:420 — Microscope client connecting to [localhost:7520]\n",
      "Client connecting to [localhost:7520]...\n",
      "Client connected to [localhost:7520]\n",
      "2023-03-16 10:58:48,702 — root — INFO — connect_to_microscope:422 — Microscope client connected to [localhost:7520]\n",
      "2023-03-16 10:58:48,703 — root — INFO — setup_session:228 — Finished setup for session: demo_2023-03-16-10-58-48AM\n"
     ]
    }
   ],
   "source": [
    "microscope, settings = utils.setup_session(config_path= r\"C:\\Users\\lnae0002\\Desktop\\fibsem\\fibsem\\config\")\n"
   ]
  },
  {
   "cell_type": "code",
   "execution_count": 16,
   "metadata": {},
   "outputs": [
    {
     "ename": "NotImplementedError",
     "evalue": "The microscope does not have an electron beam.",
     "output_type": "error",
     "traceback": [
      "\u001b[1;31m---------------------------------------------------------------------------\u001b[0m",
      "\u001b[1;31mNotImplementedError\u001b[0m                       Traceback (most recent call last)",
      "Cell \u001b[1;32mIn[16], line 1\u001b[0m\n\u001b[1;32m----> 1\u001b[0m microscope\u001b[39m.\u001b[39;49macquire_image(settings\u001b[39m.\u001b[39;49mimage)\n",
      "File \u001b[1;32m~\\Desktop\\fibsem\\fibsem\\microscope.py:434\u001b[0m, in \u001b[0;36mThermoMicroscope.acquire_image\u001b[1;34m(self, image_settings)\u001b[0m\n\u001b[0;32m    424\u001b[0m \u001b[39mdef\u001b[39;00m \u001b[39macquire_image\u001b[39m(\u001b[39mself\u001b[39m, image_settings:ImageSettings) \u001b[39m-\u001b[39m\u001b[39m>\u001b[39m FibsemImage:\n\u001b[0;32m    425\u001b[0m \u001b[39m    \u001b[39m\u001b[39m\"\"\"\u001b[39;00m\n\u001b[0;32m    426\u001b[0m \u001b[39m    Acquire a new image with the specified settings.\u001b[39;00m\n\u001b[0;32m    427\u001b[0m \n\u001b[1;32m   (...)\u001b[0m\n\u001b[0;32m    432\u001b[0m \u001b[39m        FibsemImage: A new FibsemImage object representing the acquired image.\u001b[39;00m\n\u001b[0;32m    433\u001b[0m \u001b[39m    \"\"\"\u001b[39;00m\n\u001b[1;32m--> 434\u001b[0m     _check_beam(beam_type \u001b[39m=\u001b[39;49m image_settings\u001b[39m.\u001b[39;49mbeam_type, hardware_settings \u001b[39m=\u001b[39;49m \u001b[39mself\u001b[39;49m\u001b[39m.\u001b[39;49mhardware_settings)\n\u001b[0;32m    436\u001b[0m     \u001b[39m# set frame settings\u001b[39;00m\n\u001b[0;32m    437\u001b[0m     \u001b[39mif\u001b[39;00m image_settings\u001b[39m.\u001b[39mreduced_area \u001b[39mis\u001b[39;00m \u001b[39mnot\u001b[39;00m \u001b[39mNone\u001b[39;00m:\n",
      "File \u001b[1;32m~\\Desktop\\fibsem\\fibsem\\microscope.py:3666\u001b[0m, in \u001b[0;36m_check_beam\u001b[1;34m(beam_type, hardware_settings)\u001b[0m\n\u001b[0;32m   3662\u001b[0m \u001b[39m\u001b[39m\u001b[39m\"\"\"\u001b[39;00m\n\u001b[0;32m   3663\u001b[0m \u001b[39mChecks if beam is available.\u001b[39;00m\n\u001b[0;32m   3664\u001b[0m \u001b[39m\"\"\"\u001b[39;00m\n\u001b[0;32m   3665\u001b[0m \u001b[39mif\u001b[39;00m beam_type \u001b[39m==\u001b[39m BeamType\u001b[39m.\u001b[39mELECTRON \u001b[39mand\u001b[39;00m hardware_settings\u001b[39m.\u001b[39melectron_beam \u001b[39m==\u001b[39m \u001b[39mFalse\u001b[39;00m:\n\u001b[1;32m-> 3666\u001b[0m     \u001b[39mraise\u001b[39;00m \u001b[39mNotImplementedError\u001b[39;00m(\u001b[39m\"\u001b[39m\u001b[39mThe microscope does not have an electron beam.\u001b[39m\u001b[39m\"\u001b[39m)\n\u001b[0;32m   3667\u001b[0m \u001b[39mif\u001b[39;00m beam_type \u001b[39m==\u001b[39m BeamType\u001b[39m.\u001b[39mION \u001b[39mand\u001b[39;00m hardware_settings\u001b[39m.\u001b[39mion_beam \u001b[39m==\u001b[39m \u001b[39mFalse\u001b[39;00m:\n\u001b[0;32m   3668\u001b[0m     \u001b[39mraise\u001b[39;00m \u001b[39mNotImplementedError\u001b[39;00m(\u001b[39m\"\u001b[39m\u001b[39mThe microscope does not have an ion beam.\u001b[39m\u001b[39m\"\u001b[39m)\n",
      "\u001b[1;31mNotImplementedError\u001b[0m: The microscope does not have an electron beam."
     ]
    }
   ],
   "source": [
    "microscope.acquire_image(settings.image)"
   ]
  },
  {
   "cell_type": "code",
   "execution_count": null,
   "metadata": {},
   "outputs": [],
   "source": [
    "microscope.get_available_values(\"detector\", beam_type= BeamType.ION)\n"
   ]
  },
  {
   "cell_type": "code",
   "execution_count": null,
   "metadata": {},
   "outputs": [],
   "source": [
    "\n",
    "rectangle = FibsemPatternSettings(\n",
    "    pattern = FibsemPattern.Rectangle,\n",
    "    width = 10e-6,\n",
    "    height = 10e-6,\n",
    "    rotation = 0,\n",
    "    centre_x = 0,\n",
    "    centre_y = 0,\n",
    "    depth = 1e-6,\n",
    ")\n",
    "#milling.draw_bitmap(microscope, rectangle, \"C:\\\\Users\\\\lnae0002\\\\Desktop\\\\autolamella_test\\\\2\\\\000001\\\\Empty_ref.tif\")\n",
    "settings.image.beam_type = BeamType.ION\n",
    "acquire.new_image(microscope, settings.image)\n"
   ]
  },
  {
   "cell_type": "code",
   "execution_count": null,
   "metadata": {},
   "outputs": [],
   "source": [
    "milling.milling_protocol(\n",
    "    microscope,\n",
    "    settings.milling,\n",
    "    patterning_mode= \"Serial\",\n",
    "    patterns= [rectangle],\n",
    "    drift_correction= True,\n",
    "    image_settings = settings.image,\n",
    "    ref_image = FibsemImage.load(\"C:\\\\Users\\\\lnae0002\\\\Desktop\\\\autolamella_test\\\\1\\\\000001\\\\Empty_ref.tif\"),\n",
    ")"
   ]
  },
  {
   "cell_type": "code",
   "execution_count": null,
   "metadata": {},
   "outputs": [],
   "source": [
    "# microscope.connection.DrawBeam.UnloadLayer()\n",
    "# layer = microscope.connection.DrawBeam.Layer(\"Layer1\")\n",
    "# print(layer)\n",
    "microscope.connection.Detector.GetConfiguration(0)"
   ]
  },
  {
   "cell_type": "code",
   "execution_count": null,
   "metadata": {},
   "outputs": [],
   "source": [
    "key = \"detector_type\"\n",
    "value = \"MD\"\n",
    "\n",
    "microscope.set(key, value, BeamType.ELECTRON)\n",
    "eb = acquire.new_image(microscope, settings.image)\n",
    "settings.image.beam_type = BeamType.ION\n",
    "microscope.set(key, value, BeamType.ION)\n",
    "ib = acquire.new_image(microscope, settings.image)\n",
    "fig, ax = plt.subplots(1, 2, figsize=(10, 7))\n",
    "ax[0].imshow(eb.data, cmap=\"gray\")\n",
    "ax[0].set_title(\"Electron Image 01\")\n",
    "ax[1].imshow(ib.data, cmap=\"gray\")\n",
    "ax[1].set_title(\"Ion Image 01\")\n",
    "plt.show()"
   ]
  }
 ],
 "metadata": {
  "kernelspec": {
   "display_name": "Python 3",
   "language": "python",
   "name": "python3"
  },
  "language_info": {
   "codemirror_mode": {
    "name": "ipython",
    "version": 3
   },
   "file_extension": ".py",
   "mimetype": "text/x-python",
   "name": "python",
   "nbconvert_exporter": "python",
   "pygments_lexer": "ipython3",
   "version": "3.9.16"
  },
  "orig_nbformat": 4
 },
 "nbformat": 4,
 "nbformat_minor": 2
}
