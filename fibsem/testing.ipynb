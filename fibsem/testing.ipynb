{
 "cells": [
  {
   "cell_type": "code",
   "execution_count": null,
   "metadata": {},
   "outputs": [],
   "source": [
    "%load_ext autoreload\n",
    "%autoreload 2 \n",
    "from fibsem import utils, milling, acquire\n",
    "from fibsem.microscope import FibsemMicroscope\n",
    "from fibsem.structures import FibsemPatternSettings, FibsemPattern, FibsemStagePosition, BeamType, MicroscopeState, BeamSettings, Point\n",
    "import matplotlib\n",
    "import matplotlib.pyplot as plt"
   ]
  },
  {
   "cell_type": "code",
   "execution_count": null,
   "metadata": {},
   "outputs": [],
   "source": [
    "from fibsem import utils\n",
    "microscope, settings = utils.setup_session()\n"
   ]
  },
  {
   "cell_type": "code",
   "execution_count": null,
   "metadata": {},
   "outputs": [],
   "source": [
    "# test_state = MicroscopeState(\n",
    "#     absolute_position=FibsemStagePosition(x=0, y=0, z=0.006, t=0, r=0),\n",
    "#     eb_settings=BeamSettings(\n",
    "#         beam_type=BeamType.ELECTRON,\n",
    "#         working_distance=0.06,\n",
    "#         beam_current=2.0e-11,\n",
    "#         voltage=3000,\n",
    "#         hfw=0.00015,\n",
    "#         dwell_time=1.0e-06,\n",
    "#         resolution=[1536, 1024],\n",
    "#         stigmation=Point(x=0.1, y=0.1),\n",
    "#         shift=Point(x=1e-6, y=1e-6),\n",
    "#         scan_rotation=0.0,\n",
    "#     ),\n",
    "#     ib_settings=BeamSettings(\n",
    "#         beam_type=BeamType.ION,\n",
    "#         working_distance=0.06,\n",
    "#         beam_current=2.0e-11,\n",
    "#         voltage=30000,\n",
    "#         hfw=0.00015,\n",
    "#         dwell_time=1.0e-06,\n",
    "#         resolution=[1536, 1024],\n",
    "#         stigmation=Point(x=0.1, y=0.1),\n",
    "#         shift=Point(x=1e-6, y=1e-6),\n",
    "#         scan_rotation=0.0,\n",
    "#     )\n",
    "# )\n",
    "\n",
    "test_state = microscope.get_current_microscope_state()\n",
    "\n",
    "from pprint import pprint\n",
    "pprint(test_state.__to_dict__())\n"
   ]
  },
  {
   "cell_type": "code",
   "execution_count": null,
   "metadata": {},
   "outputs": [],
   "source": [
    "eb_image, ib_image = acquire.take_reference_images(microscope, settings.image)\n",
    "\n",
    "fig, ax = plt.subplots(1, 2, figsize=(10, 5))\n",
    "ax[0].imshow(eb_image.data, cmap=\"gray\")\n",
    "ax[1].imshow(ib_image.data, cmap=\"gray\")\n",
    "plt.show()\n",
    "\n",
    "test_state = microscope.get_current_microscope_state()\n",
    "pprint(test_state.__to_dict__())\n",
    "\n",
    "test_state.ib_settings.shift = Point(0e-6, 0e-6)\n",
    "test_state.eb_settings.shift = Point(0e-6, 0e-6)\n",
    "test_state.ib_settings.stigmation = Point(0e-6, 0e-6)\n",
    "test_state.eb_settings.stigmation = Point(0e-6, 0e-6)\n",
    "microscope.set_microscope_state(test_state)\n",
    "\n",
    "pprint(microscope.get_current_microscope_state().__to_dict__())\n",
    "\n",
    "eb_image, ib_image = acquire.take_reference_images(microscope, settings.image)\n",
    "\n",
    "fig, ax = plt.subplots(1, 2, figsize=(10, 5))\n",
    "ax[0].imshow(eb_image.data, cmap=\"gray\")\n",
    "ax[1].imshow(ib_image.data, cmap=\"gray\")\n",
    "plt.show()"
   ]
  },
  {
   "cell_type": "code",
   "execution_count": null,
   "metadata": {},
   "outputs": [],
   "source": [
    "microscope.set_microscope_state(test_state)"
   ]
  },
  {
   "cell_type": "code",
   "execution_count": null,
   "metadata": {},
   "outputs": [],
   "source": [
    "acquire.take_reference_images(microscope, settings.image)"
   ]
  },
  {
   "cell_type": "code",
   "execution_count": null,
   "metadata": {},
   "outputs": [],
   "source": [
    "return_state = microscope.get_current_microscope_state()\n",
    "print(return_state)"
   ]
  },
  {
   "cell_type": "code",
   "execution_count": null,
   "metadata": {},
   "outputs": [],
   "source": [
    "\n",
    "rectangle = FibsemPatternSettings(\n",
    "    pattern = FibsemPattern.Rectangle,\n",
    "    width = 10e-6,\n",
    "    height = 10e-6,\n",
    "    rotation = 0,\n",
    "    centre_x = 0,\n",
    "    centre_y = 0,\n",
    "    depth = 1e-6,\n",
    ")\n",
    "#milling.draw_bitmap(microscope, rectangle, \"C:\\\\Users\\\\lnae0002\\\\Desktop\\\\autolamella_test\\\\2\\\\000001\\\\Empty_ref.tif\")\n",
    "settings.image.beam_type = BeamType.ION\n",
    "img = acquire.new_image(microscope, settings.image)\n"
   ]
  },
  {
   "cell_type": "code",
   "execution_count": null,
   "metadata": {},
   "outputs": [],
   "source": [
    "milling.milling_protocol(\n",
    "    microscope,\n",
    "    settings.milling,\n",
    "    patterns= [rectangle],\n",
    "    drift_correction= True,\n",
    "    image_settings = settings.image,\n",
    "    ref_image = img,\n",
    ")"
   ]
  }
 ],
 "metadata": {
  "kernelspec": {
   "display_name": "Python 3",
   "language": "python",
   "name": "python3"
  },
  "language_info": {
   "codemirror_mode": {
    "name": "ipython",
    "version": 3
   },
   "file_extension": ".py",
   "mimetype": "text/x-python",
   "name": "python",
   "nbconvert_exporter": "python",
   "pygments_lexer": "ipython3",
   "version": "3.9.12"
  },
  "orig_nbformat": 4
 },
 "nbformat": 4,
 "nbformat_minor": 2
}
