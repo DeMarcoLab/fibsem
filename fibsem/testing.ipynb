{
 "cells": [
  {
   "cell_type": "code",
   "execution_count": 1,
   "metadata": {},
   "outputs": [],
   "source": [
    "%load_ext autoreload\n",
    "%autoreload 2 \n",
    "from fibsem import utils, milling, acquire\n",
    "from fibsem.microscope import FibsemMicroscope\n",
    "from fibsem.structures import FibsemPatternSettings, FibsemPattern, FibsemImage, BeamType\n",
    "import matplotlib\n",
    "import matplotlib.pyplot as plt"
   ]
  },
  {
   "cell_type": "code",
   "execution_count": 2,
   "metadata": {},
   "outputs": [
    {
     "name": "stdout",
     "output_type": "stream",
     "text": [
      "2023-03-13 12:40:38,010 — root — INFO — connect_to_microscope:1819 — Microscope client connecting to [localhost:8300]\n",
      "2023-03-13 12:40:38,015 — root — INFO — connect_to_microscope:1821 — Microscope client connected to [localhost:8300]\n",
      "2023-03-13 12:40:38,015 — root — INFO — setup_session:227 — Finished setup for session: demo_2023-03-13-12-40-37PM\n",
      "2023-03-13 12:40:38,016 — root — INFO — autocontrast:2073 — Running autocontrast on ELECTRON.\n",
      "2023-03-13 12:40:38,018 — root — INFO — acquire_image:1833 — acquiring new ELECTRON image.\n"
     ]
    },
    {
     "data": {
      "text/plain": [
       "<fibsem.structures.FibsemImage at 0x24d9f9911f0>"
      ]
     },
     "execution_count": 2,
     "metadata": {},
     "output_type": "execute_result"
    }
   ],
   "source": [
    "microscope, settings = utils.setup_session(config_path= r\"C:\\Users\\lnae0002\\Desktop\\fibsem\\fibsem\\config\")\n",
    "\n",
    "rectangle = FibsemPatternSettings(\n",
    "    pattern = FibsemPattern.Rectangle,\n",
    "    width = 10e-6,\n",
    "    height = 10e-6,\n",
    "    rotation = 0,\n",
    "    centre_x = 0,\n",
    "    centre_y = 0,\n",
    "    depth = 1e-6,\n",
    ")\n",
    "#milling.draw_bitmap(microscope, rectangle, \"C:\\\\Users\\\\lnae0002\\\\Desktop\\\\autolamella_test\\\\2\\\\000001\\\\Empty_ref.tif\")\n",
    "acquire.new_image(microscope, settings.image)\n"
   ]
  },
  {
   "cell_type": "code",
   "execution_count": 4,
   "metadata": {},
   "outputs": [
    {
     "name": "stdout",
     "output_type": "stream",
     "text": [
      "Error: 'left'\n",
      "2023-03-13 12:40:59,382 — root — INFO — draw_rectangle:2642 — Scan direction TopToBottom not supported. Using Flyback instead.\n",
      "2023-03-13 12:40:59,383 — root — INFO — draw_rectangle:2643 — Supported scan directions are: Flyback, RLE, SpiralInsideOut, SpiralOutsideIn, ZigZag\n",
      "2023-03-13 12:40:59,385 — root — INFO — run_milling:2501 — running ion beam milling now...\n",
      " |----------------------------------------------------------------------------------------------------| 0% \n",
      " |████------------------------------------------------------------------------------------------------| 4% \n",
      " |█████████-------------------------------------------------------------------------------------------| 9% \n",
      " |██████████████--------------------------------------------------------------------------------------| 14% \n",
      " |███████████████████---------------------------------------------------------------------------------| 19% \n",
      " |████████████████████████----------------------------------------------------------------------------| 24% \n",
      " |█████████████████████████████████████████████████████-----------------------------------------------| 53% \n",
      " |██████████████████████████████████████████████████████████████████████████--------------------------| 74% \n",
      " |████████████████████████████████████████████████████████████████████████████████████████████████████| 100% \n",
      " |████████████████████████████████████████████████████████████████████████████████████████████████████| 100% Finished\n",
      "\n",
      "2023-03-13 12:41:08,420 — root — INFO — finish_milling:74 — changing to imaging current: 2.00e-11\n",
      "2023-03-13 12:41:08,421 — root — INFO — finish_milling:76 — finished ion beam milling.\n"
     ]
    }
   ],
   "source": [
    "milling.milling_protocol(\n",
    "    microscope,\n",
    "    settings.milling,\n",
    "    patterning_mode= \"Serial\",\n",
    "    patterns= [rectangle],\n",
    "    drift_correction= False,\n",
    "    image_settings = settings.image,\n",
    "    ref_image = FibsemImage.load(\"C:\\\\Users\\\\lnae0002\\\\Desktop\\\\autolamella_test\\\\1\\\\000001\\\\Empty_ref.tif\"),\n",
    ")"
   ]
  },
  {
   "cell_type": "code",
   "execution_count": null,
   "metadata": {},
   "outputs": [],
   "source": [
    "microscope.connection.DrawBeam.UnloadLayer()\n",
    "# layer = microscope.connection.DrawBeam.Layer(\"Layer1\")\n",
    "# print(layer)"
   ]
  },
  {
   "cell_type": "code",
   "execution_count": null,
   "metadata": {},
   "outputs": [],
   "source": [
    "key = \"detector_type\"\n",
    "value = \"MD\"\n",
    "\n",
    "microscope.set(key, value, BeamType.ELECTRON)\n",
    "eb = acquire.new_image(microscope, settings.image)\n",
    "settings.image.beam_type = BeamType.ION\n",
    "microscope.set(key, value, BeamType.ION)\n",
    "ib = acquire.new_image(microscope, settings.image)\n",
    "fig, ax = plt.subplots(1, 2, figsize=(10, 7))\n",
    "ax[0].imshow(eb.data, cmap=\"gray\")\n",
    "ax[0].set_title(\"Electron Image 01\")\n",
    "ax[1].imshow(ib.data, cmap=\"gray\")\n",
    "ax[1].set_title(\"Ion Image 01\")\n",
    "plt.show()"
   ]
  }
 ],
 "metadata": {
  "kernelspec": {
   "display_name": "Python 3",
   "language": "python",
   "name": "python3"
  },
  "language_info": {
   "codemirror_mode": {
    "name": "ipython",
    "version": 3
   },
   "file_extension": ".py",
   "mimetype": "text/x-python",
   "name": "python",
   "nbconvert_exporter": "python",
   "pygments_lexer": "ipython3",
   "version": "3.9.16"
  },
  "orig_nbformat": 4
 },
 "nbformat": 4,
 "nbformat_minor": 2
}
