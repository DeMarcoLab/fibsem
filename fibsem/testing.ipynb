{
 "cells": [
  {
   "cell_type": "code",
   "execution_count": 1,
   "metadata": {},
   "outputs": [],
   "source": [
    "%load_ext autoreload\n",
    "%autoreload 2 \n",
    "from fibsem import utils, milling, acquire\n",
    "from fibsem.microscope import FibsemMicroscope\n",
    "from fibsem.structures import FibsemPatternSettings, FibsemPattern, FibsemImage, BeamType\n",
    "import matplotlib\n",
    "import matplotlib.pyplot as plt"
   ]
  },
  {
   "cell_type": "code",
   "execution_count": 2,
   "metadata": {},
   "outputs": [
    {
     "name": "stdout",
     "output_type": "stream",
     "text": [
      "2023-03-13 15:12:08,601 — root — INFO — connect_to_microscope:1890 — Microscope client connecting to [localhost:8300]\n",
      "2023-03-13 15:12:08,605 — root — INFO — connect_to_microscope:1892 — Microscope client connected to [localhost:8300]\n",
      "2023-03-13 15:12:08,606 — root — INFO — setup_session:227 — Finished setup for session: demo_2023-03-13-03-12-08PM\n",
      "2023-03-13 15:12:08,606 — root — INFO — autocontrast:2161 — Running autocontrast on ELECTRON.\n",
      "2023-03-13 15:12:12,654 — root — INFO — acquire_image:1904 — acquiring new ELECTRON image.\n"
     ]
    },
    {
     "data": {
      "text/plain": [
       "<fibsem.structures.FibsemImage at 0x260ee355bb0>"
      ]
     },
     "execution_count": 2,
     "metadata": {},
     "output_type": "execute_result"
    }
   ],
   "source": [
    "microscope, settings = utils.setup_session(config_path= r\"C:\\Users\\lnae0002\\Desktop\\fibsem\\fibsem\\config\")\n",
    "\n",
    "rectangle = FibsemPatternSettings(\n",
    "    pattern = FibsemPattern.Rectangle,\n",
    "    width = 10e-6,\n",
    "    height = 10e-6,\n",
    "    rotation = 0,\n",
    "    centre_x = 0,\n",
    "    centre_y = 0,\n",
    "    depth = 1e-6,\n",
    ")\n",
    "#milling.draw_bitmap(microscope, rectangle, \"C:\\\\Users\\\\lnae0002\\\\Desktop\\\\autolamella_test\\\\2\\\\000001\\\\Empty_ref.tif\")\n",
    "acquire.new_image(microscope, settings.image)\n"
   ]
  },
  {
   "cell_type": "code",
   "execution_count": 3,
   "metadata": {},
   "outputs": [
    {
     "name": "stdout",
     "output_type": "stream",
     "text": [
      "Error: 'left'\n",
      "2023-03-13 15:12:15,389 — root — INFO — draw_rectangle:2729 — Scan direction TopToBottom not supported. Using Flyback instead.\n",
      "2023-03-13 15:12:15,389 — root — INFO — draw_rectangle:2730 — Supported scan directions are: Flyback, RLE, SpiralInsideOut, SpiralOutsideIn, ZigZag\n",
      "2023-03-13 15:12:15,393 — root — INFO — run_milling_drift_corrected:2636 — running ion beam milling now...\n",
      " |----------------------------------------------------------------------------------------------------| 0% \n",
      "2023-03-13 15:12:15,504 — root — INFO — run_milling_drift_corrected:2657 — Drift correction in progress...\n",
      "2023-03-13 15:12:15,505 — root — INFO — autocontrast:2161 — Running autocontrast on ION.\n",
      "2023-03-13 15:12:17,125 — root — INFO — acquire_image:1904 — acquiring new ION image.\n",
      "2023-03-13 15:12:20,333 — root — INFO — beam_shift:2206 — ION shifting by (-2.900390625e-05, 2.7539062500000003e-05)\n",
      "2023-03-13 15:12:21,337 — root — INFO — run_milling_drift_corrected:2669 — Drift correction complete.\n",
      " |████████████████████████████████████████████████████████████████████████████████████████████████████| 100% Finished\n",
      "\n",
      "2023-03-13 15:12:26,339 — root — INFO — finish_milling:74 — changing to imaging current: 2.00e-11\n"
     ]
    },
    {
     "ename": "Exception",
     "evalue": "InvalidRequest (-1)",
     "output_type": "error",
     "traceback": [
      "\u001b[1;31m---------------------------------------------------------------------------\u001b[0m",
      "\u001b[1;31mException\u001b[0m                                 Traceback (most recent call last)",
      "Cell \u001b[1;32mIn[3], line 1\u001b[0m\n\u001b[1;32m----> 1\u001b[0m milling\u001b[39m.\u001b[39;49mmilling_protocol(\n\u001b[0;32m      2\u001b[0m     microscope,\n\u001b[0;32m      3\u001b[0m     settings\u001b[39m.\u001b[39;49mmilling,\n\u001b[0;32m      4\u001b[0m     patterning_mode\u001b[39m=\u001b[39;49m \u001b[39m\"\u001b[39;49m\u001b[39mSerial\u001b[39;49m\u001b[39m\"\u001b[39;49m,\n\u001b[0;32m      5\u001b[0m     patterns\u001b[39m=\u001b[39;49m [rectangle],\n\u001b[0;32m      6\u001b[0m     drift_correction\u001b[39m=\u001b[39;49m \u001b[39mTrue\u001b[39;49;00m,\n\u001b[0;32m      7\u001b[0m     image_settings \u001b[39m=\u001b[39;49m settings\u001b[39m.\u001b[39;49mimage,\n\u001b[0;32m      8\u001b[0m     ref_image \u001b[39m=\u001b[39;49m FibsemImage\u001b[39m.\u001b[39;49mload(\u001b[39m\"\u001b[39;49m\u001b[39mC:\u001b[39;49m\u001b[39m\\\\\u001b[39;49;00m\u001b[39mUsers\u001b[39;49m\u001b[39m\\\\\u001b[39;49;00m\u001b[39mlnae0002\u001b[39;49m\u001b[39m\\\\\u001b[39;49;00m\u001b[39mDesktop\u001b[39;49m\u001b[39m\\\\\u001b[39;49;00m\u001b[39mautolamella_test\u001b[39;49m\u001b[39m\\\\\u001b[39;49;00m\u001b[39m1\u001b[39;49m\u001b[39m\\\\\u001b[39;49;00m\u001b[39m000001\u001b[39;49m\u001b[39m\\\\\u001b[39;49;00m\u001b[39mEmpty_ref.tif\u001b[39;49m\u001b[39m\"\u001b[39;49m),\n\u001b[0;32m      9\u001b[0m )\n",
      "File \u001b[1;32m~\\Desktop\\fibsem\\fibsem\\milling.py:309\u001b[0m, in \u001b[0;36mmilling_protocol\u001b[1;34m(microscope, mill_settings, patterning_mode, patterns, drift_correction, image_settings, ref_image, reduced_area, asynch)\u001b[0m\n\u001b[0;32m    306\u001b[0m     run_milling(microscope, mill_settings\u001b[39m.\u001b[39mmilling_current)\n\u001b[0;32m    308\u001b[0m \u001b[39m# finish milling\u001b[39;00m\n\u001b[1;32m--> 309\u001b[0m finish_milling(microscope)\n",
      "File \u001b[1;32m~\\Desktop\\fibsem\\fibsem\\milling.py:75\u001b[0m, in \u001b[0;36mfinish_milling\u001b[1;34m(microscope, imaging_current)\u001b[0m\n\u001b[0;32m     73\u001b[0m \u001b[39m# restore imaging current\u001b[39;00m\n\u001b[0;32m     74\u001b[0m logging\u001b[39m.\u001b[39minfo(\u001b[39mf\u001b[39m\u001b[39m\"\u001b[39m\u001b[39mchanging to imaging current: \u001b[39m\u001b[39m{\u001b[39;00mimaging_current\u001b[39m:\u001b[39;00m\u001b[39m.2e\u001b[39m\u001b[39m}\u001b[39;00m\u001b[39m\"\u001b[39m)\n\u001b[1;32m---> 75\u001b[0m microscope\u001b[39m.\u001b[39;49mfinish_milling(imaging_current)\n\u001b[0;32m     76\u001b[0m logging\u001b[39m.\u001b[39minfo(\u001b[39m\"\u001b[39m\u001b[39mfinished ion beam milling.\u001b[39m\u001b[39m\"\u001b[39m)\n",
      "File \u001b[1;32m~\\Desktop\\fibsem\\fibsem\\microscope.py:2686\u001b[0m, in \u001b[0;36mTescanMicroscope.finish_milling\u001b[1;34m(self, imaging_current)\u001b[0m\n\u001b[0;32m   2679\u001b[0m \u001b[39mdef\u001b[39;00m \u001b[39mfinish_milling\u001b[39m(\u001b[39mself\u001b[39m, imaging_current: \u001b[39mfloat\u001b[39m):\n\u001b[0;32m   2680\u001b[0m \u001b[39m    \u001b[39m\u001b[39m\"\"\"\u001b[39;00m\n\u001b[0;32m   2681\u001b[0m \u001b[39m    Finalises the milling process by clearing the microscope of any patterns and returning the current to the imaging current.\u001b[39;00m\n\u001b[0;32m   2682\u001b[0m \n\u001b[0;32m   2683\u001b[0m \u001b[39m    Args:\u001b[39;00m\n\u001b[0;32m   2684\u001b[0m \u001b[39m        imaging_current (float): The current to use for imaging in amps.\u001b[39;00m\n\u001b[0;32m   2685\u001b[0m \u001b[39m    \"\"\"\u001b[39;00m\n\u001b[1;32m-> 2686\u001b[0m     \u001b[39mself\u001b[39;49m\u001b[39m.\u001b[39;49mconnection\u001b[39m.\u001b[39;49mDrawBeam\u001b[39m.\u001b[39;49mUnloadLayer()\n",
      "File \u001b[1;32mc:\\Users\\lnae0002\\AppData\\Local\\miniconda3\\envs\\fibsem\\lib\\site-packages\\tescanautomation\\tescanautomation.py:1120\u001b[0m, in \u001b[0;36mAutomation.DrawBeam.UnloadLayer\u001b[1;34m(self)\u001b[0m\n\u001b[0;32m   1101\u001b[0m \u001b[39mdef\u001b[39;00m \u001b[39mUnloadLayer\u001b[39m(\u001b[39mself\u001b[39m) \u001b[39m-\u001b[39m\u001b[39m>\u001b[39m \u001b[39mNone\u001b[39;00m:\n\u001b[0;32m   1102\u001b[0m \u001b[39m    \u001b[39m\u001b[39m\"\"\"\u001b[39;00m\n\u001b[0;32m   1103\u001b[0m \u001b[39m    Throw away the current project (layer).\u001b[39;00m\n\u001b[0;32m   1104\u001b[0m \u001b[39m    \u001b[39;00m\n\u001b[1;32m   (...)\u001b[0m\n\u001b[0;32m   1118\u001b[0m \n\u001b[0;32m   1119\u001b[0m \u001b[39m    \"\"\"\u001b[39;00m\n\u001b[1;32m-> 1120\u001b[0m     \u001b[39mreturn\u001b[39;00m \u001b[39mself\u001b[39;49m\u001b[39m.\u001b[39;49m_client\u001b[39m.\u001b[39;49mDrwUnloadLayer()\n",
      "File \u001b[1;32mc:\\Users\\lnae0002\\AppData\\Local\\miniconda3\\envs\\fibsem\\lib\\site-packages\\tescanautomation\\abstract.py:3973\u001b[0m, in \u001b[0;36mAutomationAbstract.DrwUnloadLayer\u001b[1;34m(self)\u001b[0m\n\u001b[0;32m   3971\u001b[0m retval \u001b[39m=\u001b[39m DrawBeam\u001b[39m.\u001b[39mError(\u001b[39msuper\u001b[39m()\u001b[39m.\u001b[39mDrwUnloadLayer(\u001b[39m0\u001b[39m))\n\u001b[0;32m   3972\u001b[0m \u001b[39mif\u001b[39;00m retval \u001b[39m!=\u001b[39m DrawBeam\u001b[39m.\u001b[39mError\u001b[39m.\u001b[39mOk:\n\u001b[1;32m-> 3973\u001b[0m     \u001b[39mraise\u001b[39;00m DrawBeam\u001b[39m.\u001b[39mException(retval)\n\u001b[0;32m   3974\u001b[0m \u001b[39mreturn\u001b[39;00m\n",
      "\u001b[1;31mException\u001b[0m: InvalidRequest (-1)"
     ]
    }
   ],
   "source": [
    "milling.milling_protocol(\n",
    "    microscope,\n",
    "    settings.milling,\n",
    "    patterning_mode= \"Serial\",\n",
    "    patterns= [rectangle],\n",
    "    drift_correction= True,\n",
    "    image_settings = settings.image,\n",
    "    ref_image = FibsemImage.load(\"C:\\\\Users\\\\lnae0002\\\\Desktop\\\\autolamella_test\\\\1\\\\000001\\\\Empty_ref.tif\"),\n",
    ")"
   ]
  },
  {
   "cell_type": "code",
   "execution_count": 4,
   "metadata": {},
   "outputs": [
    {
     "data": {
      "text/plain": [
       "'Name=Standard BSE Detector #1\\nLimitMin=-0.085845\\nLimitMax=0.000000\\n'"
      ]
     },
     "execution_count": 4,
     "metadata": {},
     "output_type": "execute_result"
    }
   ],
   "source": [
    "# microscope.connection.DrawBeam.UnloadLayer()\n",
    "# layer = microscope.connection.DrawBeam.Layer(\"Layer1\")\n",
    "# print(layer)\n",
    "microscope.connection.Detector.GetConfiguration(0)"
   ]
  },
  {
   "cell_type": "code",
   "execution_count": null,
   "metadata": {},
   "outputs": [],
   "source": [
    "key = \"detector_type\"\n",
    "value = \"MD\"\n",
    "\n",
    "microscope.set(key, value, BeamType.ELECTRON)\n",
    "eb = acquire.new_image(microscope, settings.image)\n",
    "settings.image.beam_type = BeamType.ION\n",
    "microscope.set(key, value, BeamType.ION)\n",
    "ib = acquire.new_image(microscope, settings.image)\n",
    "fig, ax = plt.subplots(1, 2, figsize=(10, 7))\n",
    "ax[0].imshow(eb.data, cmap=\"gray\")\n",
    "ax[0].set_title(\"Electron Image 01\")\n",
    "ax[1].imshow(ib.data, cmap=\"gray\")\n",
    "ax[1].set_title(\"Ion Image 01\")\n",
    "plt.show()"
   ]
  },
  {
   "cell_type": "code",
   "execution_count": null,
   "metadata": {},
   "outputs": [],
   "source": [
    "microscope.get_manipulator_position()\n",
    "\n",
    "microscope.insert_manipulator(name=)\n",
    "\n",
    "microscope.retract_manipulator()\n",
    "\n",
    "microscope.move_manipulator_relative(position= )\n",
    "\n",
    "microscope.move_manipulator_absolute(position= ):\n",
    "    \n",
    "microscope.move_manipulator_to_position_offset(offset = , name = )\n",
    "\n",
    "microscope._get_saved_manipulator_position(name ) \n"
   ]
  }
 ],
 "metadata": {
  "kernelspec": {
   "display_name": "Python 3",
   "language": "python",
   "name": "python3"
  },
  "language_info": {
   "codemirror_mode": {
    "name": "ipython",
    "version": 3
   },
   "file_extension": ".py",
   "mimetype": "text/x-python",
   "name": "python",
   "nbconvert_exporter": "python",
   "pygments_lexer": "ipython3",
   "version": "3.9.16"
  },
  "orig_nbformat": 4
 },
 "nbformat": 4,
 "nbformat_minor": 2
}
