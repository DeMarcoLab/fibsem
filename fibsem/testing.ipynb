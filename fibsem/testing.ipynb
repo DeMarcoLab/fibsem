{
 "cells": [
  {
   "cell_type": "markdown",
   "metadata": {},
   "source": [
    "FIBSEM Microscope Testing Notebook\n",
    "\n",
    "- Testing Basic Functionality\n",
    "    - Connection to Microscope\n",
    "    - Image Acquisition\n",
    "    - Image Data and Metadata \n",
    "    "
   ]
  },
  {
   "cell_type": "markdown",
   "metadata": {},
   "source": [
    "Importing Modules and Utilities built for FIBSEM"
   ]
  },
  {
   "cell_type": "code",
   "execution_count": null,
   "metadata": {},
   "outputs": [],
   "source": [
    "%load_ext autoreload\n",
    "%autoreload 2\n",
    "\n",
    "from fibsem import utils, acquire\n",
    "import fibsem.alignment as fa\n",
    "from fibsem.structures import BeamType, ImageSettings, GammaSettings, FibsemRectangle, FibsemImage\n",
    "import matplotlib.pyplot as plt\n"
   ]
  },
  {
   "cell_type": "markdown",
   "metadata": {},
   "source": [
    "Setting up connection to Microscope"
   ]
  },
  {
   "cell_type": "code",
   "execution_count": null,
   "metadata": {},
   "outputs": [],
   "source": [
    "# connect to microscope\n",
    "microscope, microscope_settings = utils.setup_session()"
   ]
  },
  {
   "cell_type": "markdown",
   "metadata": {},
   "source": [
    "Setting up basic image settings for Ion Beam and Electron Beam\n",
    "- image settings reduced is for a reduced area with parameters set up with a rectangle"
   ]
  },
  {
   "cell_type": "code",
   "execution_count": null,
   "metadata": {},
   "outputs": [],
   "source": [
    "# set gamma settings\n",
    "gamma_settings = GammaSettings(\n",
    "        enabled=True,\n",
    "        min_gamma=0.5,\n",
    "        max_gamma=1.8,\n",
    "        scale_factor=0.01,\n",
    "        threshold=46,\n",
    "    )\n",
    "\n",
    "# set imaging settings\n",
    "image_settings_eb = ImageSettings(\n",
    "        resolution=\"1536x1024\",\n",
    "        dwell_time=1.0e-6,\n",
    "        hfw=150.0e-6,\n",
    "        autocontrast=True,\n",
    "        beam_type=BeamType.ELECTRON,\n",
    "        gamma=gamma_settings,\n",
    "        save=False,\n",
    "        save_path=\"path\",\n",
    "        label=\"label\",\n",
    "        reduced_area=None,\n",
    "    )\n",
    "\n",
    "\n",
    "image_settings_ib = ImageSettings(\n",
    "        resolution=\"1536x1024\",\n",
    "        dwell_time=1.0e-6,\n",
    "        hfw=150.0e-6,\n",
    "        autocontrast=True,\n",
    "        beam_type=BeamType.ION,\n",
    "        gamma=gamma_settings,\n",
    "        save=False,\n",
    "        save_path=\"path\",\n",
    "        label=\"label\",\n",
    "        reduced_area=None,\n",
    "    )\n",
    "rectangle = FibsemRectangle(0.1, 0.3, 0.4, 0.4)\n",
    "THERMO_ENABLED = True\n",
    "image_settings_eb_reduced = ImageSettings(\n",
    "        resolution=\"1536x1024\",\n",
    "        dwell_time=1.0e-6,\n",
    "        hfw=150.0e-6,\n",
    "        autocontrast=True,\n",
    "        beam_type=BeamType.ELECTRON,\n",
    "        gamma=gamma_settings,\n",
    "        save=False,\n",
    "        save_path=\"path\",\n",
    "        label=\"label\",\n",
    "        reduced_area=rectangle.__to_FEI__() if THERMO_ENABLED else rectangle,\n",
    "    )\n",
    "\n"
   ]
  },
  {
   "cell_type": "markdown",
   "metadata": {},
   "source": [
    "Last image function test"
   ]
  },
  {
   "cell_type": "code",
   "execution_count": null,
   "metadata": {},
   "outputs": [],
   "source": [
    "#testing last image function\n",
    "img = acquire.last_image(microscope)\n",
    "plt.imshow(img.data)\n",
    "plt.show()"
   ]
  },
  {
   "cell_type": "markdown",
   "metadata": {},
   "source": [
    "Taking set of reference images, now FibsemImages"
   ]
  },
  {
   "cell_type": "code",
   "execution_count": null,
   "metadata": {},
   "outputs": [],
   "source": [
    "#taking set of ref images\n",
    "hfws =  [400e-6, 150.0e-6]\n",
    "ref_images = acquire.take_set_of_reference_images(microscope, image_settings_eb,hfws)\n",
    "fig = plt.figure(figsize=(10, 7))\n",
    "\n",
    "fig.add_subplot(2, 2, 1)\n",
    "plt.imshow(ref_images.low_res_eb.data)\n",
    "fig.add_subplot(2, 2, 2)\n",
    "plt.imshow(ref_images.high_res_eb.data)\n",
    "fig.add_subplot(2, 2, 3)\n",
    "plt.imshow(ref_images.low_res_ib.data)\n",
    "fig.add_subplot(2, 2, 4)\n",
    "plt.imshow(ref_images.high_res_ib.data)\n",
    "\n",
    "\n",
    "assert ref_images.low_res_eb.metadata.image_settings.hfw == hfws[0], f\"hfw: {ref_images.low_res_eb.metadata.image_settings.hfw} != {hfws[0]}\"\n",
    "assert ref_images.low_res_ib.metadata.image_settings.hfw == hfws[0], f\"hfw: {ref_images.low_res_ib.metadata.image_settings.hfw} != {hfws[0]}\"\n",
    "assert ref_images.high_res_eb.metadata.image_settings.hfw == hfws[1], f\"hfw: {ref_images.high_res_eb.metadata.image_settings.hfw} != {hfws[1]}\"\n",
    "assert ref_images.high_res_ib.metadata.image_settings.hfw == hfws[1], f\"hfw: {ref_images.high_res_ib.metadata.image_settings.hfw} != {hfws[1]}\"\n"
   ]
  },
  {
   "cell_type": "markdown",
   "metadata": {},
   "source": [
    "Testing beam alignment using reference image"
   ]
  },
  {
   "cell_type": "code",
   "execution_count": null,
   "metadata": {},
   "outputs": [],
   "source": [
    "new_image = acquire.new_image(microscope, image_settings_eb, None)\n",
    "fa.align_using_reference_images(microscope, microscope_settings, ref_images.high_res_eb, new_image )\n"
   ]
  }
 ],
 "metadata": {
  "kernelspec": {
   "display_name": "Python 3.9.12 ('liftout')",
   "language": "python",
   "name": "python3"
  },
  "language_info": {
   "codemirror_mode": {
    "name": "ipython",
    "version": 3
   },
   "file_extension": ".py",
   "mimetype": "text/x-python",
   "name": "python",
   "nbconvert_exporter": "python",
   "pygments_lexer": "ipython3",
   "version": "3.9.12"
  },
  "orig_nbformat": 4,
  "vscode": {
   "interpreter": {
    "hash": "5cb17a689ea48522a268bdcd61b0f399058cec9c1acbad013779623d1fd2c02a"
   }
  }
 },
 "nbformat": 4,
 "nbformat_minor": 2
}
