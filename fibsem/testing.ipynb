{
 "cells": [
  {
   "cell_type": "code",
   "execution_count": 2,
   "metadata": {},
   "outputs": [
    {
     "name": "stdout",
     "output_type": "stream",
     "text": [
      "The autoreload extension is already loaded. To reload it, use:\n",
      "  %reload_ext autoreload\n"
     ]
    }
   ],
   "source": [
    "%load_ext autoreload\n",
    "%autoreload 2 \n",
    "from fibsem import utils, milling, acquire\n",
    "from fibsem.microscope import FibsemMicroscope\n",
    "from fibsem.structures import FibsemPatternSettings, FibsemPattern, FibsemImage, BeamType\n",
    "import matplotlib\n",
    "import matplotlib.pyplot as plt"
   ]
  },
  {
   "cell_type": "code",
   "execution_count": 4,
   "metadata": {},
   "outputs": [
    {
     "name": "stdout",
     "output_type": "stream",
     "text": [
      "2023-06-28 15:37:53,225 — root — INFO — connect_to_microscope:2241 — Microscope client connecting to [localhost:8300]\n",
      "2023-06-28 15:37:53,229 — root — INFO — connect_to_microscope:2243 — Microscope client connected to [localhost:8300]\n",
      "2023-06-28 15:37:54,098 — root — INFO — connect_to_microscope:2249 — Microscope client connected to model S8252G with serial number 42 and software version TESCAN Essence Version 1.2.3.0, build 6115.\n",
      "2023-06-28 15:37:54,100 — root — INFO — setup_session:229 — Finished setup for session: demo_2023-06-28-03-37-53PM\n"
     ]
    }
   ],
   "source": [
    "microscope, settings = utils.setup_session(config_path= r\"C:\\Users\\lnae0002\\Desktop\\fibsem\\fibsem\\config\")\n"
   ]
  },
  {
   "cell_type": "code",
   "execution_count": 5,
   "metadata": {},
   "outputs": [
    {
     "name": "stdout",
     "output_type": "stream",
     "text": [
      "2023-06-28 15:37:56,250 — root — INFO — autocontrast:2532 — Running autocontrast on ION.\n",
      "2023-06-28 15:37:59,381 — root — INFO — acquire_image:2261 — acquiring new ION image.\n"
     ]
    }
   ],
   "source": [
    "\n",
    "rectangle = FibsemPatternSettings(\n",
    "    pattern = FibsemPattern.Rectangle,\n",
    "    width = 10e-6,\n",
    "    height = 10e-6,\n",
    "    rotation = 0,\n",
    "    centre_x = 0,\n",
    "    centre_y = 0,\n",
    "    depth = 1e-6,\n",
    ")\n",
    "#milling.draw_bitmap(microscope, rectangle, \"C:\\\\Users\\\\lnae0002\\\\Desktop\\\\autolamella_test\\\\2\\\\000001\\\\Empty_ref.tif\")\n",
    "settings.image.beam_type = BeamType.ION\n",
    "img = acquire.new_image(microscope, settings.image)\n"
   ]
  },
  {
   "cell_type": "code",
   "execution_count": 8,
   "metadata": {},
   "outputs": [
    {
     "name": "stdout",
     "output_type": "stream",
     "text": [
      "spacing: 1.0\n",
      "2023-06-28 15:38:49,322 — root — INFO — draw_rectangle:3373 — Scan direction TopToBottom not supported. Using Flyback instead.\n",
      "2023-06-28 15:38:49,323 — root — INFO — draw_rectangle:3374 — Supported scan directions are: Flyback, RLE, SpiralInsideOut, SpiralOutsideIn, ZigZag\n",
      "2023-06-28 15:38:49,325 — root — INFO — run_milling_drift_corrected:3274 — running ion beam milling now...\n",
      "2023-06-28 15:38:54,718 — numexpr.utils — INFO — _init_num_threads:160 — NumExpr defaulting to 8 threads.\n",
      " |██████████████████████████████----------------------------------------------------------------------| 31% \n",
      "2023-06-28 15:38:55,435 — root — INFO — run_milling_drift_corrected:3297 — Drift correction in progress...\n",
      "2023-06-28 15:38:55,436 — root — INFO — autocontrast:2532 — Running autocontrast on ION.\n",
      "2023-06-28 15:38:58,576 — root — INFO — acquire_image:2261 — acquiring new ION image.\n",
      "2023-06-28 15:39:02,079 — root — INFO — beam_shift:2582 — ION shifting by (0.0, 0.0)\n",
      "2023-06-28 15:39:03,084 — root — INFO — run_milling_drift_corrected:3309 — Drift correction complete.\n",
      " |████████████████████████████████████████████████████████████████████████████████████████████████████| 100% Finished\n"
     ]
    },
    {
     "ename": "Exception",
     "evalue": "InvalidRequest (-1)",
     "output_type": "error",
     "traceback": [
      "\u001b[1;31m---------------------------------------------------------------------------\u001b[0m",
      "\u001b[1;31mException\u001b[0m                                 Traceback (most recent call last)",
      "Cell \u001b[1;32mIn[8], line 1\u001b[0m\n\u001b[1;32m----> 1\u001b[0m milling\u001b[39m.\u001b[39;49mmilling_protocol(\n\u001b[0;32m      2\u001b[0m     microscope,\n\u001b[0;32m      3\u001b[0m     settings\u001b[39m.\u001b[39;49mmilling,\n\u001b[0;32m      4\u001b[0m     patterns\u001b[39m=\u001b[39;49m [rectangle],\n\u001b[0;32m      5\u001b[0m     drift_correction\u001b[39m=\u001b[39;49m \u001b[39mTrue\u001b[39;49;00m,\n\u001b[0;32m      6\u001b[0m     image_settings \u001b[39m=\u001b[39;49m settings\u001b[39m.\u001b[39;49mimage,\n\u001b[0;32m      7\u001b[0m     ref_image \u001b[39m=\u001b[39;49m img,\n\u001b[0;32m      8\u001b[0m )\n",
      "File \u001b[1;32m~\\Desktop\\fibsem\\fibsem\\milling.py:319\u001b[0m, in \u001b[0;36mmilling_protocol\u001b[1;34m(microscope, mill_settings, patterns, drift_correction, image_settings, ref_image, reduced_area, asynch)\u001b[0m\n\u001b[0;32m    317\u001b[0m \u001b[39m# run milling\u001b[39;00m\n\u001b[0;32m    318\u001b[0m \u001b[39mif\u001b[39;00m drift_correction:\n\u001b[1;32m--> 319\u001b[0m     run_milling_drift_corrected(microscope, mill_settings\u001b[39m.\u001b[39;49mmilling_current, image_settings, ref_image, reduced_area)\n\u001b[0;32m    320\u001b[0m \u001b[39melse\u001b[39;00m:\n\u001b[0;32m    321\u001b[0m     run_milling(microscope, mill_settings\u001b[39m.\u001b[39mmilling_current, asynch)\n",
      "File \u001b[1;32m~\\Desktop\\fibsem\\fibsem\\milling.py:48\u001b[0m, in \u001b[0;36mrun_milling_drift_corrected\u001b[1;34m(microscope, milling_current, image_settings, ref_image, reduced_area)\u001b[0m\n\u001b[0;32m     34\u001b[0m \u001b[39mdef\u001b[39;00m \u001b[39mrun_milling_drift_corrected\u001b[39m(\n\u001b[0;32m     35\u001b[0m     microscope: FibsemMicroscope, \n\u001b[0;32m     36\u001b[0m     milling_current: \u001b[39mfloat\u001b[39m,  \n\u001b[1;32m   (...)\u001b[0m\n\u001b[0;32m     39\u001b[0m     reduced_area: FibsemRectangle \u001b[39m=\u001b[39m \u001b[39mNone\u001b[39;00m,\n\u001b[0;32m     40\u001b[0m ) \u001b[39m-\u001b[39m\u001b[39m>\u001b[39m \u001b[39mNone\u001b[39;00m:\n\u001b[0;32m     41\u001b[0m \u001b[39m    \u001b[39m\u001b[39m\"\"\"Run Ion Beam Milling.\u001b[39;00m\n\u001b[0;32m     42\u001b[0m \n\u001b[0;32m     43\u001b[0m \u001b[39m    Args:\u001b[39;00m\n\u001b[1;32m   (...)\u001b[0m\n\u001b[0;32m     46\u001b[0m \u001b[39m        asynch (bool, optional): flag to run milling asynchronously. Defaults to False.\u001b[39;00m\n\u001b[0;32m     47\u001b[0m \u001b[39m    \"\"\"\u001b[39;00m\n\u001b[1;32m---> 48\u001b[0m     microscope\u001b[39m.\u001b[39;49mrun_milling_drift_corrected(milling_current, image_settings, ref_image, reduced_area)\n",
      "File \u001b[1;32m~\\Desktop\\fibsem\\fibsem\\microscope.py:3314\u001b[0m, in \u001b[0;36mTescanMicroscope.run_milling_drift_corrected\u001b[1;34m(self, milling_current, image_settings, ref_image, reduced_area, asynch)\u001b[0m\n\u001b[0;32m   3312\u001b[0m \u001b[39mif\u001b[39;00m status[\u001b[39m0\u001b[39m] \u001b[39m==\u001b[39m DBStatus\u001b[39m.\u001b[39mProjectLoadedExpositionIdle:\n\u001b[0;32m   3313\u001b[0m     printProgressBar(\u001b[39m100\u001b[39m, \u001b[39m100\u001b[39m, suffix\u001b[39m=\u001b[39m\u001b[39m\"\u001b[39m\u001b[39mFinished\u001b[39m\u001b[39m\"\u001b[39m)\n\u001b[1;32m-> 3314\u001b[0m     \u001b[39mself\u001b[39;49m\u001b[39m.\u001b[39;49mconnection\u001b[39m.\u001b[39;49mDrawBeam\u001b[39m.\u001b[39;49mStop()\n\u001b[0;32m   3315\u001b[0m     \u001b[39mself\u001b[39m\u001b[39m.\u001b[39mconnection\u001b[39m.\u001b[39mDrawBeam\u001b[39m.\u001b[39mUnloadLayer()\n\u001b[0;32m   3316\u001b[0m \u001b[39mbreak\u001b[39;00m\n",
      "File \u001b[1;32mc:\\Users\\lnae0002\\AppData\\Local\\miniconda3\\envs\\fibsem\\lib\\site-packages\\tescanautomation\\tescanautomation.py:1497\u001b[0m, in \u001b[0;36mAutomation.DrawBeam.Stop\u001b[1;34m(self)\u001b[0m\n\u001b[0;32m   1477\u001b[0m \u001b[39mdef\u001b[39;00m \u001b[39mStop\u001b[39m(\u001b[39mself\u001b[39m) \u001b[39m-\u001b[39m\u001b[39m>\u001b[39m \u001b[39mNone\u001b[39;00m:\n\u001b[0;32m   1478\u001b[0m \u001b[39m    \u001b[39m\u001b[39m\"\"\"\u001b[39;00m\n\u001b[0;32m   1479\u001b[0m \u001b[39m    Stop DrawBeam process.\u001b[39;00m\n\u001b[0;32m   1480\u001b[0m \u001b[39m    \u001b[39;00m\n\u001b[1;32m   (...)\u001b[0m\n\u001b[0;32m   1495\u001b[0m \n\u001b[0;32m   1496\u001b[0m \u001b[39m    \"\"\"\u001b[39;00m\n\u001b[1;32m-> 1497\u001b[0m     \u001b[39mreturn\u001b[39;00m \u001b[39mself\u001b[39;49m\u001b[39m.\u001b[39;49m_client\u001b[39m.\u001b[39;49mDrwStop()\n",
      "File \u001b[1;32mc:\\Users\\lnae0002\\AppData\\Local\\miniconda3\\envs\\fibsem\\lib\\site-packages\\tescanautomation\\abstract.py:4652\u001b[0m, in \u001b[0;36mAutomationAbstract.DrwStop\u001b[1;34m(self)\u001b[0m\n\u001b[0;32m   4650\u001b[0m result \u001b[39m=\u001b[39m DrawBeam\u001b[39m.\u001b[39mError(\u001b[39msuper\u001b[39m()\u001b[39m.\u001b[39mDrwStop())\n\u001b[0;32m   4651\u001b[0m \u001b[39mif\u001b[39;00m result \u001b[39m!=\u001b[39m DrawBeam\u001b[39m.\u001b[39mError\u001b[39m.\u001b[39mOk:\n\u001b[1;32m-> 4652\u001b[0m     \u001b[39mraise\u001b[39;00m DrawBeam\u001b[39m.\u001b[39mException(result)\n\u001b[0;32m   4653\u001b[0m \u001b[39mreturn\u001b[39;00m\n",
      "\u001b[1;31mException\u001b[0m: InvalidRequest (-1)"
     ]
    }
   ],
   "source": [
    "milling.milling_protocol(\n",
    "    microscope,\n",
    "    settings.milling,\n",
    "    patterns= [rectangle],\n",
    "    drift_correction= True,\n",
    "    image_settings = settings.image,\n",
    "    ref_image = img,\n",
    ")"
   ]
  },
  {
   "cell_type": "code",
   "execution_count": null,
   "metadata": {},
   "outputs": [],
   "source": [
    "# microscope.connection.DrawBeam.UnloadLayer()\n",
    "# layer = microscope.connection.DrawBeam.Layer(\"Layer1\")\n",
    "# print(layer)\n",
    "microscope.connection.Detector.GetConfiguration(0)"
   ]
  },
  {
   "cell_type": "code",
   "execution_count": null,
   "metadata": {},
   "outputs": [],
   "source": [
    "key = \"detector_type\"\n",
    "value = \"MD\"\n",
    "\n",
    "microscope.set(key, value, BeamType.ELECTRON)\n",
    "eb = acquire.new_image(microscope, settings.image)\n",
    "settings.image.beam_type = BeamType.ION\n",
    "microscope.set(key, value, BeamType.ION)\n",
    "ib = acquire.new_image(microscope, settings.image)\n",
    "fig, ax = plt.subplots(1, 2, figsize=(10, 7))\n",
    "ax[0].imshow(eb.data, cmap=\"gray\")\n",
    "ax[0].set_title(\"Electron Image 01\")\n",
    "ax[1].imshow(ib.data, cmap=\"gray\")\n",
    "ax[1].set_title(\"Ion Image 01\")\n",
    "plt.show()"
   ]
  }
 ],
 "metadata": {
  "kernelspec": {
   "display_name": "Python 3",
   "language": "python",
   "name": "python3"
  },
  "language_info": {
   "codemirror_mode": {
    "name": "ipython",
    "version": 3
   },
   "file_extension": ".py",
   "mimetype": "text/x-python",
   "name": "python",
   "nbconvert_exporter": "python",
   "pygments_lexer": "ipython3",
   "version": "3.9.16"
  },
  "orig_nbformat": 4
 },
 "nbformat": 4,
 "nbformat_minor": 2
}
