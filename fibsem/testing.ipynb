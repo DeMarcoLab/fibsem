{
 "cells": [
  {
   "cell_type": "markdown",
   "metadata": {},
   "source": [
    "FIBSEM Microscope Testing Notebook\n",
    "\n",
    "- Testing Basic Functionality\n",
    "    - Connection to Microscope\n",
    "    - Image Acquisition\n",
    "    - Image Data and Metadata \n",
    "    "
   ]
  },
  {
   "cell_type": "markdown",
   "metadata": {},
   "source": [
    "Importing Modules and Utilities built for FIBSEM"
   ]
  },
  {
   "cell_type": "code",
   "execution_count": null,
   "metadata": {},
   "outputs": [],
   "source": [
    "from fibsem import utils, acquire, FibsemImage\n",
    "from fibsem.structures import BeamType, ImageSettings, GammaSettings, FibsemRectangle\n"
   ]
  },
  {
   "cell_type": "markdown",
   "metadata": {},
   "source": [
    "Setting up connection to Microscope"
   ]
  },
  {
   "cell_type": "code",
   "execution_count": null,
   "metadata": {},
   "outputs": [],
   "source": [
    "# connect to microscope\n",
    "microscope, microscope_settings = utils.setup_session()"
   ]
  },
  {
   "cell_type": "markdown",
   "metadata": {},
   "source": [
    "Setting up basic image settings for Ion Beam and Electron Beam\n",
    "- image settings reduced is for a reduced area with parameters set up with a rectangle"
   ]
  },
  {
   "cell_type": "code",
   "execution_count": null,
   "metadata": {},
   "outputs": [],
   "source": [
    "# set gamma settings\n",
    "gamma_settings = GammaSettings(\n",
    "        enabled=True,\n",
    "        min_gamma=0.5,\n",
    "        max_gamma=1.8,\n",
    "        scale_factor=0.01,\n",
    "        threshold=46,\n",
    "    )\n",
    "\n",
    "# set imaging settings\n",
    "image_settings_eb = ImageSettings(\n",
    "        resolution=\"1536x1024\",\n",
    "        dwell_time=1.0e-6,\n",
    "        hfw=150.0e-6,\n",
    "        autocontrast=True,\n",
    "        beam_type=BeamType.ELECTRON,\n",
    "        gamma=gamma_settings,\n",
    "        save=False,\n",
    "        save_path=\"path\",\n",
    "        label=\"label\",\n",
    "        reduced_area=None,\n",
    "    )\n",
    "\n",
    "\n",
    "image_settings_ib = ImageSettings(\n",
    "        resolution=\"1536x1024\",\n",
    "        dwell_time=1.0e-6,\n",
    "        hfw=150.0e-6,\n",
    "        autocontrast=True,\n",
    "        beam_type=BeamType.ION,\n",
    "        gamma=gamma_settings,\n",
    "        save=False,\n",
    "        save_path=\"path\",\n",
    "        label=\"label\",\n",
    "        reduced_area=None,\n",
    "    )\n",
    "\n",
    "THERMO_ENABLED = False\n",
    "image_settings_eb_reduced = ImageSettings(\n",
    "        resolution=\"1536x1024\",\n",
    "        dwell_time=1.0e-6,\n",
    "        hfw=150.0e-6,\n",
    "        autocontrast=True,\n",
    "        beam_type=BeamType.ELECTRON,\n",
    "        gamma=gamma_settings,\n",
    "        save=False,\n",
    "        save_path=\"path\",\n",
    "        label=\"label\",\n",
    "        reduced_area=FibsemRectangle(0.3, 0.3, 0.4, 0.4).__to_FEI__() if THERMO_ENABLED else FibsemRectangle(0.3, 0.3, 0.4, 0.4),\n",
    "    )\n",
    "\n"
   ]
  },
  {
   "cell_type": "code",
   "execution_count": null,
   "metadata": {},
   "outputs": [],
   "source": [
    "# take ion image\n",
    "ib_image = acquire.new_image(microscope, image_settings_ib)\n",
    "\n",
    "#checking image data\n",
    "if ib_image.metadata.image_settings == image_settings_ib:\n",
    "    print(\"Image settings are the same\")\n",
    "print(ib_image.metadata.microscope_state.timestamp)\n",
    "print(ib_image.metadata.version)\n",
    "FibsemImage.check_data_format(ib_image.data)"
   ]
  },
  {
   "cell_type": "code",
   "execution_count": null,
   "metadata": {},
   "outputs": [],
   "source": [
    "# take electron image\n",
    "eb_image = acquire.new_image(microscope, image_settings_eb)\n",
    "\n",
    "#checking image data \n",
    "if eb_image.metadata.image_settings == image_settings_eb:\n",
    "    print(\"Image settings are the same\")\n",
    "print(eb_image.metadata.microscope_state.timestamp)\n",
    "print(eb_image.metadata.version)\n",
    "FibsemImage.check_data_format(eb_image.data)"
   ]
  }
 ],
 "metadata": {
  "kernelspec": {
   "display_name": "Python 3.9.13",
   "language": "python",
   "name": "python3"
  },
  "language_info": {
   "codemirror_mode": {
    "name": "ipython",
    "version": 3
   },
   "file_extension": ".py",
   "mimetype": "text/x-python",
   "name": "python",
   "nbconvert_exporter": "python",
   "pygments_lexer": "ipython3",
   "version": "3.9.13"
  },
  "orig_nbformat": 4,
  "vscode": {
   "interpreter": {
    "hash": "dfd385977d9ccdc365b7fa138fb5baebfcc47440065f7b0362d539c2851e81a2"
   }
  }
 },
 "nbformat": 4,
 "nbformat_minor": 2
}
