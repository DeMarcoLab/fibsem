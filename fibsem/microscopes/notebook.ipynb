{
 "cells": [
  {
   "cell_type": "markdown",
   "metadata": {},
   "source": [
    "## AutoLamella-Odemis (Headless)"
   ]
  },
  {
   "cell_type": "code",
   "execution_count": null,
   "metadata": {},
   "outputs": [],
   "source": [
    "# requirements\n",
    "# stage_position: FibsemStagePosition (stage-bare)                  -> acquire once position selected (can transform from fm-position)\n",
    "# microcope_state: dict microscope state                            -> acquire once position selected\n",
    "# reference_image: FibsemImage / OdemisImage (saved to disk)        -> acquire once position selected\n",
    "# protocol: dict milling protocol for each lamella                  -> load from file, allow user to edit\n",
    "# config: workflow configuration (supervision, alignment, etc)      -> load from file, allow user to edit\n",
    "\n",
    "# supported options\n",
    "# use_microexpansion:\n",
    "\n",
    "# not supported (for now)\n",
    "# use_fiducial: # only support non-fiducial milling for now\n",
    "\n",
    "# odemis: save_milling_position:\n",
    "# - stage_position:     cryo feature position, defined at milling position: posture_positions[MILLING]\n",
    "# - microscope_state:   can be extracted from odemis image\n",
    "# - reference_image:    path to reference image\n",
    "# - milling_protocol:   dict with milling parameters\n",
    "#   - patterns:         dict with milling pattern protocol\n",
    "#   - point:            point in odemis image representing the milling position (generated from correlation)\n",
    "\n",
    "# req milling parameters\n",
    "# center -> from correlation / selection\n",
    "# width  (width of trench)\n",
    "# height (distance between trenches)\n",
    "# trench_height (height of trench)\n",
    "# depth (depth of trench)\n",
    "# cross_section (cross section of trench Rectangle or CleaningCrossSection)\n",
    "# milling_current, hfw (all)\n",
    "# To simplify initially, only use Rough Mill / Polishing\n",
    "\n",
    "# rough_mill:\n",
    "# - center: point in odemis image\n",
    "# - width: \n",
    "# - height:\n",
    "# - trench_height:\n",
    "# - depth:\n",
    "# - cross_section: Rectangle\n",
    "\n",
    "# polishing:\n",
    "# - center: point in odemis image\n",
    "# - width:\n",
    "# - height:\n",
    "# - trench_height:\n",
    "# - depth:\n",
    "# - cross_section: CleaningCrossSection\n",
    "\n",
    "# microexpansion:\n",
    "# - center: point in odemis image\n",
    "# - width:\n",
    "# - height:\n",
    "# - distance: distance between expansion trenches\n",
    "# - depth:\n",
    "\n",
    "# lamella are created at the ReadyLamella State (after setup in autolamella)\n",
    "# then the workflow can be run without any user input\n"
   ]
  },
  {
   "cell_type": "code",
   "execution_count": null,
   "metadata": {},
   "outputs": [],
   "source": [
    "%load_ext autoreload\n",
    "%autoreload 2\n",
    "\n",
    "from fibsem import utils\n",
    "from autolamella.waffle import run_autolamella\n",
    "from autolamella.compat.odemis import add_odemis_path, add_features_to_experiment, create_experiment_from_odemis\n",
    "\n",
    "import logging\n",
    "add_odemis_path() # only required when using separate env for openfibsem\n",
    "from odemis.acq.feature import CryoFeature, model\n",
    "from odemis import model\n",
    "from pprint import pprint\n",
    "\n"
   ]
  },
  {
   "cell_type": "code",
   "execution_count": 2,
   "metadata": {},
   "outputs": [],
   "source": [
    "# dummy feature creation from odemis\n",
    "# features = []\n",
    "# stage_bare = model.getComponent(role=\"stage-bare\")\n",
    "\n",
    "# while input(\"Add feature? (y/n): \") == \"y\":\n",
    "\n",
    "#     stage_position = stage_bare.position.value\n",
    "    \n",
    "#     name = f\"Feature-{len(features) + 1}\"\n",
    "#     feature = CryoFeature(name=name, x=stage_position['x'], y=stage_position['y'], z=stage_position['z'])\n",
    "#     feature.stage_pos = model.VigilantAttribute(stage_position, unit=\"m\")\n",
    "    \n",
    "#     features.append(feature)\n",
    "\n",
    "#     # TODO: acquire FIB REFERENCE IMAGE here\n",
    "\n",
    "#     logging.info(f\"Added feature: {name}, total: {len(features)}\")\n",
    "\n",
    "# dummy feature creation from odemis\n",
    "\n",
    "stage_positions = [\n",
    "    {\"x\": 0, \"y\": 0, \"z\": 0, \"rx\": 0.31, \"rz\": 0},\n",
    "    {\"x\": 50e-6, \"y\": 50e-6, \"z\": 0, \"rx\": 0.31, \"rz\": 0}\n",
    "]\n",
    "\n",
    "features = []\n",
    "for stage_position in stage_positions:\n",
    "    name = f\"Feature-{len(features) + 1}\"\n",
    "    feature = CryoFeature(name=name, x=stage_position['x'], y=stage_position['y'], z=stage_position['z'])\n",
    "    feature.stage_pos = model.VigilantAttribute(stage_position, unit=\"m\")\n",
    "    \n",
    "    features.append(feature)\n",
    "\n",
    "\n",
    "logging.info(f\"Created {len(features)} features\")"
   ]
  },
  {
   "cell_type": "code",
   "execution_count": null,
   "metadata": {},
   "outputs": [],
   "source": [
    "CONFIGURATION_PATH = \"/home/patrick/development/openfibsem/fibsem/fibsem/config/odemis-configuration.yaml\"\n",
    "PROTOCOL_PATH = \"/home/patrick/development/openfibsem/autolamella/autolamella/protocol/protocol-odemis-on-grid.yaml\"\n",
    "ODEMIS_PROJECT_PATH = \"/home/patrick/Pictures/odemis-auto-milling-01\"\n",
    "\n",
    "microscope, settings = utils.setup_session(config_path=CONFIGURATION_PATH, \n",
    "                                           protocol_path=PROTOCOL_PATH)"
   ]
  },
  {
   "cell_type": "code",
   "execution_count": null,
   "metadata": {},
   "outputs": [],
   "source": [
    "experiment = create_experiment_from_odemis(ODEMIS_PROJECT_PATH, protocol=settings.protocol)\n",
    "\n",
    "logging.info(f\"Current Experiment: {experiment.name}, total: {len(experiment.positions)}\")\n",
    "\n",
    "# add features to experiment\n",
    "experiment = add_features_to_experiment(\n",
    "                                        experiment=experiment, \n",
    "                                        features=features,\n",
    "                                        protocol=settings.protocol\n",
    "                                        )\n",
    "\n",
    "logging.info(f\"Updated Experiment: {experiment.name}, total: {len(experiment.positions)}\")"
   ]
  },
  {
   "cell_type": "code",
   "execution_count": null,
   "metadata": {},
   "outputs": [],
   "source": [
    "# load exp\n",
    "import os\n",
    "from autolamella.structures import Experiment\n",
    "exp = Experiment.load(os.path.join(experiment.path, \"experiment.yaml\"))\n",
    "\n",
    "print(exp.positions[0].state.stage)"
   ]
  },
  {
   "cell_type": "code",
   "execution_count": null,
   "metadata": {},
   "outputs": [],
   "source": [
    "from autolamella.structures import AutoLamellaStage\n",
    "stages_to_complete = [AutoLamellaStage.MillRoughCut]\n",
    "\n",
    "run_autolamella(microscope=microscope, \n",
    "                settings=settings, \n",
    "                experiment=experiment,\n",
    "                parent_ui=None, \n",
    "                stages_to_complete=stages_to_complete)"
   ]
  },
  {
   "cell_type": "code",
   "execution_count": null,
   "metadata": {},
   "outputs": [],
   "source": [
    "# TODO: \n",
    "# update features after milling"
   ]
  }
 ],
 "metadata": {
  "kernelspec": {
   "display_name": "fibsem-headless",
   "language": "python",
   "name": "python3"
  },
  "language_info": {
   "codemirror_mode": {
    "name": "ipython",
    "version": 3
   },
   "file_extension": ".py",
   "mimetype": "text/x-python",
   "name": "python",
   "nbconvert_exporter": "python",
   "pygments_lexer": "ipython3",
   "version": "3.9.19"
  }
 },
 "nbformat": 4,
 "nbformat_minor": 2
}
