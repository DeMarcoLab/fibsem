{
 "cells": [
  {
   "cell_type": "markdown",
   "metadata": {},
   "source": [
    "# TESCAN Support"
   ]
  },
  {
   "cell_type": "code",
   "execution_count": null,
   "metadata": {},
   "outputs": [],
   "source": [
    "%load_ext autoreload\n",
    "%autoreload 2\n",
    "\n",
    "import os\n",
    "from pprint import pprint\n",
    "\n",
    "import matplotlib.pyplot as plt\n",
    "\n",
    "from fibsem import acquire, utils\n",
    "from fibsem.config import CONFIG_PATH\n",
    "from fibsem.microscopes.tescan import TescanMicroscope\n",
    "from fibsem.structures import BeamType\n",
    "\n",
    "TESCAN_CONFIGURATION = os.path.join(CONFIG_PATH, \"tescan-configuration.yaml\")\n",
    "\n",
    "microscope: TescanMicroscope\n",
    "microscope, settings = utils.setup_session(config_path=TESCAN_CONFIGURATION, \n",
    "                                           manufacturer=\"Tescan\", ip_address=\"localhost\")"
   ]
  },
  {
   "cell_type": "code",
   "execution_count": null,
   "metadata": {},
   "outputs": [],
   "source": [
    "settings.image.hfw = 900e-6\n",
    "settings.image.dwell_time = 0.2e-6\n",
    "settings.image.autocontrast = False\n",
    "\n",
    "images = acquire.take_reference_images(microscope, settings.image)\n",
    "\n",
    "fig, ax = plt.subplots(1, 2, figsize=(10, 10))\n",
    "ax[0].imshow(images[0].data, cmap='gray')\n",
    "ax[1].imshow(images[1].data, cmap='gray')\n",
    "plt.show()\n",
    "\n",
    "pprint(images[1].metadata.to_dict())"
   ]
  },
  {
   "cell_type": "code",
   "execution_count": null,
   "metadata": {},
   "outputs": [],
   "source": [
    "state = microscope.get_microscope_state()\n",
    "\n",
    "pprint(state.to_dict())"
   ]
  },
  {
   "cell_type": "code",
   "execution_count": null,
   "metadata": {},
   "outputs": [],
   "source": [
    "sem_settings = microscope.get_beam_settings(BeamType.ELECTRON)\n",
    "pprint(sem_settings.to_dict())\n",
    "\n",
    "fib_settings = microscope.get_beam_settings(BeamType.ION)\n",
    "pprint(fib_settings.to_dict())\n"
   ]
  },
  {
   "cell_type": "code",
   "execution_count": null,
   "metadata": {},
   "outputs": [],
   "source": [
    "# because some params aren't available via the api, we need to store them internally and update them when an image is taken\n",
    "# dwell_time, beam_shift, stigmation, preset"
   ]
  },
  {
   "cell_type": "code",
   "execution_count": null,
   "metadata": {},
   "outputs": [],
   "source": [
    "microscope.set_microscope_state(state)"
   ]
  },
  {
   "cell_type": "code",
   "execution_count": null,
   "metadata": {},
   "outputs": [],
   "source": [
    "print(microscope.get(\"presets\", BeamType.ION))"
   ]
  },
  {
   "cell_type": "code",
   "execution_count": null,
   "metadata": {},
   "outputs": [],
   "source": [
    "settings.image.beam_type = BeamType.ION\n",
    "settings.image.hfw = 1000e-6\n",
    "image = microscope.acquire_image(image_settings=settings.image)\n",
    "\n",
    "plt.imshow(image.data, cmap='gray')\n",
    "plt.show()"
   ]
  },
  {
   "cell_type": "code",
   "execution_count": null,
   "metadata": {},
   "outputs": [],
   "source": [
    "from fibsem.structures import FibsemStagePosition\n",
    "import math\n",
    "microscope.move_stage_absolute(FibsemStagePosition(r=math.radians(180), z=0.006))\n",
    "microscope.move_stage_absolute(FibsemStagePosition(t=math.radians(45)))\n",
    "\n",
    "print(microscope.get_stage_position())"
   ]
  },
  {
   "cell_type": "code",
   "execution_count": null,
   "metadata": {},
   "outputs": [],
   "source": [
    "microscope.move_flat_to_beam(beam_type=BeamType.ELECTRON)"
   ]
  },
  {
   "cell_type": "code",
   "execution_count": null,
   "metadata": {},
   "outputs": [],
   "source": [
    "from fibsem.structures import FibsemRectangle\n",
    "\n",
    "settings.image.beam_type = BeamType.ELECTRON\n",
    "settings.image.hfw = 1000e-6\n",
    "settings.image.reduced_area = None\n",
    "image = microscope.acquire_image(image_settings=settings.image)\n",
    "\n",
    "print(image.data.shape)\n",
    "# pprint(image.metadata.to_dict())\n",
    "\n",
    "plt.imshow(image.data, cmap='gray')\n",
    "plt.plot(384, 256, \"y+\", ms=50)\n",
    "plt.plot(1151, 767, \"y+\", ms=50)  #\n",
    "# 1151 767\n",
    "\n",
    "plt.show()\n",
    "settings.image.reduced_area = FibsemRectangle(0.25, 0.25, 0.5, 0.5)\n",
    "\n",
    "image = microscope.acquire_image(image_settings=settings.image)\n",
    "\n",
    "print(image.data.shape)\n",
    "# pprint(image.metadata.to_dict())\n",
    "\n",
    "plt.imshow(image.data, cmap='gray')\n",
    "plt.show()"
   ]
  },
  {
   "cell_type": "code",
   "execution_count": null,
   "metadata": {},
   "outputs": [],
   "source": [
    "pos = microscope.get_stage_position()"
   ]
  },
  {
   "cell_type": "code",
   "execution_count": null,
   "metadata": {},
   "outputs": [],
   "source": [
    "stage_position = microscope.get_stage_position()\n",
    "print(stage_position.to_dict())\n",
    "from fibsem.structures import FibsemStagePosition\n",
    "import math\n",
    "\n",
    "microscope.move_stage_absolute(FibsemStagePosition(x=0, y=0, z=0.005, t=0, r=0))"
   ]
  },
  {
   "cell_type": "code",
   "execution_count": null,
   "metadata": {},
   "outputs": [],
   "source": [
    "from fibsem.microscopes.tescan import to_tescan_stage_position\n",
    "stage_position = microscope.get_stage_position()\n",
    "print(to_tescan_stage_position(stage_position))"
   ]
  },
  {
   "cell_type": "code",
   "execution_count": null,
   "metadata": {},
   "outputs": [],
   "source": [
    "initial_position = microscope.get_stage_position()"
   ]
  },
  {
   "cell_type": "code",
   "execution_count": null,
   "metadata": {},
   "outputs": [],
   "source": [
    "initial_position.r = math.radians(180)\n",
    "microscope.move_stage_absolute(initial_position)"
   ]
  },
  {
   "cell_type": "code",
   "execution_count": null,
   "metadata": {},
   "outputs": [],
   "source": [
    "microscope.move_flat_to_beam(beam_type=BeamType.ION)"
   ]
  },
  {
   "cell_type": "code",
   "execution_count": null,
   "metadata": {},
   "outputs": [],
   "source": [
    "print(microscope.system.stage)"
   ]
  },
  {
   "cell_type": "code",
   "execution_count": null,
   "metadata": {},
   "outputs": [],
   "source": [
    "microscope.vertical_move(dy=0.01)"
   ]
  },
  {
   "cell_type": "markdown",
   "metadata": {},
   "source": [
    "### MILLING\n"
   ]
  },
  {
   "cell_type": "code",
   "execution_count": null,
   "metadata": {},
   "outputs": [],
   "source": [
    "%load_ext autoreload\n",
    "%autoreload 2\n",
    "\n",
    "import os\n",
    "from pprint import pprint\n",
    "\n",
    "import matplotlib.pyplot as plt\n",
    "\n",
    "from fibsem import acquire, utils\n",
    "from fibsem.config import CONFIG_PATH\n",
    "from fibsem.microscopes.tescan import TescanMicroscope\n",
    "from fibsem.structures import BeamType\n",
    "\n",
    "TESCAN_CONFIGURATION = os.path.join(CONFIG_PATH, \"tescan-configuration.yaml\")\n",
    "\n",
    "microscope: TescanMicroscope\n",
    "microscope, settings = utils.setup_session(config_path=TESCAN_CONFIGURATION, \n",
    "                                           manufacturer=\"Tescan\", ip_address=\"localhost\")\n",
    "\n",
    "\n",
    "from pprint import pprint\n",
    "protocol = utils.load_protocol(r\"C:\\Users\\cleev\\Documents\\github\\openfibsem\\autolamella\\autolamella\\protocol\\protocol-on-grid.yaml\")\n",
    "\n",
    "from fibsem.milling import get_milling_stages\n",
    "\n",
    "\n",
    "stages = get_milling_stages(\"mill_rough\", protocol[\"milling\"])\n",
    "\n",
    "from fibsem.milling import mill_stages, setup_milling, draw_patterns\n",
    "\n",
    "stages[0].milling.preset = \"30 keV; 20 nA\"\n",
    "stages[0].pattern.depth = 0.2e-6\n",
    "\n",
    "\n",
    "print(microscope.get(\"presets\", BeamType.ION))\n"
   ]
  },
  {
   "cell_type": "code",
   "execution_count": null,
   "metadata": {},
   "outputs": [],
   "source": [
    "mill_stages(microscope, [stages[0]])"
   ]
  }
 ],
 "metadata": {
  "kernelspec": {
   "display_name": "tescan",
   "language": "python",
   "name": "python3"
  },
  "language_info": {
   "codemirror_mode": {
    "name": "ipython",
    "version": 3
   },
   "file_extension": ".py",
   "mimetype": "text/x-python",
   "name": "python",
   "nbconvert_exporter": "python",
   "pygments_lexer": "ipython3",
   "version": "3.9.20"
  }
 },
 "nbformat": 4,
 "nbformat_minor": 2
}
