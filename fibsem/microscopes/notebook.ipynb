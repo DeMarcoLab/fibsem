{
 "cells": [
  {
   "cell_type": "code",
   "execution_count": null,
   "metadata": {},
   "outputs": [],
   "source": [
    "%load_ext autoreload\n",
    "%autoreload 2\n",
    "from fibsem.structures import FibsemStagePosition, PatterningState\n",
    "from fibsem.structures import FibsemRectangleSettings, FibsemCircleSettings, FibsemLineSettings\n",
    "from fibsem import milling, patterning, utils\n",
    "from pprint import pprint\n",
    "\n",
    "from fibsem import utils\n",
    "\n",
    "import logging\n",
    "import time\n",
    "\n",
    "CONFIGURATION_PATH = \"/home/patrick/development/openfibsem/fibsem/fibsem/config/odemis-configuration.yaml\"\n",
    "microscope, settings = utils.setup_session(config_path=CONFIGURATION_PATH)\n",
    "\n",
    "# pip install pylibtiff"
   ]
  },
  {
   "cell_type": "code",
   "execution_count": null,
   "metadata": {},
   "outputs": [],
   "source": [
    "stage_position = microscope.get_stage_position()\n",
    "print('Stage position:', stage_position)"
   ]
  },
  {
   "cell_type": "code",
   "execution_count": null,
   "metadata": {},
   "outputs": [],
   "source": [
    "stage_position = microscope.get_stage_position()\n",
    "print('Stage position:', stage_position)\n",
    "\n",
    "microscope.move_stage_relative(FibsemStagePosition(x=50e-3))\n",
    "stage_position = microscope.get_stage_position()\n",
    "print('Stage position:', stage_position)\n",
    "\n",
    "import time\n",
    "time.sleep(2)\n",
    "\n",
    "microscope.move_stage_absolute(FibsemStagePosition(x=0, y=0, z=0, r=0, t=0))\n",
    "stage_position = microscope.get_stage_position()\n",
    "print('Stage position:', stage_position)"
   ]
  },
  {
   "cell_type": "code",
   "execution_count": null,
   "metadata": {},
   "outputs": [],
   "source": [
    "microscope.vertical_move(dx=0, dy=50e-6)"
   ]
  },
  {
   "cell_type": "code",
   "execution_count": null,
   "metadata": {},
   "outputs": [],
   "source": [
    "from fibsem import acquire\n",
    "from fibsem.structures import ImageSettings, BeamType, FibsemRectangle\n",
    "\n",
    "settings.image.beam_type = BeamType.ELECTRON\n",
    "settings.image.autocontrast = False\n",
    "settings.image.reduced_area = FibsemRectangle(0.25, 0.25, 0.5, 0.5)\n",
    "image = acquire.acquire_image(microscope, settings.image)\n",
    "\n",
    "%matplotlib inline\n",
    "import matplotlib.pyplot as plt\n",
    "plt.imshow(image.data, cmap='gray')\n",
    "plt.show()\n"
   ]
  },
  {
   "cell_type": "code",
   "execution_count": 5,
   "metadata": {},
   "outputs": [],
   "source": [
    "pattern_settings = FibsemRectangleSettings(\n",
    "    centre_x=0, centre_y=0, width=10e-6, height=10e-6, \n",
    "    depth=0.5e-6, time=10\n",
    ")\n",
    "microscope.draw_rectangle(pattern_settings)"
   ]
  },
  {
   "cell_type": "code",
   "execution_count": null,
   "metadata": {},
   "outputs": [],
   "source": [
    "microscope.run_milling(2e-9, 30e3, False)"
   ]
  },
  {
   "cell_type": "code",
   "execution_count": null,
   "metadata": {},
   "outputs": [],
   "source": [
    "PROTOCOL_PATH = \"/home/patrick/development/openfibsem/autolamella/autolamella/protocol/protocol-waffle.yaml\"\n",
    "protocol = utils.load_protocol(PROTOCOL_PATH)\n",
    "\n",
    "stages = patterning.get_milling_stages(\"trench\", protocol[\"milling\"])\n",
    "\n",
    "milling.mill_stages(microscope, stages)"
   ]
  },
  {
   "cell_type": "code",
   "execution_count": null,
   "metadata": {},
   "outputs": [],
   "source": [
    "microscope.estimate_milling_time()"
   ]
  },
  {
   "cell_type": "code",
   "execution_count": null,
   "metadata": {},
   "outputs": [],
   "source": [
    "# async milling\n",
    "microscope.draw_rectangle(pattern_settings)\n",
    "microscope.start_milling()\n",
    "\n",
    "while microscope.get_milling_state() is PatterningState.RUNNING:\n",
    "    time.sleep(5)\n",
    "    logging.info(f'Milling...: {microscope.get_milling_state()}')\n",
    "\n",
    "microscope.finish_milling(0, 0)"
   ]
  },
  {
   "cell_type": "code",
   "execution_count": null,
   "metadata": {},
   "outputs": [],
   "source": [
    "circle_pattern = FibsemCircleSettings(\n",
    "    centre_x=0, centre_y=0, radius=10e-6, depth=0.5e-6,\n",
    ")\n",
    "microscope.draw_circle(circle_pattern)"
   ]
  },
  {
   "cell_type": "code",
   "execution_count": 15,
   "metadata": {},
   "outputs": [],
   "source": [
    "line_pattern = FibsemLineSettings(\n",
    "    start_x=0, start_y=0, end_x=10e-6, end_y=10e-6, depth=0.5e-6\n",
    ")\n",
    "microscope.draw_line(line_pattern)"
   ]
  },
  {
   "cell_type": "code",
   "execution_count": null,
   "metadata": {},
   "outputs": [],
   "source": [
    "microscope.estimate_milling_time()"
   ]
  },
  {
   "cell_type": "code",
   "execution_count": 7,
   "metadata": {},
   "outputs": [],
   "source": [
    "microscope.run_milling(2e-9, 30e3, False)"
   ]
  },
  {
   "cell_type": "code",
   "execution_count": null,
   "metadata": {},
   "outputs": [],
   "source": [
    "microscope.finish_milling(0, 0)"
   ]
  },
  {
   "cell_type": "code",
   "execution_count": null,
   "metadata": {},
   "outputs": [],
   "source": []
  },
  {
   "cell_type": "markdown",
   "metadata": {},
   "source": [
    "## AutoLamella-Odemis (Headless)"
   ]
  },
  {
   "cell_type": "code",
   "execution_count": null,
   "metadata": {},
   "outputs": [],
   "source": [
    "%load_ext autoreload\n",
    "%autoreload 2\n",
    "\n",
    "from fibsem import utils\n",
    "\n",
    "from fibsem.structures import MicroscopeState\n",
    "from autolamella.structures import Lamella, Experiment\n",
    "from autolamella.waffle import run_autolamella\n",
    "from pprint import pprint\n",
    "\n",
    "from fibsem.microscopes.odemis_microscope import add_odemis_path\n",
    "add_odemis_path()\n",
    "\n",
    "from odemis.util.dataio import open_acquisition\n",
    "from odemis import model\n",
    "from pprint import pprint\n",
    "\n",
    "CONFIGURATION_PATH = \"/home/patrick/development/openfibsem/fibsem/fibsem/config/odemis-configuration.yaml\"\n",
    "# EXPERIMENT_PATH =  \"/home/patrick/development/openfibsem/autolamella/autolamella/log/Odemis-Headless-AutoLamella-2024-09-23-15-56/experiment.yaml\"\n",
    "EXPERIMENT_PATH = \"/home/patrick/development/openfibsem/autolamella/autolamella/log/AutoLamella-2024-09-30-11-45/experiment.yaml\"\n",
    "PROTOCOL_PATH = \"/home/patrick/development/openfibsem/autolamella/autolamella/protocol/protocol-odemis-on-grid.yaml\"\n",
    "\n",
    "microscope, settings = utils.setup_session(config_path=CONFIGURATION_PATH, \n",
    "                                           protocol_path=PROTOCOL_PATH)\n",
    "\n",
    "exp = Experiment.load(EXPERIMENT_PATH)\n",
    "pprint(exp)\n",
    "\n",
    "# headless mode (no gui, no ml)\n",
    "# pyyaml, pandas, numpy==1.26.3\n",
    "# pylibtiff for odemis\n"
   ]
  },
  {
   "cell_type": "code",
   "execution_count": null,
   "metadata": {},
   "outputs": [],
   "source": [
    "microscope.vertical_move(dx=50e-6, dy=20e-6)"
   ]
  },
  {
   "cell_type": "code",
   "execution_count": null,
   "metadata": {},
   "outputs": [],
   "source": [
    "run_autolamella(microscope, settings, exp, parent_ui=None)"
   ]
  },
  {
   "cell_type": "code",
   "execution_count": null,
   "metadata": {},
   "outputs": [],
   "source": [
    "# requirements\n",
    "# stage_position: FibsemStagePosition (stage-bare)                  -> acquire once position selected (can transform from fm-position)\n",
    "# microcope_state: dict microscope state                            -> acquire once position selected\n",
    "# reference_image: FibsemImage / OdemisImage (saved to disk)        -> acquire once position selected\n",
    "# protocol: dict milling protocol for each lamella                  -> load from file, allow user to edit\n",
    "# config: workflow configuration (supervision, alignment, etc)      -> load from file, allow user to edit\n",
    "\n",
    "# TODO: load odemis-image as reference image\n",
    "# TODO: draw milling stages in odemis\n",
    "# TODO: CryoFeature -> Lamella\n",
    "# TODO: protocol is not saved to same exp folder\n",
    "\n",
    "\n",
    "# CryoFeature\n",
    "# - stage_position\n",
    "# - microscope_state\n",
    "# - reference_image\n",
    "# - milling_protocol\n",
    "# - config\n",
    "\n",
    "lamella = exp.positions[0]\n",
    "\n",
    "print(lamella.state.microscope_state.stage_position)\n",
    "print(lamella.state)\n",
    "print(lamella.fiducial_area)\n",
    "print(lamella.path)\n",
    "print(lamella.info)\n",
    "pprint(lamella.protocol)\n",
    "\n",
    "\n",
    "\n",
    "# odemis: save_milling_position:\n",
    "# - stage_position\n",
    "# - microscope_state\n",
    "# - reference_image\n",
    "# - milling_protocol\n",
    "\n",
    "\n",
    "\n",
    "# add to autoscript_client /  server\n",
    "# vertical move\n",
    "\n",
    "\n",
    "\n",
    "# req milling parameters\n",
    "# center\n",
    "# width\n",
    "# height\n",
    "# trench_height\n",
    "# depth\n",
    "# cross_section\n",
    "# pattern_type\n",
    "\n",
    "# only support non-fiducial milling for now\n",
    "\n",
    "\n",
    "pprint(settings.protocol[\"options\"])"
   ]
  },
  {
   "cell_type": "code",
   "execution_count": null,
   "metadata": {},
   "outputs": [],
   "source": [
    "PATH = \"/home/patrick/Pictures/20240729-450/test-image-FIBSEM-001.ome.tiff\"\n",
    "\n",
    "acq = open_acquisition(PATH)\n",
    "\n",
    "md = acq[0].metadata[model.MD_EXTRA_SETTINGS]\n",
    "ms = MicroscopeState.from_odemis_dict(md)\n",
    "pprint(ms.stage_position)\n",
    "pprint(ms.electron_beam)\n",
    "pprint(ms.electron_detector)\n",
    "pprint(ms.ion_beam)\n",
    "pprint(ms.ion_detector)"
   ]
  },
  {
   "cell_type": "code",
   "execution_count": null,
   "metadata": {},
   "outputs": [],
   "source": [
    "microscope.set_microscope_state(ms)"
   ]
  },
  {
   "cell_type": "code",
   "execution_count": 4,
   "metadata": {},
   "outputs": [],
   "source": [
    "from datetime import datetime\n",
    "now = datetime.now()\n",
    "DATE = now.strftime(\"%Y-%m-%d-%H-%M\")\n",
    "\n",
    "from autolamella.config import EXPERIMENT_NAME\n",
    "\n",
    "PATH = \"/home/patrick/development/openfibsem/autolamella/autolamella/log\"\n",
    "NAME = f\"{EXPERIMENT_NAME}-{DATE}\"\n",
    "\n",
    "experiment = Experiment(path=PATH, name=NAME, program=\"AutoLamella\", method=\"on-grid\")\n",
    "experiment.save()\n",
    "\n",
    "print(experiment.path)\n",
    "print(experiment.name)\n",
    "print(experiment)"
   ]
  },
  {
   "cell_type": "code",
   "execution_count": 7,
   "metadata": {},
   "outputs": [],
   "source": [
    "from copy import deepcopy\n",
    "from fibsem.microscopes.odemis_microscope import add_odemis_path\n",
    "from autolamella.compat.odemis import create_lamella_from_feature\n",
    "\n",
    "add_odemis_path()\n",
    "\n",
    "from odemis.acq.feature import CryoFeature, model\n",
    "feature = CryoFeature(name=\"Feature-2\", x=1e-6, y=20e-6, z=10e-6)\n",
    "feature.stage_pos = model.VigilantAttribute({\"x\": 20e-6, \"y\": 50e-6, \"z\": 5e-6, \"rx\": 0.61, \"rz\": 0}, unit=\"m\")\n",
    "\n",
    "lamella =  create_lamella_from_feature(feature,\n",
    "                                       path=experiment.path, \n",
    "                                       state=microscope.get_microscope_state(), \n",
    "                                       num=len(experiment.positions) + 1)\n",
    "\n",
    "experiment.positions.append(deepcopy(lamella))\n",
    "experiment.save()\n"
   ]
  },
  {
   "cell_type": "code",
   "execution_count": null,
   "metadata": {},
   "outputs": [],
   "source": [
    "pprint(experiment)"
   ]
  },
  {
   "cell_type": "code",
   "execution_count": null,
   "metadata": {},
   "outputs": [],
   "source": [
    "run_autolamella(microscope=microscope, \n",
    "                settings=settings, \n",
    "                experiment=experiment,\n",
    "                parent_ui=None)"
   ]
  },
  {
   "cell_type": "code",
   "execution_count": null,
   "metadata": {},
   "outputs": [],
   "source": [
    "t = 34.061224\n",
    "print(f\"{t:.2f}\")"
   ]
  },
  {
   "cell_type": "code",
   "execution_count": 19,
   "metadata": {},
   "outputs": [],
   "source": [
    "del experiment.positions[0]"
   ]
  },
  {
   "cell_type": "code",
   "execution_count": null,
   "metadata": {},
   "outputs": [],
   "source": [
    "pprint(settings.protocol['options'])\n"
   ]
  },
  {
   "cell_type": "code",
   "execution_count": null,
   "metadata": {},
   "outputs": [],
   "source": [
    "# supported options\n",
    "# use_microexpansion:\n",
    "# lamella_tilt_angle:\n",
    "# num_polishing_steps: \n",
    "\n",
    "# not supported (for now)\n",
    "# use_fiducial: only support full-frame alignment"
   ]
  },
  {
   "cell_type": "code",
   "execution_count": null,
   "metadata": {},
   "outputs": [],
   "source": [
    "pprint(exp.positions[0].protocol)"
   ]
  },
  {
   "cell_type": "code",
   "execution_count": null,
   "metadata": {},
   "outputs": [],
   "source": []
  }
 ],
 "metadata": {
  "kernelspec": {
   "display_name": "fibsem-headless",
   "language": "python",
   "name": "python3"
  },
  "language_info": {
   "codemirror_mode": {
    "name": "ipython",
    "version": 3
   },
   "file_extension": ".py",
   "mimetype": "text/x-python",
   "name": "python",
   "nbconvert_exporter": "python",
   "pygments_lexer": "ipython3",
   "version": "3.9.19"
  }
 },
 "nbformat": 4,
 "nbformat_minor": 2
}
