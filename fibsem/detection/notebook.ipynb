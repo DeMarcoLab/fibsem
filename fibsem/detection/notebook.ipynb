{
 "cells": [
  {
   "cell_type": "code",
   "execution_count": 1,
   "metadata": {},
   "outputs": [
    {
     "name": "stderr",
     "output_type": "stream",
     "text": [
      "c:\\Users\\rkan0039\\Anaconda3\\envs\\fibsem\\lib\\site-packages\\tqdm\\auto.py:22: TqdmWarning: IProgress not found. Please update jupyter and ipywidgets. See https://ipywidgets.readthedocs.io/en/stable/user_install.html\n",
      "  from .autonotebook import tqdm as notebook_tqdm\n"
     ]
    }
   ],
   "source": [
    "%load_ext autoreload\n",
    "%autoreload 2\n",
    "#new testing\n",
    "import glob\n",
    "from fibsem.segmentation.model import SegmentationModel\n",
    "import tifffile as tf\n",
    "import matplotlib.pyplot as plt\n",
    "\n",
    "\n",
    "from random import shuffle\n",
    "\n",
    "import numpy as np \n",
    "# from autoscript_sdb_microscope_client.structures import AdornedImage\n",
    "\n",
    "from fibsem.structures import Point\n",
    "from fibsem.imaging import masks\n",
    "from fibsem.detection.detection import NeedleTip, LamellaCentre, locate_shift_between_features_v2,plot_det_result_v2\n",
    "import skimage\n",
    "\n",
    "from pathlib import Path\n",
    "from dataclasses import dataclass\n",
    "\n",
    "from fibsem import conversions\n",
    "\n",
    "\n",
    "from pprint import pprint\n",
    "\n",
    "\n",
    "from fibsem.segmentation.model import load_model"
   ]
  },
  {
   "cell_type": "markdown",
   "metadata": {},
   "source": [
    "## Detection Goals\n",
    "\n",
    "\n",
    "1. Detect Needle Tip\n",
    "2. Detect Lamella Centre\n",
    "3. Detect Lamella Edges (Right / Left, Up / Down)\n",
    "\n",
    "account for multiple lamellas\n",
    "mask centre?"
   ]
  },
  {
   "cell_type": "code",
   "execution_count": 5,
   "metadata": {},
   "outputs": [
    {
     "name": "stdout",
     "output_type": "stream",
     "text": [
      "93\n"
     ]
    },
    {
     "ename": "TypeError",
     "evalue": "detect() missing 1 required positional argument: 'self'",
     "output_type": "error",
     "traceback": [
      "\u001b[1;31m---------------------------------------------------------------------------\u001b[0m",
      "\u001b[1;31mTypeError\u001b[0m                                 Traceback (most recent call last)",
      "Cell \u001b[1;32mIn[5], line 50\u001b[0m\n\u001b[0;32m     47\u001b[0m \u001b[39m# detect features\u001b[39;00m\n\u001b[0;32m     48\u001b[0m features \u001b[39m=\u001b[39m [NeedleTip, LamellaCentre]\n\u001b[1;32m---> 50\u001b[0m det \u001b[39m=\u001b[39m locate_shift_between_features_v2(img, model, features\u001b[39m=\u001b[39;49mfeatures, pixelsize\u001b[39m=\u001b[39;49m\u001b[39m10e-9\u001b[39;49m)\n\u001b[0;32m     52\u001b[0m \u001b[39m# plot\u001b[39;00m\n\u001b[0;32m     53\u001b[0m plot_det_result_v2(det)\n",
      "File \u001b[1;32m~\\Documents\\codeFIBSEM\\fibsem\\fibsem\\detection\\detection.py:353\u001b[0m, in \u001b[0;36mlocate_shift_between_features_v2\u001b[1;34m(image, model, features, pixelsize)\u001b[0m\n\u001b[0;32m    350\u001b[0m mask \u001b[39m=\u001b[39m model\u001b[39m.\u001b[39minference(image)\n\u001b[0;32m    352\u001b[0m \u001b[39m# detect features\u001b[39;00m\n\u001b[1;32m--> 353\u001b[0m feature_1, feature_2 \u001b[39m=\u001b[39m detect_features_v2(image, mask, features)\n\u001b[0;32m    355\u001b[0m \u001b[39m# calculate distance between features\u001b[39;00m\n\u001b[0;32m    356\u001b[0m distance_px \u001b[39m=\u001b[39m conversions\u001b[39m.\u001b[39mdistance_between_points(\n\u001b[0;32m    357\u001b[0m     feature_1\u001b[39m.\u001b[39mfeature_px, feature_2\u001b[39m.\u001b[39mfeature_px\n\u001b[0;32m    358\u001b[0m )\n",
      "File \u001b[1;32m~\\Documents\\codeFIBSEM\\fibsem\\fibsem\\detection\\detection.py:335\u001b[0m, in \u001b[0;36mdetect_features_v2\u001b[1;34m(img, mask, features)\u001b[0m\n\u001b[0;32m    331\u001b[0m detection_features \u001b[39m=\u001b[39m []\n\u001b[0;32m    333\u001b[0m \u001b[39mfor\u001b[39;00m feature \u001b[39min\u001b[39;00m features:\n\u001b[1;32m--> 335\u001b[0m     feature\u001b[39m.\u001b[39;49mdetect(img\u001b[39m=\u001b[39;49mimg,mask\u001b[39m=\u001b[39;49mmask) \n\u001b[0;32m    337\u001b[0m     detection_features\u001b[39m.\u001b[39mappend(feature)\n\u001b[0;32m    339\u001b[0m \u001b[39mreturn\u001b[39;00m detection_features\n",
      "\u001b[1;31mTypeError\u001b[0m: detect() missing 1 required positional argument: 'self'"
     ]
    }
   ],
   "source": [
    "\n",
    "\n",
    "# data\n",
    "\n",
    "from fibsem import config\n",
    "\n",
    "\n",
    "\n",
    "# filenames = glob.glob(r\"C:\\Users\\Admin\\Github\\fibsem\\fibsem\\segmentation\\data\\train\\images/*.tif\")\n",
    "filenames = glob.glob(r\"C:\\Users\\rkan0039\\Documents\\detection_training\\images\\*.tif\")\n",
    "print(len(filenames))\n",
    "\n",
    "# model\n",
    "checkpoint = r\"C:\\Users\\rkan0039\\Documents\\detection_training\\models\\model4.pt\"\n",
    "model = load_model(checkpoint,encoder=\"resnet34\")\n",
    "\n",
    "\n",
    "\n",
    "\n",
    "def to_bounding_box(contour):\n",
    "    # convert a contour to bounding box (xc, yc, w, h)\n",
    "    # ref : https://muthu.co/draw-bounding-box-around-contours-skimage/\n",
    "\n",
    "    xmin, xmax = np.min(contour[:, 1]), np.max(contour[:, 1])\n",
    "    ymin, ymax = np.min(contour[:, 0]), np.max(contour[:, 0])\n",
    "\n",
    "    w = (xmax - xmin)\n",
    "    h = (ymax - ymin)\n",
    "    xc = xmin + w // 2\n",
    "    yc = ymin + h // 2\n",
    "    \n",
    "    return [xc, yc, w, h]\n",
    "    \n",
    "# THINGS TO TRY:\n",
    "# masking centre area for lamella\n",
    "# using contours to extract individual lamellas -> pick centre\n",
    "\n",
    "\n",
    "shuffle(filenames)\n",
    "for i, fname in enumerate(filenames):\n",
    "\n",
    "    img = tf.imread(fname)\n",
    "\n",
    "    # inference\n",
    "    mask = model.inference(img)\n",
    "\n",
    "    # detect features\n",
    "    features = [NeedleTip(), LamellaCentre()]\n",
    "\n",
    "    det = locate_shift_between_features_v2(img, model, features=features, pixelsize=10e-9)\n",
    "\n",
    "    # plot\n",
    "    plot_det_result_v2(det)\n",
    "\n",
    "\n",
    "    if i == 5:\n",
    "        break\n"
   ]
  },
  {
   "cell_type": "code",
   "execution_count": null,
   "metadata": {},
   "outputs": [],
   "source": [
    "\n",
    "\n",
    "# mask helper\n",
    "\n",
    "\n",
    "# centre circle\n",
    "# left/right half\n",
    "# top/bottom half\n",
    "\n",
    "\n",
    "from fibsem.imaging import masks\n",
    "import numpy as np\n",
    "\n",
    "\n",
    "arr = np.zeros(shape=(720, 1200 ))\n",
    "\n",
    "circ_mask = masks.create_circle_mask(arr.shape, radius=128)\n",
    "\n",
    "bl_mask = masks.create_area_mask(arr, left=True, lower=True)\n",
    "ul_mask = masks.create_area_mask(arr, left=True, upper=True)\n",
    "br_mask = masks.create_area_mask(arr, left=True, lower=True)\n",
    "ur_mask = masks.create_area_mask(arr, right=True, upper=True)\n",
    "mask = masks.create_area_mask(arr, left=True)\n",
    "\n",
    "\n",
    "fig, ax = plt.subplots(1, 5, figsize=(15, 7))\n",
    "ax[0].imshow(bl_mask)\n",
    "ax[1].imshow(ul_mask)\n",
    "ax[2].imshow(br_mask)\n",
    "ax[3].imshow(ur_mask)\n",
    "ax[4].imshow(mask)\n",
    "plt.show()\n",
    "\n"
   ]
  },
  {
   "cell_type": "code",
   "execution_count": null,
   "metadata": {},
   "outputs": [],
   "source": [
    "# contour stuff\n",
    "    # options for getting individual lamella from multiple: contours, masking \n",
    "    # bboxes = []\n",
    "    # contours = skimage.measure.find_contours(lamella_mask[:, :, 0].astype(np.uint8), 0.8)\n",
    "    # for contour in contours:\n",
    "    #     bboxes.append(to_bounding_box(contour))\n",
    "        # for contour in contours:\n",
    "    #     ax[1].plot(contour[:, 1], contour[:, 0], color=\"white\", linewidth=1)\n",
    "    "
   ]
  },
  {
   "cell_type": "code",
   "execution_count": null,
   "metadata": {},
   "outputs": [],
   "source": []
  },
  {
   "cell_type": "code",
   "execution_count": null,
   "metadata": {},
   "outputs": [],
   "source": [
    "## vertical mask for eucentric correction\n",
    "\n",
    "# autoreload 2\n",
    "%load_ext autoreload\n",
    "%autoreload 2\n",
    "\n",
    "from fibsem.imaging import masks\n",
    "import numpy as np\n",
    "import matplotlib.pyplot as plt\n",
    "\n",
    "# mask only the central vertical area\n",
    "arr = np.zeros(shape=(1024, 1536 ))\n",
    "\n",
    "mask = masks.create_vertical_mask(arr)\n",
    "\n",
    "fig, ax = plt.subplots(1, 1, figsize=(15, 7))\n",
    "ax.imshow(mask)\n",
    "plt.show()\n",
    "\n"
   ]
  },
  {
   "cell_type": "code",
   "execution_count": null,
   "metadata": {},
   "outputs": [],
   "source": []
  }
 ],
 "metadata": {
  "kernelspec": {
   "display_name": "Python 3.9.12 ('autoliftout')",
   "language": "python",
   "name": "python3"
  },
  "language_info": {
   "codemirror_mode": {
    "name": "ipython",
    "version": 3
   },
   "file_extension": ".py",
   "mimetype": "text/x-python",
   "name": "python",
   "nbconvert_exporter": "python",
   "pygments_lexer": "ipython3",
   "version": "3.9.15"
  },
  "orig_nbformat": 4,
  "vscode": {
   "interpreter": {
    "hash": "0ae5a722a47a2a43262ee6d419b08874066f95ae58929cb636099b0410b63756"
   }
  }
 },
 "nbformat": 4,
 "nbformat_minor": 2
}
