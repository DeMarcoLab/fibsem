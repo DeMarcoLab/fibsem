{
 "cells": [
  {
   "attachments": {},
   "cell_type": "markdown",
   "metadata": {},
   "source": [
    "# Detection Notebook"
   ]
  },
  {
   "attachments": {},
   "cell_type": "markdown",
   "metadata": {},
   "source": [
    "### Load Log Data\n"
   ]
  },
  {
   "cell_type": "code",
   "execution_count": null,
   "metadata": {},
   "outputs": [],
   "source": [
    "%load_ext autoreload\n",
    "%autoreload 2\n",
    "\n",
    "import os\n",
    "import glob\n",
    "\n",
    "\n",
    "import pandas as pd\n",
    "import numpy as np\n",
    "import plotly.express as px\n",
    "\n",
    "\n",
    "path = \"/home/patrick/github/fibsem/fibsem/log/data\"\n",
    "df = pd.read_csv(os.path.join(path, \"data.csv\"))\n"
   ]
  },
  {
   "cell_type": "code",
   "execution_count": null,
   "metadata": {},
   "outputs": [],
   "source": [
    "# plot p.x, p.y color by feature\n",
    "fig = px.scatter(df, x=\"p.x\", y=\"p.y\", color=\"feature\")\n",
    "fig.show()\n"
   ]
  },
  {
   "cell_type": "code",
   "execution_count": null,
   "metadata": {},
   "outputs": [],
   "source": []
  },
  {
   "cell_type": "code",
   "execution_count": null,
   "metadata": {},
   "outputs": [],
   "source": [
    "\n",
    "from fibsem.detection import detection\n",
    "import random\n",
    "# get list of unique images\n",
    "filenames = df[\"image\"].unique()\n",
    "random.shuffle(filenames)\n",
    "\n",
    "i=0\n",
    "\n",
    "# loop through each image, get all features\n",
    "for fname in filenames:\n",
    "\n",
    "    det = detection._det_from_df(df, path, fname)\n",
    "\n",
    "    if det is None:\n",
    "        continue\n",
    "\n",
    "    detection.plot_det_result_v2(det)\n",
    "\n",
    "    if i==20:\n",
    "        break\n",
    "\n",
    "    i+=1\n",
    "\n"
   ]
  },
  {
   "cell_type": "code",
   "execution_count": null,
   "metadata": {},
   "outputs": [],
   "source": []
  },
  {
   "cell_type": "code",
   "execution_count": null,
   "metadata": {},
   "outputs": [],
   "source": []
  },
  {
   "attachments": {},
   "cell_type": "markdown",
   "metadata": {},
   "source": [
    "## Multiple Feature Detection\n",
    "\n",
    "P1: Contour Detection\n",
    "\n",
    "P2: Instance Segmentation Model\n",
    "\n"
   ]
  },
  {
   "cell_type": "code",
   "execution_count": null,
   "metadata": {},
   "outputs": [],
   "source": [
    "%load_ext autoreload\n",
    "%autoreload 2\n",
    "\n",
    "import os\n",
    "from copy import deepcopy\n",
    "from pathlib import Path\n",
    "\n",
    "import napari\n",
    "import napari.utils.notifications\n",
    "import numpy as np\n",
    "import tifffile as tff\n",
    "from PyQt5 import QtWidgets\n",
    "\n",
    "from fibsem.detection import detection\n",
    "from fibsem.detection import utils as det_utils\n",
    "from fibsem.detection.detection import DetectedFeatures\n",
    "from fibsem.segmentation import model as fibsem_model\n",
    "from fibsem.segmentation.model import load_model\n",
    "from fibsem.structures import (\n",
    "    BeamType,\n",
    "    FibsemImage,\n",
    "    Point,\n",
    ")\n",
    "from PyQt5.QtCore import pyqtSignal\n",
    "from fibsem.ui.qtdesigner_files import FibsemDetectionWidget\n",
    "import logging\n",
    "\n",
    "CHECKPOINT_PATH = os.path.join(os.path.dirname(fibsem_model.__file__), \"models\", \"model4.pt\")"
   ]
  },
  {
   "cell_type": "code",
   "execution_count": null,
   "metadata": {},
   "outputs": [],
   "source": [
    "%load_ext autoreload\n",
    "%autoreload 2\n",
    "\n",
    "import os\n",
    "from copy import deepcopy\n",
    "from pathlib import Path\n",
    "\n",
    "import napari\n",
    "import napari.utils.notifications\n",
    "import numpy as np\n",
    "import tifffile as tff\n",
    "from PyQt5 import QtWidgets\n",
    "\n",
    "from fibsem.detection import detection\n",
    "from fibsem.detection import utils as det_utils\n",
    "from fibsem.detection.detection import DetectedFeatures\n",
    "from fibsem.segmentation import model as fibsem_model\n",
    "from fibsem.segmentation.model import load_model\n",
    "from fibsem.structures import (\n",
    "    BeamType,\n",
    "    FibsemImage,\n",
    "    Point,\n",
    ")\n",
    "from PyQt5.QtCore import pyqtSignal\n",
    "from fibsem.ui.qtdesigner_files import FibsemDetectionWidget\n",
    "import logging\n",
    "\n",
    "from fibsem.detection.detection import Feature, LamellaCentre, LamellaLeftEdge, LamellaRightEdge\n",
    "import matplotlib.pyplot as plt\n",
    "\n",
    "CHECKPOINT_PATH = os.path.join(os.path.dirname(fibsem_model.__file__), \"models\", \"model4.pt\")"
   ]
  },
  {
   "cell_type": "code",
   "execution_count": null,
   "metadata": {},
   "outputs": [],
   "source": [
    "checkpoint = str(CHECKPOINT_PATH)\n",
    "encoder=\"resnet34\"\n",
    "num_classes = 3\n",
    "model = load_model(checkpoint=checkpoint, encoder=encoder, nc=num_classes)\n",
    "\n",
    "features = [detection.NeedleTip(), detection.LamellaCentre()]\n",
    "\n",
    "image = FibsemImage.load(os.path.join(os.path.dirname(detection.__file__), \"test_image.tif\"))"
   ]
  },
  {
   "cell_type": "code",
   "execution_count": null,
   "metadata": {},
   "outputs": [],
   "source": [
    "# detect features\n",
    "features = [detection.NeedleTip(), detection.LamellaCentre(), \n",
    "            detection.LamellaLeftEdge(), detection.LamellaRightEdge(), \n",
    "            detection.LandingPost(), detection.ImageCentre()]\n",
    "pixelsize = image.metadata.pixel_size.x if image.metadata is not None else 25e-9\n",
    "det = detection.locate_shift_between_features_v2(\n",
    "    deepcopy(image.data), model, features=features, pixelsize=pixelsize\n",
    ")\n",
    "\n",
    "# plot image and mask overlay\n",
    "detection.plot_det_result_v2(det)"
   ]
  },
  {
   "cell_type": "code",
   "execution_count": null,
   "metadata": {},
   "outputs": [],
   "source": [
    "det.distance"
   ]
  },
  {
   "cell_type": "code",
   "execution_count": null,
   "metadata": {},
   "outputs": [],
   "source": [
    "\n",
    "\n",
    "def create_random_image(n: int = 3):\n",
    "    image = np.zeros(shape=(1024, 1536 ))\n",
    "    # create two squares at two random non-overlapping locations\n",
    "    x1 = np.random.randint(0, image.shape[1])\n",
    "    y1 = np.random.randint(0, image.shape[0])\n",
    "\n",
    "    x2 = np.random.randint(0, image.shape[1])\n",
    "    y2 = np.random.randint(0, image.shape[0])\n",
    "\n",
    "    while (x1-x2)**2 + (y1-y2)**2 < 100**2:\n",
    "        x2 = np.random.randint(0, image.shape[1])\n",
    "        y2 = np.random.randint(0, image.shape[0])\n",
    "\n",
    "    image[y1:y1+100, x1:x1+100] = 1\n",
    "    image[y2:y2+100, x2:x2+100] = 1\n",
    "\n",
    "    # convert image to int\n",
    "    image = image.astype(np.uint8)\n",
    "    return image\n",
    "\n",
    "img1 = create_random_image()\n",
    "img2 = create_random_image()\n",
    "img3 = create_random_image()\n",
    "image = img1 + img2 + img3\n",
    "mask = np.clip(image, image, 1)\n"
   ]
  },
  {
   "cell_type": "code",
   "execution_count": null,
   "metadata": {},
   "outputs": [],
   "source": [
    "features = [\n",
    "            detection.LamellaCentre(), \n",
    "            # detection.LamellaLeftEdge(), \n",
    "            # detection.LamellaRightEdge(), \n",
    "            ]\n",
    "\n",
    "\n",
    "point = Point(1400, 800)\n",
    "features = detection.detect_features_v2(image, mask, features, filter=True, point=None)\n",
    "\n",
    "det = DetectedFeatures(features, image, mask, det_utils.decode_segmap(mask), pixelsize=25e-9)\n",
    "\n",
    "detection.plot_det_result_v2(det)\n",
    "\n",
    "from pprint import pprint \n",
    "pprint(features)\n",
    "\n",
    "features = [\n",
    "            detection.LamellaCentre(), \n",
    "            # detection.LamellaLeftEdge(), \n",
    "            # detection.LamellaRightEdge(), \n",
    "            ]\n",
    "\n",
    "features = detection.detect_features_v2(image, mask, features, filter=False)\n",
    "\n",
    "det = DetectedFeatures(features, image, mask, det_utils.decode_segmap(mask), pixelsize=25e-9)\n",
    "\n",
    "detection.plot_det_result_v2(det)\n",
    "\n",
    "from pprint import pprint \n",
    "pprint(features)"
   ]
  },
  {
   "cell_type": "code",
   "execution_count": null,
   "metadata": {},
   "outputs": [],
   "source": []
  }
 ],
 "metadata": {
  "kernelspec": {
   "display_name": "Python 3.9.12 ('autoliftout')",
   "language": "python",
   "name": "python3"
  },
  "language_info": {
   "codemirror_mode": {
    "name": "ipython",
    "version": 3
   },
   "file_extension": ".py",
   "mimetype": "text/x-python",
   "name": "python",
   "nbconvert_exporter": "python",
   "pygments_lexer": "ipython3",
   "version": "3.9.16"
  },
  "orig_nbformat": 4,
  "vscode": {
   "interpreter": {
    "hash": "0ae5a722a47a2a43262ee6d419b08874066f95ae58929cb636099b0410b63756"
   }
  }
 },
 "nbformat": 4,
 "nbformat_minor": 2
}
