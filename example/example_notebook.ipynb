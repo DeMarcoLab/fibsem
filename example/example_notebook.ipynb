{
 "cells": [
  {
   "cell_type": "markdown",
   "metadata": {},
   "source": [
    "# Example Notebook\n",
    "- Connecting and Configuring\n",
    "- Setting and Getting Parameters\n",
    "- Image Acquisition\n",
    "- Stage Movement\n",
    "- FIB Milling\n",
    "- Segmentation and Feature Detection\n",
    "- Some Examples"
   ]
  },
  {
   "cell_type": "markdown",
   "metadata": {},
   "source": [
    "## Connecting\n"
   ]
  },
  {
   "cell_type": "code",
   "execution_count": null,
   "metadata": {},
   "outputs": [],
   "source": [
    "%load_ext autoreload\n",
    "%autoreload 2\n",
    "\n",
    "from fibsem import utils, acquire, movement\n",
    "from fibsem.structures import BeamType, Point, FibsemImage, FibsemStagePosition\n",
    "\n",
    "import numpy as np\n",
    "import matplotlib.pyplot as plt\n",
    "import os\n",
    "\n",
    "# the default configuration is found in fibsem/config/user-configurations.yaml.\n",
    "# if you want to use a different configuration, you can specify it there, in the ui, \n",
    "# or as an argument to setup_session\n",
    "# the configuration is stored in microscope.system and returned from setup_session as settings.\n",
    "\n",
    "# connect to microscope\n",
    "CONFIG_PATH = \"../fibsem/config/microscope-configuration.yaml\"\n",
    "microscope, settings = utils.setup_session(config_path=CONFIG_PATH)\n"
   ]
  },
  {
   "cell_type": "markdown",
   "metadata": {},
   "source": [
    "## Setting and Getting Parameters"
   ]
  },
  {
   "cell_type": "code",
   "execution_count": null,
   "metadata": {},
   "outputs": [],
   "source": [
    "# set\n",
    "microscope.set(\"working_distance\", 4e-3, beam_type=BeamType.ELECTRON)\n",
    "microscope.set(\"beam_current\", 1e-9, beam_type=BeamType.ION)\n",
    "\n",
    "# get \n",
    "wd = microscope.get(\"working_distance\", beam_type=BeamType.ELECTRON)\n",
    "print(f\"Working distance: {wd} m\")\n",
    "\n",
    "bc = microscope.get(\"beam_current\", beam_type=BeamType.ION)\n",
    "print(f\"Ion beam current: {bc} A\")\n",
    "\n",
    "beam_settings = microscope.get_beam_settings(beam_type=BeamType.ELECTRON)\n",
    "print(f\"Beam settings: {beam_settings}\")"
   ]
  },
  {
   "cell_type": "code",
   "execution_count": null,
   "metadata": {},
   "outputs": [],
   "source": [
    "# you can list available parameters with get_available_values. Note that not every value returns a list of available values.\n",
    "\n",
    "fib_currents_available = microscope.get_available_values(\"current\", beam_type=BeamType.ION)\n",
    "print(f\"Available FIB Currents: {fib_currents_available}\")\n",
    "\n",
    "fib_plasma_gases = microscope.get_available_values(\"plasma_gas\", beam_type=BeamType.ION)\n",
    "print(f\"Available FIB Plasma Gases: {fib_plasma_gases}\")"
   ]
  },
  {
   "cell_type": "code",
   "execution_count": null,
   "metadata": {},
   "outputs": [],
   "source": [
    "# following is used for changing system settings. The defaults are loaded from the configuration.yaml file.\n",
    "\n",
    "# is available?\n",
    "print('FIB Plasma is available:', microscope.is_available(\"ion_plasma\"))\n",
    "# set available\n",
    "microscope.set_available(\"ion_plasma\", True)\n",
    "print('FIB Plasma is available:', microscope.is_available(\"ion_plasma\"))\n",
    "\n",
    "# change plasma gas\n",
    "# microscope.set(\"plasma_gas\", \"Xenon\", beam_type=BeamType.ION) # uncomment this line, if you want to change the plasma gas (it will take ~10 mins)\n",
    "print('Plasma gas:', microscope.get(\"plasma_gas\", beam_type=BeamType.ION))"
   ]
  },
  {
   "cell_type": "markdown",
   "metadata": {},
   "source": [
    "## Image Acquisition"
   ]
  },
  {
   "cell_type": "code",
   "execution_count": null,
   "metadata": {},
   "outputs": [],
   "source": [
    "from fibsem import acquire\n",
    "from fibsem.structures import ImageSettings\n",
    "\n",
    "# image settings\n",
    "image_settings = ImageSettings(\n",
    "    resolution = [1536, 1024], \n",
    "    dwell_time=1.0e-6,\n",
    "    hfw=80-6,\n",
    "    beam_type=BeamType.ELECTRON,\n",
    "    autocontrast=True,\n",
    ")\n",
    "\n",
    "# acquire image\n",
    "image = acquire.new_image(microscope, image_settings)"
   ]
  },
  {
   "cell_type": "code",
   "execution_count": null,
   "metadata": {},
   "outputs": [],
   "source": [
    "# acquire multiple images with different hfw (and saving them)\n",
    "image_settings.beam_type = BeamType.ELECTRON\n",
    "image_settings.autocontrast = False\n",
    "image_settings.save = True\n",
    "image_settings.path = os.path.join(os.getcwd(), \"demo\", \"imaging\")\n",
    "os.makedirs(image_settings.path, exist_ok=True)\n",
    "\n",
    "hfws = [80e-6, 150e-6, 400e-6, 900e-6]\n",
    "for i, hfw in enumerate(hfws):\n",
    "\n",
    "    image_settings.hfw = hfw\n",
    "    image_settings.filename = f\"hfws_{i:02d}\"\n",
    "\n",
    "    sem_image = acquire.new_image(microscope, image_settings)\n"
   ]
  },
  {
   "cell_type": "code",
   "execution_count": null,
   "metadata": {},
   "outputs": [],
   "source": [
    "# loading images from file\n",
    "\n",
    "import glob\n",
    "from fibsem.structures import FibsemImage\n",
    "\n",
    "filenames = sorted(glob.glob(os.path.join(image_settings.path, \"hfws*.tif\")))\n",
    "\n",
    "# plot wiht subplot\n",
    "fig, axes = plt.subplots(1, len(filenames), figsize=(15, 5))\n",
    "for fname in filenames:\n",
    "\n",
    "    image = FibsemImage.load(fname)\n",
    "    ax = axes[filenames.index(fname)]\n",
    "    ax.imshow(image.data, cmap=\"gray\")\n",
    "    ax.set_title(f\"{image.metadata.image_settings.filename} - {image.metadata.image_settings.hfw*1e6:.0f} um\")\n",
    "    ax.axis(\"off\")\n",
    "\n",
    "# plotting \n",
    "plt.tight_layout()\n",
    "plt.subplots_adjust(wspace=0.01)\n",
    "plt.savefig(os.path.join(image_settings.path, \"hfws.png\"), dpi=300)\n",
    "plt.show()"
   ]
  },
  {
   "cell_type": "code",
   "execution_count": null,
   "metadata": {},
   "outputs": [],
   "source": [
    "# acquire images with both beams\n",
    "image_settings.save = False\n",
    "sem_image, fib_image = acquire.take_reference_images(microscope, image_settings)\n",
    "\n",
    "fig, ax = plt.subplots(1, 2, figsize=(10, 5))\n",
    "ax[0].imshow(sem_image.data, cmap=\"gray\")\n",
    "ax[0].set_title(\"SEM\")\n",
    "ax[0].axis(\"off\")\n",
    "ax[1].imshow(fib_image.data, cmap=\"gray\")\n",
    "ax[1].set_title(\"FIB\")\n",
    "ax[1].axis(\"off\")\n",
    "plt.tight_layout()\n",
    "plt.show()\n"
   ]
  },
  {
   "cell_type": "markdown",
   "metadata": {},
   "source": [
    "## Stage Movement\n",
    "Core stage movement functionality"
   ]
  },
  {
   "cell_type": "code",
   "execution_count": null,
   "metadata": {},
   "outputs": [],
   "source": [
    "# helper for plotting images\n",
    "def plot_images(sem_image0, fib_image0, sem_image1, fib_image1):\n",
    "    # plot images\n",
    "    fig, axes = plt.subplots(2, 2, figsize=(10, 7))\n",
    "    axes[0][0].imshow(sem_image0.data, cmap=\"gray\")\n",
    "    axes[0][0].set_title(\"SEM (pre-movement)\")\n",
    "    # crosshair, centre, yellow\n",
    "    axes[0][0].plot(sem_image0.data.shape[1]/2, sem_image0.data.shape[0]/2, \"y+\", ms=20)\n",
    "    axes[0][1].imshow(fib_image0.data, cmap=\"gray\")\n",
    "    axes[0][1].set_title(\"FIB (pre-movement)\")\n",
    "    axes[0][1].plot(fib_image0.data.shape[1]/2, fib_image0.data.shape[0]/2, \"y+\", ms=20)\n",
    "\n",
    "    axes[1][0].imshow(sem_image1.data, cmap=\"gray\")\n",
    "    axes[1][0].set_title(\"SEM (post-movement)\")\n",
    "    # crosshair, centre, yellow\n",
    "    axes[1][0].plot(sem_image1.data.shape[1]/2, sem_image1.data.shape[0]/2, \"y+\", ms=20)\n",
    "    axes[1][1].imshow(fib_image1.data, cmap=\"gray\")\n",
    "    axes[1][1].set_title(\"FIB (post-movement)\")\n",
    "    axes[1][1].plot(fib_image1.data.shape[1]/2, fib_image1.data.shape[0]/2, \"y+\", ms=20)\n",
    "\n",
    "    # axes off\n",
    "    for ax in axes.flatten():\n",
    "        ax.axis(\"off\")\n",
    "\n",
    "    plt.subplots_adjust(hspace=0.07, wspace=0.01)\n",
    "    plt.show()"
   ]
  },
  {
   "cell_type": "markdown",
   "metadata": {},
   "source": [
    "## Move Stage (Relative and Absolute)\n",
    "Moves the physical stage axes (x, y, z, r, t). For pre-tilted stage will result in losing coincidence and focus and you move around. "
   ]
  },
  {
   "cell_type": "code",
   "execution_count": null,
   "metadata": {},
   "outputs": [],
   "source": [
    "# image settings\n",
    "image_settings.hfw = 150e-6\n",
    "image_settings.save = True\n",
    "image_settings.path = os.path.join(os.getcwd(), \"demo\", \"movement\")\n",
    "os.makedirs(image_settings.path, exist_ok=True)\n",
    "\n",
    "# acquire images with both beams\n",
    "image_settings.filename = \"pre-movement\"\n",
    "eb_image0, ib_image0 = acquire.take_reference_images(microscope, image_settings)\n",
    "\n",
    "# move stage by 50um\n",
    "move_position = FibsemStagePosition(x=50e-6)\n",
    "microscope.move_stage_relative(move_position)\n",
    "\n",
    "# acquire images with both beams\n",
    "image_settings.filename = \"post-movement\"\n",
    "eb_image1, ib_image1 = acquire.take_reference_images(microscope, image_settings)\n",
    "\n",
    "# plot images\n",
    "plot_images(eb_image0, ib_image0, eb_image1, ib_image1)\n"
   ]
  },
  {
   "cell_type": "markdown",
   "metadata": {},
   "source": [
    "### Stable Movement\n",
    "Moves the stage along the sample-plane, and maintains coincidence between the SEM and FIB. Works at any orientation. Assumes that the beams are already coincident, see vertical move for restoring coincidence. Requires a beam type because it also corrects for perspective between the sample-plane and imaging-plane."
   ]
  },
  {
   "cell_type": "code",
   "execution_count": null,
   "metadata": {},
   "outputs": [],
   "source": [
    "image_settings.resolution = [1536, 1024]\n",
    "image_settings.hfw = 150e-6\n",
    "image_settings.filename = \"pre-stable-movement\"\n",
    "sem_image0, fib_image0 = acquire.take_reference_images(microscope, image_settings)\n",
    "\n",
    "# move along sample plane by 20um in x and y\n",
    "microscope.stable_move(dx=20e-6, dy=20e-6, beam_type=BeamType.ELECTRON)\n",
    "\n",
    "image_settings.filename = \"post-stable-movement\"\n",
    "sem_image1, fib_image1 = acquire.take_reference_images(microscope, image_settings)\n",
    "\n",
    "# plot images\n",
    "plot_images(sem_image0, fib_image0, sem_image1, fib_image1)\n"
   ]
  },
  {
   "cell_type": "markdown",
   "metadata": {},
   "source": [
    "### Vertical Movement\n",
    "Moves the stage vertical in the chamber. Used to restored coincidence between the SEM and FIB. The feature should be centred first in the SEM, then the vertical move applied based on the feature position in the FIB. After vertical movement, the feature should stay cented in the SEM, and also be centred in the FIB."
   ]
  },
  {
   "cell_type": "code",
   "execution_count": null,
   "metadata": {},
   "outputs": [],
   "source": [
    "image_settings.resolution = [1536, 1024]\n",
    "image_settings.hfw = 150e-6\n",
    "image_settings.filename = \"pre-vertical-movement\"\n",
    "sem_image0, fib_image0 = acquire.take_reference_images(microscope, image_settings)\n",
    "\n",
    "# move vertical by 20um\n",
    "microscope.vertical_move(dy=20e-6)\n",
    "\n",
    "image_settings.filename = \"post-vertical-movement\"\n",
    "sem_image1, fib_image1 = acquire.take_reference_images(microscope, image_settings)\n",
    "\n",
    "# plot images\n",
    "plot_images(sem_image0, fib_image0, sem_image1, fib_image1)\n"
   ]
  },
  {
   "cell_type": "markdown",
   "metadata": {},
   "source": [
    "## FIB Milling"
   ]
  },
  {
   "cell_type": "code",
   "execution_count": null,
   "metadata": {},
   "outputs": [],
   "source": [
    "from fibsem import milling\n",
    "from fibsem.milling import FibsemMillingStage, MillingAlignment\n",
    "from fibsem.structures import FibsemMillingSettings, FibsemRectangleSettings, FibsemCircleSettings, FibsemLineSettings, FibsemImage, Point\n",
    "from fibsem.milling.patterning.patterns2 import RectanglePattern, TrenchPattern, CirclePattern, LinePattern\n",
    "from fibsem.milling.patterning.plotting import draw_milling_patterns\n",
    "\n",
    "# Shapes\n",
    "# the fib can only draw different individual shapes, such as rectangles, circles, and lines.\n",
    "# the settings for these shapes are defined in the respective classes (FibsemRectangleSettings, FibsemCircleSettings, FibsemLineSettings, ...)\n",
    "rect_settings = FibsemRectangleSettings(width=10e-6, height=10e-6, depth=1e-6, centre_x=0, centre_y=0)\n",
    "\n",
    "# Patterns\n",
    "# typically we don't want to interact with the shapes directly, but use the higher level 'patterns', RectanglePattern, CirclePattern, LinePattern, ...\n",
    "# there are more complex patterns available, such as TrenchPattern, which is a combination of rectangles.\n",
    "# patterns have more advanced parameters that can be used to adjust how that pattern is drawn/millied, e.g. passes, cross_section.\n",
    "rectangle_pattern = RectanglePattern(\n",
    "    width=10e-6,\n",
    "    height=10e-6,\n",
    "    depth=1e-6,\n",
    "    point=Point(0, 0),\n",
    ")\n",
    "\n",
    "trench_pattern = TrenchPattern(\n",
    "    width=10e-6,\n",
    "    upper_trench_height=5e-6,\n",
    "    lower_trench_height=5e-6,\n",
    "    spacing=3e-6,\n",
    "    depth=1e-6,\n",
    "    point=Point(0, 0),\n",
    ")\n",
    "\n",
    "# calling .define() on a pattern will return a list of shapes that can be used to draw the pattern\n",
    "print(f\"Shapes that make up the rectangle pattern: {rectangle_pattern.define()}\")   # 1 rectangle\n",
    "print(f\"Shapes that make up the trench pattern: {trench_pattern.define()}\")         # 2 rectangles\n",
    "\n",
    "\n",
    "# MillingSettings\n",
    "# milling settings define the beam settings and parameters for the milling process\n",
    "milling_settings = FibsemMillingSettings(\n",
    "    milling_current=1e-9,\n",
    "    milling_voltage=30e3,\n",
    "    hfw=80e-6,\n",
    "    application_file=\"Si\",\n",
    "    patterning_mode=\"Serial\",\n",
    ")\n",
    "\n",
    "# Alignment\n",
    "# the alignment is used to align the between the initial imaging current and milling current (disable it for now)\n",
    "milling_alignment = MillingAlignment(\n",
    "    enabled=False,\n",
    ")\n",
    "\n",
    "# Milling Stage\n",
    "# all these parameters are joined together in the milling stage, which is used to run the milling process\n",
    "milling_stage = FibsemMillingStage(\n",
    "    name=\"Milling Stage\",\n",
    "    milling=milling_settings,\n",
    "    pattern = rectangle_pattern,\n",
    "    alignment=milling_alignment,\n",
    ")\n",
    "\n",
    "# Utilities\n",
    "# there are some utils availble for generating patterns and plotting them\n",
    "image = FibsemImage.generate_blank_image(hfw=milling_stage.milling.hfw)\n",
    "fig = draw_milling_patterns(image, [milling_stage])\n"
   ]
  },
  {
   "cell_type": "code",
   "execution_count": null,
   "metadata": {},
   "outputs": [],
   "source": [
    "## deconstructing the milling process\n",
    "# 1. setup milling: (align, set beam settings, ...)\n",
    "milling.setup_milling(microscope, milling_stage)\n",
    "\n",
    "# 2. draw patterns (shapes)\n",
    "milling.draw_patterns(microscope, milling_stage.pattern.define())\n",
    "\n",
    "# 3. run milling\n",
    "milling.run_milling(microscope, milling_stage.milling.milling_current, milling_stage.milling.milling_voltage)\n",
    "\n",
    "# 4. finish milling (restore imaging beam settings, clear shapes, ...)\n",
    "milling.finish_milling(microscope)"
   ]
  },
  {
   "cell_type": "code",
   "execution_count": null,
   "metadata": {},
   "outputs": [],
   "source": [
    "# it is recommended to use the mill_stages function, which will run all these steps for you.\n",
    "# it will also take care of logging, imaging acquisition and strategies (which are not described here).\n",
    "milling.mill_stages(microscope, milling_stage)"
   ]
  },
  {
   "cell_type": "code",
   "execution_count": null,
   "metadata": {},
   "outputs": [],
   "source": [
    "# you can mill multiple stages in a row by passing a list of milling stages to mill_stages:\n",
    "# this example shows how to load milling stages from a protcol file and join them together\n",
    "from fibsem.utils import load_protocol\n",
    "from fibsem.milling import get_milling_stages, mill_stages\n",
    "from fibsem.milling.patterning.plotting import draw_milling_patterns\n",
    "from fibsem.structures import FibsemImage\n",
    "import matplotlib.pyplot as plt\n",
    "\n",
    "# NOTE: you will need to change this path to the autolamella protocol path on your system\n",
    "PROTOCOL_PATH = \"/home/patrick/development/openfibsem/autolamella/autolamella/protocol/protocol-on-grid.yaml\"\n",
    "protocol = load_protocol(PROTOCOL_PATH)\n",
    "\n",
    "# load each set of milling stages\n",
    "rough_milling_stages = get_milling_stages(\"mill_rough\", protocol=protocol[\"milling\"])\n",
    "polishing_milling_stages = get_milling_stages(\"mill_polishing\", protocol=protocol[\"milling\"])\n",
    "microexpansion_stages = get_milling_stages(\"microexpansion\", protocol=protocol[\"milling\"])\n",
    "fiducial_stages = get_milling_stages(\"fiducial\", protocol=protocol[\"milling\"])\n",
    "\n",
    "milling_stages = rough_milling_stages + polishing_milling_stages + microexpansion_stages + fiducial_stages\n",
    "\n",
    "image = FibsemImage.generate_blank_image(hfw=milling_stages[0].milling.hfw)\n",
    "fig = draw_milling_patterns(image, milling_stages)\n",
    "plt.show()\n"
   ]
  },
  {
   "cell_type": "code",
   "execution_count": null,
   "metadata": {},
   "outputs": [],
   "source": [
    "# mill all stages\n",
    "mill_stages(microscope, milling_stages)"
   ]
  },
  {
   "cell_type": "markdown",
   "metadata": {},
   "source": [
    "## Segmentation and Feature Detection\n",
    "\n",
    "Example to load a machine learning model, segment and detect specific features, and plot the output on the image."
   ]
  },
  {
   "cell_type": "code",
   "execution_count": null,
   "metadata": {},
   "outputs": [],
   "source": [
    "# NOTE: this will need the additional ml dependencies to work: pip install fibsem[ml]\n",
    "\n",
    "from fibsem.detection import detection\n",
    "from fibsem.segmentation import model\n",
    "from fibsem.detection import detection\n",
    "from fibsem.detection.detection import DetectedFeatures\n",
    "from fibsem.segmentation import model as fibsem_model\n",
    "from fibsem.segmentation.model import load_model\n",
    "from fibsem.structures import (\n",
    "    BeamType,\n",
    "    FibsemImage,\n",
    "    Point,\n",
    ")\n",
    "\n",
    "# model parameters (downloaded from huggingface/patrickcleeve/autolamella)\n",
    "checkpoint = \"autolamella-mega-20240107.pt\"\n",
    "\n",
    "# load model\n",
    "model = load_model(checkpoint=checkpoint)\n",
    "\n",
    "# load image\n",
    "image = FibsemImage.load(\"../fibsem/detection/test_image.tif\")\n",
    "\n",
    "# detect features\n",
    "features = [detection.NeedleTip(), detection.LamellaCentre()] \n",
    "det = detection.detect_features(image=image.data, model=model, \n",
    "                                features=features, pixelsize=25e-9)\n",
    "\n",
    "# plot detection\n",
    "detection.plot_detection(det)"
   ]
  },
  {
   "cell_type": "markdown",
   "metadata": {},
   "source": [
    "## Tiled Imaging Examples\n",
    "Collect a tile set using the SEM. First moves to the SEM orientation (sample perpendicular to the SEM), and then acquires a 3x3 tileset. Images are saved in the demo/tile direction, and the cell afterwards will load them back and 'stitch' them together. Real tiled acquisition is in fibsem/imaging/tiled."
   ]
  },
  {
   "cell_type": "code",
   "execution_count": null,
   "metadata": {},
   "outputs": [],
   "source": [
    "from fibsem import utils, acquire\n",
    "from fibsem.structures import FibsemStagePosition\n",
    "import os\n",
    "import matplotlib.pyplot as plt\n",
    "\n",
    "# connect to microscope\n",
    "microscope, settings = utils.setup_session(manufacturer=\"Demo\", ip_address=\"localhost\")\n",
    "\n",
    "# move to SEM orientation\n",
    "microscope.move_flat_to_beam(BeamType.ELECTRON)\n",
    "\n",
    "# image settings\n",
    "image_settings = settings.image\n",
    "image_settings.hfw = 80e-6\n",
    "image_settings.resolution = [1024, 1024]\n",
    "image_settings.beam_type = BeamType.ELECTRON\n",
    "image_settings.save = True \n",
    "image_settings.path = os.path.join(os.getcwd(), \"demo\", \"tile\")\n",
    "os.makedirs(image_settings.path, exist_ok=True)\n",
    "\n",
    "# tile settings\n",
    "dx, dy = image_settings.hfw, image_settings.hfw\n",
    "nrows, ncols = 3, 3\n",
    "\n",
    "# tile\n",
    "initial_position = microscope.get_stage_position()\n",
    "for i in range(nrows):\n",
    "\n",
    "    # restore position\n",
    "    microscope.move_stage_absolute(initial_position)\n",
    "    # stable movement dy\n",
    "    microscope.stable_move(dx=0, dy=dy*i, beam_type=BeamType.ELECTRON)\n",
    "\n",
    "    for j in range(ncols):\n",
    "    \n",
    "        # stable movement dx\n",
    "        microscope.stable_move(dx=dx, dy=0, beam_type=BeamType.ELECTRON)\n",
    "        # acquire images with both beams\n",
    "        image_settings.filename = f\"tile_{i:03d}_{j:03d}\"\n",
    "        ib_image = acquire.new_image(microscope, image_settings)"
   ]
  },
  {
   "cell_type": "code",
   "execution_count": null,
   "metadata": {},
   "outputs": [],
   "source": [
    "# plot tiles\n",
    "import glob\n",
    "filenames = sorted(glob.glob(os.path.join(image_settings.path, \"tile*.tif\")))\n",
    "\n",
    "\n",
    "fig, axes = plt.subplots(nrows, ncols, figsize=(10, 10))\n",
    "for i, fname in enumerate(filenames):\n",
    "\n",
    "    image = FibsemImage.load(fname)\n",
    "    ax = axes[i//ncols][i%ncols]\n",
    "    ax.imshow(image.data, cmap=\"gray\")\n",
    "    ax.axis(\"off\")\n",
    "\n",
    "plt.tight_layout()\n",
    "plt.subplots_adjust(hspace=0.01,wspace=0.01)\n",
    "plt.savefig(os.path.join(image_settings.path, \"tiles.png\"), dpi=300)\n",
    "plt.show()"
   ]
  },
  {
   "cell_type": "code",
   "execution_count": null,
   "metadata": {},
   "outputs": [],
   "source": []
  }
 ],
 "metadata": {
  "kernelspec": {
   "display_name": "fibsem",
   "language": "python",
   "name": "python3"
  },
  "language_info": {
   "codemirror_mode": {
    "name": "ipython",
    "version": 3
   },
   "file_extension": ".py",
   "mimetype": "text/x-python",
   "name": "python",
   "nbconvert_exporter": "python",
   "pygments_lexer": "ipython3",
   "version": "3.9.20"
  }
 },
 "nbformat": 4,
 "nbformat_minor": 2
}
