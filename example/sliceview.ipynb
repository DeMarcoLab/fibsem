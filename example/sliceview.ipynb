{
 "cells": [
  {
   "cell_type": "code",
   "execution_count": 2,
   "metadata": {},
   "outputs": [],
   "source": [
    "%load_ext autoreload\n",
    "%autoreload 2\n"
   ]
  },
  {
   "cell_type": "code",
   "execution_count": 3,
   "metadata": {},
   "outputs": [],
   "source": [
    "from fibsem import utils, acquire, movement, calibration\n",
    "from fibsem.structures import ImageSettings, BeamType\n",
    "from pprint import pprint\n",
    "import matplotlib.pyplot as plt\n",
    "from fibsem import milling\n",
    "import numpy as np\n"
   ]
  },
  {
   "cell_type": "code",
   "execution_count": 4,
   "metadata": {},
   "outputs": [
    {
     "name": "stderr",
     "output_type": "stream",
     "text": [
      "2022-10-14 16:12:12,400 — root — INFO — connect_to_microscope:31 — Microscope client connecting to [10.0.0.1]\n",
      "2022-10-14 16:12:12,408 — root — INFO — connect_to_microscope:34 — Microscope client connected to [10.0.0.1]\n",
      "2022-10-14 16:12:12,409 — root — INFO — setup_session:252 — Finished setup for session: slice-and-view-cyril_2022-10-14.04-12-12PM\n"
     ]
    },
    {
     "name": "stdout",
     "output_type": "stream",
     "text": [
      "Client connecting to [10.0.0.1:7520]...\n",
      "Client connected to [10.0.0.1:7520]\n"
     ]
    }
   ],
   "source": [
    "protocol_path = r\"C:\\Users\\Admin\\Github\\fibsem\\example\\protocol\\protocol.yaml\"\n",
    "microscope, settings = utils.setup_session(protocol_path=protocol_path, session_path= r\"D:\\cyril\\slice-and-view-cyril_2022-10-14.02-18-00PM\")"
   ]
  },
  {
   "cell_type": "code",
   "execution_count": 5,
   "metadata": {},
   "outputs": [
    {
     "data": {
      "text/plain": [
       "'D:\\\\cyril\\\\slice-and-view-cyril_2022-10-14.02-18-00PM'"
      ]
     },
     "execution_count": 5,
     "metadata": {},
     "output_type": "execute_result"
    }
   ],
   "source": [
    "settings.image.save_path\n",
    "\n",
    "# settings.image.save = True\n",
    "# eb_image = acquire.new_image(microscope, settings.image)\n",
    "# eb_image, ib_image = acquire.take_reference_images(microscope, settings.image)\n"
   ]
  },
  {
   "cell_type": "code",
   "execution_count": null,
   "metadata": {},
   "outputs": [],
   "source": [
    "# settings\n",
    "# microscope.imaging.set_active_device(BeamType.ELECTRON.value)\n",
    "# microscope.imaging.set_active_view(BeamType.ELECTRON.value)\n",
    "# microscope.beams.electron_beam.optical_mode.value = \"Immersion\"\n",
    "# microscope.detector.mode.value = \"BackscatterElectrons\"\n",
    "# settings.system.stage.tilt_flat_to_electron = 0\n",
    "# import numpy as np\n",
    "# microscope.beams.electron_beam.angular_correction.angle.value = np.deg2rad(-38)\n",
    "\n",
    "# # LUT: inverse\n"
   ]
  },
  {
   "cell_type": "code",
   "execution_count": null,
   "metadata": {},
   "outputs": [],
   "source": [
    "from autoscript_sdb_microscope_client.enumerations import DetectorMode, DetectorType\n",
    "# microscope.detector.set_type_mode(type=DetectorType.ETD, mode = DetectorMode.BACKSCATTER_ELECTRONS)"
   ]
  },
  {
   "cell_type": "code",
   "execution_count": 7,
   "metadata": {},
   "outputs": [],
   "source": [
    "from fibsem.structures import MicroscopeSettings\n",
    "from autoscript_sdb_microscope_client import SdbMicroscopeClient\n",
    "\n",
    "\n",
    "def run_data_collection(microscope: SdbMicroscopeClient, settings: MicroscopeSettings, dwell_times: list[float], step: int):\n",
    "    \n",
    "    settings.image.save = True\n",
    "    settings.image.autocontrast = False\n",
    "\n",
    "    for i, dwell_time in enumerate(dwell_times):\n",
    "\n",
    "        settings.image.dwell_time = dwell_time\n",
    "        print(f\"{i} - dwell_time: {dwell_time}\")\n",
    "\n",
    "        # take multiple short dwell time images\n",
    "        if dwell_time < 2e-6:\n",
    "            for j in range(7):\n",
    "                settings.image.label = f\"EB_{step}_{dwell_time}_{j}\"\n",
    "                print(i, j, dwell_time, settings.image.label)\n",
    "                acquire.new_image(microscope, settings.image)\n",
    "        else:\n",
    "            settings.image.label = f\"EB_{step}_{dwell_time}_0\"\n",
    "            print(i, 0, dwell_time, settings.image.label)\n",
    "            # take a single high dwell time\n",
    "            acquire.new_image(microscope, settings.image)\n",
    "        \n",
    "        print(\"-\"*50)"
   ]
  },
  {
   "cell_type": "code",
   "execution_count": null,
   "metadata": {},
   "outputs": [],
   "source": []
  },
  {
   "cell_type": "code",
   "execution_count": 8,
   "metadata": {},
   "outputs": [
    {
     "name": "stdout",
     "output_type": "stream",
     "text": [
      "D:\\cyril\\slice-and-view-cyril_2022-10-14.02-18-00PM\n"
     ]
    }
   ],
   "source": [
    "# settings.image.save_path = r\"D:\\cyril\\slice-and-view-cyril_2022-10-14.02-18-00PM\"\n",
    "print(settings.image.save_path)"
   ]
  },
  {
   "cell_type": "code",
   "execution_count": 9,
   "metadata": {},
   "outputs": [],
   "source": [
    "\n",
    "\n",
    "# start wiith cleaning cross section to clean the area\n",
    "centre_x = 0\n",
    "centre_y = 0\n",
    "width = 40e-6\n",
    "height = 2.5e-6\n",
    "depth = 10e-6\n",
    "\n",
    "microscope.imaging.set_active_view(BeamType.ION.value)\n",
    "microscope.imaging.set_active_device(BeamType.ION.value)\n",
    "microscope.patterning.clear_patterns()\n",
    "\n",
    "pattern = microscope.patterning.create_cleaning_cross_section(center_x=centre_x, center_y=centre_y, width=width, height=height, depth=depth)\n",
    "pattern.scan_direction = \"BottomToTop\""
   ]
  },
  {
   "cell_type": "code",
   "execution_count": 8,
   "metadata": {},
   "outputs": [
    {
     "data": {
      "text/plain": [
       "Limits(min=0, max=1)"
      ]
     },
     "execution_count": 8,
     "metadata": {},
     "output_type": "execute_result"
    }
   ],
   "source": [
    "# settings\n",
    "microscope.imaging.set_active_device(BeamType.ELECTRON.value)\n",
    "microscope.imaging.set_active_view(BeamType.ELECTRON.value)\n",
    "microscope.detector.contrast.limits"
   ]
  },
  {
   "cell_type": "code",
   "execution_count": 11,
   "metadata": {},
   "outputs": [],
   "source": [
    "state = calibration.get_current_microscope_state(microscope)\n",
    "# detector contrast brightness\n",
    "microscope.imaging.set_active_device(BeamType.ELECTRON.value)\n",
    "microscope.imaging.set_active_view(BeamType.ELECTRON.value)\n",
    "contrast = microscope.detector.contrast.value\n",
    "brightness = microscope.detector.brightness.value"
   ]
  },
  {
   "cell_type": "code",
   "execution_count": 14,
   "metadata": {},
   "outputs": [
    {
     "name": "stdout",
     "output_type": "stream",
     "text": [
      "0.3743122542104864 0.8333920280603576\n"
     ]
    }
   ],
   "source": [
    "# microscope.beams.electron_beam.beam_current.value = 0.1e-9\n",
    "print(brightness, contrast)"
   ]
  },
  {
   "cell_type": "code",
   "execution_count": null,
   "metadata": {},
   "outputs": [],
   "source": [
    "acquire.autocontrast(microscope, BeamType.ELECTRON)"
   ]
  },
  {
   "cell_type": "code",
   "execution_count": 12,
   "metadata": {},
   "outputs": [
    {
     "name": "stdout",
     "output_type": "stream",
     "text": [
      "<autoscript_sdb_microscope_client._dynamic_object_proxies.LinePattern object at 0x0000022F210A2900>\n"
     ]
    }
   ],
   "source": [
    "start_x, end_x = -8e-6, 33e-6\n",
    "start_y, end_y = -4e-6, -4e-6\n",
    "depth = 8e-6\n",
    "offset = 5e-9\n",
    "\n",
    "\n",
    "N_SLICES = 500\n",
    "START_IDX = 22\n",
    "# for i in range(START_IDX, N_SLICES):\n",
    "\n",
    "microscope.imaging.set_active_view(BeamType.ION.value)\n",
    "microscope.imaging.set_active_device(BeamType.ION.value)\n",
    "microscope.patterning.clear_patterns()\n",
    "pattern = microscope.patterning.create_line(start_x=start_x, start_y=start_y, end_x=end_x, end_y=end_y, depth=depth)\n",
    "print(pattern)"
   ]
  },
  {
   "cell_type": "code",
   "execution_count": 13,
   "metadata": {},
   "outputs": [
    {
     "name": "stderr",
     "output_type": "stream",
     "text": [
      "2022-10-14 16:15:14,440 — root — INFO — auto_discharge_beam:141 — Bring me Thanos!\n",
      "2022-10-14 16:15:14,444 — root — INFO — acquire_image:186 — acquiring new ELECTRON image.\n"
     ]
    },
    {
     "name": "stdout",
     "output_type": "stream",
     "text": [
      " ---------------- SLICE 0/500 ---------------- \n"
     ]
    },
    {
     "name": "stderr",
     "output_type": "stream",
     "text": [
      "2022-10-14 16:15:16,670 — root — INFO — acquire_image:186 — acquiring new ELECTRON image.\n",
      "2022-10-14 16:15:17,152 — root — INFO — acquire_image:186 — acquiring new ELECTRON image.\n",
      "2022-10-14 16:15:17,601 — root — INFO — acquire_image:186 — acquiring new ELECTRON image.\n",
      "2022-10-14 16:15:18,036 — root — INFO — acquire_image:186 — acquiring new ELECTRON image.\n",
      "2022-10-14 16:15:18,474 — root — INFO — acquire_image:186 — acquiring new ELECTRON image.\n",
      "2022-10-14 16:15:25,079 — root — INFO — acquire_image:186 — acquiring new ELECTRON image.\n"
     ]
    },
    {
     "name": "stdout",
     "output_type": "stream",
     "text": [
      "0 - dwell_time: 5e-07\n",
      "0 0 5e-07 EB_0_5e-07_0\n"
     ]
    },
    {
     "name": "stderr",
     "output_type": "stream",
     "text": [
      "2022-10-14 16:15:38,980 — root — INFO — acquire_image:186 — acquiring new ELECTRON image.\n"
     ]
    },
    {
     "name": "stdout",
     "output_type": "stream",
     "text": [
      "0 1 5e-07 EB_0_5e-07_1\n"
     ]
    },
    {
     "name": "stderr",
     "output_type": "stream",
     "text": [
      "2022-10-14 16:15:52,847 — root — INFO — acquire_image:186 — acquiring new ELECTRON image.\n"
     ]
    },
    {
     "name": "stdout",
     "output_type": "stream",
     "text": [
      "0 2 5e-07 EB_0_5e-07_2\n"
     ]
    },
    {
     "name": "stderr",
     "output_type": "stream",
     "text": [
      "2022-10-14 16:16:06,694 — root — INFO — acquire_image:186 — acquiring new ELECTRON image.\n"
     ]
    },
    {
     "name": "stdout",
     "output_type": "stream",
     "text": [
      "0 3 5e-07 EB_0_5e-07_3\n"
     ]
    },
    {
     "name": "stderr",
     "output_type": "stream",
     "text": [
      "2022-10-14 16:16:20,589 — root — INFO — acquire_image:186 — acquiring new ELECTRON image.\n"
     ]
    },
    {
     "name": "stdout",
     "output_type": "stream",
     "text": [
      "0 4 5e-07 EB_0_5e-07_4\n"
     ]
    },
    {
     "name": "stderr",
     "output_type": "stream",
     "text": [
      "2022-10-14 16:16:34,437 — root — INFO — acquire_image:186 — acquiring new ELECTRON image.\n"
     ]
    },
    {
     "name": "stdout",
     "output_type": "stream",
     "text": [
      "0 5 5e-07 EB_0_5e-07_5\n"
     ]
    },
    {
     "name": "stderr",
     "output_type": "stream",
     "text": [
      "2022-10-14 16:16:48,252 — root — INFO — acquire_image:186 — acquiring new ELECTRON image.\n"
     ]
    },
    {
     "name": "stdout",
     "output_type": "stream",
     "text": [
      "0 6 5e-07 EB_0_5e-07_6\n"
     ]
    },
    {
     "name": "stderr",
     "output_type": "stream",
     "text": [
      "2022-10-14 16:17:02,152 — root — INFO — acquire_image:186 — acquiring new ELECTRON image.\n"
     ]
    },
    {
     "name": "stdout",
     "output_type": "stream",
     "text": [
      "--------------------------------------------------\n",
      "1 - dwell_time: 1e-06\n",
      "1 0 1e-06 EB_0_1e-06_0\n"
     ]
    },
    {
     "name": "stderr",
     "output_type": "stream",
     "text": [
      "2022-10-14 16:17:28,694 — root — INFO — acquire_image:186 — acquiring new ELECTRON image.\n"
     ]
    },
    {
     "name": "stdout",
     "output_type": "stream",
     "text": [
      "1 1 1e-06 EB_0_1e-06_1\n"
     ]
    },
    {
     "name": "stderr",
     "output_type": "stream",
     "text": [
      "2022-10-14 16:17:55,196 — root — INFO — acquire_image:186 — acquiring new ELECTRON image.\n"
     ]
    },
    {
     "name": "stdout",
     "output_type": "stream",
     "text": [
      "1 2 1e-06 EB_0_1e-06_2\n"
     ]
    },
    {
     "name": "stderr",
     "output_type": "stream",
     "text": [
      "2022-10-14 16:18:21,850 — root — INFO — acquire_image:186 — acquiring new ELECTRON image.\n"
     ]
    },
    {
     "name": "stdout",
     "output_type": "stream",
     "text": [
      "1 3 1e-06 EB_0_1e-06_3\n"
     ]
    },
    {
     "name": "stderr",
     "output_type": "stream",
     "text": [
      "2022-10-14 16:18:48,476 — root — INFO — acquire_image:186 — acquiring new ELECTRON image.\n"
     ]
    },
    {
     "name": "stdout",
     "output_type": "stream",
     "text": [
      "1 4 1e-06 EB_0_1e-06_4\n"
     ]
    },
    {
     "name": "stderr",
     "output_type": "stream",
     "text": [
      "2022-10-14 16:19:15,005 — root — INFO — acquire_image:186 — acquiring new ELECTRON image.\n"
     ]
    },
    {
     "name": "stdout",
     "output_type": "stream",
     "text": [
      "1 5 1e-06 EB_0_1e-06_5\n"
     ]
    },
    {
     "name": "stderr",
     "output_type": "stream",
     "text": [
      "2022-10-14 16:19:41,673 — root — INFO — acquire_image:186 — acquiring new ELECTRON image.\n"
     ]
    },
    {
     "name": "stdout",
     "output_type": "stream",
     "text": [
      "1 6 1e-06 EB_0_1e-06_6\n"
     ]
    },
    {
     "name": "stderr",
     "output_type": "stream",
     "text": [
      "2022-10-14 16:20:08,226 — root — INFO — acquire_image:186 — acquiring new ELECTRON image.\n"
     ]
    },
    {
     "name": "stdout",
     "output_type": "stream",
     "text": [
      "--------------------------------------------------\n",
      "2 - dwell_time: 3e-06\n",
      "2 0 3e-06 EB_0_3e-06_0\n"
     ]
    },
    {
     "name": "stderr",
     "output_type": "stream",
     "text": [
      "2022-10-14 16:21:25,642 — root — INFO — acquire_image:186 — acquiring new ELECTRON image.\n"
     ]
    },
    {
     "name": "stdout",
     "output_type": "stream",
     "text": [
      "--------------------------------------------------\n",
      "3 - dwell_time: 5e-06\n",
      "3 0 5e-06 EB_0_5e-06_0\n"
     ]
    },
    {
     "name": "stderr",
     "output_type": "stream",
     "text": [
      "2022-10-14 16:23:33,934 — root — INFO — acquire_image:186 — acquiring new ELECTRON image.\n"
     ]
    },
    {
     "name": "stdout",
     "output_type": "stream",
     "text": [
      "--------------------------------------------------\n",
      "4 - dwell_time: 8e-06\n",
      "4 0 8e-06 EB_0_8e-06_0\n"
     ]
    },
    {
     "name": "stderr",
     "output_type": "stream",
     "text": [
      "2022-10-14 16:26:58,919 — root — INFO — acquire_image:186 — acquiring new ELECTRON image.\n"
     ]
    },
    {
     "name": "stdout",
     "output_type": "stream",
     "text": [
      "--------------------------------------------------\n",
      "5 - dwell_time: 2e-05\n",
      "5 0 2e-05 EB_0_2e-05_0\n"
     ]
    }
   ],
   "source": [
    "\n",
    "settings.image.hfw = 30e-6\n",
    "settings.image.resolution = \"6144x4096\"\n",
    "dwell_times = [0.5e-6, 1e-6, 3e-6, 5e-6, 8e-6, 20e-6]\n",
    "settings.image.save = True\n",
    "settings.image.autocontrast = False\n",
    "settings.image.gamma.enabled = False\n",
    "\n",
    "start_x, end_x = -8e-6, 33e-6\n",
    "start_y, end_y = -4e-6, -4e-6\n",
    "depth = 8e-6\n",
    "offset = 5e-9\n",
    "\n",
    "N_SLICES = 500\n",
    "START_IDX = 0\n",
    "for i in range(START_IDX, N_SLICES):\n",
    "\n",
    "    print(f\" ---------------- SLICE {i}/{N_SLICES} ---------------- \")\n",
    "    \n",
    "    settings.image.dwell_time = 0.2e-6\n",
    "    settings.image.save = False\n",
    "    # slice\n",
    "    if i > START_IDX:\n",
    "        microscope.imaging.set_active_view(BeamType.ION.value)\n",
    "        microscope.imaging.set_active_device(BeamType.ION.value)\n",
    "        microscope.patterning.clear_patterns()\n",
    "        pattern = microscope.patterning.create_line(start_x=start_x, start_y=start_y, end_x=end_x, end_y=end_y, depth=depth)\n",
    "        print(pattern)\n",
    "\n",
    "        # run\n",
    "        milling.run_milling(microscope, milling_current=5.6e-9)\n",
    "    \n",
    "    # view\n",
    "    calibration.auto_discharge_beam(microscope, settings.image, n_iterations=5)\n",
    "\n",
    "    settings.image.autocontrast = False\n",
    "    run_data_collection(microscope, settings, dwell_times, i)\n",
    "\n",
    "    start_y += offset\n",
    "    end_y  += offset\n",
    "    \n",
    "    # manually adjust working distance\n",
    "    wd_diff = offset * np.sin(np.deg2rad(38))\n",
    "    microscope.beams.electron_beam.working_distance.value -= wd_diff #4e-3# 3.995e-3 \n",
    "\n",
    "    if i % 50 == 0 and i != START_IDX:\n",
    "        acquire.autocontrast(microscope, BeamType.ELECTRON)\n"
   ]
  },
  {
   "cell_type": "code",
   "execution_count": null,
   "metadata": {},
   "outputs": [],
   "source": [
    "# microscope.auto_functions.run_auto_focus()\n",
    "from autoscript_sdb_microscope_client.structures import RunAutoFocusSettings\n",
    "\n",
    "focus_settings = RunAutoFocusSettings()\n",
    "\n",
    "microscope.imaging.set_active_view(BeamType.ELECTRON.value)\n",
    "microscope.imaging.set_active_device(BeamType.ELECTRON.value)\n",
    "microscope.auto_functions.run_auto_focus()\n",
    "microscope.specimen.stage.link()\n",
    "\n",
    "\n",
    "# microscope.auto_functions.run_auto_stigmator()"
   ]
  },
  {
   "cell_type": "code",
   "execution_count": null,
   "metadata": {},
   "outputs": [],
   "source": [
    "settings.image.hfw = 30e-6\n",
    "settings.image.resolution = \"6144x4096\"\n",
    "dwell_times = [0.3e-6, 0.5e-6, 1e-6, 3e-6, 5e-6, 8e-6]\n",
    "settings.image.save = True\n",
    "settings.image.autocontrast = True\n",
    "settings.image.gamma.enabled = False\n",
    "settings.image.dwell_time = 0.5e-6\n",
    "settings.image.label = \"4um\"\n",
    "microscope.beams.electron_beam.working_distance.value = 4e-3# 3.995e-3 \n",
    "acquire.new_image(microscope, settings.image)"
   ]
  },
  {
   "cell_type": "code",
   "execution_count": null,
   "metadata": {},
   "outputs": [],
   "source": [
    "# # dynamic focus : 38\n",
    "\n",
    "\n",
    "\n",
    "# 4e-3 - (1000*5e-9)\n",
    "\n",
    "\n",
    "\n"
   ]
  },
  {
   "cell_type": "code",
   "execution_count": null,
   "metadata": {},
   "outputs": [],
   "source": [
    "settings.image.save_path"
   ]
  },
  {
   "cell_type": "code",
   "execution_count": null,
   "metadata": {},
   "outputs": [],
   "source": [
    "# multichem / GIS query"
   ]
  }
 ],
 "metadata": {
  "kernelspec": {
   "display_name": "Python 3.9.12 ('liftout')",
   "language": "python",
   "name": "python3"
  },
  "language_info": {
   "codemirror_mode": {
    "name": "ipython",
    "version": 3
   },
   "file_extension": ".py",
   "mimetype": "text/x-python",
   "name": "python",
   "nbconvert_exporter": "python",
   "pygments_lexer": "ipython3",
   "version": "3.9.12"
  },
  "orig_nbformat": 4,
  "vscode": {
   "interpreter": {
    "hash": "5cb17a689ea48522a268bdcd61b0f399058cec9c1acbad013779623d1fd2c02a"
   }
  }
 },
 "nbformat": 4,
 "nbformat_minor": 2
}
