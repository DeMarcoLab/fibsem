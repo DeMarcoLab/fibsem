{
 "cells": [
  {
   "cell_type": "code",
   "execution_count": null,
   "metadata": {},
   "outputs": [],
   "source": [
    "%load_ext autoreload\n",
    "%autoreload 2\n"
   ]
  },
  {
   "cell_type": "code",
   "execution_count": null,
   "metadata": {},
   "outputs": [],
   "source": [
    "from fibsem import utils, acquire, movement, calibration\n",
    "from fibsem.structures import ImageSettings, BeamType\n",
    "from pprint import pprint\n",
    "import matplotlib.pyplot as plt\n",
    "from fibsem import milling\n",
    "import numpy as np\n"
   ]
  },
  {
   "cell_type": "code",
   "execution_count": null,
   "metadata": {},
   "outputs": [],
   "source": [
    "protocol_path = r\"C:\\Users\\Admin\\Github\\fibsem\\example\\protocol\\protocol.yaml\"\n",
    "microscope, settings = utils.setup_session(protocol_path=protocol_path, session_path= r\"D:\\cyril\\slice-and-view-cyril_2022-10-14.02-18-00PM\")"
   ]
  },
  {
   "cell_type": "code",
   "execution_count": null,
   "metadata": {},
   "outputs": [],
   "source": [
    "settings.image.save_path\n",
    "\n",
    "# settings.image.save = True\n",
    "# eb_image = acquire.new_image(microscope, settings.image)\n",
    "# eb_image, ib_image = acquire.take_reference_images(microscope, settings.image)\n"
   ]
  },
  {
   "cell_type": "code",
   "execution_count": null,
   "metadata": {},
   "outputs": [],
   "source": [
    "# settings\n",
    "# microscope.imaging.set_active_device(BeamType.ELECTRON.value)\n",
    "# microscope.imaging.set_active_view(BeamType.ELECTRON.value)\n",
    "# microscope.beams.electron_beam.optical_mode.value = \"Immersion\"\n",
    "# microscope.detector.mode.value = \"BackscatterElectrons\"\n",
    "# settings.system.stage.tilt_flat_to_electron = 0\n",
    "# import numpy as np\n",
    "# microscope.beams.electron_beam.angular_correction.angle.value = np.deg2rad(-38)\n",
    "\n",
    "# # LUT: inverse\n"
   ]
  },
  {
   "cell_type": "code",
   "execution_count": null,
   "metadata": {},
   "outputs": [],
   "source": [
    "from autoscript_sdb_microscope_client.enumerations import DetectorMode, DetectorType\n",
    "# microscope.detector.set_type_mode(type=DetectorType.ETD, mode = DetectorMode.BACKSCATTER_ELECTRONS)"
   ]
  },
  {
   "cell_type": "code",
   "execution_count": null,
   "metadata": {},
   "outputs": [],
   "source": [
    "from fibsem.structures import MicroscopeSettings\n",
    "from autoscript_sdb_microscope_client import SdbMicroscopeClient\n",
    "\n",
    "\n",
    "def run_data_collection(microscope: SdbMicroscopeClient, settings: MicroscopeSettings, dwell_times: list[float], step: int):\n",
    "    \n",
    "    settings.image.save = True\n",
    "    settings.image.autocontrast = False\n",
    "\n",
    "    for i, dwell_time in enumerate(dwell_times):\n",
    "\n",
    "        settings.image.dwell_time = dwell_time\n",
    "        print(f\"{i} - dwell_time: {dwell_time}\")\n",
    "\n",
    "        # take multiple short dwell time images\n",
    "        if dwell_time < 2e-6:\n",
    "            for j in range(7):\n",
    "                settings.image.label = f\"EB_{step}_{dwell_time}_{j}\"\n",
    "                print(i, j, dwell_time, settings.image.label)\n",
    "                acquire.new_image(microscope, settings.image)\n",
    "        else:\n",
    "            settings.image.label = f\"EB_{step}_{dwell_time}_0\"\n",
    "            print(i, 0, dwell_time, settings.image.label)\n",
    "            # take a single high dwell time\n",
    "            acquire.new_image(microscope, settings.image)\n",
    "        \n",
    "        print(\"-\"*50)"
   ]
  },
  {
   "cell_type": "code",
   "execution_count": null,
   "metadata": {},
   "outputs": [],
   "source": []
  },
  {
   "cell_type": "code",
   "execution_count": null,
   "metadata": {},
   "outputs": [],
   "source": [
    "# settings.image.save_path = r\"D:\\cyril\\slice-and-view-cyril_2022-10-14.02-18-00PM\"\n",
    "print(settings.image.save_path)"
   ]
  },
  {
   "cell_type": "code",
   "execution_count": null,
   "metadata": {},
   "outputs": [],
   "source": [
    "\n",
    "\n",
    "# start wiith cleaning cross section to clean the area\n",
    "centre_x = 0\n",
    "centre_y = 0\n",
    "width = 40e-6\n",
    "height = 2.5e-6\n",
    "depth = 10e-6\n",
    "\n",
    "microscope.imaging.set_active_view(BeamType.ION.value)\n",
    "microscope.imaging.set_active_device(BeamType.ION.value)\n",
    "microscope.patterning.clear_patterns()\n",
    "\n",
    "pattern = microscope.patterning.create_cleaning_cross_section(center_x=centre_x, center_y=centre_y, width=width, height=height, depth=depth)\n",
    "pattern.scan_direction = \"BottomToTop\""
   ]
  },
  {
   "cell_type": "code",
   "execution_count": null,
   "metadata": {},
   "outputs": [],
   "source": [
    "# settings\n",
    "microscope.imaging.set_active_device(BeamType.ELECTRON.value)\n",
    "microscope.imaging.set_active_view(BeamType.ELECTRON.value)\n",
    "microscope.detector.contrast.limits"
   ]
  },
  {
   "cell_type": "code",
   "execution_count": null,
   "metadata": {},
   "outputs": [],
   "source": [
    "state = calibration.get_current_microscope_state(microscope)\n",
    "# detector contrast brightness\n",
    "microscope.imaging.set_active_device(BeamType.ELECTRON.value)\n",
    "microscope.imaging.set_active_view(BeamType.ELECTRON.value)\n",
    "contrast = microscope.detector.contrast.value\n",
    "brightness = microscope.detector.brightness.value"
   ]
  },
  {
   "cell_type": "code",
   "execution_count": null,
   "metadata": {},
   "outputs": [],
   "source": [
    "# microscope.beams.electron_beam.beam_current.value = 0.1e-9\n",
    "print(brightness, contrast)"
   ]
  },
  {
   "cell_type": "code",
   "execution_count": null,
   "metadata": {},
   "outputs": [],
   "source": [
    "acquire.autocontrast(microscope, BeamType.ELECTRON)"
   ]
  },
  {
   "cell_type": "code",
   "execution_count": null,
   "metadata": {},
   "outputs": [],
   "source": [
    "start_x, end_x = -8e-6, 33e-6\n",
    "start_y, end_y = -4e-6, -4e-6\n",
    "depth = 8e-6\n",
    "offset = 5e-9\n",
    "\n",
    "\n",
    "N_SLICES = 500\n",
    "START_IDX = 22\n",
    "# for i in range(START_IDX, N_SLICES):\n",
    "\n",
    "microscope.imaging.set_active_view(BeamType.ION.value)\n",
    "microscope.imaging.set_active_device(BeamType.ION.value)\n",
    "microscope.patterning.clear_patterns()\n",
    "pattern = microscope.patterning.create_line(start_x=start_x, start_y=start_y, end_x=end_x, end_y=end_y, depth=depth)\n",
    "print(pattern)"
   ]
  },
  {
   "cell_type": "code",
   "execution_count": null,
   "metadata": {},
   "outputs": [],
   "source": [
    "\n",
    "settings.image.hfw = 30e-6\n",
    "settings.image.resolution = \"6144x4096\"\n",
    "dwell_times = [0.5e-6, 1e-6, 3e-6, 5e-6, 8e-6, 20e-6]\n",
    "settings.image.save = True\n",
    "settings.image.autocontrast = False\n",
    "settings.image.gamma.enabled = False\n",
    "\n",
    "start_x, end_x = -8e-6, 33e-6\n",
    "start_y, end_y = -4e-6, -4e-6\n",
    "depth = 8e-6\n",
    "offset = 5e-9\n",
    "\n",
    "N_SLICES = 500\n",
    "START_IDX = 0\n",
    "for i in range(START_IDX, N_SLICES):\n",
    "\n",
    "    print(f\" ---------------- SLICE {i}/{N_SLICES} ---------------- \")\n",
    "    \n",
    "    settings.image.dwell_time = 0.2e-6\n",
    "    settings.image.save = False\n",
    "    # slice\n",
    "    if i > START_IDX:\n",
    "        microscope.imaging.set_active_view(BeamType.ION.value)\n",
    "        microscope.imaging.set_active_device(BeamType.ION.value)\n",
    "        microscope.patterning.clear_patterns()\n",
    "        pattern = microscope.patterning.create_line(start_x=start_x, start_y=start_y, end_x=end_x, end_y=end_y, depth=depth)\n",
    "        print(pattern)\n",
    "\n",
    "        # run\n",
    "        milling.run_milling(microscope, milling_current=5.6e-9)\n",
    "    \n",
    "    # view\n",
    "    calibration.auto_discharge_beam(microscope, settings.image, n_iterations=5)\n",
    "\n",
    "    settings.image.autocontrast = False\n",
    "    run_data_collection(microscope, settings, dwell_times, i)\n",
    "\n",
    "    start_y += offset\n",
    "    end_y  += offset\n",
    "    \n",
    "    # manually adjust working distance\n",
    "    wd_diff = offset * np.sin(np.deg2rad(38))\n",
    "    microscope.beams.electron_beam.working_distance.value -= wd_diff #4e-3# 3.995e-3 \n",
    "\n",
    "    if i % 50 == 0 and i != START_IDX:\n",
    "        acquire.autocontrast(microscope, BeamType.ELECTRON)\n"
   ]
  },
  {
   "cell_type": "code",
   "execution_count": null,
   "metadata": {},
   "outputs": [],
   "source": [
    "# microscope.auto_functions.run_auto_focus()\n",
    "from autoscript_sdb_microscope_client.structures import RunAutoFocusSettings\n",
    "\n",
    "focus_settings = RunAutoFocusSettings()\n",
    "\n",
    "microscope.imaging.set_active_view(BeamType.ELECTRON.value)\n",
    "microscope.imaging.set_active_device(BeamType.ELECTRON.value)\n",
    "microscope.auto_functions.run_auto_focus()\n",
    "microscope.specimen.stage.link()\n",
    "\n",
    "\n",
    "# microscope.auto_functions.run_auto_stigmator()"
   ]
  },
  {
   "cell_type": "code",
   "execution_count": null,
   "metadata": {},
   "outputs": [],
   "source": [
    "settings.image.hfw = 30e-6\n",
    "settings.image.resolution = \"6144x4096\"\n",
    "dwell_times = [0.3e-6, 0.5e-6, 1e-6, 3e-6, 5e-6, 8e-6]\n",
    "settings.image.save = True\n",
    "settings.image.autocontrast = True\n",
    "settings.image.gamma.enabled = False\n",
    "settings.image.dwell_time = 0.5e-6\n",
    "settings.image.label = \"4um\"\n",
    "microscope.beams.electron_beam.working_distance.value = 4e-3# 3.995e-3 \n",
    "acquire.new_image(microscope, settings.image)"
   ]
  },
  {
   "cell_type": "code",
   "execution_count": null,
   "metadata": {},
   "outputs": [],
   "source": [
    "# # dynamic focus : 38\n",
    "\n",
    "# 4e-3 - (1000*5e-9)"
   ]
  },
  {
   "cell_type": "code",
   "execution_count": null,
   "metadata": {},
   "outputs": [],
   "source": [
    "settings.image.save_path"
   ]
  },
  {
   "cell_type": "code",
   "execution_count": null,
   "metadata": {},
   "outputs": [],
   "source": [
    "# multichem / GIS query"
   ]
  }
 ],
 "metadata": {
  "kernelspec": {
   "display_name": "Python 3.9.12 ('liftout')",
   "language": "python",
   "name": "python3"
  },
  "language_info": {
   "codemirror_mode": {
    "name": "ipython",
    "version": 3
   },
   "file_extension": ".py",
   "mimetype": "text/x-python",
   "name": "python",
   "nbconvert_exporter": "python",
   "pygments_lexer": "ipython3",
   "version": "3.9.12"
  },
  "orig_nbformat": 4,
  "vscode": {
   "interpreter": {
    "hash": "5cb17a689ea48522a268bdcd61b0f399058cec9c1acbad013779623d1fd2c02a"
   }
  }
 },
 "nbformat": 4,
 "nbformat_minor": 2
}
