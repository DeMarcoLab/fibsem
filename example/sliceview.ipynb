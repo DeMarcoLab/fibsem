{
 "cells": [
  {
   "cell_type": "code",
   "execution_count": 1,
   "metadata": {},
   "outputs": [],
   "source": [
    "%load_ext autoreload\n",
    "%autoreload 2\n"
   ]
  },
  {
   "cell_type": "code",
   "execution_count": 2,
   "metadata": {},
   "outputs": [],
   "source": [
    "from fibsem import utils, acquire, movement, calibration\n",
    "from fibsem.structures import ImageSettings, BeamType\n",
    "from pprint import pprint\n",
    "import matplotlib.pyplot as plt\n",
    "\n"
   ]
  },
  {
   "cell_type": "code",
   "execution_count": 3,
   "metadata": {},
   "outputs": [
    {
     "name": "stderr",
     "output_type": "stream",
     "text": [
      "2022-09-09 16:03:28,074 — root — INFO — connect_to_microscope:28 — Microscope client connecting to [10.0.0.1]\n",
      "2022-09-09 16:03:28,081 — root — INFO — connect_to_microscope:31 — Microscope client connected to [10.0.0.1]\n",
      "2022-09-09 16:03:28,082 — root — INFO — setup_session:241 — Finished setup for session: demo_2022-09-09.04-03-28PM\n"
     ]
    },
    {
     "name": "stdout",
     "output_type": "stream",
     "text": [
      "Client connecting to [10.0.0.1:7520]...\n",
      "Client connected to [10.0.0.1:7520]\n"
     ]
    }
   ],
   "source": [
    "microscope, settings = utils.setup_session()"
   ]
  },
  {
   "cell_type": "code",
   "execution_count": 3,
   "metadata": {},
   "outputs": [
    {
     "data": {
      "text/plain": [
       "ImageSettings(resolution='1536x1024', dwell_time=1e-06, hfw=0.00015, autocontrast=True, beam_type=<BeamType.ELECTRON: 1>, save=False, label='default_image', gamma=GammaSettings(enabled=True, min_gamma=0.15, max_gamma=1.8, scale_factor=0.01, threshold=46), save_path='c:\\\\Users\\\\Admin\\\\Github\\\\fibsem\\\\demo_2022-09-09.03-10-03PM')"
      ]
     },
     "execution_count": 3,
     "metadata": {},
     "output_type": "execute_result"
    }
   ],
   "source": [
    "# settings.image\n",
    "\n",
    "# eb_image, ib_image = acquire.take_reference_images(microscope, settings.image)\n"
   ]
  },
  {
   "cell_type": "code",
   "execution_count": 10,
   "metadata": {},
   "outputs": [],
   "source": [
    "# settings\n",
    "microscope.imaging.set_active_device(BeamType.ELECTRON.value)\n",
    "microscope.imaging.set_active_view(BeamType.ELECTRON.value)\n",
    "microscope.beams.electron_beam.optical_mode.value = \"Immersion\"\n",
    "microscope.detector.mode.value = \"BackscatterElectrons\""
   ]
  },
  {
   "cell_type": "code",
   "execution_count": 4,
   "metadata": {},
   "outputs": [],
   "source": [
    "settings.image.save_path = f\"slice_and_view_cyril-2022-09-09\"\n",
    "import os\n",
    "os.makedirs(settings.image.save_path, exist_ok=True)"
   ]
  },
  {
   "cell_type": "code",
   "execution_count": 5,
   "metadata": {},
   "outputs": [],
   "source": [
    "base_state = calibration.get_current_microscope_state(microscope)"
   ]
  },
  {
   "cell_type": "code",
   "execution_count": 12,
   "metadata": {},
   "outputs": [
    {
     "name": "stderr",
     "output_type": "stream",
     "text": [
      "2022-09-09 15:41:40,271 — root — INFO — set_microscope_state:234 — restoring microscope state...\n",
      "2022-09-09 15:41:40,293 — root — INFO — safe_absolute_stage_movement:338 — safe moving to StagePosition(x=-0.0030695833, y=0.004738, z=0.028919464, t=3.902525e-07, r=0.19372588, coordinate_system=Raw)\n",
      "2022-09-09 15:41:40,788 — root — INFO — safe_absolute_stage_movement:340 — safe movement complete.\n",
      "2022-09-09 15:41:40,789 — root — INFO — set_microscope_state:244 — restoring electron beam settings...\n",
      "2022-09-09 15:41:44,533 — root — INFO — set_microscope_state:265 — restoring ion beam settings...\n",
      "2022-09-09 15:41:44,661 — root — INFO — set_microscope_state:283 — microscope state restored\n",
      "2022-09-09 15:41:44,667 — root — INFO — acquire_image:187 — acquiring new ELECTRON image.\n"
     ]
    },
    {
     "data": {
      "text/plain": [
       "AdornedImage(width=6144, height=4096, bit_depth=8)"
      ]
     },
     "execution_count": 12,
     "metadata": {},
     "output_type": "execute_result"
    }
   ],
   "source": [
    "calibration.set_microscope_state(microscope, base_state)\n",
    "acquire.new_image(microscope, settings.image)"
   ]
  },
  {
   "cell_type": "code",
   "execution_count": 6,
   "metadata": {},
   "outputs": [
    {
     "name": "stderr",
     "output_type": "stream",
     "text": [
      "2022-09-09 16:05:03,314 — root — INFO — acquire_image:187 — acquiring new ELECTRON image.\n"
     ]
    },
    {
     "name": "stdout",
     "output_type": "stream",
     "text": [
      "0 - dwell_time: 2e-07\n",
      "0 0 2e-07 EB_0_2e-07_0\n"
     ]
    },
    {
     "name": "stderr",
     "output_type": "stream",
     "text": [
      "2022-09-09 16:05:05,539 — root — INFO — acquire_image:187 — acquiring new ELECTRON image.\n"
     ]
    },
    {
     "name": "stdout",
     "output_type": "stream",
     "text": [
      "0 1 2e-07 EB_0_2e-07_1\n"
     ]
    },
    {
     "name": "stderr",
     "output_type": "stream",
     "text": [
      "2022-09-09 16:05:07,418 — root — INFO — acquire_image:187 — acquiring new ELECTRON image.\n"
     ]
    },
    {
     "name": "stdout",
     "output_type": "stream",
     "text": [
      "0 2 2e-07 EB_0_2e-07_2\n"
     ]
    },
    {
     "name": "stderr",
     "output_type": "stream",
     "text": [
      "2022-09-09 16:05:09,353 — root — INFO — acquire_image:187 — acquiring new ELECTRON image.\n"
     ]
    },
    {
     "name": "stdout",
     "output_type": "stream",
     "text": [
      "0 3 2e-07 EB_0_2e-07_3\n"
     ]
    },
    {
     "name": "stderr",
     "output_type": "stream",
     "text": [
      "2022-09-09 16:05:11,229 — root — INFO — acquire_image:187 — acquiring new ELECTRON image.\n"
     ]
    },
    {
     "name": "stdout",
     "output_type": "stream",
     "text": [
      "0 4 2e-07 EB_0_2e-07_4\n"
     ]
    },
    {
     "name": "stderr",
     "output_type": "stream",
     "text": [
      "2022-09-09 16:05:13,132 — root — INFO — acquire_image:187 — acquiring new ELECTRON image.\n"
     ]
    },
    {
     "name": "stdout",
     "output_type": "stream",
     "text": [
      "0 5 2e-07 EB_0_2e-07_5\n"
     ]
    },
    {
     "name": "stderr",
     "output_type": "stream",
     "text": [
      "2022-09-09 16:05:15,021 — root — INFO — acquire_image:187 — acquiring new ELECTRON image.\n"
     ]
    },
    {
     "name": "stdout",
     "output_type": "stream",
     "text": [
      "0 6 2e-07 EB_0_2e-07_6\n"
     ]
    },
    {
     "name": "stderr",
     "output_type": "stream",
     "text": [
      "2022-09-09 16:05:16,909 — root — INFO — acquire_image:187 — acquiring new ELECTRON image.\n"
     ]
    },
    {
     "name": "stdout",
     "output_type": "stream",
     "text": [
      "--------------------------------------------------\n",
      "1 - dwell_time: 3e-07\n",
      "1 0 3e-07 EB_0_3e-07_0\n"
     ]
    },
    {
     "name": "stderr",
     "output_type": "stream",
     "text": [
      "2022-09-09 16:05:19,426 — root — INFO — acquire_image:187 — acquiring new ELECTRON image.\n"
     ]
    },
    {
     "name": "stdout",
     "output_type": "stream",
     "text": [
      "1 1 3e-07 EB_0_3e-07_1\n"
     ]
    },
    {
     "name": "stderr",
     "output_type": "stream",
     "text": [
      "2022-09-09 16:05:21,945 — root — INFO — acquire_image:187 — acquiring new ELECTRON image.\n"
     ]
    },
    {
     "name": "stdout",
     "output_type": "stream",
     "text": [
      "1 2 3e-07 EB_0_3e-07_2\n"
     ]
    },
    {
     "name": "stderr",
     "output_type": "stream",
     "text": [
      "2022-09-09 16:05:24,447 — root — INFO — acquire_image:187 — acquiring new ELECTRON image.\n"
     ]
    },
    {
     "name": "stdout",
     "output_type": "stream",
     "text": [
      "1 3 3e-07 EB_0_3e-07_3\n"
     ]
    },
    {
     "name": "stderr",
     "output_type": "stream",
     "text": [
      "2022-09-09 16:05:27,007 — root — INFO — acquire_image:187 — acquiring new ELECTRON image.\n"
     ]
    },
    {
     "name": "stdout",
     "output_type": "stream",
     "text": [
      "1 4 3e-07 EB_0_3e-07_4\n"
     ]
    },
    {
     "name": "stderr",
     "output_type": "stream",
     "text": [
      "2022-09-09 16:05:29,546 — root — INFO — acquire_image:187 — acquiring new ELECTRON image.\n"
     ]
    },
    {
     "name": "stdout",
     "output_type": "stream",
     "text": [
      "1 5 3e-07 EB_0_3e-07_5\n"
     ]
    },
    {
     "name": "stderr",
     "output_type": "stream",
     "text": [
      "2022-09-09 16:05:32,074 — root — INFO — acquire_image:187 — acquiring new ELECTRON image.\n"
     ]
    },
    {
     "name": "stdout",
     "output_type": "stream",
     "text": [
      "1 6 3e-07 EB_0_3e-07_6\n"
     ]
    },
    {
     "name": "stderr",
     "output_type": "stream",
     "text": [
      "2022-09-09 16:05:34,624 — root — INFO — acquire_image:187 — acquiring new ELECTRON image.\n"
     ]
    },
    {
     "name": "stdout",
     "output_type": "stream",
     "text": [
      "--------------------------------------------------\n",
      "2 - dwell_time: 5e-07\n",
      "2 0 5e-07 EB_0_5e-07_0\n"
     ]
    },
    {
     "name": "stderr",
     "output_type": "stream",
     "text": [
      "2022-09-09 16:05:38,416 — root — INFO — acquire_image:187 — acquiring new ELECTRON image.\n"
     ]
    },
    {
     "name": "stdout",
     "output_type": "stream",
     "text": [
      "2 1 5e-07 EB_0_5e-07_1\n"
     ]
    },
    {
     "name": "stderr",
     "output_type": "stream",
     "text": [
      "2022-09-09 16:05:42,220 — root — INFO — acquire_image:187 — acquiring new ELECTRON image.\n"
     ]
    },
    {
     "name": "stdout",
     "output_type": "stream",
     "text": [
      "2 2 5e-07 EB_0_5e-07_2\n"
     ]
    },
    {
     "name": "stderr",
     "output_type": "stream",
     "text": [
      "2022-09-09 16:05:46,013 — root — INFO — acquire_image:187 — acquiring new ELECTRON image.\n"
     ]
    },
    {
     "name": "stdout",
     "output_type": "stream",
     "text": [
      "2 3 5e-07 EB_0_5e-07_3\n"
     ]
    },
    {
     "name": "stderr",
     "output_type": "stream",
     "text": [
      "2022-09-09 16:05:49,822 — root — INFO — acquire_image:187 — acquiring new ELECTRON image.\n"
     ]
    },
    {
     "name": "stdout",
     "output_type": "stream",
     "text": [
      "2 4 5e-07 EB_0_5e-07_4\n"
     ]
    },
    {
     "name": "stderr",
     "output_type": "stream",
     "text": [
      "2022-09-09 16:05:53,622 — root — INFO — acquire_image:187 — acquiring new ELECTRON image.\n"
     ]
    },
    {
     "name": "stdout",
     "output_type": "stream",
     "text": [
      "2 5 5e-07 EB_0_5e-07_5\n"
     ]
    },
    {
     "name": "stderr",
     "output_type": "stream",
     "text": [
      "2022-09-09 16:05:57,409 — root — INFO — acquire_image:187 — acquiring new ELECTRON image.\n"
     ]
    },
    {
     "name": "stdout",
     "output_type": "stream",
     "text": [
      "2 6 5e-07 EB_0_5e-07_6\n"
     ]
    },
    {
     "name": "stderr",
     "output_type": "stream",
     "text": [
      "2022-09-09 16:06:01,204 — root — INFO — acquire_image:187 — acquiring new ELECTRON image.\n"
     ]
    },
    {
     "name": "stdout",
     "output_type": "stream",
     "text": [
      "--------------------------------------------------\n",
      "3 - dwell_time: 1e-06\n",
      "3 0 1e-06 EB_0_1e-06_0\n"
     ]
    },
    {
     "name": "stderr",
     "output_type": "stream",
     "text": [
      "2022-09-09 16:06:08,183 — root — INFO — acquire_image:187 — acquiring new ELECTRON image.\n"
     ]
    },
    {
     "name": "stdout",
     "output_type": "stream",
     "text": [
      "--------------------------------------------------\n",
      "4 - dwell_time: 3e-06\n",
      "4 0 3e-06 EB_0_3e-06_0\n"
     ]
    },
    {
     "name": "stderr",
     "output_type": "stream",
     "text": [
      "2022-09-09 16:06:27,828 — root — INFO — acquire_image:187 — acquiring new ELECTRON image.\n"
     ]
    },
    {
     "name": "stdout",
     "output_type": "stream",
     "text": [
      "--------------------------------------------------\n",
      "5 - dwell_time: 5e-06\n",
      "5 0 5e-06 EB_0_5e-06_0\n"
     ]
    },
    {
     "name": "stderr",
     "output_type": "stream",
     "text": [
      "2022-09-09 16:07:00,186 — root — INFO — acquire_image:187 — acquiring new ELECTRON image.\n"
     ]
    },
    {
     "name": "stdout",
     "output_type": "stream",
     "text": [
      "--------------------------------------------------\n",
      "6 - dwell_time: 8e-06\n",
      "6 0 8e-06 EB_0_8e-06_0\n"
     ]
    },
    {
     "name": "stderr",
     "output_type": "stream",
     "text": [
      "2022-09-09 16:07:51,606 — root — INFO — move_stage_relative_with_corrected_movement:450 — moving stage: StagePosition(x=1.5e-05, y=0, z=0)\n"
     ]
    },
    {
     "name": "stdout",
     "output_type": "stream",
     "text": [
      "--------------------------------------------------\n"
     ]
    },
    {
     "name": "stderr",
     "output_type": "stream",
     "text": [
      "2022-09-09 16:07:59,990 — root — INFO — acquire_image:187 — acquiring new ELECTRON image.\n"
     ]
    },
    {
     "name": "stdout",
     "output_type": "stream",
     "text": [
      "0 - dwell_time: 2e-07\n",
      "0 0 2e-07 EB_1_2e-07_0\n"
     ]
    },
    {
     "name": "stderr",
     "output_type": "stream",
     "text": [
      "2022-09-09 16:08:02,013 — root — INFO — acquire_image:187 — acquiring new ELECTRON image.\n"
     ]
    },
    {
     "name": "stdout",
     "output_type": "stream",
     "text": [
      "0 1 2e-07 EB_1_2e-07_1\n"
     ]
    },
    {
     "name": "stderr",
     "output_type": "stream",
     "text": [
      "2022-09-09 16:08:03,932 — root — INFO — acquire_image:187 — acquiring new ELECTRON image.\n"
     ]
    },
    {
     "name": "stdout",
     "output_type": "stream",
     "text": [
      "0 2 2e-07 EB_1_2e-07_2\n"
     ]
    },
    {
     "name": "stderr",
     "output_type": "stream",
     "text": [
      "2022-09-09 16:08:05,923 — root — INFO — acquire_image:187 — acquiring new ELECTRON image.\n"
     ]
    },
    {
     "name": "stdout",
     "output_type": "stream",
     "text": [
      "0 3 2e-07 EB_1_2e-07_3\n"
     ]
    },
    {
     "name": "stderr",
     "output_type": "stream",
     "text": [
      "2022-09-09 16:08:07,832 — root — INFO — acquire_image:187 — acquiring new ELECTRON image.\n"
     ]
    },
    {
     "name": "stdout",
     "output_type": "stream",
     "text": [
      "0 4 2e-07 EB_1_2e-07_4\n"
     ]
    },
    {
     "name": "stderr",
     "output_type": "stream",
     "text": [
      "2022-09-09 16:08:09,768 — root — INFO — acquire_image:187 — acquiring new ELECTRON image.\n"
     ]
    },
    {
     "name": "stdout",
     "output_type": "stream",
     "text": [
      "0 5 2e-07 EB_1_2e-07_5\n"
     ]
    },
    {
     "name": "stderr",
     "output_type": "stream",
     "text": [
      "2022-09-09 16:08:11,786 — root — INFO — acquire_image:187 — acquiring new ELECTRON image.\n"
     ]
    },
    {
     "name": "stdout",
     "output_type": "stream",
     "text": [
      "0 6 2e-07 EB_1_2e-07_6\n"
     ]
    },
    {
     "name": "stderr",
     "output_type": "stream",
     "text": [
      "2022-09-09 16:08:13,710 — root — INFO — acquire_image:187 — acquiring new ELECTRON image.\n"
     ]
    },
    {
     "name": "stdout",
     "output_type": "stream",
     "text": [
      "--------------------------------------------------\n",
      "1 - dwell_time: 3e-07\n",
      "1 0 3e-07 EB_1_3e-07_0\n"
     ]
    },
    {
     "name": "stderr",
     "output_type": "stream",
     "text": [
      "2022-09-09 16:08:16,545 — root — INFO — acquire_image:187 — acquiring new ELECTRON image.\n"
     ]
    },
    {
     "name": "stdout",
     "output_type": "stream",
     "text": [
      "1 1 3e-07 EB_1_3e-07_1\n"
     ]
    },
    {
     "name": "stderr",
     "output_type": "stream",
     "text": [
      "2022-09-09 16:08:19,082 — root — INFO — acquire_image:187 — acquiring new ELECTRON image.\n"
     ]
    },
    {
     "name": "stdout",
     "output_type": "stream",
     "text": [
      "1 2 3e-07 EB_1_3e-07_2\n"
     ]
    },
    {
     "name": "stderr",
     "output_type": "stream",
     "text": [
      "2022-09-09 16:08:21,617 — root — INFO — acquire_image:187 — acquiring new ELECTRON image.\n"
     ]
    },
    {
     "name": "stdout",
     "output_type": "stream",
     "text": [
      "1 3 3e-07 EB_1_3e-07_3\n"
     ]
    },
    {
     "name": "stderr",
     "output_type": "stream",
     "text": [
      "2022-09-09 16:08:25,929 — root — INFO — acquire_image:187 — acquiring new ELECTRON image.\n"
     ]
    },
    {
     "name": "stdout",
     "output_type": "stream",
     "text": [
      "1 4 3e-07 EB_1_3e-07_4\n"
     ]
    },
    {
     "name": "stderr",
     "output_type": "stream",
     "text": [
      "2022-09-09 16:08:31,398 — root — INFO — acquire_image:187 — acquiring new ELECTRON image.\n"
     ]
    },
    {
     "name": "stdout",
     "output_type": "stream",
     "text": [
      "1 5 3e-07 EB_1_3e-07_5\n"
     ]
    },
    {
     "name": "stderr",
     "output_type": "stream",
     "text": [
      "2022-09-09 16:08:42,343 — root — INFO — acquire_image:187 — acquiring new ELECTRON image.\n"
     ]
    },
    {
     "name": "stdout",
     "output_type": "stream",
     "text": [
      "1 6 3e-07 EB_1_3e-07_6\n",
      "--------------------------------------------------\n",
      "2 - dwell_time: 5e-07\n",
      "2 0 5e-07 EB_1_5e-07_0\n"
     ]
    },
    {
     "name": "stderr",
     "output_type": "stream",
     "text": [
      "2022-09-09 16:08:56,277 — root — INFO — acquire_image:187 — acquiring new ELECTRON image.\n",
      "2022-09-09 16:09:17,237 — root — INFO — acquire_image:187 — acquiring new ELECTRON image.\n"
     ]
    },
    {
     "name": "stdout",
     "output_type": "stream",
     "text": [
      "2 1 5e-07 EB_1_5e-07_1\n"
     ]
    },
    {
     "name": "stderr",
     "output_type": "stream",
     "text": [
      "2022-09-09 16:09:33,245 — root — INFO — acquire_image:187 — acquiring new ELECTRON image.\n"
     ]
    },
    {
     "name": "stdout",
     "output_type": "stream",
     "text": [
      "2 2 5e-07 EB_1_5e-07_2\n"
     ]
    },
    {
     "name": "stderr",
     "output_type": "stream",
     "text": [
      "2022-09-09 16:09:42,622 — root — INFO — acquire_image:187 — acquiring new ELECTRON image.\n"
     ]
    },
    {
     "name": "stdout",
     "output_type": "stream",
     "text": [
      "2 3 5e-07 EB_1_5e-07_3\n",
      "2 4 5e-07 EB_1_5e-07_4\n"
     ]
    },
    {
     "name": "stderr",
     "output_type": "stream",
     "text": [
      "2022-09-09 16:09:48,247 — root — INFO — acquire_image:187 — acquiring new ELECTRON image.\n"
     ]
    },
    {
     "name": "stdout",
     "output_type": "stream",
     "text": [
      "2 5 5e-07 EB_1_5e-07_5\n"
     ]
    },
    {
     "name": "stderr",
     "output_type": "stream",
     "text": [
      "2022-09-09 16:09:57,111 — root — INFO — acquire_image:187 — acquiring new ELECTRON image.\n"
     ]
    },
    {
     "name": "stdout",
     "output_type": "stream",
     "text": [
      "2 6 5e-07 EB_1_5e-07_6\n"
     ]
    },
    {
     "name": "stderr",
     "output_type": "stream",
     "text": [
      "2022-09-09 16:10:05,930 — root — INFO — acquire_image:187 — acquiring new ELECTRON image.\n"
     ]
    },
    {
     "name": "stdout",
     "output_type": "stream",
     "text": [
      "--------------------------------------------------\n",
      "3 - dwell_time: 1e-06\n",
      "3 0 1e-06 EB_1_1e-06_0\n"
     ]
    },
    {
     "name": "stderr",
     "output_type": "stream",
     "text": [
      "2022-09-09 16:10:15,747 — root — INFO — acquire_image:187 — acquiring new ELECTRON image.\n",
      "2022-09-09 16:10:28,339 — root — INFO — acquire_image:187 — acquiring new ELECTRON image.\n"
     ]
    },
    {
     "name": "stdout",
     "output_type": "stream",
     "text": [
      "--------------------------------------------------\n",
      "4 - dwell_time: 3e-06\n",
      "4 0 3e-06 EB_1_3e-06_0\n"
     ]
    },
    {
     "name": "stderr",
     "output_type": "stream",
     "text": [
      "2022-09-09 16:10:54,870 — root — INFO — acquire_image:187 — acquiring new ELECTRON image.\n"
     ]
    },
    {
     "name": "stdout",
     "output_type": "stream",
     "text": [
      "--------------------------------------------------\n",
      "5 - dwell_time: 5e-06\n",
      "5 0 5e-06 EB_1_5e-06_0\n"
     ]
    },
    {
     "name": "stderr",
     "output_type": "stream",
     "text": [
      "2022-09-09 16:11:27,228 — root — INFO — acquire_image:187 — acquiring new ELECTRON image.\n"
     ]
    },
    {
     "name": "stdout",
     "output_type": "stream",
     "text": [
      "--------------------------------------------------\n",
      "6 - dwell_time: 8e-06\n",
      "6 0 8e-06 EB_1_8e-06_0\n"
     ]
    },
    {
     "name": "stderr",
     "output_type": "stream",
     "text": [
      "2022-09-09 16:12:18,633 — root — INFO — move_stage_relative_with_corrected_movement:450 — moving stage: StagePosition(x=1.5e-05, y=0, z=0)\n"
     ]
    },
    {
     "name": "stdout",
     "output_type": "stream",
     "text": [
      "--------------------------------------------------\n"
     ]
    },
    {
     "name": "stderr",
     "output_type": "stream",
     "text": [
      "2022-09-09 16:12:26,894 — root — INFO — acquire_image:187 — acquiring new ELECTRON image.\n"
     ]
    },
    {
     "name": "stdout",
     "output_type": "stream",
     "text": [
      "0 - dwell_time: 2e-07\n",
      "0 0 2e-07 EB_2_2e-07_0\n"
     ]
    },
    {
     "name": "stderr",
     "output_type": "stream",
     "text": [
      "2022-09-09 16:12:28,951 — root — INFO — acquire_image:187 — acquiring new ELECTRON image.\n"
     ]
    },
    {
     "name": "stdout",
     "output_type": "stream",
     "text": [
      "0 1 2e-07 EB_2_2e-07_1\n"
     ]
    },
    {
     "name": "stderr",
     "output_type": "stream",
     "text": [
      "2022-09-09 16:12:30,823 — root — INFO — acquire_image:187 — acquiring new ELECTRON image.\n"
     ]
    },
    {
     "name": "stdout",
     "output_type": "stream",
     "text": [
      "0 2 2e-07 EB_2_2e-07_2\n"
     ]
    },
    {
     "name": "stderr",
     "output_type": "stream",
     "text": [
      "2022-09-09 16:12:32,732 — root — INFO — acquire_image:187 — acquiring new ELECTRON image.\n"
     ]
    },
    {
     "name": "stdout",
     "output_type": "stream",
     "text": [
      "0 3 2e-07 EB_2_2e-07_3\n"
     ]
    },
    {
     "name": "stderr",
     "output_type": "stream",
     "text": [
      "2022-09-09 16:12:34,598 — root — INFO — acquire_image:187 — acquiring new ELECTRON image.\n"
     ]
    },
    {
     "name": "stdout",
     "output_type": "stream",
     "text": [
      "0 4 2e-07 EB_2_2e-07_4\n"
     ]
    },
    {
     "name": "stderr",
     "output_type": "stream",
     "text": [
      "2022-09-09 16:12:36,518 — root — INFO — acquire_image:187 — acquiring new ELECTRON image.\n"
     ]
    },
    {
     "name": "stdout",
     "output_type": "stream",
     "text": [
      "0 5 2e-07 EB_2_2e-07_5\n"
     ]
    },
    {
     "name": "stderr",
     "output_type": "stream",
     "text": [
      "2022-09-09 16:12:38,406 — root — INFO — acquire_image:187 — acquiring new ELECTRON image.\n"
     ]
    },
    {
     "name": "stdout",
     "output_type": "stream",
     "text": [
      "0 6 2e-07 EB_2_2e-07_6\n"
     ]
    },
    {
     "name": "stderr",
     "output_type": "stream",
     "text": [
      "2022-09-09 16:12:40,297 — root — INFO — acquire_image:187 — acquiring new ELECTRON image.\n"
     ]
    },
    {
     "name": "stdout",
     "output_type": "stream",
     "text": [
      "--------------------------------------------------\n",
      "1 - dwell_time: 3e-07\n",
      "1 0 3e-07 EB_2_3e-07_0\n"
     ]
    },
    {
     "name": "stderr",
     "output_type": "stream",
     "text": [
      "2022-09-09 16:12:42,812 — root — INFO — acquire_image:187 — acquiring new ELECTRON image.\n"
     ]
    },
    {
     "name": "stdout",
     "output_type": "stream",
     "text": [
      "1 1 3e-07 EB_2_3e-07_1\n"
     ]
    },
    {
     "name": "stderr",
     "output_type": "stream",
     "text": [
      "2022-09-09 16:12:45,330 — root — INFO — acquire_image:187 — acquiring new ELECTRON image.\n"
     ]
    },
    {
     "name": "stdout",
     "output_type": "stream",
     "text": [
      "1 2 3e-07 EB_2_3e-07_2\n"
     ]
    },
    {
     "name": "stderr",
     "output_type": "stream",
     "text": [
      "2022-09-09 16:12:47,859 — root — INFO — acquire_image:187 — acquiring new ELECTRON image.\n"
     ]
    },
    {
     "name": "stdout",
     "output_type": "stream",
     "text": [
      "1 3 3e-07 EB_2_3e-07_3\n"
     ]
    },
    {
     "name": "stderr",
     "output_type": "stream",
     "text": [
      "2022-09-09 16:12:50,397 — root — INFO — acquire_image:187 — acquiring new ELECTRON image.\n"
     ]
    },
    {
     "name": "stdout",
     "output_type": "stream",
     "text": [
      "1 4 3e-07 EB_2_3e-07_4\n"
     ]
    },
    {
     "name": "stderr",
     "output_type": "stream",
     "text": [
      "2022-09-09 16:12:52,960 — root — INFO — acquire_image:187 — acquiring new ELECTRON image.\n"
     ]
    },
    {
     "name": "stdout",
     "output_type": "stream",
     "text": [
      "1 5 3e-07 EB_2_3e-07_5\n"
     ]
    },
    {
     "name": "stderr",
     "output_type": "stream",
     "text": [
      "2022-09-09 16:12:55,486 — root — INFO — acquire_image:187 — acquiring new ELECTRON image.\n"
     ]
    },
    {
     "name": "stdout",
     "output_type": "stream",
     "text": [
      "1 6 3e-07 EB_2_3e-07_6\n"
     ]
    },
    {
     "name": "stderr",
     "output_type": "stream",
     "text": [
      "2022-09-09 16:12:57,983 — root — INFO — acquire_image:187 — acquiring new ELECTRON image.\n"
     ]
    },
    {
     "name": "stdout",
     "output_type": "stream",
     "text": [
      "--------------------------------------------------\n",
      "2 - dwell_time: 5e-07\n",
      "2 0 5e-07 EB_2_5e-07_0\n"
     ]
    },
    {
     "name": "stderr",
     "output_type": "stream",
     "text": [
      "2022-09-09 16:13:01,772 — root — INFO — acquire_image:187 — acquiring new ELECTRON image.\n"
     ]
    },
    {
     "name": "stdout",
     "output_type": "stream",
     "text": [
      "2 1 5e-07 EB_2_5e-07_1\n"
     ]
    },
    {
     "name": "stderr",
     "output_type": "stream",
     "text": [
      "2022-09-09 16:13:05,555 — root — INFO — acquire_image:187 — acquiring new ELECTRON image.\n"
     ]
    },
    {
     "name": "stdout",
     "output_type": "stream",
     "text": [
      "2 2 5e-07 EB_2_5e-07_2\n"
     ]
    },
    {
     "name": "stderr",
     "output_type": "stream",
     "text": [
      "2022-09-09 16:13:09,352 — root — INFO — acquire_image:187 — acquiring new ELECTRON image.\n"
     ]
    },
    {
     "name": "stdout",
     "output_type": "stream",
     "text": [
      "2 3 5e-07 EB_2_5e-07_3\n"
     ]
    },
    {
     "name": "stderr",
     "output_type": "stream",
     "text": [
      "2022-09-09 16:13:13,147 — root — INFO — acquire_image:187 — acquiring new ELECTRON image.\n"
     ]
    },
    {
     "name": "stdout",
     "output_type": "stream",
     "text": [
      "2 4 5e-07 EB_2_5e-07_4\n"
     ]
    },
    {
     "name": "stderr",
     "output_type": "stream",
     "text": [
      "2022-09-09 16:13:16,942 — root — INFO — acquire_image:187 — acquiring new ELECTRON image.\n"
     ]
    },
    {
     "name": "stdout",
     "output_type": "stream",
     "text": [
      "2 5 5e-07 EB_2_5e-07_5\n"
     ]
    },
    {
     "name": "stderr",
     "output_type": "stream",
     "text": [
      "2022-09-09 16:13:20,738 — root — INFO — acquire_image:187 — acquiring new ELECTRON image.\n"
     ]
    },
    {
     "name": "stdout",
     "output_type": "stream",
     "text": [
      "2 6 5e-07 EB_2_5e-07_6\n"
     ]
    },
    {
     "name": "stderr",
     "output_type": "stream",
     "text": [
      "2022-09-09 16:13:24,514 — root — INFO — acquire_image:187 — acquiring new ELECTRON image.\n"
     ]
    },
    {
     "name": "stdout",
     "output_type": "stream",
     "text": [
      "--------------------------------------------------\n",
      "3 - dwell_time: 1e-06\n",
      "3 0 1e-06 EB_2_1e-06_0\n"
     ]
    },
    {
     "name": "stderr",
     "output_type": "stream",
     "text": [
      "2022-09-09 16:13:31,484 — root — INFO — acquire_image:187 — acquiring new ELECTRON image.\n"
     ]
    },
    {
     "name": "stdout",
     "output_type": "stream",
     "text": [
      "--------------------------------------------------\n",
      "4 - dwell_time: 3e-06\n",
      "4 0 3e-06 EB_2_3e-06_0\n"
     ]
    },
    {
     "name": "stderr",
     "output_type": "stream",
     "text": [
      "2022-09-09 16:13:51,155 — root — INFO — acquire_image:187 — acquiring new ELECTRON image.\n"
     ]
    },
    {
     "name": "stdout",
     "output_type": "stream",
     "text": [
      "--------------------------------------------------\n",
      "5 - dwell_time: 5e-06\n",
      "5 0 5e-06 EB_2_5e-06_0\n"
     ]
    },
    {
     "name": "stderr",
     "output_type": "stream",
     "text": [
      "2022-09-09 16:14:23,512 — root — INFO — acquire_image:187 — acquiring new ELECTRON image.\n"
     ]
    },
    {
     "name": "stdout",
     "output_type": "stream",
     "text": [
      "--------------------------------------------------\n",
      "6 - dwell_time: 8e-06\n",
      "6 0 8e-06 EB_2_8e-06_0\n"
     ]
    },
    {
     "name": "stderr",
     "output_type": "stream",
     "text": [
      "2022-09-09 16:15:14,930 — root — INFO — move_stage_relative_with_corrected_movement:450 — moving stage: StagePosition(x=1.5e-05, y=0, z=0)\n"
     ]
    },
    {
     "name": "stdout",
     "output_type": "stream",
     "text": [
      "--------------------------------------------------\n"
     ]
    },
    {
     "name": "stderr",
     "output_type": "stream",
     "text": [
      "2022-09-09 16:15:23,236 — root — INFO — acquire_image:187 — acquiring new ELECTRON image.\n"
     ]
    },
    {
     "name": "stdout",
     "output_type": "stream",
     "text": [
      "0 - dwell_time: 2e-07\n",
      "0 0 2e-07 EB_3_2e-07_0\n"
     ]
    },
    {
     "name": "stderr",
     "output_type": "stream",
     "text": [
      "2022-09-09 16:15:25,294 — root — INFO — acquire_image:187 — acquiring new ELECTRON image.\n"
     ]
    },
    {
     "name": "stdout",
     "output_type": "stream",
     "text": [
      "0 1 2e-07 EB_3_2e-07_1\n"
     ]
    },
    {
     "name": "stderr",
     "output_type": "stream",
     "text": [
      "2022-09-09 16:15:27,206 — root — INFO — acquire_image:187 — acquiring new ELECTRON image.\n"
     ]
    },
    {
     "name": "stdout",
     "output_type": "stream",
     "text": [
      "0 2 2e-07 EB_3_2e-07_2\n"
     ]
    },
    {
     "name": "stderr",
     "output_type": "stream",
     "text": [
      "2022-09-09 16:15:29,098 — root — INFO — acquire_image:187 — acquiring new ELECTRON image.\n"
     ]
    },
    {
     "name": "stdout",
     "output_type": "stream",
     "text": [
      "0 3 2e-07 EB_3_2e-07_3\n"
     ]
    },
    {
     "name": "stderr",
     "output_type": "stream",
     "text": [
      "2022-09-09 16:15:30,988 — root — INFO — acquire_image:187 — acquiring new ELECTRON image.\n"
     ]
    },
    {
     "name": "stdout",
     "output_type": "stream",
     "text": [
      "0 4 2e-07 EB_3_2e-07_4\n"
     ]
    },
    {
     "name": "stderr",
     "output_type": "stream",
     "text": [
      "2022-09-09 16:15:32,858 — root — INFO — acquire_image:187 — acquiring new ELECTRON image.\n"
     ]
    },
    {
     "name": "stdout",
     "output_type": "stream",
     "text": [
      "0 5 2e-07 EB_3_2e-07_5\n"
     ]
    },
    {
     "name": "stderr",
     "output_type": "stream",
     "text": [
      "2022-09-09 16:15:34,771 — root — INFO — acquire_image:187 — acquiring new ELECTRON image.\n"
     ]
    },
    {
     "name": "stdout",
     "output_type": "stream",
     "text": [
      "0 6 2e-07 EB_3_2e-07_6\n"
     ]
    },
    {
     "name": "stderr",
     "output_type": "stream",
     "text": [
      "2022-09-09 16:15:36,656 — root — INFO — acquire_image:187 — acquiring new ELECTRON image.\n"
     ]
    },
    {
     "name": "stdout",
     "output_type": "stream",
     "text": [
      "--------------------------------------------------\n",
      "1 - dwell_time: 3e-07\n",
      "1 0 3e-07 EB_3_3e-07_0\n"
     ]
    },
    {
     "name": "stderr",
     "output_type": "stream",
     "text": [
      "2022-09-09 16:15:39,170 — root — INFO — acquire_image:187 — acquiring new ELECTRON image.\n"
     ]
    },
    {
     "name": "stdout",
     "output_type": "stream",
     "text": [
      "1 1 3e-07 EB_3_3e-07_1\n"
     ]
    },
    {
     "name": "stderr",
     "output_type": "stream",
     "text": [
      "2022-09-09 16:15:41,679 — root — INFO — acquire_image:187 — acquiring new ELECTRON image.\n"
     ]
    },
    {
     "name": "stdout",
     "output_type": "stream",
     "text": [
      "1 2 3e-07 EB_3_3e-07_2\n"
     ]
    },
    {
     "name": "stderr",
     "output_type": "stream",
     "text": [
      "2022-09-09 16:15:44,190 — root — INFO — acquire_image:187 — acquiring new ELECTRON image.\n"
     ]
    },
    {
     "name": "stdout",
     "output_type": "stream",
     "text": [
      "1 3 3e-07 EB_3_3e-07_3\n"
     ]
    },
    {
     "name": "stderr",
     "output_type": "stream",
     "text": [
      "2022-09-09 16:15:46,708 — root — INFO — acquire_image:187 — acquiring new ELECTRON image.\n"
     ]
    },
    {
     "name": "stdout",
     "output_type": "stream",
     "text": [
      "1 4 3e-07 EB_3_3e-07_4\n"
     ]
    },
    {
     "name": "stderr",
     "output_type": "stream",
     "text": [
      "2022-09-09 16:15:49,217 — root — INFO — acquire_image:187 — acquiring new ELECTRON image.\n"
     ]
    },
    {
     "name": "stdout",
     "output_type": "stream",
     "text": [
      "1 5 3e-07 EB_3_3e-07_5\n"
     ]
    },
    {
     "name": "stderr",
     "output_type": "stream",
     "text": [
      "2022-09-09 16:15:51,734 — root — INFO — acquire_image:187 — acquiring new ELECTRON image.\n"
     ]
    },
    {
     "name": "stdout",
     "output_type": "stream",
     "text": [
      "1 6 3e-07 EB_3_3e-07_6\n"
     ]
    },
    {
     "name": "stderr",
     "output_type": "stream",
     "text": [
      "2022-09-09 16:15:54,271 — root — INFO — acquire_image:187 — acquiring new ELECTRON image.\n"
     ]
    },
    {
     "name": "stdout",
     "output_type": "stream",
     "text": [
      "--------------------------------------------------\n",
      "2 - dwell_time: 5e-07\n",
      "2 0 5e-07 EB_3_5e-07_0\n"
     ]
    },
    {
     "name": "stderr",
     "output_type": "stream",
     "text": [
      "2022-09-09 16:15:58,058 — root — INFO — acquire_image:187 — acquiring new ELECTRON image.\n"
     ]
    },
    {
     "name": "stdout",
     "output_type": "stream",
     "text": [
      "2 1 5e-07 EB_3_5e-07_1\n"
     ]
    },
    {
     "name": "stderr",
     "output_type": "stream",
     "text": [
      "2022-09-09 16:16:01,842 — root — INFO — acquire_image:187 — acquiring new ELECTRON image.\n"
     ]
    },
    {
     "name": "stdout",
     "output_type": "stream",
     "text": [
      "2 2 5e-07 EB_3_5e-07_2\n"
     ]
    },
    {
     "name": "stderr",
     "output_type": "stream",
     "text": [
      "2022-09-09 16:16:05,618 — root — INFO — acquire_image:187 — acquiring new ELECTRON image.\n"
     ]
    },
    {
     "name": "stdout",
     "output_type": "stream",
     "text": [
      "2 3 5e-07 EB_3_5e-07_3\n"
     ]
    },
    {
     "name": "stderr",
     "output_type": "stream",
     "text": [
      "2022-09-09 16:16:09,384 — root — INFO — acquire_image:187 — acquiring new ELECTRON image.\n"
     ]
    },
    {
     "name": "stdout",
     "output_type": "stream",
     "text": [
      "2 4 5e-07 EB_3_5e-07_4\n"
     ]
    },
    {
     "name": "stderr",
     "output_type": "stream",
     "text": [
      "2022-09-09 16:16:13,163 — root — INFO — acquire_image:187 — acquiring new ELECTRON image.\n"
     ]
    },
    {
     "name": "stdout",
     "output_type": "stream",
     "text": [
      "2 5 5e-07 EB_3_5e-07_5\n"
     ]
    },
    {
     "name": "stderr",
     "output_type": "stream",
     "text": [
      "2022-09-09 16:16:16,965 — root — INFO — acquire_image:187 — acquiring new ELECTRON image.\n"
     ]
    },
    {
     "name": "stdout",
     "output_type": "stream",
     "text": [
      "2 6 5e-07 EB_3_5e-07_6\n"
     ]
    },
    {
     "name": "stderr",
     "output_type": "stream",
     "text": [
      "2022-09-09 16:16:20,736 — root — INFO — acquire_image:187 — acquiring new ELECTRON image.\n"
     ]
    },
    {
     "name": "stdout",
     "output_type": "stream",
     "text": [
      "--------------------------------------------------\n",
      "3 - dwell_time: 1e-06\n",
      "3 0 1e-06 EB_3_1e-06_0\n"
     ]
    },
    {
     "name": "stderr",
     "output_type": "stream",
     "text": [
      "2022-09-09 16:16:27,698 — root — INFO — acquire_image:187 — acquiring new ELECTRON image.\n"
     ]
    },
    {
     "name": "stdout",
     "output_type": "stream",
     "text": [
      "--------------------------------------------------\n",
      "4 - dwell_time: 3e-06\n",
      "4 0 3e-06 EB_3_3e-06_0\n"
     ]
    },
    {
     "name": "stderr",
     "output_type": "stream",
     "text": [
      "2022-09-09 16:16:47,368 — root — INFO — acquire_image:187 — acquiring new ELECTRON image.\n"
     ]
    },
    {
     "name": "stdout",
     "output_type": "stream",
     "text": [
      "--------------------------------------------------\n",
      "5 - dwell_time: 5e-06\n",
      "5 0 5e-06 EB_3_5e-06_0\n"
     ]
    },
    {
     "name": "stderr",
     "output_type": "stream",
     "text": [
      "2022-09-09 16:17:19,731 — root — INFO — acquire_image:187 — acquiring new ELECTRON image.\n"
     ]
    },
    {
     "name": "stdout",
     "output_type": "stream",
     "text": [
      "--------------------------------------------------\n",
      "6 - dwell_time: 8e-06\n",
      "6 0 8e-06 EB_3_8e-06_0\n"
     ]
    },
    {
     "name": "stderr",
     "output_type": "stream",
     "text": [
      "2022-09-09 16:18:11,136 — root — INFO — move_stage_relative_with_corrected_movement:450 — moving stage: StagePosition(x=1.5e-05, y=0, z=0)\n"
     ]
    },
    {
     "name": "stdout",
     "output_type": "stream",
     "text": [
      "--------------------------------------------------\n"
     ]
    },
    {
     "name": "stderr",
     "output_type": "stream",
     "text": [
      "2022-09-09 16:18:19,476 — root — INFO — acquire_image:187 — acquiring new ELECTRON image.\n"
     ]
    },
    {
     "name": "stdout",
     "output_type": "stream",
     "text": [
      "0 - dwell_time: 2e-07\n",
      "0 0 2e-07 EB_4_2e-07_0\n"
     ]
    },
    {
     "name": "stderr",
     "output_type": "stream",
     "text": [
      "2022-09-09 16:18:21,484 — root — INFO — acquire_image:187 — acquiring new ELECTRON image.\n"
     ]
    },
    {
     "name": "stdout",
     "output_type": "stream",
     "text": [
      "0 1 2e-07 EB_4_2e-07_1\n"
     ]
    },
    {
     "name": "stderr",
     "output_type": "stream",
     "text": [
      "2022-09-09 16:18:23,360 — root — INFO — acquire_image:187 — acquiring new ELECTRON image.\n"
     ]
    },
    {
     "name": "stdout",
     "output_type": "stream",
     "text": [
      "0 2 2e-07 EB_4_2e-07_2\n"
     ]
    },
    {
     "name": "stderr",
     "output_type": "stream",
     "text": [
      "2022-09-09 16:18:25,262 — root — INFO — acquire_image:187 — acquiring new ELECTRON image.\n"
     ]
    },
    {
     "name": "stdout",
     "output_type": "stream",
     "text": [
      "0 3 2e-07 EB_4_2e-07_3\n"
     ]
    },
    {
     "name": "stderr",
     "output_type": "stream",
     "text": [
      "2022-09-09 16:18:27,146 — root — INFO — acquire_image:187 — acquiring new ELECTRON image.\n"
     ]
    },
    {
     "name": "stdout",
     "output_type": "stream",
     "text": [
      "0 4 2e-07 EB_4_2e-07_4\n"
     ]
    },
    {
     "name": "stderr",
     "output_type": "stream",
     "text": [
      "2022-09-09 16:18:29,040 — root — INFO — acquire_image:187 — acquiring new ELECTRON image.\n"
     ]
    },
    {
     "name": "stdout",
     "output_type": "stream",
     "text": [
      "0 5 2e-07 EB_4_2e-07_5\n"
     ]
    },
    {
     "name": "stderr",
     "output_type": "stream",
     "text": [
      "2022-09-09 16:18:30,915 — root — INFO — acquire_image:187 — acquiring new ELECTRON image.\n"
     ]
    },
    {
     "name": "stdout",
     "output_type": "stream",
     "text": [
      "0 6 2e-07 EB_4_2e-07_6\n"
     ]
    },
    {
     "name": "stderr",
     "output_type": "stream",
     "text": [
      "2022-09-09 16:18:32,812 — root — INFO — acquire_image:187 — acquiring new ELECTRON image.\n"
     ]
    },
    {
     "name": "stdout",
     "output_type": "stream",
     "text": [
      "--------------------------------------------------\n",
      "1 - dwell_time: 3e-07\n",
      "1 0 3e-07 EB_4_3e-07_0\n"
     ]
    },
    {
     "name": "stderr",
     "output_type": "stream",
     "text": [
      "2022-09-09 16:18:35,324 — root — INFO — acquire_image:187 — acquiring new ELECTRON image.\n"
     ]
    },
    {
     "name": "stdout",
     "output_type": "stream",
     "text": [
      "1 1 3e-07 EB_4_3e-07_1\n"
     ]
    },
    {
     "name": "stderr",
     "output_type": "stream",
     "text": [
      "2022-09-09 16:18:37,845 — root — INFO — acquire_image:187 — acquiring new ELECTRON image.\n"
     ]
    },
    {
     "name": "stdout",
     "output_type": "stream",
     "text": [
      "1 2 3e-07 EB_4_3e-07_2\n"
     ]
    },
    {
     "name": "stderr",
     "output_type": "stream",
     "text": [
      "2022-09-09 16:18:40,379 — root — INFO — acquire_image:187 — acquiring new ELECTRON image.\n"
     ]
    },
    {
     "name": "stdout",
     "output_type": "stream",
     "text": [
      "1 3 3e-07 EB_4_3e-07_3\n"
     ]
    },
    {
     "name": "stderr",
     "output_type": "stream",
     "text": [
      "2022-09-09 16:18:42,887 — root — INFO — acquire_image:187 — acquiring new ELECTRON image.\n"
     ]
    },
    {
     "name": "stdout",
     "output_type": "stream",
     "text": [
      "1 4 3e-07 EB_4_3e-07_4\n"
     ]
    },
    {
     "name": "stderr",
     "output_type": "stream",
     "text": [
      "2022-09-09 16:18:45,382 — root — INFO — acquire_image:187 — acquiring new ELECTRON image.\n"
     ]
    },
    {
     "name": "stdout",
     "output_type": "stream",
     "text": [
      "1 5 3e-07 EB_4_3e-07_5\n"
     ]
    },
    {
     "name": "stderr",
     "output_type": "stream",
     "text": [
      "2022-09-09 16:18:47,921 — root — INFO — acquire_image:187 — acquiring new ELECTRON image.\n"
     ]
    },
    {
     "name": "stdout",
     "output_type": "stream",
     "text": [
      "1 6 3e-07 EB_4_3e-07_6\n"
     ]
    },
    {
     "name": "stderr",
     "output_type": "stream",
     "text": [
      "2022-09-09 16:18:50,447 — root — INFO — acquire_image:187 — acquiring new ELECTRON image.\n"
     ]
    },
    {
     "name": "stdout",
     "output_type": "stream",
     "text": [
      "--------------------------------------------------\n",
      "2 - dwell_time: 5e-07\n",
      "2 0 5e-07 EB_4_5e-07_0\n"
     ]
    },
    {
     "name": "stderr",
     "output_type": "stream",
     "text": [
      "2022-09-09 16:18:54,228 — root — INFO — acquire_image:187 — acquiring new ELECTRON image.\n"
     ]
    },
    {
     "name": "stdout",
     "output_type": "stream",
     "text": [
      "2 1 5e-07 EB_4_5e-07_1\n"
     ]
    },
    {
     "name": "stderr",
     "output_type": "stream",
     "text": [
      "2022-09-09 16:18:58,016 — root — INFO — acquire_image:187 — acquiring new ELECTRON image.\n"
     ]
    },
    {
     "name": "stdout",
     "output_type": "stream",
     "text": [
      "2 2 5e-07 EB_4_5e-07_2\n"
     ]
    },
    {
     "name": "stderr",
     "output_type": "stream",
     "text": [
      "2022-09-09 16:19:01,790 — root — INFO — acquire_image:187 — acquiring new ELECTRON image.\n"
     ]
    },
    {
     "name": "stdout",
     "output_type": "stream",
     "text": [
      "2 3 5e-07 EB_4_5e-07_3\n"
     ]
    },
    {
     "name": "stderr",
     "output_type": "stream",
     "text": [
      "2022-09-09 16:19:05,604 — root — INFO — acquire_image:187 — acquiring new ELECTRON image.\n"
     ]
    },
    {
     "name": "stdout",
     "output_type": "stream",
     "text": [
      "2 4 5e-07 EB_4_5e-07_4\n"
     ]
    },
    {
     "name": "stderr",
     "output_type": "stream",
     "text": [
      "2022-09-09 16:19:09,364 — root — INFO — acquire_image:187 — acquiring new ELECTRON image.\n"
     ]
    },
    {
     "name": "stdout",
     "output_type": "stream",
     "text": [
      "2 5 5e-07 EB_4_5e-07_5\n"
     ]
    },
    {
     "name": "stderr",
     "output_type": "stream",
     "text": [
      "2022-09-09 16:19:13,157 — root — INFO — acquire_image:187 — acquiring new ELECTRON image.\n"
     ]
    },
    {
     "name": "stdout",
     "output_type": "stream",
     "text": [
      "2 6 5e-07 EB_4_5e-07_6\n"
     ]
    },
    {
     "name": "stderr",
     "output_type": "stream",
     "text": [
      "2022-09-09 16:19:16,931 — root — INFO — acquire_image:187 — acquiring new ELECTRON image.\n"
     ]
    },
    {
     "name": "stdout",
     "output_type": "stream",
     "text": [
      "--------------------------------------------------\n",
      "3 - dwell_time: 1e-06\n",
      "3 0 1e-06 EB_4_1e-06_0\n"
     ]
    },
    {
     "name": "stderr",
     "output_type": "stream",
     "text": [
      "2022-09-09 16:19:23,879 — root — INFO — acquire_image:187 — acquiring new ELECTRON image.\n"
     ]
    },
    {
     "name": "stdout",
     "output_type": "stream",
     "text": [
      "--------------------------------------------------\n",
      "4 - dwell_time: 3e-06\n",
      "4 0 3e-06 EB_4_3e-06_0\n"
     ]
    },
    {
     "name": "stderr",
     "output_type": "stream",
     "text": [
      "2022-09-09 16:19:43,541 — root — INFO — acquire_image:187 — acquiring new ELECTRON image.\n"
     ]
    },
    {
     "name": "stdout",
     "output_type": "stream",
     "text": [
      "--------------------------------------------------\n",
      "5 - dwell_time: 5e-06\n",
      "5 0 5e-06 EB_4_5e-06_0\n"
     ]
    },
    {
     "name": "stderr",
     "output_type": "stream",
     "text": [
      "2022-09-09 16:20:16,011 — root — INFO — acquire_image:187 — acquiring new ELECTRON image.\n"
     ]
    },
    {
     "name": "stdout",
     "output_type": "stream",
     "text": [
      "--------------------------------------------------\n",
      "6 - dwell_time: 8e-06\n",
      "6 0 8e-06 EB_4_8e-06_0\n"
     ]
    },
    {
     "name": "stderr",
     "output_type": "stream",
     "text": [
      "2022-09-09 16:21:07,520 — root — INFO — move_stage_relative_with_corrected_movement:450 — moving stage: StagePosition(x=1.5e-05, y=0, z=0)\n"
     ]
    },
    {
     "name": "stdout",
     "output_type": "stream",
     "text": [
      "--------------------------------------------------\n"
     ]
    },
    {
     "name": "stderr",
     "output_type": "stream",
     "text": [
      "2022-09-09 16:21:15,852 — root — INFO — acquire_image:187 — acquiring new ELECTRON image.\n"
     ]
    },
    {
     "name": "stdout",
     "output_type": "stream",
     "text": [
      "0 - dwell_time: 2e-07\n",
      "0 0 2e-07 EB_5_2e-07_0\n"
     ]
    },
    {
     "name": "stderr",
     "output_type": "stream",
     "text": [
      "2022-09-09 16:21:17,892 — root — INFO — acquire_image:187 — acquiring new ELECTRON image.\n"
     ]
    },
    {
     "name": "stdout",
     "output_type": "stream",
     "text": [
      "0 1 2e-07 EB_5_2e-07_1\n"
     ]
    },
    {
     "name": "stderr",
     "output_type": "stream",
     "text": [
      "2022-09-09 16:21:19,810 — root — INFO — acquire_image:187 — acquiring new ELECTRON image.\n"
     ]
    },
    {
     "name": "stdout",
     "output_type": "stream",
     "text": [
      "0 2 2e-07 EB_5_2e-07_2\n"
     ]
    },
    {
     "name": "stderr",
     "output_type": "stream",
     "text": [
      "2022-09-09 16:21:21,791 — root — INFO — acquire_image:187 — acquiring new ELECTRON image.\n"
     ]
    },
    {
     "name": "stdout",
     "output_type": "stream",
     "text": [
      "0 3 2e-07 EB_5_2e-07_3\n"
     ]
    },
    {
     "name": "stderr",
     "output_type": "stream",
     "text": [
      "2022-09-09 16:21:23,687 — root — INFO — acquire_image:187 — acquiring new ELECTRON image.\n"
     ]
    },
    {
     "name": "stdout",
     "output_type": "stream",
     "text": [
      "0 4 2e-07 EB_5_2e-07_4\n"
     ]
    },
    {
     "name": "stderr",
     "output_type": "stream",
     "text": [
      "2022-09-09 16:21:25,598 — root — INFO — acquire_image:187 — acquiring new ELECTRON image.\n"
     ]
    },
    {
     "name": "stdout",
     "output_type": "stream",
     "text": [
      "0 5 2e-07 EB_5_2e-07_5\n"
     ]
    },
    {
     "name": "stderr",
     "output_type": "stream",
     "text": [
      "2022-09-09 16:21:27,502 — root — INFO — acquire_image:187 — acquiring new ELECTRON image.\n"
     ]
    },
    {
     "name": "stdout",
     "output_type": "stream",
     "text": [
      "0 6 2e-07 EB_5_2e-07_6\n"
     ]
    },
    {
     "name": "stderr",
     "output_type": "stream",
     "text": [
      "2022-09-09 16:21:29,399 — root — INFO — acquire_image:187 — acquiring new ELECTRON image.\n"
     ]
    },
    {
     "name": "stdout",
     "output_type": "stream",
     "text": [
      "--------------------------------------------------\n",
      "1 - dwell_time: 3e-07\n",
      "1 0 3e-07 EB_5_3e-07_0\n"
     ]
    },
    {
     "name": "stderr",
     "output_type": "stream",
     "text": [
      "2022-09-09 16:21:31,957 — root — INFO — acquire_image:187 — acquiring new ELECTRON image.\n"
     ]
    },
    {
     "name": "stdout",
     "output_type": "stream",
     "text": [
      "1 1 3e-07 EB_5_3e-07_1\n"
     ]
    },
    {
     "name": "stderr",
     "output_type": "stream",
     "text": [
      "2022-09-09 16:21:40,012 — root — INFO — acquire_image:187 — acquiring new ELECTRON image.\n"
     ]
    },
    {
     "name": "stdout",
     "output_type": "stream",
     "text": [
      "1 2 3e-07 EB_5_3e-07_2\n",
      "1 3 3e-07 EB_5_3e-07_3\n"
     ]
    },
    {
     "name": "stderr",
     "output_type": "stream",
     "text": [
      "2022-09-09 16:21:48,497 — root — INFO — acquire_image:187 — acquiring new ELECTRON image.\n",
      "2022-09-09 16:22:00,360 — root — INFO — acquire_image:187 — acquiring new ELECTRON image.\n"
     ]
    },
    {
     "name": "stdout",
     "output_type": "stream",
     "text": [
      "1 4 3e-07 EB_5_3e-07_4\n"
     ]
    },
    {
     "name": "stderr",
     "output_type": "stream",
     "text": [
      "2022-09-09 16:22:14,715 — root — INFO — acquire_image:187 — acquiring new ELECTRON image.\n"
     ]
    },
    {
     "name": "stdout",
     "output_type": "stream",
     "text": [
      "1 5 3e-07 EB_5_3e-07_5\n"
     ]
    },
    {
     "name": "stderr",
     "output_type": "stream",
     "text": [
      "2022-09-09 16:22:35,260 — root — INFO — acquire_image:187 — acquiring new ELECTRON image.\n"
     ]
    },
    {
     "name": "stdout",
     "output_type": "stream",
     "text": [
      "1 6 3e-07 EB_5_3e-07_6\n"
     ]
    },
    {
     "name": "stderr",
     "output_type": "stream",
     "text": [
      "2022-09-09 16:22:44,849 — root — INFO — acquire_image:187 — acquiring new ELECTRON image.\n"
     ]
    },
    {
     "name": "stdout",
     "output_type": "stream",
     "text": [
      "--------------------------------------------------\n",
      "2 - dwell_time: 5e-07\n",
      "2 0 5e-07 EB_5_5e-07_0\n",
      "2 1 5e-07 EB_5_5e-07_1\n"
     ]
    },
    {
     "name": "stderr",
     "output_type": "stream",
     "text": [
      "2022-09-09 16:22:52,582 — root — INFO — acquire_image:187 — acquiring new ELECTRON image.\n",
      "2022-09-09 16:22:58,446 — root — INFO — acquire_image:187 — acquiring new ELECTRON image.\n"
     ]
    },
    {
     "name": "stdout",
     "output_type": "stream",
     "text": [
      "2 2 5e-07 EB_5_5e-07_2\n"
     ]
    },
    {
     "name": "stderr",
     "output_type": "stream",
     "text": [
      "2022-09-09 16:23:05,507 — root — INFO — acquire_image:187 — acquiring new ELECTRON image.\n"
     ]
    },
    {
     "name": "stdout",
     "output_type": "stream",
     "text": [
      "2 3 5e-07 EB_5_5e-07_3\n"
     ]
    },
    {
     "name": "stderr",
     "output_type": "stream",
     "text": [
      "2022-09-09 16:23:11,176 — root — INFO — acquire_image:187 — acquiring new ELECTRON image.\n"
     ]
    },
    {
     "name": "stdout",
     "output_type": "stream",
     "text": [
      "2 4 5e-07 EB_5_5e-07_4\n"
     ]
    },
    {
     "name": "stderr",
     "output_type": "stream",
     "text": [
      "2022-09-09 16:23:19,374 — root — INFO — acquire_image:187 — acquiring new ELECTRON image.\n"
     ]
    },
    {
     "name": "stdout",
     "output_type": "stream",
     "text": [
      "2 5 5e-07 EB_5_5e-07_5\n"
     ]
    },
    {
     "name": "stderr",
     "output_type": "stream",
     "text": [
      "2022-09-09 16:23:30,387 — root — INFO — acquire_image:187 — acquiring new ELECTRON image.\n"
     ]
    },
    {
     "name": "stdout",
     "output_type": "stream",
     "text": [
      "2 6 5e-07 EB_5_5e-07_6\n"
     ]
    },
    {
     "name": "stderr",
     "output_type": "stream",
     "text": [
      "2022-09-09 16:23:39,640 — root — INFO — acquire_image:187 — acquiring new ELECTRON image.\n"
     ]
    },
    {
     "name": "stdout",
     "output_type": "stream",
     "text": [
      "--------------------------------------------------\n",
      "3 - dwell_time: 1e-06\n",
      "3 0 1e-06 EB_5_1e-06_0\n",
      "--------------------------------------------------\n",
      "4 - dwell_time: 3e-06\n",
      "4 0 3e-06 EB_5_3e-06_0\n"
     ]
    },
    {
     "name": "stderr",
     "output_type": "stream",
     "text": [
      "2022-09-09 16:23:52,644 — root — INFO — acquire_image:187 — acquiring new ELECTRON image.\n",
      "2022-09-09 16:24:16,682 — root — INFO — acquire_image:187 — acquiring new ELECTRON image.\n"
     ]
    },
    {
     "name": "stdout",
     "output_type": "stream",
     "text": [
      "--------------------------------------------------\n",
      "5 - dwell_time: 5e-06\n",
      "5 0 5e-06 EB_5_5e-06_0\n"
     ]
    },
    {
     "name": "stderr",
     "output_type": "stream",
     "text": [
      "2022-09-09 16:24:49,022 — root — INFO — acquire_image:187 — acquiring new ELECTRON image.\n"
     ]
    },
    {
     "name": "stdout",
     "output_type": "stream",
     "text": [
      "--------------------------------------------------\n",
      "6 - dwell_time: 8e-06\n",
      "6 0 8e-06 EB_5_8e-06_0\n"
     ]
    },
    {
     "name": "stderr",
     "output_type": "stream",
     "text": [
      "2022-09-09 16:25:40,445 — root — INFO — move_stage_relative_with_corrected_movement:450 — moving stage: StagePosition(x=1.5e-05, y=0, z=0)\n"
     ]
    },
    {
     "name": "stdout",
     "output_type": "stream",
     "text": [
      "--------------------------------------------------\n"
     ]
    }
   ],
   "source": [
    "\n",
    "settings.image.hfw = 15e-6\n",
    "settings.image.resolution = \"3072x2048\"\n",
    "dwell_times = [0.2e-6, 0.3e-6, 0.5e-6, 1e-6, 3e-6, 5e-6, 8e-6]\n",
    "settings.image.save = True\n",
    "settings.image.autocontrast = False\n",
    "settings.image.gamma.enabled = False\n",
    "\n",
    "for step in range(6):\n",
    "\n",
    "    for i, dwell_time in enumerate(dwell_times):\n",
    "\n",
    "        settings.image.dwell_time = dwell_time\n",
    "        print(f\"{i} - dwell_time: {dwell_time}\")\n",
    "\n",
    "        # take multiple short dwell time images\n",
    "        if dwell_time < 1e-6:\n",
    "            for j in range(7):\n",
    "                settings.image.label = f\"EB_{step}_{dwell_time}_{j}\"\n",
    "                print(i, j, dwell_time, settings.image.label)\n",
    "                acquire.new_image(microscope, settings.image)\n",
    "        else:\n",
    "            settings.image.label = f\"EB_{step}_{dwell_time}_0\"\n",
    "            print(i, 0, dwell_time, settings.image.label)\n",
    "            # take a single high dwell time\n",
    "            acquire.new_image(microscope, settings.image)\n",
    "        print(\"-\"*50)\n",
    "\n",
    "    # move across by hfw\n",
    "    movement.move_stage_relative_with_corrected_movement(microscope, settings, dx=settings.image.hfw, dy=0, beam_type=BeamType.ELECTRON)\n",
    "\n",
    "    # autofocus\n",
    "    microscope.auto_functions.run_auto_focus()\n"
   ]
  },
  {
   "cell_type": "code",
   "execution_count": 7,
   "metadata": {},
   "outputs": [
    {
     "name": "stderr",
     "output_type": "stream",
     "text": [
      "2022-09-09 16:33:20,846 — root — INFO — acquire_image:187 — acquiring new ELECTRON image.\n"
     ]
    },
    {
     "ename": "KeyboardInterrupt",
     "evalue": "",
     "output_type": "error",
     "traceback": [
      "\u001b[1;31m---------------------------------------------------------------------------\u001b[0m",
      "\u001b[1;31mKeyboardInterrupt\u001b[0m                         Traceback (most recent call last)",
      "\u001b[1;32mc:\\Users\\Admin\\Github\\fibsem\\example\\sliceview.ipynb Cell 10\u001b[0m in \u001b[0;36m<cell line: 1>\u001b[1;34m()\u001b[0m\n\u001b[1;32m----> <a href='vscode-notebook-cell:/c%3A/Users/Admin/Github/fibsem/example/sliceview.ipynb#W6sZmlsZQ%3D%3D?line=0'>1</a>\u001b[0m acquire\u001b[39m.\u001b[39;49mnew_image(microscope, settings\u001b[39m.\u001b[39;49mimage)\n",
      "File \u001b[1;32mc:\\users\\admin\\github\\fibsem\\fibsem\\acquire.py:137\u001b[0m, in \u001b[0;36mnew_image\u001b[1;34m(microscope, settings, reduced_area)\u001b[0m\n\u001b[0;32m    134\u001b[0m     autocontrast(microscope, beam_type\u001b[39m=\u001b[39msettings\u001b[39m.\u001b[39mbeam_type)\n\u001b[0;32m    136\u001b[0m \u001b[39m# acquire the image\u001b[39;00m\n\u001b[1;32m--> 137\u001b[0m image \u001b[39m=\u001b[39m acquire_image(\n\u001b[0;32m    138\u001b[0m     microscope\u001b[39m=\u001b[39;49mmicroscope,\n\u001b[0;32m    139\u001b[0m     settings\u001b[39m=\u001b[39;49mframe_settings,\n\u001b[0;32m    140\u001b[0m     beam_type\u001b[39m=\u001b[39;49msettings\u001b[39m.\u001b[39;49mbeam_type,\n\u001b[0;32m    141\u001b[0m )\n\u001b[0;32m    143\u001b[0m \u001b[39m# apply gamma correction\u001b[39;00m\n\u001b[0;32m    144\u001b[0m \u001b[39mif\u001b[39;00m settings\u001b[39m.\u001b[39mgamma\u001b[39m.\u001b[39menabled:\n",
      "File \u001b[1;32mc:\\users\\admin\\github\\fibsem\\fibsem\\acquire.py:190\u001b[0m, in \u001b[0;36macquire_image\u001b[1;34m(microscope, settings, beam_type)\u001b[0m\n\u001b[0;32m    188\u001b[0m \u001b[39m# microscope.imaging.set_active_device(beam_type.value)\u001b[39;00m\n\u001b[0;32m    189\u001b[0m microscope\u001b[39m.\u001b[39mimaging\u001b[39m.\u001b[39mset_active_view(beam_type\u001b[39m.\u001b[39mvalue)\n\u001b[1;32m--> 190\u001b[0m image \u001b[39m=\u001b[39m microscope\u001b[39m.\u001b[39;49mimaging\u001b[39m.\u001b[39;49mgrab_frame(settings)\n\u001b[0;32m    192\u001b[0m \u001b[39mreturn\u001b[39;00m image\n",
      "File \u001b[1;32mc:\\Users\\Admin\\.conda\\envs\\liftout\\lib\\site-packages\\autoscript_sdb_microscope_client\\sdb_microscope\\_imaging.py:86\u001b[0m, in \u001b[0;36mImaging.grab_frame\u001b[1;34m(self, settings)\u001b[0m\n\u001b[0;32m     84\u001b[0m     call_request\u001b[39m.\u001b[39mparameters\u001b[39m.\u001b[39mdata_types \u001b[39m=\u001b[39m [DataTypeDefinition(DataType\u001b[39m.\u001b[39mSTRUCTURE_PRIMARY_ID, secondary_id\u001b[39m=\u001b[39m\u001b[39m\"\u001b[39m\u001b[39mGrabFrameSettings\u001b[39m\u001b[39m\"\u001b[39m)]\n\u001b[0;32m     85\u001b[0m     call_request\u001b[39m.\u001b[39mparameters\u001b[39m.\u001b[39mvalues \u001b[39m=\u001b[39m [settings]\n\u001b[1;32m---> 86\u001b[0m     call_response \u001b[39m=\u001b[39m \u001b[39mself\u001b[39;49m\u001b[39m.\u001b[39;49m__application_client\u001b[39m.\u001b[39;49m_perform_call(call_request)\n\u001b[0;32m     87\u001b[0m \u001b[39melif\u001b[39;00m settings \u001b[39mis\u001b[39;00m \u001b[39mNone\u001b[39;00m:\n\u001b[0;32m     88\u001b[0m     call_request\u001b[39m.\u001b[39mparameters\u001b[39m.\u001b[39mdata_types \u001b[39m=\u001b[39m []\n",
      "File \u001b[1;32mc:\\Users\\Admin\\.conda\\envs\\liftout\\lib\\site-packages\\autoscript_sdb_microscope_client\\sdb_microscope_client.py:221\u001b[0m, in \u001b[0;36mSdbMicroscopeClient._perform_call\u001b[1;34m(self, call_request)\u001b[0m\n\u001b[0;32m    218\u001b[0m     \u001b[39mraise\u001b[39;00m MarshallingException()\n\u001b[0;32m    220\u001b[0m \u001b[39mtry\u001b[39;00m:\n\u001b[1;32m--> 221\u001b[0m     call_response \u001b[39m=\u001b[39m \u001b[39mself\u001b[39;49m\u001b[39m.\u001b[39;49m__endpoint\u001b[39m.\u001b[39;49mperform_call(call_request)\n\u001b[0;32m    222\u001b[0m \u001b[39mexcept\u001b[39;00m ApiException \u001b[39mas\u001b[39;00m api_exception:\n\u001b[0;32m    223\u001b[0m     ApplicationClientLoggingHelper\u001b[39m.\u001b[39mlog_call_error(call_request\u001b[39m.\u001b[39mwide_call_id, api_exception)\n",
      "File \u001b[1;32mc:\\Users\\Admin\\.conda\\envs\\liftout\\lib\\site-packages\\autoscript_core\\orc\\engines.py:185\u001b[0m, in \u001b[0;36mClientEndpoint.perform_call\u001b[1;34m(self, call_request)\u001b[0m\n\u001b[0;32m    182\u001b[0m \u001b[39mself\u001b[39m\u001b[39m.\u001b[39m__issue_call_request(call_request)\n\u001b[0;32m    184\u001b[0m \u001b[39m# waits for a corresponding call response, throwing an exception when an unrecoverable error occurs\u001b[39;00m\n\u001b[1;32m--> 185\u001b[0m call_response \u001b[39m=\u001b[39m \u001b[39mself\u001b[39;49m\u001b[39m.\u001b[39;49m__wait_for_call_response(call_request)\n\u001b[0;32m    187\u001b[0m \u001b[39m# throws an exception when call response was received properly, but the call was not successful\u001b[39;00m\n\u001b[0;32m    188\u001b[0m \u001b[39mif\u001b[39;00m \u001b[39mnot\u001b[39;00m call_response\u001b[39m.\u001b[39mwas_call_successful:\n",
      "File \u001b[1;32mc:\\Users\\Admin\\.conda\\envs\\liftout\\lib\\site-packages\\autoscript_core\\orc\\engines.py:509\u001b[0m, in \u001b[0;36mClientEndpoint.__wait_for_call_response\u001b[1;34m(self, call_request)\u001b[0m\n\u001b[0;32m    495\u001b[0m \u001b[39m\"\"\"\u001b[39;00m\n\u001b[0;32m    496\u001b[0m \u001b[39mWaits for proper response to the given call request.\u001b[39;00m\n\u001b[0;32m    497\u001b[0m \n\u001b[1;32m   (...)\u001b[0m\n\u001b[0;32m    505\u001b[0m \u001b[39m:raises ApiException: Raised when an unrecoverable error occurs and proper call response can not be provided.\u001b[39;00m\n\u001b[0;32m    506\u001b[0m \u001b[39m\"\"\"\u001b[39;00m\n\u001b[0;32m    508\u001b[0m \u001b[39mwhile\u001b[39;00m \u001b[39mTrue\u001b[39;00m:\n\u001b[1;32m--> 509\u001b[0m     message \u001b[39m=\u001b[39m \u001b[39mself\u001b[39;49m\u001b[39m.\u001b[39;49m__receive_message_directly(\u001b[39mself\u001b[39;49m\u001b[39m.\u001b[39;49m__socket)\n\u001b[0;32m    511\u001b[0m     \u001b[39mif\u001b[39;00m message\u001b[39m.\u001b[39mtype \u001b[39m==\u001b[39m MessageType\u001b[39m.\u001b[39mCALL_RESULT \u001b[39mor\u001b[39;00m message\u001b[39m.\u001b[39mtype \u001b[39m==\u001b[39m MessageType\u001b[39m.\u001b[39mCALL_ERROR:\n\u001b[0;32m    512\u001b[0m         \u001b[39mtry\u001b[39;00m:\n",
      "File \u001b[1;32mc:\\Users\\Admin\\.conda\\envs\\liftout\\lib\\site-packages\\autoscript_core\\orc\\engines.py:459\u001b[0m, in \u001b[0;36mClientEndpoint.__receive_message_directly\u001b[1;34m(self, socket)\u001b[0m\n\u001b[0;32m    449\u001b[0m \u001b[39mdef\u001b[39;00m \u001b[39m__receive_message_directly\u001b[39m(\u001b[39mself\u001b[39m, socket: FrameSocket):\n\u001b[0;32m    450\u001b[0m     \u001b[39m\"\"\"\u001b[39;00m\n\u001b[0;32m    451\u001b[0m \u001b[39m    Receives message directly from the given socket. The method blocks if there is no message available.\u001b[39;00m\n\u001b[0;32m    452\u001b[0m \n\u001b[1;32m   (...)\u001b[0m\n\u001b[0;32m    456\u001b[0m \u001b[39m    :raises MessageSerializationException: Thrown when message deserialization fails upon receiving data.\u001b[39;00m\n\u001b[0;32m    457\u001b[0m \u001b[39m    \"\"\"\u001b[39;00m\n\u001b[1;32m--> 459\u001b[0m     frame \u001b[39m=\u001b[39m socket\u001b[39m.\u001b[39;49mreceive_frame()\n\u001b[0;32m    460\u001b[0m     message \u001b[39m=\u001b[39m MessageDeserializer\u001b[39m.\u001b[39mdeserialize_message(frame\u001b[39m.\u001b[39mcontent)\n\u001b[0;32m    461\u001b[0m     \u001b[39mreturn\u001b[39;00m message\n",
      "File \u001b[1;32mc:\\Users\\Admin\\.conda\\envs\\liftout\\lib\\site-packages\\autoscript_core\\framed_transport.py:100\u001b[0m, in \u001b[0;36mFrameSocket.receive_frame\u001b[1;34m(self)\u001b[0m\n\u001b[0;32m     98\u001b[0m \u001b[39mtry\u001b[39;00m:\n\u001b[0;32m     99\u001b[0m     \u001b[39mwhile\u001b[39;00m \u001b[39mTrue\u001b[39;00m:\n\u001b[1;32m--> 100\u001b[0m         frame \u001b[39m=\u001b[39m \u001b[39mself\u001b[39;49m\u001b[39m.\u001b[39;49m_receive_frame_synchronously()\n\u001b[0;32m    101\u001b[0m         \u001b[39mif\u001b[39;00m frame\u001b[39m.\u001b[39mtype \u001b[39m==\u001b[39m FrameType\u001b[39m.\u001b[39mDATA:\n\u001b[0;32m    102\u001b[0m             \u001b[39mbreak\u001b[39;00m\n",
      "File \u001b[1;32mc:\\Users\\Admin\\.conda\\envs\\liftout\\lib\\site-packages\\autoscript_core\\framed_transport.py:139\u001b[0m, in \u001b[0;36mFrameSocket._receive_frame_synchronously\u001b[1;34m(self)\u001b[0m\n\u001b[0;32m    132\u001b[0m \u001b[39m\"\"\"\u001b[39;00m\n\u001b[0;32m    133\u001b[0m \u001b[39mReceives frame from the other side of the connection synchronously.\u001b[39;00m\n\u001b[0;32m    134\u001b[0m \n\u001b[0;32m    135\u001b[0m \u001b[39m:raises TcpStreamIoException: Thrown when an error occurs when reading data from TCP stream.\u001b[39;00m\n\u001b[0;32m    136\u001b[0m \u001b[39m:raises FrameProcessingException: Thrown when frame processing fails on byte semantics level.\u001b[39;00m\n\u001b[0;32m    137\u001b[0m \u001b[39m\"\"\"\u001b[39;00m\n\u001b[0;32m    138\u001b[0m \u001b[39mtry\u001b[39;00m:\n\u001b[1;32m--> 139\u001b[0m     header_bytes \u001b[39m=\u001b[39m \u001b[39mself\u001b[39;49m\u001b[39m.\u001b[39;49m_tcp_socket\u001b[39m.\u001b[39;49mrecv(Frame\u001b[39m.\u001b[39;49mHEADER_LENGTH)\n\u001b[0;32m    140\u001b[0m \u001b[39mexcept\u001b[39;00m \u001b[39mException\u001b[39;00m \u001b[39mas\u001b[39;00m ex:\n\u001b[0;32m    141\u001b[0m     \u001b[39mraise\u001b[39;00m TcpStreamIoException(\u001b[39m\"\u001b[39m\u001b[39mAn error occurred when reading data from TCP stream.\u001b[39m\u001b[39m\"\u001b[39m, ex) \u001b[39mfrom\u001b[39;00m \u001b[39mex\u001b[39;00m\n",
      "\u001b[1;31mKeyboardInterrupt\u001b[0m: "
     ]
    }
   ],
   "source": [
    "acquire.new_image(microscope, settings.image)"
   ]
  },
  {
   "cell_type": "code",
   "execution_count": null,
   "metadata": {},
   "outputs": [],
   "source": [
    "# mill face\n",
    "\n",
    "# oxygen\n",
    "# 100um w\n",
    "# 10um h\n",
    "# 35nm\n",
    "# 10um d"
   ]
  }
 ],
 "metadata": {
  "kernelspec": {
   "display_name": "Python 3.9.12 ('liftout')",
   "language": "python",
   "name": "python3"
  },
  "language_info": {
   "codemirror_mode": {
    "name": "ipython",
    "version": 3
   },
   "file_extension": ".py",
   "mimetype": "text/x-python",
   "name": "python",
   "nbconvert_exporter": "python",
   "pygments_lexer": "ipython3",
   "version": "3.9.12"
  },
  "orig_nbformat": 4,
  "vscode": {
   "interpreter": {
    "hash": "5cb17a689ea48522a268bdcd61b0f399058cec9c1acbad013779623d1fd2c02a"
   }
  }
 },
 "nbformat": 4,
 "nbformat_minor": 2
}
