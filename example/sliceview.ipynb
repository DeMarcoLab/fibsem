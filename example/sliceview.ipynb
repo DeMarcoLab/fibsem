{
 "cells": [
  {
   "cell_type": "code",
   "execution_count": 26,
   "metadata": {},
   "outputs": [
    {
     "name": "stdout",
     "output_type": "stream",
     "text": [
      "The autoreload extension is already loaded. To reload it, use:\n",
      "  %reload_ext autoreload\n"
     ]
    }
   ],
   "source": [
    "%load_ext autoreload\n",
    "%autoreload 2"
   ]
  },
  {
   "cell_type": "code",
   "execution_count": 27,
   "metadata": {},
   "outputs": [],
   "source": [
    "from fibsem import utils, acquire, movement, calibration\n",
    "from fibsem.structures import ImageSettings, BeamType\n",
    "from pprint import pprint\n",
    "import matplotlib.pyplot as plt\n",
    "from fibsem import milling\n",
    "import numpy as np\n"
   ]
  },
  {
   "cell_type": "code",
   "execution_count": 28,
   "metadata": {},
   "outputs": [
    {
     "name": "stderr",
     "output_type": "stream",
     "text": [
      "2022-10-24 11:58:49,041 — root — INFO — connect_to_microscope:31 — Microscope client connecting to [10.0.0.1]\n",
      "2022-10-24 11:58:49,046 — root — INFO — connect_to_microscope:34 — Microscope client connected to [10.0.0.1]\n",
      "2022-10-24 11:58:49,047 — root — INFO — setup_session:264 — Finished setup for session: slice-and-view-cyril_2022-10-24.11-58-49AM\n"
     ]
    },
    {
     "name": "stdout",
     "output_type": "stream",
     "text": [
      "Client connecting to [10.0.0.1:7520]...\n",
      "Client connected to [10.0.0.1:7520]\n"
     ]
    }
   ],
   "source": [
    "protocol_path = r\"C:\\Users\\Admin\\Github\\fibsem\\example\\protocol\\protocol.yaml\"\n",
    "microscope, settings = utils.setup_session(protocol_path=protocol_path, session_path= r\"D:\\cyril\\tin-balls-sweep\")"
   ]
  },
  {
   "cell_type": "code",
   "execution_count": 29,
   "metadata": {},
   "outputs": [
    {
     "data": {
      "text/plain": [
       "'D:\\\\cyril\\\\tin-balls-sweep'"
      ]
     },
     "execution_count": 29,
     "metadata": {},
     "output_type": "execute_result"
    }
   ],
   "source": [
    "settings.image.save_path\n",
    "\n",
    "# settings.image.save = True\n",
    "# eb_image = acquire.new_image(microscope, settings.image)\n",
    "# eb_image, ib_image = acquire.take_reference_images(microscope, settings.image)\n"
   ]
  },
  {
   "cell_type": "code",
   "execution_count": 30,
   "metadata": {},
   "outputs": [],
   "source": [
    "# settings\n",
    "microscope.imaging.set_active_device(BeamType.ELECTRON.value)\n",
    "microscope.imaging.set_active_view(BeamType.ELECTRON.value)\n",
    "microscope.beams.electron_beam.optical_mode.value = \"Immersion\"\n",
    "microscope.detector.mode.value = \"BackscatterElectrons\"\n",
    "settings.system.stage.tilt_flat_to_electron = 0\n",
    "\n",
    "import numpy as np\n",
    "microscope.beams.electron_beam.angular_correction.angle.value = np.deg2rad(-38)\n",
    "\n",
    "# # LUT: inverse\n"
   ]
  },
  {
   "cell_type": "code",
   "execution_count": 31,
   "metadata": {},
   "outputs": [],
   "source": [
    "from autoscript_sdb_microscope_client.enumerations import DetectorMode, DetectorType\n",
    "# microscope.detector.set_type_mode(type=DetectorType.ETD, mode = DetectorMode.BACKSCATTER_ELECTRONS)"
   ]
  },
  {
   "cell_type": "code",
   "execution_count": 32,
   "metadata": {},
   "outputs": [],
   "source": [
    "from fibsem.structures import MicroscopeSettings\n",
    "from autoscript_sdb_microscope_client import SdbMicroscopeClient\n",
    "\n",
    "\n",
    "def run_data_collection(microscope: SdbMicroscopeClient, settings: MicroscopeSettings, dwell_times: list[float], step: int):\n",
    "    \n",
    "    settings.image.save = True\n",
    "    settings.image.autocontrast = False\n",
    "\n",
    "    for i, dwell_time in enumerate(dwell_times):\n",
    "\n",
    "        settings.image.dwell_time = dwell_time\n",
    "        print(f\"{i} - dwell_time: {dwell_time}\")\n",
    "\n",
    "        # take multiple short dwell time images\n",
    "        if dwell_time < 2e-6:\n",
    "            for j in range(7):\n",
    "                settings.image.label = f\"EB_{step}_{dwell_time}_{j}\"\n",
    "                print(i, j, dwell_time, settings.image.label)\n",
    "                acquire.new_image(microscope, settings.image)\n",
    "        else:\n",
    "            settings.image.label = f\"EB_{step}_{dwell_time}_0\"\n",
    "            print(i, 0, dwell_time, settings.image.label)\n",
    "            # take a single high dwell time\n",
    "            acquire.new_image(microscope, settings.image)\n",
    "        \n",
    "        print(\"-\"*50)"
   ]
  },
  {
   "cell_type": "code",
   "execution_count": null,
   "metadata": {},
   "outputs": [],
   "source": []
  },
  {
   "cell_type": "code",
   "execution_count": 33,
   "metadata": {},
   "outputs": [
    {
     "name": "stdout",
     "output_type": "stream",
     "text": [
      "D:\\cyril\\tin-balls-sweep\n"
     ]
    }
   ],
   "source": [
    "# settings.image.save_path = r\"D:\\cyril\\slice-and-view-cyril_2022-10-14.02-18-00PM\"\n",
    "print(settings.image.save_path)"
   ]
  },
  {
   "cell_type": "code",
   "execution_count": 19,
   "metadata": {},
   "outputs": [],
   "source": [
    "\n",
    "# start wiith cleaning cross section to clean the area\n",
    "centre_x = 0\n",
    "centre_y = 0\n",
    "width = 40e-6\n",
    "height = 2.5e-6\n",
    "depth = 10e-6\n",
    "\n",
    "microscope.imaging.set_active_view(BeamType.ION.value)\n",
    "microscope.imaging.set_active_device(BeamType.ION.value)\n",
    "microscope.patterning.clear_patterns()\n",
    "\n",
    "pattern = microscope.patterning.create_cleaning_cross_section(center_x=centre_x, center_y=centre_y, width=width, height=height, depth=depth)\n",
    "pattern.scan_direction = \"BottomToTop\""
   ]
  },
  {
   "cell_type": "code",
   "execution_count": 35,
   "metadata": {},
   "outputs": [
    {
     "data": {
      "text/plain": [
       "Limits(min=0, max=1)"
      ]
     },
     "execution_count": 35,
     "metadata": {},
     "output_type": "execute_result"
    }
   ],
   "source": [
    "# settings\n",
    "microscope.imaging.set_active_device(BeamType.ELECTRON.value)\n",
    "microscope.imaging.set_active_view(BeamType.ELECTRON.value)\n",
    "microscope.detector.contrast.limits"
   ]
  },
  {
   "cell_type": "code",
   "execution_count": 36,
   "metadata": {},
   "outputs": [],
   "source": [
    "state = calibration.get_current_microscope_state(microscope)\n",
    "# detector contrast brightness\n",
    "microscope.imaging.set_active_device(BeamType.ELECTRON.value)\n",
    "microscope.imaging.set_active_view(BeamType.ELECTRON.value)\n",
    "contrast = microscope.detector.contrast.value\n",
    "brightness = microscope.detector.brightness.value"
   ]
  },
  {
   "cell_type": "code",
   "execution_count": 37,
   "metadata": {},
   "outputs": [
    {
     "name": "stdout",
     "output_type": "stream",
     "text": [
      "0.41373929001664533 0.8310507240125296\n"
     ]
    }
   ],
   "source": [
    "# microscope.beams.electron_beam.beam_current.value = 0.1e-9\n",
    "print(brightness, contrast)"
   ]
  },
  {
   "cell_type": "code",
   "execution_count": 38,
   "metadata": {},
   "outputs": [
    {
     "name": "stderr",
     "output_type": "stream",
     "text": [
      "2022-10-24 11:58:54,977 — root — INFO — autocontrast:27 — automatically adjusting contrast...\n"
     ]
    }
   ],
   "source": [
    "acquire.autocontrast(microscope, BeamType.ELECTRON)"
   ]
  },
  {
   "cell_type": "code",
   "execution_count": 39,
   "metadata": {},
   "outputs": [
    {
     "name": "stdout",
     "output_type": "stream",
     "text": [
      "<autoscript_sdb_microscope_client._dynamic_object_proxies.LinePattern object at 0x000001B74983FEC0>\n"
     ]
    }
   ],
   "source": [
    "start_x, end_x = -8e-6, 33e-6\n",
    "start_y, end_y = -4e-6, -4e-6\n",
    "depth = 8e-6\n",
    "offset = 5e-9\n",
    "\n",
    "\n",
    "N_SLICES = 500\n",
    "START_IDX = 22\n",
    "# for i in range(START_IDX, N_SLICES):\n",
    "\n",
    "microscope.imaging.set_active_view(BeamType.ION.value)\n",
    "microscope.imaging.set_active_device(BeamType.ION.value)\n",
    "microscope.patterning.clear_patterns()\n",
    "pattern = microscope.patterning.create_line(start_x=start_x, start_y=start_y, end_x=end_x, end_y=end_y, depth=depth)\n",
    "print(pattern)"
   ]
  },
  {
   "cell_type": "code",
   "execution_count": 40,
   "metadata": {},
   "outputs": [
    {
     "name": "stderr",
     "output_type": "stream",
     "text": [
      "2022-10-24 11:58:59,032 — root — INFO — auto_discharge_beam:142 — Bring me Thanos!\n",
      "2022-10-24 11:58:59,075 — root — INFO — acquire_image:186 — acquiring new ELECTRON image.\n"
     ]
    },
    {
     "name": "stdout",
     "output_type": "stream",
     "text": [
      " ---------------- SLICE 0/500 ---------------- \n"
     ]
    },
    {
     "name": "stderr",
     "output_type": "stream",
     "text": [
      "2022-10-24 11:58:59,563 — root — INFO — acquire_image:186 — acquiring new ELECTRON image.\n",
      "2022-10-24 11:59:00,023 — root — INFO — acquire_image:186 — acquiring new ELECTRON image.\n",
      "2022-10-24 11:59:00,457 — root — INFO — acquire_image:186 — acquiring new ELECTRON image.\n",
      "2022-10-24 11:59:00,906 — root — INFO — acquire_image:186 — acquiring new ELECTRON image.\n",
      "2022-10-24 11:59:01,355 — root — INFO — acquire_image:186 — acquiring new ELECTRON image.\n",
      "2022-10-24 11:59:07,894 — root — INFO — acquire_image:186 — acquiring new ELECTRON image.\n"
     ]
    },
    {
     "name": "stdout",
     "output_type": "stream",
     "text": [
      "0 - dwell_time: 5e-07\n",
      "0 0 5e-07 EB_0_5e-07_0\n"
     ]
    },
    {
     "name": "stderr",
     "output_type": "stream",
     "text": [
      "2022-10-24 11:59:21,734 — root — INFO — acquire_image:186 — acquiring new ELECTRON image.\n"
     ]
    },
    {
     "name": "stdout",
     "output_type": "stream",
     "text": [
      "0 1 5e-07 EB_0_5e-07_1\n"
     ]
    }
   ],
   "source": [
    "\n",
    "settings.image.hfw = 30e-6\n",
    "settings.image.resolution = \"6144x4096\"\n",
    "dwell_times = [0.5e-6, 1e-6, 3e-6, 5e-6, 8e-6, 20e-6]\n",
    "settings.image.save = True\n",
    "settings.image.autocontrast = False\n",
    "settings.image.gamma.enabled = False\n",
    "\n",
    "start_x, end_x = -8e-6, 33e-6\n",
    "start_y, end_y = -4e-6, -4e-6\n",
    "depth = 8e-6\n",
    "offset = 5e-9\n",
    "\n",
    "N_SLICES = 500\n",
    "START_IDX = 0\n",
    "for i in range(START_IDX, N_SLICES):\n",
    "\n",
    "    print(f\" ---------------- SLICE {i}/{N_SLICES} ---------------- \")\n",
    "    \n",
    "    settings.image.dwell_time = 0.2e-6\n",
    "    settings.image.save = False\n",
    "    # slice\n",
    "    if i > START_IDX:\n",
    "        microscope.imaging.set_active_view(BeamType.ION.value)\n",
    "        microscope.imaging.set_active_device(BeamType.ION.value)\n",
    "        microscope.patterning.clear_patterns()\n",
    "        pattern = microscope.patterning.create_line(start_x=start_x, start_y=start_y, end_x=end_x, end_y=end_y, depth=depth)\n",
    "        print(pattern)\n",
    "\n",
    "        # run\n",
    "        milling.run_milling(microscope, milling_current=5.6e-9)\n",
    "    \n",
    "    # view\n",
    "    calibration.auto_discharge_beam(microscope, settings.image, n_iterations=5)\n",
    "\n",
    "    settings.image.autocontrast = False\n",
    "    run_data_collection(microscope, settings, dwell_times, i)\n",
    "\n",
    "    start_y += offset\n",
    "    end_y  += offset\n",
    "    \n",
    "    # manually adjust working distance\n",
    "    wd_diff = offset * np.sin(np.deg2rad(38))\n",
    "    microscope.beams.electron_beam.working_distance.value -= wd_diff #4e-3# 3.995e-3 \n",
    "\n",
    "    if i % 50 == 0 and i != START_IDX:\n",
    "        acquire.autocontrast(microscope, BeamType.ELECTRON)\n"
   ]
  },
  {
   "cell_type": "code",
   "execution_count": null,
   "metadata": {},
   "outputs": [],
   "source": [
    "# microscope.auto_functions.run_auto_focus()\n",
    "from autoscript_sdb_microscope_client.structures import RunAutoFocusSettings\n",
    "\n",
    "focus_settings = RunAutoFocusSettings()\n",
    "\n",
    "microscope.imaging.set_active_view(BeamType.ELECTRON.value)\n",
    "microscope.imaging.set_active_device(BeamType.ELECTRON.value)\n",
    "microscope.auto_functions.run_auto_focus()\n",
    "microscope.specimen.stage.link()\n",
    "\n",
    "\n",
    "# microscope.auto_functions.run_auto_stigmator()"
   ]
  },
  {
   "cell_type": "code",
   "execution_count": null,
   "metadata": {},
   "outputs": [],
   "source": [
    "settings.image.hfw = 30e-6\n",
    "settings.image.resolution = \"6144x4096\"\n",
    "dwell_times = [0.3e-6, 0.5e-6, 1e-6, 3e-6, 5e-6, 8e-6]\n",
    "settings.image.save = True\n",
    "settings.image.autocontrast = True\n",
    "settings.image.gamma.enabled = False\n",
    "settings.image.dwell_time = 0.5e-6\n",
    "settings.image.label = \"4um\"\n",
    "microscope.beams.electron_beam.working_distance.value = 4e-3# 3.995e-3 \n",
    "acquire.new_image(microscope, settings.image)"
   ]
  },
  {
   "cell_type": "code",
   "execution_count": null,
   "metadata": {},
   "outputs": [],
   "source": [
    "# # dynamic focus : 38\n",
    "\n",
    "# 4e-3 - (1000*5e-9)"
   ]
  },
  {
   "cell_type": "code",
   "execution_count": null,
   "metadata": {},
   "outputs": [],
   "source": [
    "settings.image.save_path"
   ]
  },
  {
   "cell_type": "code",
   "execution_count": null,
   "metadata": {},
   "outputs": [],
   "source": [
    "# multichem / GIS query"
   ]
  },
  {
   "cell_type": "markdown",
   "metadata": {},
   "source": [
    "## Tin Ball Data Collection\n"
   ]
  },
  {
   "cell_type": "code",
   "execution_count": 1,
   "metadata": {},
   "outputs": [
    {
     "name": "stderr",
     "output_type": "stream",
     "text": [
      "2022-10-24 17:10:24,251 — root — INFO — connect_to_microscope:31 — Microscope client connecting to [10.0.0.1]\n",
      "2022-10-24 17:10:24,256 — root — INFO — connect_to_microscope:34 — Microscope client connected to [10.0.0.1]\n",
      "2022-10-24 17:10:24,256 — root — INFO — setup_session:264 — Finished setup for session: slice-and-view-cyril_2022-10-24.05-10-24PM\n"
     ]
    },
    {
     "name": "stdout",
     "output_type": "stream",
     "text": [
      "Client connecting to [10.0.0.1:7520]...\n",
      "Client connected to [10.0.0.1:7520]\n"
     ]
    }
   ],
   "source": [
    "%load_ext autoreload\n",
    "%autoreload 2\n",
    "\n",
    "from fibsem import utils, acquire, movement, calibration\n",
    "from fibsem.structures import ImageSettings, BeamType\n",
    "from pprint import pprint\n",
    "import matplotlib.pyplot as plt\n",
    "from fibsem import milling\n",
    "import numpy as np\n",
    "from copy import deepcopy\n",
    "import pandas as pd\n",
    "import os\n",
    "\n",
    "\n",
    "protocol_path = r\"C:\\Users\\Admin\\Github\\fibsem\\example\\protocol\\protocol.yaml\"\n",
    "microscope, settings = utils.setup_session(protocol_path=protocol_path, session_path= r\"D:\\cyril\\tin-balls-sweep\")"
   ]
  },
  {
   "cell_type": "code",
   "execution_count": null,
   "metadata": {},
   "outputs": [],
   "source": [
    "# settings\n",
    "microscope.imaging.set_active_device(BeamType.ELECTRON.value)\n",
    "microscope.imaging.set_active_view(BeamType.ELECTRON.value)\n",
    "microscope.beams.electron_beam.optical_mode.value = \"Immersion\"\n",
    "microscope.detector.mode.value = \"BackscatterElectrons\"\n",
    "settings.system.stage.tilt_flat_to_electron = 0\n",
    "\n",
    "\n",
    "# microscope.beams.electron_beam.angular_correction.angle.value = np.deg2rad(-38)\n",
    "\n",
    "# 1kv voltage\n",
    "\n",
    "# # LUT: inverse\n"
   ]
  },
  {
   "cell_type": "code",
   "execution_count": 2,
   "metadata": {},
   "outputs": [
    {
     "data": {
      "text/plain": [
       "'D:\\\\cyril\\\\tin-balls-sweep'"
      ]
     },
     "execution_count": 2,
     "metadata": {},
     "output_type": "execute_result"
    }
   ],
   "source": [
    "settings.image.save_path"
   ]
  },
  {
   "cell_type": "code",
   "execution_count": 4,
   "metadata": {},
   "outputs": [
    {
     "name": "stdout",
     "output_type": "stream",
     "text": [
      "[3.0720e-06 6.1440e-06 9.2160e-06 1.2288e-05 1.5360e-05 1.8432e-05\n",
      " 2.4576e-05 3.0720e-05 3.6864e-05 4.3008e-05 4.9152e-05 5.5296e-05\n",
      " 6.1440e-05]\n"
     ]
    }
   ],
   "source": [
    "# pixelsize (nm), # pixelsize = hfw/n_pixels_x\n",
    "# hfws\n",
    "n_pixels_x = 3072 \n",
    "pixel_size = np.array([1, 2, 3, 4, 5, 6, 8, 10, 12, 14, 16, 18, 20])\n",
    "hfws = pixel_size * n_pixels_x * 1e-9 # nm\n",
    "\n",
    "print(hfws)"
   ]
  },
  {
   "cell_type": "code",
   "execution_count": 6,
   "metadata": {},
   "outputs": [
    {
     "name": "stderr",
     "output_type": "stream",
     "text": [
      "2022-10-24 17:39:15,515 — root — INFO — autocontrast:27 — automatically adjusting contrast...\n",
      "2022-10-24 17:39:16,149 — root — INFO — acquire_image:186 — acquiring new ELECTRON image.\n"
     ]
    },
    {
     "name": "stdout",
     "output_type": "stream",
     "text": [
      "'00.sweep_0.0.0.0.0.2.00e+03.3.20e-09.3.07e-06.2.00e-06'\n"
     ]
    },
    {
     "name": "stderr",
     "output_type": "stream",
     "text": [
      "2022-10-24 17:39:29,603 — root — INFO — autocontrast:27 — automatically adjusting contrast...\n",
      "2022-10-24 17:39:30,346 — root — INFO — acquire_image:186 — acquiring new ELECTRON image.\n"
     ]
    },
    {
     "name": "stdout",
     "output_type": "stream",
     "text": [
      "'01.sweep_0.0.1.0.0.2.00e+03.3.20e-09.6.14e-06.2.00e-06'\n"
     ]
    },
    {
     "name": "stderr",
     "output_type": "stream",
     "text": [
      "2022-10-24 17:39:43,777 — root — INFO — autocontrast:27 — automatically adjusting contrast...\n",
      "2022-10-24 17:39:44,540 — root — INFO — acquire_image:186 — acquiring new ELECTRON image.\n"
     ]
    },
    {
     "name": "stdout",
     "output_type": "stream",
     "text": [
      "'02.sweep_0.0.2.0.0.2.00e+03.3.20e-09.9.22e-06.2.00e-06'\n"
     ]
    },
    {
     "name": "stderr",
     "output_type": "stream",
     "text": [
      "2022-10-24 17:39:57,994 — root — INFO — autocontrast:27 — automatically adjusting contrast...\n",
      "2022-10-24 17:39:58,767 — root — INFO — acquire_image:186 — acquiring new ELECTRON image.\n"
     ]
    },
    {
     "name": "stdout",
     "output_type": "stream",
     "text": [
      "'03.sweep_0.0.3.0.0.2.00e+03.3.20e-09.1.23e-05.2.00e-06'\n"
     ]
    },
    {
     "name": "stderr",
     "output_type": "stream",
     "text": [
      "2022-10-24 17:40:12,216 — root — INFO — autocontrast:27 — automatically adjusting contrast...\n",
      "2022-10-24 17:40:12,951 — root — INFO — acquire_image:186 — acquiring new ELECTRON image.\n"
     ]
    },
    {
     "name": "stdout",
     "output_type": "stream",
     "text": [
      "'04.sweep_0.0.4.0.0.2.00e+03.3.20e-09.1.54e-05.2.00e-06'\n"
     ]
    },
    {
     "name": "stderr",
     "output_type": "stream",
     "text": [
      "2022-10-24 17:40:26,448 — root — INFO — autocontrast:27 — automatically adjusting contrast...\n",
      "2022-10-24 17:40:27,164 — root — INFO — acquire_image:186 — acquiring new ELECTRON image.\n"
     ]
    },
    {
     "name": "stdout",
     "output_type": "stream",
     "text": [
      "'05.sweep_0.0.5.0.0.2.00e+03.3.20e-09.1.84e-05.2.00e-06'\n"
     ]
    },
    {
     "name": "stderr",
     "output_type": "stream",
     "text": [
      "2022-10-24 17:40:40,602 — root — INFO — autocontrast:27 — automatically adjusting contrast...\n",
      "2022-10-24 17:40:41,389 — root — INFO — acquire_image:186 — acquiring new ELECTRON image.\n"
     ]
    },
    {
     "name": "stdout",
     "output_type": "stream",
     "text": [
      "'06.sweep_0.0.6.0.0.2.00e+03.3.20e-09.2.46e-05.2.00e-06'\n"
     ]
    },
    {
     "name": "stderr",
     "output_type": "stream",
     "text": [
      "2022-10-24 17:40:54,804 — root — INFO — autocontrast:27 — automatically adjusting contrast...\n",
      "2022-10-24 17:40:55,601 — root — INFO — acquire_image:186 — acquiring new ELECTRON image.\n"
     ]
    },
    {
     "name": "stdout",
     "output_type": "stream",
     "text": [
      "'07.sweep_0.0.7.0.0.2.00e+03.3.20e-09.3.07e-05.2.00e-06'\n"
     ]
    },
    {
     "name": "stderr",
     "output_type": "stream",
     "text": [
      "2022-10-24 17:41:09,071 — root — INFO — autocontrast:27 — automatically adjusting contrast...\n",
      "2022-10-24 17:41:09,824 — root — INFO — acquire_image:186 — acquiring new ELECTRON image.\n"
     ]
    },
    {
     "name": "stdout",
     "output_type": "stream",
     "text": [
      "'08.sweep_0.0.8.0.0.2.00e+03.3.20e-09.3.69e-05.2.00e-06'\n"
     ]
    },
    {
     "name": "stderr",
     "output_type": "stream",
     "text": [
      "2022-10-24 17:41:23,237 — root — INFO — autocontrast:27 — automatically adjusting contrast...\n",
      "2022-10-24 17:41:24,056 — root — INFO — acquire_image:186 — acquiring new ELECTRON image.\n"
     ]
    },
    {
     "name": "stdout",
     "output_type": "stream",
     "text": [
      "'09.sweep_0.0.9.0.0.2.00e+03.3.20e-09.4.30e-05.2.00e-06'\n"
     ]
    },
    {
     "name": "stderr",
     "output_type": "stream",
     "text": [
      "2022-10-24 17:41:37,499 — root — INFO — autocontrast:27 — automatically adjusting contrast...\n",
      "2022-10-24 17:41:39,292 — root — INFO — acquire_image:186 — acquiring new ELECTRON image.\n"
     ]
    },
    {
     "name": "stdout",
     "output_type": "stream",
     "text": [
      "'10.sweep_0.0.10.0.0.2.00e+03.3.20e-09.4.92e-05.2.00e-06'\n"
     ]
    },
    {
     "name": "stderr",
     "output_type": "stream",
     "text": [
      "2022-10-24 17:41:52,773 — root — INFO — autocontrast:27 — automatically adjusting contrast...\n",
      "2022-10-24 17:41:54,012 — root — INFO — acquire_image:186 — acquiring new ELECTRON image.\n"
     ]
    },
    {
     "name": "stdout",
     "output_type": "stream",
     "text": [
      "'11.sweep_0.0.11.0.0.2.00e+03.3.20e-09.5.53e-05.2.00e-06'\n"
     ]
    },
    {
     "name": "stderr",
     "output_type": "stream",
     "text": [
      "2022-10-24 17:42:07,458 — root — INFO — autocontrast:27 — automatically adjusting contrast...\n",
      "2022-10-24 17:42:08,459 — root — INFO — acquire_image:186 — acquiring new ELECTRON image.\n"
     ]
    },
    {
     "name": "stdout",
     "output_type": "stream",
     "text": [
      "'12.sweep_0.0.12.0.0.2.00e+03.3.20e-09.6.14e-05.2.00e-06'\n"
     ]
    },
    {
     "data": {
      "text/html": [
       "<div>\n",
       "<style scoped>\n",
       "    .dataframe tbody tr th:only-of-type {\n",
       "        vertical-align: middle;\n",
       "    }\n",
       "\n",
       "    .dataframe tbody tr th {\n",
       "        vertical-align: top;\n",
       "    }\n",
       "\n",
       "    .dataframe thead th {\n",
       "        text-align: right;\n",
       "    }\n",
       "</style>\n",
       "<table border=\"1\" class=\"dataframe\">\n",
       "  <thead>\n",
       "    <tr style=\"text-align: right;\">\n",
       "      <th></th>\n",
       "      <th>voltage</th>\n",
       "      <th>beam_current</th>\n",
       "      <th>hfw</th>\n",
       "      <th>dwell_time</th>\n",
       "      <th>n_image</th>\n",
       "      <th>label</th>\n",
       "      <th>count</th>\n",
       "    </tr>\n",
       "  </thead>\n",
       "  <tbody>\n",
       "    <tr>\n",
       "      <th>0</th>\n",
       "      <td>2000.0</td>\n",
       "      <td>3.200000e-09</td>\n",
       "      <td>0.000003</td>\n",
       "      <td>0.000002</td>\n",
       "      <td>0</td>\n",
       "      <td>00.sweep_0.0.0.0.0.2.00e+03.3.20e-09.3.07e-06....</td>\n",
       "      <td>0</td>\n",
       "    </tr>\n",
       "    <tr>\n",
       "      <th>1</th>\n",
       "      <td>2000.0</td>\n",
       "      <td>3.200000e-09</td>\n",
       "      <td>0.000006</td>\n",
       "      <td>0.000002</td>\n",
       "      <td>0</td>\n",
       "      <td>01.sweep_0.0.1.0.0.2.00e+03.3.20e-09.6.14e-06....</td>\n",
       "      <td>1</td>\n",
       "    </tr>\n",
       "    <tr>\n",
       "      <th>2</th>\n",
       "      <td>2000.0</td>\n",
       "      <td>3.200000e-09</td>\n",
       "      <td>0.000009</td>\n",
       "      <td>0.000002</td>\n",
       "      <td>0</td>\n",
       "      <td>02.sweep_0.0.2.0.0.2.00e+03.3.20e-09.9.22e-06....</td>\n",
       "      <td>2</td>\n",
       "    </tr>\n",
       "    <tr>\n",
       "      <th>3</th>\n",
       "      <td>2000.0</td>\n",
       "      <td>3.200000e-09</td>\n",
       "      <td>0.000012</td>\n",
       "      <td>0.000002</td>\n",
       "      <td>0</td>\n",
       "      <td>03.sweep_0.0.3.0.0.2.00e+03.3.20e-09.1.23e-05....</td>\n",
       "      <td>3</td>\n",
       "    </tr>\n",
       "    <tr>\n",
       "      <th>4</th>\n",
       "      <td>2000.0</td>\n",
       "      <td>3.200000e-09</td>\n",
       "      <td>0.000015</td>\n",
       "      <td>0.000002</td>\n",
       "      <td>0</td>\n",
       "      <td>04.sweep_0.0.4.0.0.2.00e+03.3.20e-09.1.54e-05....</td>\n",
       "      <td>4</td>\n",
       "    </tr>\n",
       "    <tr>\n",
       "      <th>5</th>\n",
       "      <td>2000.0</td>\n",
       "      <td>3.200000e-09</td>\n",
       "      <td>0.000018</td>\n",
       "      <td>0.000002</td>\n",
       "      <td>0</td>\n",
       "      <td>05.sweep_0.0.5.0.0.2.00e+03.3.20e-09.1.84e-05....</td>\n",
       "      <td>5</td>\n",
       "    </tr>\n",
       "    <tr>\n",
       "      <th>6</th>\n",
       "      <td>2000.0</td>\n",
       "      <td>3.200000e-09</td>\n",
       "      <td>0.000025</td>\n",
       "      <td>0.000002</td>\n",
       "      <td>0</td>\n",
       "      <td>06.sweep_0.0.6.0.0.2.00e+03.3.20e-09.2.46e-05....</td>\n",
       "      <td>6</td>\n",
       "    </tr>\n",
       "    <tr>\n",
       "      <th>7</th>\n",
       "      <td>2000.0</td>\n",
       "      <td>3.200000e-09</td>\n",
       "      <td>0.000031</td>\n",
       "      <td>0.000002</td>\n",
       "      <td>0</td>\n",
       "      <td>07.sweep_0.0.7.0.0.2.00e+03.3.20e-09.3.07e-05....</td>\n",
       "      <td>7</td>\n",
       "    </tr>\n",
       "    <tr>\n",
       "      <th>8</th>\n",
       "      <td>2000.0</td>\n",
       "      <td>3.200000e-09</td>\n",
       "      <td>0.000037</td>\n",
       "      <td>0.000002</td>\n",
       "      <td>0</td>\n",
       "      <td>08.sweep_0.0.8.0.0.2.00e+03.3.20e-09.3.69e-05....</td>\n",
       "      <td>8</td>\n",
       "    </tr>\n",
       "    <tr>\n",
       "      <th>9</th>\n",
       "      <td>2000.0</td>\n",
       "      <td>3.200000e-09</td>\n",
       "      <td>0.000043</td>\n",
       "      <td>0.000002</td>\n",
       "      <td>0</td>\n",
       "      <td>09.sweep_0.0.9.0.0.2.00e+03.3.20e-09.4.30e-05....</td>\n",
       "      <td>9</td>\n",
       "    </tr>\n",
       "    <tr>\n",
       "      <th>10</th>\n",
       "      <td>2000.0</td>\n",
       "      <td>3.200000e-09</td>\n",
       "      <td>0.000049</td>\n",
       "      <td>0.000002</td>\n",
       "      <td>0</td>\n",
       "      <td>10.sweep_0.0.10.0.0.2.00e+03.3.20e-09.4.92e-05...</td>\n",
       "      <td>10</td>\n",
       "    </tr>\n",
       "    <tr>\n",
       "      <th>11</th>\n",
       "      <td>2000.0</td>\n",
       "      <td>3.200000e-09</td>\n",
       "      <td>0.000055</td>\n",
       "      <td>0.000002</td>\n",
       "      <td>0</td>\n",
       "      <td>11.sweep_0.0.11.0.0.2.00e+03.3.20e-09.5.53e-05...</td>\n",
       "      <td>11</td>\n",
       "    </tr>\n",
       "    <tr>\n",
       "      <th>12</th>\n",
       "      <td>2000.0</td>\n",
       "      <td>3.200000e-09</td>\n",
       "      <td>0.000061</td>\n",
       "      <td>0.000002</td>\n",
       "      <td>0</td>\n",
       "      <td>12.sweep_0.0.12.0.0.2.00e+03.3.20e-09.6.14e-05...</td>\n",
       "      <td>12</td>\n",
       "    </tr>\n",
       "  </tbody>\n",
       "</table>\n",
       "</div>"
      ],
      "text/plain": [
       "    voltage  beam_current       hfw  dwell_time  n_image  \\\n",
       "0    2000.0  3.200000e-09  0.000003    0.000002        0   \n",
       "1    2000.0  3.200000e-09  0.000006    0.000002        0   \n",
       "2    2000.0  3.200000e-09  0.000009    0.000002        0   \n",
       "3    2000.0  3.200000e-09  0.000012    0.000002        0   \n",
       "4    2000.0  3.200000e-09  0.000015    0.000002        0   \n",
       "5    2000.0  3.200000e-09  0.000018    0.000002        0   \n",
       "6    2000.0  3.200000e-09  0.000025    0.000002        0   \n",
       "7    2000.0  3.200000e-09  0.000031    0.000002        0   \n",
       "8    2000.0  3.200000e-09  0.000037    0.000002        0   \n",
       "9    2000.0  3.200000e-09  0.000043    0.000002        0   \n",
       "10   2000.0  3.200000e-09  0.000049    0.000002        0   \n",
       "11   2000.0  3.200000e-09  0.000055    0.000002        0   \n",
       "12   2000.0  3.200000e-09  0.000061    0.000002        0   \n",
       "\n",
       "                                                label  count  \n",
       "0   00.sweep_0.0.0.0.0.2.00e+03.3.20e-09.3.07e-06....      0  \n",
       "1   01.sweep_0.0.1.0.0.2.00e+03.3.20e-09.6.14e-06....      1  \n",
       "2   02.sweep_0.0.2.0.0.2.00e+03.3.20e-09.9.22e-06....      2  \n",
       "3   03.sweep_0.0.3.0.0.2.00e+03.3.20e-09.1.23e-05....      3  \n",
       "4   04.sweep_0.0.4.0.0.2.00e+03.3.20e-09.1.54e-05....      4  \n",
       "5   05.sweep_0.0.5.0.0.2.00e+03.3.20e-09.1.84e-05....      5  \n",
       "6   06.sweep_0.0.6.0.0.2.00e+03.3.20e-09.2.46e-05....      6  \n",
       "7   07.sweep_0.0.7.0.0.2.00e+03.3.20e-09.3.07e-05....      7  \n",
       "8   08.sweep_0.0.8.0.0.2.00e+03.3.20e-09.3.69e-05....      8  \n",
       "9   09.sweep_0.0.9.0.0.2.00e+03.3.20e-09.4.30e-05....      9  \n",
       "10  10.sweep_0.0.10.0.0.2.00e+03.3.20e-09.4.92e-05...     10  \n",
       "11  11.sweep_0.0.11.0.0.2.00e+03.3.20e-09.5.53e-05...     11  \n",
       "12  12.sweep_0.0.12.0.0.2.00e+03.3.20e-09.6.14e-05...     12  "
      ]
     },
     "metadata": {},
     "output_type": "display_data"
    }
   ],
   "source": [
    "# beam current, resolution, dwell time\n",
    "voltages = [2e3]\n",
    "# beam_currents = [50e-12, 0.1e-9,  0.2e-9, 0.4e-9, 0.8e-9] \n",
    "beam_currents = [3.2e-9]\n",
    "dwell_times = [2e-6]\n",
    "resolution = \"3072x2048\"\n",
    "\n",
    "settings.image.resolution = resolution\n",
    "settings.image.autocontrast = False\n",
    "settings.image.gamma.enabled = False\n",
    "settings.image.save = True\n",
    "\n",
    "N_IMAGES = 1\n",
    "\n",
    "counter = 0\n",
    "all_params = []\n",
    "for m, voltage in enumerate(voltages):\n",
    "    microscope.beams.electron_beam.high_voltage.value = voltage\n",
    "    for i, beam_current in enumerate(beam_currents):\n",
    "\n",
    "        # change beam current\n",
    "        microscope.beams.electron_beam.beam_current.value = beam_current\n",
    "        # microscope.auto_functions.run_auto_stigmator()\n",
    "        # microscope.auto_functions.run_auto_focus()\n",
    "        # calibration.auto_discharge_beam(microscope, settings.image)\n",
    "        input(\"confirm beam focus / stigmation\")\n",
    "\n",
    "        for j, hfw in enumerate(hfws):\n",
    "\n",
    "            acquire.autocontrast(microscope, BeamType.ELECTRON)\n",
    "\n",
    "            for k, dwell_time in enumerate(dwell_times):\n",
    "                \n",
    "                for n in range(N_IMAGES):\n",
    "\n",
    "                    # set image settings\n",
    "                    label = f\"{counter:02d}.sweep_{m}.{i}.{j}.{k}.{n}.{voltage:.2e}.{beam_current:.2e}.{hfw:.2e}.{dwell_time:.2e}\"\n",
    "                    settings.image.hfw = hfw\n",
    "                    settings.image.dwell_time = dwell_time\n",
    "                    settings.image.label = label\n",
    "\n",
    "                    pprint(settings.image.label)\n",
    "\n",
    "                    params = {\"voltage\": voltage, \n",
    "                        \"beam_current\": beam_current,\n",
    "                        \"hfw\": hfw,\n",
    "                        \"dwell_time\": dwell_time,\n",
    "                        \"n_image\": n,\n",
    "                        \"label\": label,\n",
    "                        \"count\": counter,\n",
    "                        }\n",
    "\n",
    "                    all_params.append(deepcopy(params))\n",
    "\n",
    "                    image = acquire.new_image(microscope, settings.image)\n",
    "                    counter+=1 \n",
    "    \n",
    "# save data\n",
    "df = pd.DataFrame.from_dict(all_params)\n",
    "df.to_csv(os.path.join(settings.image.save_path, \"data.csv\"))\n",
    "display(df)\n",
    "\n",
    "# image_count.sweep.m.i.j.k.n.voltage.beam_current.hfw.dwell_time\n"
   ]
  },
  {
   "cell_type": "code",
   "execution_count": 9,
   "metadata": {},
   "outputs": [
    {
     "data": {
      "text/plain": [
       "'D:\\\\cyril\\\\tin-balls-sweep'"
      ]
     },
     "execution_count": 9,
     "metadata": {},
     "output_type": "execute_result"
    }
   ],
   "source": []
  },
  {
   "cell_type": "code",
   "execution_count": null,
   "metadata": {},
   "outputs": [],
   "source": []
  }
 ],
 "metadata": {
  "kernelspec": {
   "display_name": "Python 3.9.12 ('liftout')",
   "language": "python",
   "name": "python3"
  },
  "language_info": {
   "codemirror_mode": {
    "name": "ipython",
    "version": 3
   },
   "file_extension": ".py",
   "mimetype": "text/x-python",
   "name": "python",
   "nbconvert_exporter": "python",
   "pygments_lexer": "ipython3",
   "version": "3.9.12"
  },
  "orig_nbformat": 4,
  "vscode": {
   "interpreter": {
    "hash": "5cb17a689ea48522a268bdcd61b0f399058cec9c1acbad013779623d1fd2c02a"
   }
  }
 },
 "nbformat": 4,
 "nbformat_minor": 2
}
