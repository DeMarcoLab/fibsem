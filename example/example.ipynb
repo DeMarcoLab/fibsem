{
 "cells": [
  {
   "attachments": {},
   "cell_type": "markdown",
   "metadata": {},
   "source": [
    "## Example Notebook\n",
    "\n",
    "Examples used for EUFN Talk.\n"
   ]
  },
  {
   "cell_type": "code",
   "execution_count": null,
   "metadata": {},
   "outputs": [],
   "source": [
    "%load_ext autoreload\n",
    "%autoreload 2\n",
    "\n",
    "\n",
    "from fibsem import utils, acquire, movement\n",
    "from fibsem.structures import BeamType, Point, FibsemImage, FibsemStagePosition\n",
    "\n",
    "import numpy as np\n",
    "import matplotlib.pyplot as plt\n",
    "import os"
   ]
  },
  {
   "cell_type": "code",
   "execution_count": null,
   "metadata": {},
   "outputs": [],
   "source": [
    "# connect to microscope\n",
    "microscope, settings = utils.setup_session(manufacturer=\"Tescan\", ip_address=\"localhost\")\n"
   ]
  },
  {
   "cell_type": "markdown",
   "metadata": {},
   "source": [
    "### Imaging Example I\n",
    "\n",
    "Take an image with the Electron Beam"
   ]
  },
  {
   "cell_type": "code",
   "execution_count": null,
   "metadata": {},
   "outputs": [],
   "source": [
    "from fibsem import acquire\n",
    "from fibsem.structures import ImageSettings\n",
    "\n",
    "# image settings\n",
    "image_settings = ImageSettings(\n",
    "    resolution = [1536, 1024], \n",
    "    dwell_time=1.0e-6,\n",
    "    hfw=80-6,\n",
    "    beam_type=BeamType.ELECTRON,\n",
    "    autocontrast=True,\n",
    ")\n",
    "\n",
    "# acquire image\n",
    "image = acquire.new_image(microscope, image_settings)"
   ]
  },
  {
   "attachments": {},
   "cell_type": "markdown",
   "metadata": {},
   "source": [
    "### Imaging Example II\n",
    "\n",
    "Take an image with both beams at different hfws, and plot.\n"
   ]
  },
  {
   "cell_type": "code",
   "execution_count": null,
   "metadata": {},
   "outputs": [],
   "source": [
    "settings.image.beam_type = BeamType.ION\n",
    "settings.image.autocontrast = False\n",
    "settings.image.save = True\n",
    "settings.image.path = os.path.join(os.getcwd(), \"demo\", \"imaging\")\n",
    "os.makedirs(settings.image.path, exist_ok=True)\n",
    "\n",
    "\n",
    "settings.image.hfw = 80e-6\n",
    "\n",
    "hfws = [80e-6, 150e-6, 400e-6, 900e-6]\n",
    "for i, hfw in enumerate(hfws):\n",
    "\n",
    "    settings.image.hfw = hfw\n",
    "    settings.image.filename = f\"hfws_{i:02d}\"\n",
    "\n",
    "    ib_image = acquire.new_image(microscope, settings.image)\n"
   ]
  },
  {
   "attachments": {},
   "cell_type": "markdown",
   "metadata": {},
   "source": [
    "### Loading Images, Reading Metadata"
   ]
  },
  {
   "cell_type": "code",
   "execution_count": null,
   "metadata": {},
   "outputs": [],
   "source": [
    "# loading images\n",
    "\n",
    "import glob\n",
    "from fibsem.structures import FibsemImage\n",
    "\n",
    "filenames = sorted(glob.glob(os.path.join(settings.image.path, \"hfws*.tif\")))\n",
    "\n",
    "# plot wiht subplot\n",
    "fig, axes = plt.subplots(1, len(filenames), figsize=(15, 5))\n",
    "for fname in filenames:\n",
    "\n",
    "    image = FibsemImage.load(fname)\n",
    "    ax = axes[filenames.index(fname)]\n",
    "    ax.imshow(image.data, cmap=\"gray\")\n",
    "    ax.set_title(f\"{image.metadata.image_settings.filename} - {image.metadata.image_settings.hfw*1e6:.0f} um\")\n",
    "    ax.axis(\"off\")\n",
    "\n",
    "# subplot width\n",
    "plt.tight_layout()\n",
    "\n",
    "# hwidth\n",
    "plt.subplots_adjust(wspace=0.01)\n",
    "\n",
    "# save fig, dpi = 300\n",
    "plt.savefig(os.path.join(settings.image.path, \"hfws.png\"), dpi=300)\n",
    "\n",
    "plt.show()\n",
    "    \n"
   ]
  },
  {
   "attachments": {},
   "cell_type": "markdown",
   "metadata": {},
   "source": [
    "### Stage Movement\n",
    "\n",
    "Basic stage movement, and plotting."
   ]
  },
  {
   "cell_type": "code",
   "execution_count": null,
   "metadata": {},
   "outputs": [],
   "source": [
    "# image settings\n",
    "settings.image.hfw = 150e-6\n",
    "settings.image.save = True\n",
    "settings.image.path = os.path.join(os.getcwd(), \"demo\", \"movement\")\n",
    "os.makedirs(settings.image.path, exist_ok=True)\n",
    "\n",
    "# acquire images with both beams\n",
    "settings.image.filename = \"pre-movement\"\n",
    "eb_image0, ib_image0 = acquire.take_reference_images(microscope, settings.image)\n",
    "\n",
    "# move stage by 50um\n",
    "move_position = FibsemStagePosition(x=50e-6)\n",
    "microscope.move_stage_relative(move_position)\n",
    "\n",
    "# acquire images with both beams\n",
    "settings.image.filename = \"post-movement\"\n",
    "eb_image1, ib_image1 = acquire.take_reference_images(microscope, settings.image)\n",
    "\n",
    "\n",
    "\n",
    "# plot images\n",
    "fig, axes = plt.subplots(2, 2, figsize=(10, 7))\n",
    "axes[0][0].imshow(eb_image0.data, cmap=\"gray\")\n",
    "axes[0][0].set_title(\"Electron (pre-movement)\")\n",
    "# crosshair, centre, yellow\n",
    "axes[0][0].plot(eb_image0.data.shape[1]/2, eb_image0.data.shape[0]/2, \"y+\", ms=20)\n",
    "axes[0][1].imshow(ib_image0.data, cmap=\"gray\")\n",
    "axes[0][1].set_title(\"Ion (pre-movement)\")\n",
    "axes[0][1].plot(ib_image0.data.shape[1]/2, ib_image0.data.shape[0]/2, \"y+\", ms=20)\n",
    "\n",
    "axes[1][0].imshow(eb_image1.data, cmap=\"gray\")\n",
    "axes[1][0].set_title(\"Electron (post-movement)\")\n",
    "# crosshair, centre, yellow\n",
    "axes[1][0].plot(eb_image1.data.shape[1]/2, eb_image1.data.shape[0]/2, \"y+\", ms=20)\n",
    "axes[1][1].imshow(ib_image1.data, cmap=\"gray\")\n",
    "axes[1][1].set_title(\"Ion (post-movement)\")\n",
    "axes[1][1].plot(ib_image1.data.shape[1]/2, ib_image1.data.shape[0]/2, \"y+\", ms=20)\n",
    "\n",
    "# axes off\n",
    "for ax in axes.flatten():\n",
    "    ax.axis(\"off\")\n",
    "\n",
    "# wspace\n",
    "plt.subplots_adjust(hspace=0.07, wspace=0.01)\n",
    "\n",
    "# save fig, dpi = 300\n",
    "plt.savefig(os.path.join(settings.image.path, \"movement.png\"), dpi=300)\n",
    "\n",
    "plt.show()\n"
   ]
  },
  {
   "attachments": {},
   "cell_type": "markdown",
   "metadata": {},
   "source": [
    "## Scripting Examples"
   ]
  },
  {
   "attachments": {},
   "cell_type": "markdown",
   "metadata": {},
   "source": [
    "### Rotation Example\n",
    "\n",
    "Rotate the stage, and take an image at each step (15deg)."
   ]
  },
  {
   "cell_type": "code",
   "execution_count": null,
   "metadata": {},
   "outputs": [],
   "source": [
    "from fibsem import utils, acquire\n",
    "from fibsem.structures import FibsemStagePosition\n",
    "import os\n",
    "\n",
    "# connect to microscope\n",
    "microscope, settings = utils.setup_session(manufacturer=\"Tescan\", ip_address=\"localhost\")\n",
    "\n",
    "# image settings\n",
    "settings.image.save = True \n",
    "settings.image.path = os.path.join(os.getcwd(), \"demo\", \"rotation\")\n",
    "os.makedirs(settings.image.path, exist_ok=True)\n",
    "\n",
    "rot = 30    # rotation angle\n",
    "for i in range(360//rot):\n",
    "    \n",
    "    # move stage relative\n",
    "    microscope.move_stage_relative(FibsemStagePosition(r=np.deg2rad(rot)))\n",
    "\n",
    "    # acquire images with both beams\n",
    "    settings.image.filename = f\"rot_{i:03d}\"\n",
    "    eb_image, ib_image = acquire.take_reference_images(microscope, settings.image)"
   ]
  },
  {
   "attachments": {},
   "cell_type": "markdown",
   "metadata": {},
   "source": [
    "## Tiling Example\n",
    "\n",
    "Take a 3x3 tile scan with the ION beam and plot."
   ]
  },
  {
   "cell_type": "code",
   "execution_count": null,
   "metadata": {},
   "outputs": [],
   "source": [
    "from fibsem import utils, acquire\n",
    "from fibsem.structures import FibsemStagePosition\n",
    "import os\n",
    "\n",
    "# connect to microscope\n",
    "microscope, settings = utils.setup_session(manufacturer=\"Tescan\", ip_address=\"localhost\")\n",
    "\n",
    "# image settings\n",
    "settings.image.hfw = 80e-6\n",
    "settings.image.resolution = [1024, 1024]\n",
    "settings.image.beam_type = BeamType.ION\n",
    "settings.image.save = True \n",
    "settings.image.path = os.path.join(os.getcwd(), \"demo\", \"tile\")\n",
    "os.makedirs(settings.image.path, exist_ok=True)\n",
    "\n",
    "# tile settings\n",
    "dx, dy = settings.image.hfw, settings.image.hfw\n",
    "nrows, ncols = 3, 3\n",
    "\n",
    "# tile\n",
    "initial_position = microscope.get_stage_position()\n",
    "for i in range(nrows):\n",
    "\n",
    "    # restore position\n",
    "    microscope.move_stage_absolute(initial_position)\n",
    "    # stable movement dy\n",
    "    microscope.stable_move(dx=0, dy=dy*i, beam_type=BeamType.ION)\n",
    "\n",
    "    for j in range(ncols):\n",
    "    \n",
    "        # stable movement dx\n",
    "        microscope.stable_move(dx=dx, dy=0, beam_type=BeamType.ION)\n",
    "        # acquire images with both beams\n",
    "        settings.image.filename = f\"tile_{i:03d}_{j:03d}\"\n",
    "        ib_image = acquire.new_image(microscope, settings.image)"
   ]
  },
  {
   "cell_type": "code",
   "execution_count": null,
   "metadata": {},
   "outputs": [],
   "source": [
    "# plot tiles\n",
    "import glob\n",
    "filenames = sorted(glob.glob(os.path.join(settings.image.path, \"tile*.tif\")))\n",
    "\n",
    "\n",
    "fig, axes = plt.subplots(nrows, ncols, figsize=(10, 10))\n",
    "for fname in filenames:\n",
    "\n",
    "    image = FibsemImage.load(fname)\n",
    "    ax = axes[filenames.index(fname)//ncols][filenames.index(fname)%ncols]\n",
    "    ax.imshow(image.data, cmap=\"gray\")\n",
    "    ax.axis(\"off\")\n",
    "\n",
    "# subplot width\n",
    "plt.tight_layout()\n",
    "\n",
    "# hwidth\n",
    "plt.subplots_adjust(hspace=0.01,wspace=0.01)\n",
    "\n",
    "# save fig, dpi = 300\n",
    "plt.savefig(os.path.join(settings.image.path, \"tiles.png\"), dpi=300)\n",
    "\n",
    "plt.show()"
   ]
  },
  {
   "cell_type": "code",
   "execution_count": null,
   "metadata": {},
   "outputs": [],
   "source": []
  },
  {
   "attachments": {},
   "cell_type": "markdown",
   "metadata": {},
   "source": [
    "## Serialisation\n",
    "\n",
    "Writing / Reading structures to disk"
   ]
  },
  {
   "cell_type": "code",
   "execution_count": null,
   "metadata": {},
   "outputs": [],
   "source": [
    "from fibsem.structures import MicroscopeState\n",
    "os.makedirs(\"demo/state\", exist_ok=True)\n",
    "\n",
    "# get state\n",
    "print(\"\\nCurrent microscope state:\")\n",
    "state = microscope.get_microscope_state()\n",
    "\n",
    "# save to yaml\n",
    "print(\"\\nSerialise microscope state\")\n",
    "state_dict = state.to_dict()\n",
    "utils.save_yaml(\"demo/state/state.yaml\", state_dict)\n",
    "\n",
    "# load from yaml\n",
    "print(\"\\nDeserialise microscope state\")\n",
    "state_dict = utils.load_yaml(\"demo/state/state.yaml\")\n",
    "state = MicroscopeState.from_dict(state_dict)"
   ]
  },
  {
   "cell_type": "code",
   "execution_count": null,
   "metadata": {},
   "outputs": [],
   "source": []
  },
  {
   "attachments": {},
   "cell_type": "markdown",
   "metadata": {},
   "source": [
    "## Model Deployment"
   ]
  },
  {
   "cell_type": "code",
   "execution_count": null,
   "metadata": {},
   "outputs": [],
   "source": [
    "from fibsem import utils, acquire\n",
    "from fibsem.detection import detection\n",
    "from fibsem.detection import detection\n",
    "from fibsem.segmentation.model import load_model\n",
    "from fibsem.structures import BeamType\n",
    "\n",
    "# connect to microscope\n",
    "microscope, settings = utils.setup_session(manufacturer=\"Demo\", ip_address=\"localhost\")\n",
    "\n",
    "# model parameters\n",
    "checkpoint = \"autolamella-mega-latest.pt\"\n",
    "\n",
    "# load model\n",
    "model = load_model(checkpoint=checkpoint) # type: ignore\n",
    "\n",
    "# acquire image\n",
    "settings.image.beam_type = BeamType.ION\n",
    "image = acquire.new_image(microscope, settings.image)\n",
    "\n",
    "# detect features\n",
    "features = [detection.NeedleTip(), detection.LamellaCentre()] \n",
    "det = detection.detect_features(image=image.data, model=model, \n",
    "                                features=features,                      # type: ignore        \n",
    "                                pixelsize=image.metadata.pixel_size.x)  # type: ignore \n",
    "\n",
    "# plot detection\n",
    "detection.plot_detection(det)"
   ]
  },
  {
   "cell_type": "code",
   "execution_count": null,
   "metadata": {},
   "outputs": [],
   "source": [
    "# model\n",
    "%load_ext autoreload\n",
    "%autoreload 2\n",
    "\n",
    "from fibsem import utils, acquire\n",
    "from fibsem.detection import detection\n",
    "from fibsem.segmentation import model\n",
    "from fibsem.detection import detection\n",
    "from fibsem.detection.detection import DetectedFeatures\n",
    "from fibsem.segmentation import model as fibsem_model\n",
    "from fibsem.segmentation.model import load_model\n",
    "from fibsem.structures import (\n",
    "    BeamType,\n",
    "    FibsemImage,\n",
    "    Point,\n",
    ")\n",
    "\n",
    "# connect to microscope\n",
    "microscope, settings = utils.setup_session(manufacturer=\"Demo\", ip_address=\"localhost\")\n",
    "\n",
    "# model parameters\n",
    "checkpoint = \"autolamella-mega-latest.pt\"\n",
    "\n",
    "# load model\n",
    "model = load_model(checkpoint=checkpoint) # type: ignore\n",
    "\n",
    "# load image\n",
    "image = FibsemImage.load(\"../fibsem/detection/test_image.tif\")\n",
    "\n",
    "# detect features\n",
    "features = [detection.NeedleTip(), detection.LamellaCentre()] \n",
    "det = detection.detect_features(image=image.data, model=model, \n",
    "                                features=features, pixelsize=25e-9) # type: ignore \n",
    "\n",
    "# plot detection\n",
    "detection.plot_detection(det)\n",
    "\n"
   ]
  },
  {
   "attachments": {},
   "cell_type": "markdown",
   "metadata": {},
   "source": [
    "### EUFN Live Example - Focus Stacking\n",
    "\n"
   ]
  },
  {
   "cell_type": "code",
   "execution_count": null,
   "metadata": {},
   "outputs": [],
   "source": [
    "import os, logging\n",
    "import matplotlib.pyplot as plt\n",
    "import numpy as np\n",
    "from fibsem import utils, acquire\n",
    "from fibsem.structures import BeamType\n",
    "\n",
    "# connect to microscope\n",
    "microscope, settings = utils.setup_session(manufacturer=\"Thermo\", ip_address=\"localhost\") \n",
    "\n",
    "# setup\n",
    "microscope.set(\"on\", True, BeamType.ELECTRON )\n",
    "microscope.set(\"on\", True, BeamType.ION )\n",
    "\n",
    "# image settings\n",
    "settings.image.resolution = [6144, 4096]\n",
    "settings.image.dwell_time = 200e-9\n",
    "settings.image.hfw = 500e-6\n",
    "settings.image.autocontrast = True\n",
    "settings.image.save = True\n",
    "settings.image.path = os.path.join(os.getcwd(), \"demo\", \"eufn\")\n",
    "os.makedirs(settings.image.path, exist_ok=True)\n",
    "# NB: no line integration\n",
    "\n",
    "wds = np.arange(0.004, 0.0048, 50e-6)\n",
    "images = []\n",
    "\n",
    "logging.info(f\"Acquiring {len(wds)} images\")\n",
    "\n",
    "for wd in wds:\n",
    "\n",
    "    logging.info(f\"Working distance: {wd:4e}\")\n",
    "    microscope.set(\"working_distance\", wd, BeamType.ELECTRON)\n",
    "\n",
    "    settings.image.filename = f\"wd_{wd:.4e}\".replace(\".\", \"_\")\n",
    "\n",
    "    image = acquire.new_image(microscope, settings.image)\n",
    "\n",
    "    images.append(image)\n",
    "    logging.info(f\"-\"*200)\n",
    "\n",
    "# lapacian pyramid\n",
    "# TODO: stacking.py\n",
    "# stacking.image_stacking(images)"
   ]
  },
  {
   "cell_type": "code",
   "execution_count": null,
   "metadata": {},
   "outputs": [],
   "source": [
    "\n",
    "# plot images as grid\n",
    "fig, axes = plt.subplots(len(images)//4, len(images)//4, figsize=(10, 10))\n",
    "\n",
    "for i, image in enumerate(images):\n",
    "    ax = axes[i//4, i%4]\n",
    "    ax.imshow(image.data, cmap=\"gray\")\n",
    "    ax.set_title(f\"WD: {wds[i]:.08f}\")\n",
    "    ax.axis(\"off\")\n",
    "# subplot width\n",
    "plt.tight_layout()\n",
    "\n",
    "# hwidth\n",
    "plt.subplots_adjust(hspace=0.01,wspace=0.01)\n",
    "\n",
    "plt.show()"
   ]
  },
  {
   "cell_type": "code",
   "execution_count": null,
   "metadata": {},
   "outputs": [],
   "source": []
  }
 ],
 "metadata": {
  "kernelspec": {
   "display_name": "autoliftout",
   "language": "python",
   "name": "python3"
  },
  "language_info": {
   "codemirror_mode": {
    "name": "ipython",
    "version": 3
   },
   "file_extension": ".py",
   "mimetype": "text/x-python",
   "name": "python",
   "nbconvert_exporter": "python",
   "pygments_lexer": "ipython3",
   "version": "3.9.18"
  },
  "orig_nbformat": 4
 },
 "nbformat": 4,
 "nbformat_minor": 2
}
