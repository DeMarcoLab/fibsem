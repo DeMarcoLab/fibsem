{
 "cells": [
  {
   "cell_type": "code",
   "execution_count": null,
   "metadata": {},
   "outputs": [],
   "source": [
    "%load_ext autoreload\n",
    "%autoreload 2\n",
    "\n",
    "import matplotlib.pyplot as plt\n",
    "import numpy as np\n",
    "import glob\n",
    "\n",
    "import tifffile as tf\n",
    "\n",
    "import os\n",
    "\n",
    "path = \"/home/patrick/github/data\"\n",
    "\n",
    "filenames = glob.glob(os.path.join(path, \"dm*/**/*.tif*\"), recursive=True)\n",
    "\n",
    "print(len(filenames))"
   ]
  },
  {
   "cell_type": "code",
   "execution_count": null,
   "metadata": {},
   "outputs": [],
   "source": [
    "# filter lamella, landing\n",
    "\n",
    "print(len(filenames))\n",
    "# filenames = [fname for fname in filenames if \"ref_landing\" not in fname and \"ref_lamella\" not in fname and \"trench\" not in fname and \"low_res\" not in fname]\n",
    "\n",
    "filenames = [fname for fname in filenames if \"needle\" in fname]\n",
    "print(len(filenames))"
   ]
  },
  {
   "cell_type": "code",
   "execution_count": null,
   "metadata": {},
   "outputs": [],
   "source": [
    "for fname in filenames[:10]:\n",
    "    img = tf.imread(fname)\n",
    "    plt.imshow(img, cmap=\"gray\")\n",
    "    plt.show()"
   ]
  },
  {
   "cell_type": "code",
   "execution_count": null,
   "metadata": {},
   "outputs": [],
   "source": [
    "save_path = \"/home/patrick/github/data/training\"\n",
    "for i, fname in enumerate(filenames):\n",
    "    \n",
    "    img = tf.imread(fname)\n",
    "    new_fname = os.path.join(save_path,f\"a{i:05d}.tif\")\n",
    "\n",
    "    tf.imsave(new_fname, img)\n"
   ]
  },
  {
   "cell_type": "code",
   "execution_count": null,
   "metadata": {},
   "outputs": [],
   "source": [
    "train_filenames = sorted(glob.glob(os.path.join(save_path, \"*.tif\")))\n",
    "for fname in train_filenames[:10]:\n",
    "\n",
    "    img = tf.imread(fname)\n",
    "    plt.imshow(img, cmap=\"gray\")\n",
    "    plt.show()"
   ]
  },
  {
   "cell_type": "code",
   "execution_count": null,
   "metadata": {},
   "outputs": [],
   "source": [
    "import zarr\n",
    "\n",
    "images = zarr.open(tf.imread(os.path.join(\"/home/patrick/github/data/training/\", \"images\", \"*.tif*\"), aszarr=True)) \n",
    "labels = zarr.open(tf.imread(os.path.join(\"/home/patrick/github/data/training/\", \"labels\",\"*.tif*\"), aszarr=True))\n",
    "\n",
    "\n",
    "print(images.shape)\n",
    "print(labels.shape)\n",
    "\n",
    "\n",
    "for img, label in zip(images, labels):\n",
    "\n",
    "\n",
    "    fig, ax = plt.subplots(1, 2, figsize=(10, 5))\n",
    "    ax[0].imshow(img, cmap=\"gray\")\n",
    "    ax[1].imshow(label)\n",
    "    plt.show()\n",
    "\n"
   ]
  },
  {
   "cell_type": "code",
   "execution_count": null,
   "metadata": {},
   "outputs": [],
   "source": []
  },
  {
   "cell_type": "markdown",
   "metadata": {},
   "source": [
    "### Model Testing"
   ]
  },
  {
   "cell_type": "code",
   "execution_count": null,
   "metadata": {},
   "outputs": [],
   "source": [
    "%load_ext autoreload\n",
    "%autoreload 2 \n",
    "\n",
    "\n",
    "import glob\n",
    "import os\n",
    "import tifffile as tf\n",
    "import matplotlib.pyplot as plt\n",
    "\n",
    "images = sorted(glob.glob(os.path.join(\"/home/patrick/github/data/training/train/images\", \"*.tif*\")))\n",
    "labels = sorted(glob.glob(os.path.join(\"/home/patrick/github/data/training/train/labels\", \"*.tif*\")))\n",
    "\n",
    "for ii, (i, l) in enumerate(zip(images, labels)):\n",
    "    print(os.path.basename(i), os.path.basename(l))\n",
    "\n",
    "    img, lbl = tf.imread(i), tf.imread(l)\n",
    "\n",
    "    fig, ax = plt.subplots(1, 2, figsize=(7, 5))\n",
    "    ax[0].imshow(img, cmap=\"gray\")\n",
    "    ax[0].set_title(\"Image\")\n",
    "    ax[1].imshow(lbl)\n",
    "    ax[1].set_title(\"Label\")\n",
    "    plt.show()\n",
    "    \n",
    "    if ii == 2:\n",
    "        break\n",
    "\n"
   ]
  },
  {
   "cell_type": "code",
   "execution_count": null,
   "metadata": {},
   "outputs": [],
   "source": [
    "filenames = sorted(glob.glob(os.path.join(\"/home/patrick/github/data/liftout/training/train/images/\", \"*.tif*\")))\n",
    "\n",
    "print(\"files: \", len(filenames))\n",
    "# filenames.append(*list(sorted(glob.glob(os.path.join(\"/home/patrick/github/data/training/train/images/\", \"*.tif*\")))\n",
    "print(\"files: \", len(filenames))\n",
    "import random\n",
    "random.shuffle(filenames)\n",
    "\n",
    "\n",
    "from fibsem.segmentation.model import SegmentationModel\n",
    "\n",
    "baseline = \"/home/patrick/github/fibsem/fibsem/segmentation/models/model.pt\"\n",
    "# checkpoint_2 = \"/home/patrick/github/fibsem/fibsem/segmentation/models/03_11_2022_19_01_51_n08_model.pt\"\n",
    "# checkpoint_5 = \"/home/patrick/github/fibsem/fibsem/segmentation/models/03_11_2022_19_00_58_n05_model.pt\"\n",
    "# checkpoint_10 = \"/home/patrick/github/fibsem/fibsem/segmentation/models/03_11_2022_19_02_27_n10_model.pt\"\n",
    "# checkpoints = [baseline, checkpoint_2, checkpoint_5, checkpoint_10]\n",
    "\n",
    "small_model = \"/home/patrick/github/fibsem/fibsem/segmentation/models/model2.pt\"\n",
    "# checkpoint_10 = \"/home/patrick/github/fibsem/fibsem/segmentation/models/combined/03_11_2022_20_00_10_n10_model.pt\"\n",
    "# checkpoint_15 = \"/home/patrick/github/fibsem/fibsem/segmentation/models/combined/03_11_2022_20_09_22_n15_model.pt\"\n",
    "# checkpoint_20 = \"/home/patrick/github/fibsem/fibsem/segmentation/models/combined/03_11_2022_20_18_32_n20_model.pt\"\n",
    "\n",
    "checkpoint_10 = \"/home/patrick/github/fibsem/fibsem/segmentation/models/combined34/04_11_2022_18_37_32_n10_model.pt\"\n",
    "checkpoint_15 = \"/home/patrick/github/fibsem/fibsem/segmentation/models/combined34/04_11_2022_18_46_48_n15_model.pt\"\n",
    "checkpoint_20 = \"/home/patrick/github/fibsem/fibsem/segmentation/models/combined34/04_11_2022_18_56_00_n20_model.pt\"\n",
    "\n",
    "\n",
    "checkpoints = [baseline, small_model, checkpoint_10, checkpoint_15, checkpoint_20]\n",
    "for i, fname in enumerate(filenames):\n",
    "\n",
    "    img = tf.imread(fname)\n",
    "\n",
    "    print(i, fname) \n",
    "\n",
    "    fig, ax = plt.subplots(1, len(checkpoints) + 1, figsize=(15, 5))\n",
    "    ax[0].imshow(img, cmap=\"gray\")\n",
    "    ax[0].set_title(\"Image\")\n",
    "\n",
    "\n",
    "    titles = [\"Baseline\", \"Update\", \"Checkpoint 10\", \"Checkpoint 15\", \"Checkpoint 20\"]\n",
    "    for j, (checkpoint, title) in enumerate(zip(checkpoints, titles), 1):\n",
    "        model = SegmentationModel(checkpoint=checkpoint, num_classes=3)\n",
    "\n",
    "        mask = model.inference(img)\n",
    "\n",
    "        ax[j].imshow(mask)\n",
    "        ax[j].set_title(title)\n",
    "\n",
    "    save_path = \"results34\"\n",
    "    os.makedirs(save_path, exist_ok=True)\n",
    "    fig.savefig(os.path.join(save_path, f\"{os.path.basename(fname).replace('tif', 'png')}\"))\n",
    "\n",
    "    plt.show()"
   ]
  },
  {
   "cell_type": "code",
   "execution_count": null,
   "metadata": {},
   "outputs": [],
   "source": []
  },
  {
   "cell_type": "code",
   "execution_count": null,
   "metadata": {},
   "outputs": [],
   "source": []
  },
  {
   "attachments": {},
   "cell_type": "markdown",
   "metadata": {},
   "source": [
    "### Pattern Testing\n"
   ]
  },
  {
   "cell_type": "code",
   "execution_count": null,
   "metadata": {},
   "outputs": [],
   "source": [
    "%load_ext autoreload\n",
    "%autoreload 2\n",
    "\n",
    "from fibsem import utils, patterning\n",
    "import matplotlib.pyplot as plt\n",
    "\n",
    "# protocol_path = \"/home/patrick/github/autoliftout/liftout/protocol/protocol.yaml\"\n",
    "protocol_path = r\"C:\\Users\\pcle0002\\Documents\\repos\\autoliftout\\liftout\\protocol\\protocol.yaml\"\n",
    "microscope, settings = utils.setup_session(protocol_path=protocol_path)"
   ]
  },
  {
   "cell_type": "code",
   "execution_count": null,
   "metadata": {},
   "outputs": [],
   "source": [
    "patterns_fn = {f\"{pattern.name}\": pattern for pattern in patterning.__PATTERNS__}\n",
    "\n",
    "from pprint import pprint\n",
    "\n",
    "pprint(patterns_fn)"
   ]
  },
  {
   "cell_type": "code",
   "execution_count": null,
   "metadata": {},
   "outputs": [],
   "source": [
    "\n"
   ]
  },
  {
   "cell_type": "code",
   "execution_count": null,
   "metadata": {},
   "outputs": [],
   "source": []
  },
  {
   "cell_type": "code",
   "execution_count": null,
   "metadata": {},
   "outputs": [],
   "source": [
    "from fibsem.structures import FibsemPatternSettings, FibsemPattern\n",
    "\n",
    "rect_pattern = patterns_fn[\"Rectangle\"]()\n",
    "\n",
    "rp = rect_pattern.define(protocol={\"pattern\": \"Rectangle\", \"width\": 10e-6, \"height\": 5e-6, \n",
    "                                              \"depth\": 2e-6, \"rotation\": 0, \n",
    "                                              \"centre_x\": 0, \"centre_y\": 0, \n",
    "                                              \"scan_direction\": \"TopToBottom\", \"cleaning_cross_section\": True})\n",
    "\n",
    "\n",
    "print(rp)"
   ]
  },
  {
   "cell_type": "code",
   "execution_count": null,
   "metadata": {},
   "outputs": [],
   "source": []
  },
  {
   "cell_type": "code",
   "execution_count": null,
   "metadata": {},
   "outputs": [],
   "source": [
    "\n",
    "\n",
    "\n",
    "pattern_fn = patterns_fn[\"Trench\"]()\n",
    "print(pattern_fn.required_keys)\n",
    "pattern = pattern_fn.define(protocol=settings.protocol[\"polish_lamella\"])\n",
    "\n",
    "pprint(pattern)\n",
    "\n",
    "print(\"---------------------------------------\")"
   ]
  },
  {
   "cell_type": "code",
   "execution_count": null,
   "metadata": {},
   "outputs": [],
   "source": [
    "for p in patterns_fn:\n",
    "    print(p, patterns_fn[p], patterns_fn[p]())"
   ]
  },
  {
   "cell_type": "code",
   "execution_count": null,
   "metadata": {},
   "outputs": [],
   "source": []
  },
  {
   "attachments": {},
   "cell_type": "markdown",
   "metadata": {},
   "source": [
    "### Test AutoFOCUS\n",
    "\n"
   ]
  },
  {
   "cell_type": "code",
   "execution_count": null,
   "metadata": {},
   "outputs": [],
   "source": [
    "%load_ext autoreload\n",
    "%autoreload 2\n",
    "\n",
    "import sys\n",
    "from fibsem import utils, calibration, patterning\n",
    "from fibsem.structures import BeamType"
   ]
  },
  {
   "cell_type": "code",
   "execution_count": null,
   "metadata": {},
   "outputs": [],
   "source": [
    "microscope, settings = utils.setup_session()"
   ]
  },
  {
   "cell_type": "code",
   "execution_count": null,
   "metadata": {},
   "outputs": [],
   "source": [
    "# default\n",
    "calibration.auto_focus_beam(microscope, settings, beam_type=BeamType.ELECTRON)"
   ]
  },
  {
   "cell_type": "code",
   "execution_count": null,
   "metadata": {},
   "outputs": [],
   "source": [
    "wd = microscope.get(\"working_distance\", BeamType.ELECTRON)\n",
    "print(f\"working distance: {wd:2e}\")"
   ]
  },
  {
   "cell_type": "code",
   "execution_count": null,
   "metadata": {},
   "outputs": [],
   "source": [
    "# sharpness\n",
    "from fibsem.calibration import _sharpness, _dog\n",
    "calibration.auto_focus_beam(microscope=microscope, settings=settings, \n",
    "                            beam_type=BeamType.ELECTRON, \n",
    "                            metric_fn=_sharpness, kwargs={\"disk_size\": 5}, \n",
    "                            num_steps=20, step_size=0.05e-3)"
   ]
  },
  {
   "cell_type": "code",
   "execution_count": null,
   "metadata": {},
   "outputs": [],
   "source": [
    "calibration.auto_focus_beam(microscope, settings, beam_type=BeamType.ELECTRON, metric_fn=_dog, num_steps=10, verbose=True)"
   ]
  },
  {
   "cell_type": "code",
   "execution_count": null,
   "metadata": {},
   "outputs": [],
   "source": [
    "wd = wd\n",
    "wd1 = microscope.get(\"working_distance\", BeamType.ELECTRON)"
   ]
  },
  {
   "cell_type": "code",
   "execution_count": null,
   "metadata": {},
   "outputs": [],
   "source": [
    "print(f\"working distance: {wd:2e}\") # default\n",
    "print(f\"working distance: {wd1:2e}\") # fibsem "
   ]
  },
  {
   "cell_type": "code",
   "execution_count": null,
   "metadata": {},
   "outputs": [],
   "source": [
    "settings.image.beam_type = BeamType.ELECTRON\n",
    "settings.image.save = True\n",
    "\n",
    "from fibsem import acquire\n",
    "\n",
    "microscope.set(\"working_distance\", wd, BeamType.ELECTRON)\n",
    "settings.image.label = \"default_autofocus\"\n",
    "eb_image = acquire.new_image(microscope, settings.image)"
   ]
  },
  {
   "cell_type": "code",
   "execution_count": null,
   "metadata": {},
   "outputs": [],
   "source": [
    "microscope.set(\"working_distance\", wd1, BeamType.ELECTRON)\n",
    "settings.image.label = \"fibsem_autofocus\"\n",
    "eb_image = acquire.new_image(microscope, settings.image)"
   ]
  },
  {
   "cell_type": "code",
   "execution_count": null,
   "metadata": {},
   "outputs": [],
   "source": [
    "import numpy as np\n",
    "wds = np.linspace(3.5e-3, 4.5e-3, 20)\n",
    "\n",
    "settings.image.save = True\n",
    "settings.image.save_path = r\"C:\\Users\\Admin\\Github\\fibsem\\demo_2023-03-13-10-27-17AM\"\n",
    "\n",
    "for wd in wds:\n",
    "    print(f\"wd_{wd:.4e}\".replace('.', '_'))\n",
    "    microscope.set(\"working_distance\", wd, BeamType.ELECTRON)\n",
    "    settings.image.label = f\"wd_{wd:.4e}\".replace('.', '_')\n",
    "    eb_image = acquire.new_image(microscope, settings.image)"
   ]
  },
  {
   "cell_type": "code",
   "execution_count": null,
   "metadata": {},
   "outputs": [],
   "source": []
  },
  {
   "attachments": {},
   "cell_type": "markdown",
   "metadata": {},
   "source": [
    "## Manipulator Testing"
   ]
  },
  {
   "cell_type": "code",
   "execution_count": null,
   "metadata": {},
   "outputs": [],
   "source": [
    "%load_ext autoreload\n",
    "%autoreload 2\n",
    "\n",
    "from fibsem import utils, acquire, movement\n",
    "\n",
    "from fibsem.structures import BeamType, FibsemManipulatorPosition\n",
    "\n",
    "\n",
    "microscope, settings = utils.setup_session()"
   ]
  },
  {
   "cell_type": "code",
   "execution_count": null,
   "metadata": {},
   "outputs": [],
   "source": [
    "# microscope.insert_manipulator()\n",
    "settings.image.hfw = 400e-6\n",
    "images = acquire.take_reference_images(microscope, settings.image)\n",
    "import matplotlib.pyplot as plt\n",
    "fig, ax = plt.subplots(1, 2, figsize=(10, 7))\n",
    "ax[0].imshow(images[0].data, cmap=\"gray\")\n",
    "ax[0].set_title(\"Electron Image 01\")\n",
    "ax[1].imshow(images[1].data, cmap=\"gray\")\n",
    "ax[1].set_title(\"IOn Image 02\")\n",
    "plt.show()\n",
    "\n",
    "# #position = FibsemManipulatorPosition(x=20e-6, y=20e-6, z=20e-6, r=0, t=0)\n",
    "# microscope.move_manipulator_corrected(dx = 20e-6, dy = 20e-6, beam_type=BeamType.ELECTRON)\n",
    "position = FibsemManipulatorPosition(z=20e-6)\n",
    "microscope.move_manipulator_to_position_offset(position, name=\"EUCENTRIC\")\n",
    "\n",
    "images_new = acquire.take_reference_images(microscope, settings.image)\n",
    "fig, ax = plt.subplots(1, 2, figsize=(10, 7))\n",
    "ax[0].imshow(images_new[0].data, cmap=\"gray\")\n",
    "ax[0].set_title(\"Electron Image 01\")\n",
    "ax[1].imshow(images_new[1].data, cmap=\"gray\")\n",
    "ax[1].set_title(\"IOn Image 02\")\n",
    "plt.show()\n",
    "microscope.get_manipulator_position()\n"
   ]
  },
  {
   "cell_type": "code",
   "execution_count": null,
   "metadata": {},
   "outputs": [],
   "source": []
  },
  {
   "attachments": {},
   "cell_type": "markdown",
   "metadata": {},
   "source": [
    "## Gas Injection System\n"
   ]
  },
  {
   "cell_type": "code",
   "execution_count": null,
   "metadata": {},
   "outputs": [],
   "source": [
    "%load_ext autoreload\n",
    "%autoreload 2\n",
    "\n",
    "from fibsem.structures import BeamType\n",
    "\n",
    "from fibsem import utils, acquire, movement\n",
    "\n",
    "microscope, settings = utils.setup_session()\n"
   ]
  },
  {
   "cell_type": "code",
   "execution_count": null,
   "metadata": {},
   "outputs": [],
   "source": [
    "from fibsem import gis\n",
    "\n",
    "print(gis.gis_protocol)"
   ]
  },
  {
   "cell_type": "code",
   "execution_count": null,
   "metadata": {},
   "outputs": [],
   "source": [
    "gis.sputter_platinum(microscope, gis.gis_protocol)"
   ]
  },
  {
   "cell_type": "code",
   "execution_count": null,
   "metadata": {},
   "outputs": [],
   "source": [
    "gis.cryo_sputter(microscope, gis.gis_protocol, name=\"cryo_sputter_eb_grid_01\")\n"
   ]
  },
  {
   "cell_type": "code",
   "execution_count": null,
   "metadata": {},
   "outputs": [],
   "source": []
  },
  {
   "cell_type": "markdown",
   "metadata": {},
   "source": []
  },
  {
   "cell_type": "markdown",
   "metadata": {},
   "source": [
    "## Manipulator Position Testing\n",
    "\n"
   ]
  },
  {
   "cell_type": "code",
   "execution_count": null,
   "metadata": {},
   "outputs": [],
   "source": [
    "%load_ext autoreload\n",
    "%autoreload 2\n",
    "\n",
    "from fibsem import utils, acquire\n",
    "from fibsem.structures import BeamType, FibsemManipulatorPosition, FibsemStagePosition\n",
    "\n",
    "from liftout import actions\n",
    "import matplotlib.pyplot as plt\n",
    "\n",
    "\n",
    "\n",
    "microscope, settings = utils.setup_session(manufacturer=\"Thermo\", ip_address=\"10.0.0.1\")\n",
    "\n",
    "\n"
   ]
  },
  {
   "cell_type": "code",
   "execution_count": null,
   "metadata": {},
   "outputs": [],
   "source": [
    "microscope.retract_manipulator()\n",
    "\n",
    "settings.image.hfw = 400e-6\n",
    "\n",
    "# eb_image, ib_image = acquire.take_reference_images(microscope, settings.image)\n",
    "# fig, ax = plt.subplots(1, 2, figsize=(10, 7))\n",
    "# ax[0].imshow(eb_image.data, cmap=\"gray\")\n",
    "# ax[1].imshow(ib_image.data, cmap=\"gray\")\n",
    "# plt.show()\n",
    "\n",
    "actions.move_needle_to_liftout_position(microscope)\n",
    "\n",
    "eb_image, ib_image = acquire.take_reference_images(microscope, settings.image)\n",
    "\n",
    "fig, ax = plt.subplots(1, 2, figsize=(10, 7))\n",
    "ax[0].imshow(eb_image.data, cmap=\"gray\")\n",
    "ax[1].imshow(ib_image.data, cmap=\"gray\")\n",
    "plt.show()\n",
    "\n",
    "actions.move_needle_to_landing_position(microscope)\n",
    "\n",
    "eb_image, ib_image = acquire.take_reference_images(microscope, settings.image)\n",
    "\n",
    "fig, ax = plt.subplots(1, 2, figsize=(10, 7))\n",
    "ax[0].imshow(eb_image.data, cmap=\"gray\")\n",
    "ax[1].imshow(ib_image.data, cmap=\"gray\")\n",
    "plt.show()\n",
    "\n",
    "actions.move_needle_to_reset_position(microscope)\n",
    "\n",
    "eb_image, ib_image = acquire.take_reference_images(microscope, settings.image)\n",
    "\n",
    "fig, ax = plt.subplots(1, 2, figsize=(10, 7))\n",
    "ax[0].imshow(eb_image.data, cmap=\"gray\")\n",
    "ax[1].imshow(ib_image.data, cmap=\"gray\")\n",
    "plt.show()\n",
    "\n"
   ]
  },
  {
   "cell_type": "code",
   "execution_count": null,
   "metadata": {},
   "outputs": [],
   "source": []
  },
  {
   "cell_type": "markdown",
   "metadata": {},
   "source": [
    "### Tile Image Collection\n",
    "\n",
    "- Collect tiled images\n",
    "- Stitch Together\n",
    "- Update metadata\n",
    "- Click to Move, Save Positions from Image\n",
    "\n"
   ]
  },
  {
   "cell_type": "code",
   "execution_count": null,
   "metadata": {},
   "outputs": [],
   "source": [
    "%load_ext autoreload\n",
    "%autoreload 2\n",
    "\n",
    "from fibsem import utils, acquire\n",
    "from fibsem.structures import BeamType, FibsemManipulatorPosition, FibsemStagePosition\n",
    "\n",
    "import matplotlib.pyplot as plt\n",
    "import os\n",
    "import glob\n",
    "\n",
    "from fibsem.imaging import _tile\n",
    "\n",
    "microscope, settings = utils.setup_session(manufacturer=\"Thermo\", ip_address=\"10.0.0.1\")\n",
    "\n",
    "\n"
   ]
  },
  {
   "cell_type": "code",
   "execution_count": null,
   "metadata": {},
   "outputs": [],
   "source": [
    "start_state = microscope.get_current_microscope_state()\n",
    "\n"
   ]
  },
  {
   "cell_type": "code",
   "execution_count": null,
   "metadata": {},
   "outputs": [],
   "source": [
    "print(start_state.eb_settings.working_distance)\n",
    "print(microscope.get_current_microscope_state().eb_settings.working_distance)"
   ]
  },
  {
   "cell_type": "code",
   "execution_count": null,
   "metadata": {},
   "outputs": [],
   "source": [
    "microscope.set_microscope_state(start_state)"
   ]
  },
  {
   "cell_type": "code",
   "execution_count": null,
   "metadata": {},
   "outputs": [],
   "source": [
    "import logging\n",
    "PATH = os.path.join(os.getcwd(), \"tile-images\")\n",
    "os.makedirs(PATH, exist_ok=True)\n",
    "\n",
    "\n",
    "GRID_SIZE = 400e-6\n",
    "TILE_SIZE = 50e-6\n",
    "BEAM_TYPE = BeamType.ELECTRON\n",
    "RESOLUTION = [1024, 1024]\n",
    "\n",
    "\n",
    "settings.image.hfw = TILE_SIZE\n",
    "settings.image.beam_type = BEAM_TYPE\n",
    "settings.image.save = True\n",
    "settings.image.save_path = PATH\n",
    "settings.image.resolution = RESOLUTION\n",
    "settings.image.dwell_time = 1e-6\n",
    "settings.image.autocontrast = False\n",
    "\n",
    "ddict = _tile._tile_image_collection(microscope, settings, GRID_SIZE, TILE_SIZE)\n",
    "images = ddict[\"images\"]\n",
    "big_image = ddict[\"big_image\"]"
   ]
  },
  {
   "cell_type": "code",
   "execution_count": null,
   "metadata": {},
   "outputs": [],
   "source": [
    " # stitch a composite image from 2d array of images\n",
    "\n",
    "\n",
    "\n",
    "\n",
    "image = _tile._stitch_images(images=images, ddict=ddict, overlap=0)\n",
    "\n",
    "# plot stitched and big image\n",
    "fig, ax = plt.subplots(1, 2, figsize=(30, 15))\n",
    "ax[0].imshow(image.data, cmap=\"gray\")\n",
    "ax[0].set_title(\"Stitched Image\")\n",
    "ax[1].imshow(big_image.data, cmap=\"gray\")\n",
    "ax[1].set_title(\"Big Image\")\n",
    "plt.show()\n",
    "\n",
    "\n",
    "\n",
    "# TODO: more advanced version where we read the metadata to get the relative position of each image in space\n",
    "\n",
    "\n"
   ]
  },
  {
   "cell_type": "code",
   "execution_count": null,
   "metadata": {},
   "outputs": [],
   "source": [
    "\n",
    "\n"
   ]
  },
  {
   "cell_type": "code",
   "execution_count": null,
   "metadata": {},
   "outputs": [],
   "source": [
    "\n",
    "from fibsem import config as cfg\n",
    "PATH = os.path.join(cfg.DATA_PATH, \"tile\")\n",
    "from fibsem.structures import FibsemImage\n",
    "\n",
    "image = FibsemImage.load(os.path.join(PATH, \"stitched_image.tif\"))\n",
    "\n",
    "print(image.metadata.microscope_state.absolute_position)"
   ]
  },
  {
   "cell_type": "code",
   "execution_count": null,
   "metadata": {},
   "outputs": [],
   "source": []
  },
  {
   "cell_type": "markdown",
   "metadata": {},
   "source": [
    "###  Intersecting Circles"
   ]
  },
  {
   "cell_type": "code",
   "execution_count": null,
   "metadata": {},
   "outputs": [],
   "source": [
    "%load_ext autoreload\n",
    "%autoreload 2\n",
    "\n",
    "from fibsem import utils, acquire\n",
    "from fibsem.structures import BeamType, FibsemManipulatorPosition, FibsemStagePosition\n",
    "\n",
    "import matplotlib.pyplot as plt\n",
    "import numpy as np\n",
    "\n",
    "\n",
    "\n"
   ]
  },
  {
   "cell_type": "code",
   "execution_count": null,
   "metadata": {},
   "outputs": [],
   "source": [
    "# create random circles on image\n",
    "\n",
    "import cv2\n",
    "image = np.zeros((1024, 1024))\n",
    "image2 = np.zeros((1024, 1024))\n",
    "\n",
    "r = 50\n",
    "for i in range(25):\n",
    "    x = np.random.randint(0, 1024)\n",
    "    y = np.random.randint(0, 1024)\n",
    "    \n",
    "    image = cv2.circle(image, (x, y), r, (1, 1, 1), -1)\n",
    "    \n",
    "    x = np.random.randint(0, 1024)\n",
    "    y = np.random.randint(0, 1024)\n",
    "    \n",
    "    image2 = cv2.circle(image2, (x, y), r, (1, 1, 1), -1)\n",
    "\n",
    "\n",
    "\n",
    "print(image.shape)\n",
    "\n",
    "\n",
    "fig, ax = plt.subplots(1, 3, figsize=(10, 7))\n",
    "ax[0].imshow(image, cmap=\"Greens\")\n",
    "ax[0].axis(\"off\")\n",
    "ax[1].imshow(image2, cmap=\"Reds\")\n",
    "ax[1].axis(\"off\")\n",
    "ax[2].imshow(image, cmap=\"Greens\", alpha=0.5)\n",
    "ax[2].imshow(image2, cmap=\"Reds\", alpha=0.5)\n",
    "ax[2].axis(\"off\")\n",
    "plt.show()\n",
    "\n",
    "\n",
    "# detect where circles intersect\n",
    "\n",
    "from skimage import measure\n",
    "\n",
    "intersection = image + image2\n",
    "intersection[intersection < 2] = 0\n",
    "intersection[intersection == 2] = 1\n",
    "\n",
    "\n",
    "# extract contour from intersection\n",
    "\n",
    "contours = measure.find_contours(intersection, 0.8)\n",
    "\n",
    "# plot intersection and contour\n",
    "\n",
    "fig, ax = plt.subplots(1, 2, figsize=(10, 7))\n",
    "ax[0].imshow(intersection, cmap=\"gray\")\n",
    "ax[0].axis(\"off\")\n",
    "ax[1].imshow(image, cmap=\"Greens\", alpha=0.5)\n",
    "ax[1].imshow(image2, cmap=\"Reds\", alpha=0.5)\n",
    "ax[1].axis(\"off\")\n",
    "for contour in contours:\n",
    "    ax[1].plot(contour[:, 1], contour[:, 0], linewidth=2)\n",
    "plt.show()\n",
    "\n",
    "\n",
    "\n"
   ]
  },
  {
   "cell_type": "code",
   "execution_count": null,
   "metadata": {},
   "outputs": [],
   "source": [
    "mask = intersection\n",
    "idxs = np.unique(mask)\n",
    "\n",
    "for idx in idxs:\n",
    "    if idx==0:\n",
    "        continue\n",
    "\n",
    "    # create a new image\n",
    "    feature_mask = np.zeros_like(mask)\n",
    "    feature_mask[mask==idx] = 1\n",
    "\n",
    "    # detect features\n",
    "    feature.detect(image, feature_mask)\n",
    "    features.append(deepcopy(feature))"
   ]
  },
  {
   "cell_type": "code",
   "execution_count": null,
   "metadata": {},
   "outputs": [],
   "source": [
    "\n",
    "\n",
    "%load_ext autoreload\n",
    "%autoreload 2\n",
    "\n",
    "from fibsem.segmentation.model import SegmentationModel, load_model\n",
    "from fibsem.imaging import _tile\n",
    "\n",
    "import matplotlib.pyplot as plt\n",
    "import numpy as np\n",
    "\n",
    "\n",
    "image = np.zeros(shape=(1024*4, 1024*4))\n",
    "image.shape\n",
    "\n",
    "model = load_model(\"/home/patrick/github/fibsem/fibsem/segmentation/models/model4.pt\", \"resnet34\", 3)\n"
   ]
  },
  {
   "cell_type": "code",
   "execution_count": null,
   "metadata": {},
   "outputs": [],
   "source": [
    "out = model.inference(image)\n",
    "\n"
   ]
  },
  {
   "cell_type": "code",
   "execution_count": null,
   "metadata": {},
   "outputs": [],
   "source": [
    "plt.imshow(out)\n",
    "plt.show()"
   ]
  },
  {
   "cell_type": "code",
   "execution_count": null,
   "metadata": {},
   "outputs": [],
   "source": [
    "\n",
    "# cut image into tiles and predict on each tile\n",
    "\n",
    "\n",
    "n_rows, n_cols = 4, 4\n",
    "tile_size = 1024\n",
    "overlap = 0\n",
    "tiles = _tile._create_tiles(image, n_rows, n_cols, tile_size, overlap=0)\n",
    "\n",
    "\n",
    "# reshape \n",
    "print(tiles.shape)\n"
   ]
  },
  {
   "cell_type": "code",
   "execution_count": null,
   "metadata": {},
   "outputs": [],
   "source": [
    "out = model.inference(tiles, rgb=False)\n",
    "print(out.shape)\n",
    "\n",
    "# reshape output \n",
    "out = out.reshape(n_rows, n_cols, tile_size, tile_size)\n",
    "\n",
    "# re-stitch together?\n",
    "from fibsem.imaging import _tile\n",
    "arr = _tile._stitch_arr(out)\n",
    "\n",
    "# plot stitched and big image\n",
    "fig, ax = plt.subplots(1, 2, figsize=(30, 15))\n",
    "ax[0].imshow(arr, cmap=\"gray\")\n",
    "ax[0].set_title(\"Stitched Image\")\n",
    "ax[1].imshow(image, cmap=\"gray\")\n",
    "ax[1].set_title(\"Big Image\")\n",
    "plt.show()"
   ]
  },
  {
   "cell_type": "code",
   "execution_count": null,
   "metadata": {},
   "outputs": [],
   "source": []
  },
  {
   "cell_type": "code",
   "execution_count": null,
   "metadata": {},
   "outputs": [],
   "source": []
  },
  {
   "cell_type": "markdown",
   "metadata": {},
   "source": [
    "## Point Reprojection\n",
    "\n"
   ]
  },
  {
   "cell_type": "code",
   "execution_count": null,
   "metadata": {},
   "outputs": [],
   "source": [
    "from fibsem import utils, acquire\n",
    "from fibsem.structures import FibsemImage, BeamType, FibsemStagePosition, Point\n",
    "\n",
    "from fibsem.imaging import _tile\n",
    "\n",
    "import matplotlib.pyplot as plt\n",
    "import numpy as np\n"
   ]
  },
  {
   "cell_type": "code",
   "execution_count": null,
   "metadata": {},
   "outputs": [],
   "source": [
    "microscope, settings = utils.setup_session()"
   ]
  },
  {
   "cell_type": "code",
   "execution_count": null,
   "metadata": {},
   "outputs": [],
   "source": [
    "positions = []"
   ]
  },
  {
   "cell_type": "code",
   "execution_count": null,
   "metadata": {},
   "outputs": [],
   "source": [
    "PATH = r\"C:\\Users\\Admin\\Github\\fibsem\\fibsem\\log\\data\\tile\\stitched-image-electron.tif\"\n",
    "\n",
    "image = FibsemImage.load(PATH)\n",
    "\n",
    "\n",
    "\n",
    "\n",
    "# microscope._safe_absolute_stage_movement(image.metadata.microscope_state.absolute_position)\n",
    "current_position = microscope.get_stage_position()\n",
    "current_point = _calculate_repojection(image, current_position)\n",
    "positions.append(current_position)\n",
    "print(\"---------------------------------------\")\n",
    "base_position = image.metadata.microscope_state.absolute_position\n",
    "base_point = _calculate_repojection(image, base_position)\n",
    "\n",
    "\n",
    "# plot on matplotlib\n",
    "fig = plt.figure(figsize=(15, 15))\n",
    "plt.imshow(image.data, cmap=\"gray\")\n",
    "\n",
    "\n",
    "COLOURS = [\"r+\", \"g+\", \"b+\", \"c+\", \"m+\", \"y+\"]\n",
    "points = _reproject_positions(image, positions)\n",
    "# plt.plot(current_point.x, current_point.y, \"r+\", ms=100, markeredgewidth=5, label=\"current_position\")\n",
    "for i, pt in enumerate(points):\n",
    "    plt.plot(pt.x, pt.y, COLOURS[i], ms=100, markeredgewidth=5, label=f\"position_{i}\")\n",
    "\n",
    "plt.plot(base_point.x, base_point.y, \"w+\", ms=100, markeredgewidth=5 , label=\"base position\")\n",
    "plt.legend(loc=\"best\")\n",
    "plt.show()"
   ]
  },
  {
   "cell_type": "code",
   "execution_count": null,
   "metadata": {},
   "outputs": [],
   "source": [
    "positions.pop(-1)"
   ]
  },
  {
   "cell_type": "code",
   "execution_count": null,
   "metadata": {},
   "outputs": [],
   "source": [
    "points\n",
    "\n",
    "for pt in points:\n",
    "    # reverse to list\n",
    "    pt = pt.y, pt.x\n",
    "    print(pt)"
   ]
  },
  {
   "cell_type": "code",
   "execution_count": null,
   "metadata": {},
   "outputs": [],
   "source": [
    "from pprint import pprint\n",
    "pprint(positions + [current_position])\n",
    "\n"
   ]
  },
  {
   "cell_type": "code",
   "execution_count": null,
   "metadata": {},
   "outputs": [],
   "source": [
    "%load_ext autoreload\n",
    "%autoreload 2\n",
    "# draw positions on image\n",
    "\n",
    "from fibsem import utils\n",
    "from fibsem.imaging import _tile\n",
    "from fibsem.structures import Point, FibsemStagePosition, FibsemImage\n",
    "from pprint import pprint\n",
    "import matplotlib.pyplot as plt\n",
    "import numpy as np\n",
    "\n",
    "PATH = r\"C:\\Users\\Admin\\Github\\fibsem\\fibsem\\log\\data\\tile\\stitched-image-ion.tif\"\n",
    "POS_PATH = r\"C:\\Users\\Admin\\Github\\fibsem\\fibsem\\log\\data\\tile\\stitched-image-ion-positions.yaml\"\n",
    "\n",
    "\n",
    "image = FibsemImage.load(PATH)\n",
    "\n",
    "pdict = utils.load_yaml(POS_PATH)\n",
    "positions = [FibsemStagePosition.__from_dict__(p) for p in pdict]\n",
    "\n",
    "fig = _tile._plot_positions(image, positions, show=False)\n",
    "\n",
    "plt.show()\n",
    "\n"
   ]
  },
  {
   "cell_type": "code",
   "execution_count": null,
   "metadata": {},
   "outputs": [],
   "source": []
  }
 ],
 "metadata": {
  "kernelspec": {
   "display_name": "Python 3.9.13 ('autoliftout')",
   "language": "python",
   "name": "python3"
  },
  "language_info": {
   "codemirror_mode": {
    "name": "ipython",
    "version": 3
   },
   "file_extension": ".py",
   "mimetype": "text/x-python",
   "name": "python",
   "nbconvert_exporter": "python",
   "pygments_lexer": "ipython3",
   "version": "3.9.12"
  },
  "orig_nbformat": 4,
  "vscode": {
   "interpreter": {
    "hash": "ea78b76b2c840a5577de64ec81812954f7a3177bd4e73b9895b7933ce81940d2"
   }
  }
 },
 "nbformat": 4,
 "nbformat_minor": 2
}
