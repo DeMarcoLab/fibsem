{
 "cells": [
  {
   "cell_type": "code",
   "execution_count": null,
   "metadata": {},
   "outputs": [],
   "source": [
    "%load_ext autoreload\n",
    "%autoreload 2\n",
    "\n",
    "import matplotlib.pyplot as plt\n",
    "import numpy as np\n",
    "import glob\n",
    "\n",
    "import tifffile as tf\n",
    "\n",
    "import os\n",
    "\n",
    "path = \"/home/patrick/github/data\"\n",
    "\n",
    "filenames = glob.glob(os.path.join(path, \"dm*/**/*.tif*\"), recursive=True)\n",
    "\n",
    "print(len(filenames))"
   ]
  },
  {
   "cell_type": "code",
   "execution_count": null,
   "metadata": {},
   "outputs": [],
   "source": [
    "# filter lamella, landing\n",
    "\n",
    "print(len(filenames))\n",
    "# filenames = [fname for fname in filenames if \"ref_landing\" not in fname and \"ref_lamella\" not in fname and \"trench\" not in fname and \"low_res\" not in fname]\n",
    "\n",
    "filenames = [fname for fname in filenames if \"needle\" in fname]\n",
    "print(len(filenames))"
   ]
  },
  {
   "cell_type": "code",
   "execution_count": null,
   "metadata": {},
   "outputs": [],
   "source": [
    "for fname in filenames[:10]:\n",
    "    img = tf.imread(fname)\n",
    "    plt.imshow(img, cmap=\"gray\")\n",
    "    plt.show()"
   ]
  },
  {
   "cell_type": "code",
   "execution_count": null,
   "metadata": {},
   "outputs": [],
   "source": [
    "save_path = \"/home/patrick/github/data/training\"\n",
    "for i, fname in enumerate(filenames):\n",
    "    \n",
    "    img = tf.imread(fname)\n",
    "    new_fname = os.path.join(save_path,f\"a{i:05d}.tif\")\n",
    "\n",
    "    tf.imsave(new_fname, img)\n"
   ]
  },
  {
   "cell_type": "code",
   "execution_count": null,
   "metadata": {},
   "outputs": [],
   "source": [
    "train_filenames = sorted(glob.glob(os.path.join(save_path, \"*.tif\")))\n",
    "for fname in train_filenames[:10]:\n",
    "\n",
    "    img = tf.imread(fname)\n",
    "    plt.imshow(img, cmap=\"gray\")\n",
    "    plt.show()"
   ]
  },
  {
   "cell_type": "code",
   "execution_count": null,
   "metadata": {},
   "outputs": [],
   "source": [
    "import zarr\n",
    "\n",
    "images = zarr.open(tf.imread(os.path.join(\"/home/patrick/github/data/training/\", \"images\", \"*.tif*\"), aszarr=True)) \n",
    "labels = zarr.open(tf.imread(os.path.join(\"/home/patrick/github/data/training/\", \"labels\",\"*.tif*\"), aszarr=True))\n",
    "\n",
    "\n",
    "print(images.shape)\n",
    "print(labels.shape)\n",
    "\n",
    "\n",
    "for img, label in zip(images, labels):\n",
    "\n",
    "\n",
    "    fig, ax = plt.subplots(1, 2, figsize=(10, 5))\n",
    "    ax[0].imshow(img, cmap=\"gray\")\n",
    "    ax[1].imshow(label)\n",
    "    plt.show()\n",
    "\n"
   ]
  },
  {
   "cell_type": "code",
   "execution_count": null,
   "metadata": {},
   "outputs": [],
   "source": []
  },
  {
   "cell_type": "markdown",
   "metadata": {},
   "source": [
    "### Model Testing"
   ]
  },
  {
   "cell_type": "code",
   "execution_count": null,
   "metadata": {},
   "outputs": [],
   "source": [
    "%load_ext autoreload\n",
    "%autoreload 2 \n",
    "\n",
    "\n",
    "import glob\n",
    "import os\n",
    "import tifffile as tf\n",
    "import matplotlib.pyplot as plt\n",
    "\n",
    "images = sorted(glob.glob(os.path.join(\"/home/patrick/github/data/training/train/images\", \"*.tif*\")))\n",
    "labels = sorted(glob.glob(os.path.join(\"/home/patrick/github/data/training/train/labels\", \"*.tif*\")))\n",
    "\n",
    "for ii, (i, l) in enumerate(zip(images, labels)):\n",
    "    print(os.path.basename(i), os.path.basename(l))\n",
    "\n",
    "    img, lbl = tf.imread(i), tf.imread(l)\n",
    "\n",
    "    fig, ax = plt.subplots(1, 2, figsize=(7, 5))\n",
    "    ax[0].imshow(img, cmap=\"gray\")\n",
    "    ax[0].set_title(\"Image\")\n",
    "    ax[1].imshow(lbl)\n",
    "    ax[1].set_title(\"Label\")\n",
    "    plt.show()\n",
    "    \n",
    "    if ii == 2:\n",
    "        break\n",
    "\n"
   ]
  },
  {
   "cell_type": "code",
   "execution_count": null,
   "metadata": {},
   "outputs": [],
   "source": [
    "filenames = sorted(glob.glob(os.path.join(\"/home/patrick/github/data/liftout/training/train/images/\", \"*.tif*\")))\n",
    "\n",
    "print(\"files: \", len(filenames))\n",
    "# filenames.append(*list(sorted(glob.glob(os.path.join(\"/home/patrick/github/data/training/train/images/\", \"*.tif*\")))\n",
    "print(\"files: \", len(filenames))\n",
    "import random\n",
    "random.shuffle(filenames)\n",
    "\n",
    "\n",
    "from fibsem.segmentation.model import SegmentationModel\n",
    "\n",
    "baseline = \"/home/patrick/github/fibsem/fibsem/segmentation/models/model.pt\"\n",
    "# checkpoint_2 = \"/home/patrick/github/fibsem/fibsem/segmentation/models/03_11_2022_19_01_51_n08_model.pt\"\n",
    "# checkpoint_5 = \"/home/patrick/github/fibsem/fibsem/segmentation/models/03_11_2022_19_00_58_n05_model.pt\"\n",
    "# checkpoint_10 = \"/home/patrick/github/fibsem/fibsem/segmentation/models/03_11_2022_19_02_27_n10_model.pt\"\n",
    "# checkpoints = [baseline, checkpoint_2, checkpoint_5, checkpoint_10]\n",
    "\n",
    "small_model = \"/home/patrick/github/fibsem/fibsem/segmentation/models/model2.pt\"\n",
    "# checkpoint_10 = \"/home/patrick/github/fibsem/fibsem/segmentation/models/combined/03_11_2022_20_00_10_n10_model.pt\"\n",
    "# checkpoint_15 = \"/home/patrick/github/fibsem/fibsem/segmentation/models/combined/03_11_2022_20_09_22_n15_model.pt\"\n",
    "# checkpoint_20 = \"/home/patrick/github/fibsem/fibsem/segmentation/models/combined/03_11_2022_20_18_32_n20_model.pt\"\n",
    "\n",
    "checkpoint_10 = \"/home/patrick/github/fibsem/fibsem/segmentation/models/combined34/04_11_2022_18_37_32_n10_model.pt\"\n",
    "checkpoint_15 = \"/home/patrick/github/fibsem/fibsem/segmentation/models/combined34/04_11_2022_18_46_48_n15_model.pt\"\n",
    "checkpoint_20 = \"/home/patrick/github/fibsem/fibsem/segmentation/models/combined34/04_11_2022_18_56_00_n20_model.pt\"\n",
    "\n",
    "\n",
    "checkpoints = [baseline, small_model, checkpoint_10, checkpoint_15, checkpoint_20]\n",
    "for i, fname in enumerate(filenames):\n",
    "\n",
    "    img = tf.imread(fname)\n",
    "\n",
    "    print(i, fname) \n",
    "\n",
    "    fig, ax = plt.subplots(1, len(checkpoints) + 1, figsize=(15, 5))\n",
    "    ax[0].imshow(img, cmap=\"gray\")\n",
    "    ax[0].set_title(\"Image\")\n",
    "\n",
    "\n",
    "    titles = [\"Baseline\", \"Update\", \"Checkpoint 10\", \"Checkpoint 15\", \"Checkpoint 20\"]\n",
    "    for j, (checkpoint, title) in enumerate(zip(checkpoints, titles), 1):\n",
    "        model = SegmentationModel(checkpoint=checkpoint, num_classes=3)\n",
    "\n",
    "        mask = model.inference(img)\n",
    "\n",
    "        ax[j].imshow(mask)\n",
    "        ax[j].set_title(title)\n",
    "\n",
    "    save_path = \"results34\"\n",
    "    os.makedirs(save_path, exist_ok=True)\n",
    "    fig.savefig(os.path.join(save_path, f\"{os.path.basename(fname).replace('tif', 'png')}\"))\n",
    "\n",
    "    plt.show()"
   ]
  },
  {
   "cell_type": "code",
   "execution_count": null,
   "metadata": {},
   "outputs": [],
   "source": []
  },
  {
   "cell_type": "code",
   "execution_count": null,
   "metadata": {},
   "outputs": [],
   "source": []
  },
  {
   "attachments": {},
   "cell_type": "markdown",
   "metadata": {},
   "source": [
    "### Pattern Testing\n"
   ]
  },
  {
   "cell_type": "code",
   "execution_count": null,
   "metadata": {},
   "outputs": [],
   "source": [
    "%load_ext autoreload\n",
    "%autoreload 2\n",
    "\n",
    "from fibsem import utils, patterning\n",
    "import matplotlib.pyplot as plt\n",
    "\n",
    "protocol_path = \"/home/patrick/github/autoliftout/liftout/protocol/protocol.yaml\"\n",
    "microscope, settings = utils.setup_session(protocol_path=protocol_path)"
   ]
  },
  {
   "cell_type": "code",
   "execution_count": null,
   "metadata": {},
   "outputs": [],
   "source": [
    "patterns_fn = {f\"{pattern.name}\": pattern for pattern in patterning.__PATTERNS__}\n",
    "\n",
    "print(patterns_fn)"
   ]
  },
  {
   "cell_type": "code",
   "execution_count": null,
   "metadata": {},
   "outputs": [],
   "source": [
    "\n"
   ]
  },
  {
   "cell_type": "code",
   "execution_count": null,
   "metadata": {},
   "outputs": [],
   "source": [
    "my_pattern"
   ]
  },
  {
   "cell_type": "code",
   "execution_count": null,
   "metadata": {},
   "outputs": [],
   "source": [
    "from fibsem.structures import FibsemPatternSettings, FibsemPattern\n",
    "\n",
    "rect_pattern = patterns_fn[\"Rectangle\"]()\n",
    "\n",
    "rp = rect_pattern.define(protocol={\"pattern\": \"Rectangle\", \"width\": 10e-6, \"height\": 5e-6, \n",
    "                                              \"depth\": 2e-6, \"rotation\": 0, \n",
    "                                              \"centre_x\": 0, \"centre_y\": 0, \n",
    "                                              \"scan_direction\": \"TopToBottom\", \"cleaning_cross_section\": True})\n",
    "\n",
    "\n",
    "print(rp)"
   ]
  },
  {
   "cell_type": "code",
   "execution_count": null,
   "metadata": {},
   "outputs": [],
   "source": []
  },
  {
   "cell_type": "code",
   "execution_count": null,
   "metadata": {},
   "outputs": [],
   "source": [
    "\n",
    "\n",
    "\n",
    "pattern_fn = patterns_fn[\"Trench\"]()\n",
    "print(pattern_fn.rk)\n",
    "# pattern = pattern_fn.define(protocol=settings.protocol[\"jcut\"])\n",
    "\n",
    "# for p in pattern:\n",
    "    # print(p)\n",
    "\n",
    "print(\"---------------------------------------\")"
   ]
  },
  {
   "cell_type": "code",
   "execution_count": null,
   "metadata": {},
   "outputs": [],
   "source": [
    "for p in patterns_fn:\n",
    "    print(p, patterns_fn[p], patterns_fn[p]())"
   ]
  },
  {
   "cell_type": "code",
   "execution_count": null,
   "metadata": {},
   "outputs": [],
   "source": []
  },
  {
   "attachments": {},
   "cell_type": "markdown",
   "metadata": {},
   "source": [
    "### Test AutoFOCUS\n",
    "\n"
   ]
  },
  {
   "cell_type": "code",
   "execution_count": 3,
   "metadata": {},
   "outputs": [
    {
     "name": "stdout",
     "output_type": "stream",
     "text": [
      "The autoreload extension is already loaded. To reload it, use:\n",
      "  %reload_ext autoreload\n"
     ]
    }
   ],
   "source": [
    "%load_ext autoreload\n",
    "%autoreload 2\n",
    "\n",
    "import sys\n",
    "from fibsem import utils, calibration, patterning\n",
    "from fibsem.structures import BeamType"
   ]
  },
  {
   "cell_type": "code",
   "execution_count": 6,
   "metadata": {},
   "outputs": [
    {
     "name": "stdout",
     "output_type": "stream",
     "text": [
      "2023-03-10 11:17:05,910 — root — INFO — connect_to_microscope:3117 — Connected to Demo Microscope\n",
      "2023-03-10 11:17:05,911 — root — INFO — setup_session:227 — Finished setup for session: demo_2023-03-10-11-17-05AM\n"
     ]
    }
   ],
   "source": [
    "microscope, settings = utils.setup_session()\n",
    "\n"
   ]
  },
  {
   "cell_type": "code",
   "execution_count": 7,
   "metadata": {},
   "outputs": [
    {
     "name": "stdout",
     "output_type": "stream",
     "text": [
      "2023-03-10 11:17:06,950 — root — INFO — auto_focus:3151 — Auto focus: BeamType.ELECTRON\n",
      "2023-03-10 11:17:06,952 — root — INFO — auto_focus:3152 — I'm focusing my laser...\n"
     ]
    }
   ],
   "source": [
    "# default\n",
    "calibration.auto_focus_beam(microscope, beam_type=BeamType.ELECTRON)"
   ]
  },
  {
   "cell_type": "code",
   "execution_count": 13,
   "metadata": {},
   "outputs": [
    {
     "name": "stdout",
     "output_type": "stream",
     "text": [
      "2023-03-10 11:21:22,614 — root — INFO — get:3317 — Getting working_distance (BeamType.ELECTRON)\n",
      "2023-03-10 11:21:22,616 — root — INFO — auto_focus_beam:49 — sharpness (accutance) based auto-focus routine\n",
      "2023-03-10 11:21:22,617 — root — INFO — auto_focus_beam:50 — initial working distance: 2.95e-03\n",
      "2023-03-10 11:21:22,618 — root — INFO — auto_focus_beam:62 — image 0: 2.70e-03\n",
      "2023-03-10 11:21:22,623 — root — INFO — set:3339 — Setting working_distance to 0.0026999999999999993 (BeamType.ELECTRON)\n",
      "2023-03-10 11:21:22,624 — root — INFO — autocontrast:3148 — Autocontrast: BeamType.ELECTRON\n",
      "2023-03-10 11:21:22,788 — root — INFO — auto_focus_beam:62 — image 1: 2.75e-03\n",
      "2023-03-10 11:21:22,789 — root — INFO — set:3339 — Setting working_distance to 0.0027499999999999994 (BeamType.ELECTRON)\n",
      "2023-03-10 11:21:22,790 — root — INFO — autocontrast:3148 — Autocontrast: BeamType.ELECTRON\n",
      "2023-03-10 11:21:22,948 — root — INFO — auto_focus_beam:62 — image 2: 2.80e-03\n",
      "2023-03-10 11:21:22,949 — root — INFO — set:3339 — Setting working_distance to 0.0027999999999999995 (BeamType.ELECTRON)\n",
      "2023-03-10 11:21:22,950 — root — INFO — autocontrast:3148 — Autocontrast: BeamType.ELECTRON\n",
      "2023-03-10 11:21:23,103 — root — INFO — auto_focus_beam:62 — image 3: 2.85e-03\n",
      "2023-03-10 11:21:23,105 — root — INFO — set:3339 — Setting working_distance to 0.0028499999999999992 (BeamType.ELECTRON)\n",
      "2023-03-10 11:21:23,105 — root — INFO — autocontrast:3148 — Autocontrast: BeamType.ELECTRON\n",
      "2023-03-10 11:21:23,242 — root — INFO — auto_focus_beam:62 — image 4: 2.90e-03\n",
      "2023-03-10 11:21:23,244 — root — INFO — set:3339 — Setting working_distance to 0.0028999999999999994 (BeamType.ELECTRON)\n",
      "2023-03-10 11:21:23,245 — root — INFO — autocontrast:3148 — Autocontrast: BeamType.ELECTRON\n",
      "2023-03-10 11:21:23,388 — root — INFO — auto_focus_beam:62 — image 5: 2.95e-03\n",
      "2023-03-10 11:21:23,389 — root — INFO — set:3339 — Setting working_distance to 0.0029499999999999995 (BeamType.ELECTRON)\n",
      "2023-03-10 11:21:23,390 — root — INFO — autocontrast:3148 — Autocontrast: BeamType.ELECTRON\n",
      "2023-03-10 11:21:23,528 — root — INFO — auto_focus_beam:62 — image 6: 3.00e-03\n",
      "2023-03-10 11:21:23,530 — root — INFO — set:3339 — Setting working_distance to 0.0029999999999999996 (BeamType.ELECTRON)\n",
      "2023-03-10 11:21:23,530 — root — INFO — autocontrast:3148 — Autocontrast: BeamType.ELECTRON\n",
      "2023-03-10 11:21:23,672 — root — INFO — auto_focus_beam:62 — image 7: 3.05e-03\n",
      "2023-03-10 11:21:23,673 — root — INFO — set:3339 — Setting working_distance to 0.0030499999999999998 (BeamType.ELECTRON)\n",
      "2023-03-10 11:21:23,675 — root — INFO — autocontrast:3148 — Autocontrast: BeamType.ELECTRON\n",
      "2023-03-10 11:21:23,815 — root — INFO — auto_focus_beam:62 — image 8: 3.10e-03\n",
      "2023-03-10 11:21:23,816 — root — INFO — set:3339 — Setting working_distance to 0.0030999999999999995 (BeamType.ELECTRON)\n",
      "2023-03-10 11:21:23,817 — root — INFO — autocontrast:3148 — Autocontrast: BeamType.ELECTRON\n",
      "2023-03-10 11:21:23,955 — root — INFO — auto_focus_beam:62 — image 9: 3.15e-03\n",
      "2023-03-10 11:21:23,957 — root — INFO — set:3339 — Setting working_distance to 0.0031499999999999996 (BeamType.ELECTRON)\n",
      "2023-03-10 11:21:23,957 — root — INFO — autocontrast:3148 — Autocontrast: BeamType.ELECTRON\n",
      "2023-03-10 11:21:24,087 — root — INFO — auto_focus_beam:62 — image 10: 3.20e-03\n",
      "2023-03-10 11:21:24,088 — root — INFO — set:3339 — Setting working_distance to 0.0031999999999999997 (BeamType.ELECTRON)\n",
      "2023-03-10 11:21:24,089 — root — INFO — autocontrast:3148 — Autocontrast: BeamType.ELECTRON\n",
      "2023-03-10 11:21:24,219 — root — INFO — auto_focus_beam:76 — ['2.70e-03: 157.2750', '2.75e-03: 157.2300', '2.80e-03: 157.0542', '2.85e-03: 157.4395', '2.90e-03: 157.4360', '2.95e-03: 157.0785', '3.00e-03: 157.5579', '3.05e-03: 157.3421', '3.10e-03: 157.2887', '3.15e-03: 157.3052', '3.20e-03: 157.2473']\n",
      "2023-03-10 11:21:24,220 — root — INFO — auto_focus_beam:77 — 6, 3.00e-03, 157.5579\n",
      "2023-03-10 11:21:24,221 — root — INFO — set:3339 — Setting working_distance to 0.0029999999999999996 (BeamType.ELECTRON)\n"
     ]
    }
   ],
   "source": [
    "# sharpness\n",
    "calibration.auto_focus_beam(microscope, settings, beam_type=BeamType.ELECTRON, mode=\"sharpness\", num_steps=10)"
   ]
  },
  {
   "cell_type": "code",
   "execution_count": null,
   "metadata": {},
   "outputs": [],
   "source": []
  }
 ],
 "metadata": {
  "kernelspec": {
   "display_name": "Python 3.9.13 ('autoliftout')",
   "language": "python",
   "name": "python3"
  },
  "language_info": {
   "codemirror_mode": {
    "name": "ipython",
    "version": 3
   },
   "file_extension": ".py",
   "mimetype": "text/x-python",
   "name": "python",
   "nbconvert_exporter": "python",
   "pygments_lexer": "ipython3",
   "version": "3.9.16"
  },
  "orig_nbformat": 4,
  "vscode": {
   "interpreter": {
    "hash": "ea78b76b2c840a5577de64ec81812954f7a3177bd4e73b9895b7933ce81940d2"
   }
  }
 },
 "nbformat": 4,
 "nbformat_minor": 2
}
