{
 "cells": [
  {
   "cell_type": "code",
   "execution_count": null,
   "metadata": {},
   "outputs": [],
   "source": [
    "%load_ext autoreload\n",
    "%autoreload 2\n",
    "\n",
    "import matplotlib.pyplot as plt\n",
    "import numpy as np\n",
    "import glob\n",
    "\n",
    "import tifffile as tf\n",
    "\n",
    "import os\n",
    "\n",
    "path = \"/home/patrick/github/data\"\n",
    "\n",
    "filenames = glob.glob(os.path.join(path, \"dm*/**/*.tif*\"), recursive=True)\n",
    "\n",
    "print(len(filenames))"
   ]
  },
  {
   "cell_type": "code",
   "execution_count": null,
   "metadata": {},
   "outputs": [],
   "source": [
    "# filter lamella, landing\n",
    "\n",
    "print(len(filenames))\n",
    "# filenames = [fname for fname in filenames if \"ref_landing\" not in fname and \"ref_lamella\" not in fname and \"trench\" not in fname and \"low_res\" not in fname]\n",
    "\n",
    "filenames = [fname for fname in filenames if \"needle\" in fname]\n",
    "print(len(filenames))"
   ]
  },
  {
   "cell_type": "code",
   "execution_count": null,
   "metadata": {},
   "outputs": [],
   "source": [
    "for fname in filenames[:10]:\n",
    "    img = tf.imread(fname)\n",
    "    plt.imshow(img, cmap=\"gray\")\n",
    "    plt.show()"
   ]
  },
  {
   "cell_type": "code",
   "execution_count": null,
   "metadata": {},
   "outputs": [],
   "source": [
    "save_path = \"/home/patrick/github/data/training\"\n",
    "for i, fname in enumerate(filenames):\n",
    "    \n",
    "    img = tf.imread(fname)\n",
    "    new_fname = os.path.join(save_path,f\"a{i:05d}.tif\")\n",
    "\n",
    "    tf.imsave(new_fname, img)\n"
   ]
  },
  {
   "cell_type": "code",
   "execution_count": null,
   "metadata": {},
   "outputs": [],
   "source": [
    "train_filenames = sorted(glob.glob(os.path.join(save_path, \"*.tif\")))\n",
    "for fname in train_filenames[:10]:\n",
    "\n",
    "    img = tf.imread(fname)\n",
    "    plt.imshow(img, cmap=\"gray\")\n",
    "    plt.show()"
   ]
  },
  {
   "cell_type": "code",
   "execution_count": null,
   "metadata": {},
   "outputs": [],
   "source": [
    "import zarr\n",
    "\n",
    "images = zarr.open(tf.imread(os.path.join(\"/home/patrick/github/data/training/\", \"images\", \"*.tif*\"), aszarr=True)) \n",
    "labels = zarr.open(tf.imread(os.path.join(\"/home/patrick/github/data/training/\", \"labels\",\"*.tif*\"), aszarr=True))\n",
    "\n",
    "\n",
    "print(images.shape)\n",
    "print(labels.shape)\n",
    "\n",
    "\n",
    "for img, label in zip(images, labels):\n",
    "\n",
    "\n",
    "    fig, ax = plt.subplots(1, 2, figsize=(10, 5))\n",
    "    ax[0].imshow(img, cmap=\"gray\")\n",
    "    ax[1].imshow(label)\n",
    "    plt.show()\n",
    "\n"
   ]
  },
  {
   "cell_type": "code",
   "execution_count": null,
   "metadata": {},
   "outputs": [],
   "source": []
  },
  {
   "cell_type": "markdown",
   "metadata": {},
   "source": [
    "### Model Testing"
   ]
  },
  {
   "cell_type": "code",
   "execution_count": null,
   "metadata": {},
   "outputs": [],
   "source": [
    "%load_ext autoreload\n",
    "%autoreload 2 \n",
    "\n",
    "\n",
    "import glob\n",
    "import os\n",
    "import tifffile as tf\n",
    "import matplotlib.pyplot as plt\n",
    "\n",
    "images = sorted(glob.glob(os.path.join(\"/home/patrick/github/data/training/train/images\", \"*.tif*\")))\n",
    "labels = sorted(glob.glob(os.path.join(\"/home/patrick/github/data/training/train/labels\", \"*.tif*\")))\n",
    "\n",
    "for ii, (i, l) in enumerate(zip(images, labels)):\n",
    "    print(os.path.basename(i), os.path.basename(l))\n",
    "\n",
    "    img, lbl = tf.imread(i), tf.imread(l)\n",
    "\n",
    "    fig, ax = plt.subplots(1, 2, figsize=(7, 5))\n",
    "    ax[0].imshow(img, cmap=\"gray\")\n",
    "    ax[0].set_title(\"Image\")\n",
    "    ax[1].imshow(lbl)\n",
    "    ax[1].set_title(\"Label\")\n",
    "    plt.show()\n",
    "    \n",
    "    if ii == 2:\n",
    "        break\n",
    "\n"
   ]
  },
  {
   "cell_type": "code",
   "execution_count": null,
   "metadata": {},
   "outputs": [],
   "source": [
    "filenames = sorted(glob.glob(os.path.join(\"/home/patrick/github/data/liftout/training/train/images/\", \"*.tif*\")))\n",
    "\n",
    "print(\"files: \", len(filenames))\n",
    "# filenames.append(*list(sorted(glob.glob(os.path.join(\"/home/patrick/github/data/training/train/images/\", \"*.tif*\")))\n",
    "print(\"files: \", len(filenames))\n",
    "import random\n",
    "random.shuffle(filenames)\n",
    "\n",
    "\n",
    "from fibsem.segmentation.model import SegmentationModel\n",
    "\n",
    "baseline = \"/home/patrick/github/fibsem/fibsem/segmentation/models/model.pt\"\n",
    "# checkpoint_2 = \"/home/patrick/github/fibsem/fibsem/segmentation/models/03_11_2022_19_01_51_n08_model.pt\"\n",
    "# checkpoint_5 = \"/home/patrick/github/fibsem/fibsem/segmentation/models/03_11_2022_19_00_58_n05_model.pt\"\n",
    "# checkpoint_10 = \"/home/patrick/github/fibsem/fibsem/segmentation/models/03_11_2022_19_02_27_n10_model.pt\"\n",
    "# checkpoints = [baseline, checkpoint_2, checkpoint_5, checkpoint_10]\n",
    "\n",
    "small_model = \"/home/patrick/github/fibsem/fibsem/segmentation/models/model2.pt\"\n",
    "# checkpoint_10 = \"/home/patrick/github/fibsem/fibsem/segmentation/models/combined/03_11_2022_20_00_10_n10_model.pt\"\n",
    "# checkpoint_15 = \"/home/patrick/github/fibsem/fibsem/segmentation/models/combined/03_11_2022_20_09_22_n15_model.pt\"\n",
    "# checkpoint_20 = \"/home/patrick/github/fibsem/fibsem/segmentation/models/combined/03_11_2022_20_18_32_n20_model.pt\"\n",
    "\n",
    "checkpoint_10 = \"/home/patrick/github/fibsem/fibsem/segmentation/models/combined34/04_11_2022_18_37_32_n10_model.pt\"\n",
    "checkpoint_15 = \"/home/patrick/github/fibsem/fibsem/segmentation/models/combined34/04_11_2022_18_46_48_n15_model.pt\"\n",
    "checkpoint_20 = \"/home/patrick/github/fibsem/fibsem/segmentation/models/combined34/04_11_2022_18_56_00_n20_model.pt\"\n",
    "\n",
    "\n",
    "checkpoints = [baseline, small_model, checkpoint_10, checkpoint_15, checkpoint_20]\n",
    "for i, fname in enumerate(filenames):\n",
    "\n",
    "    img = tf.imread(fname)\n",
    "\n",
    "    print(i, fname) \n",
    "\n",
    "    fig, ax = plt.subplots(1, len(checkpoints) + 1, figsize=(15, 5))\n",
    "    ax[0].imshow(img, cmap=\"gray\")\n",
    "    ax[0].set_title(\"Image\")\n",
    "\n",
    "\n",
    "    titles = [\"Baseline\", \"Update\", \"Checkpoint 10\", \"Checkpoint 15\", \"Checkpoint 20\"]\n",
    "    for j, (checkpoint, title) in enumerate(zip(checkpoints, titles), 1):\n",
    "        model = SegmentationModel(checkpoint=checkpoint, num_classes=3)\n",
    "\n",
    "        mask = model.inference(img)\n",
    "\n",
    "        ax[j].imshow(mask)\n",
    "        ax[j].set_title(title)\n",
    "\n",
    "    save_path = \"results34\"\n",
    "    os.makedirs(save_path, exist_ok=True)\n",
    "    fig.savefig(os.path.join(save_path, f\"{os.path.basename(fname).replace('tif', 'png')}\"))\n",
    "\n",
    "    plt.show()"
   ]
  },
  {
   "cell_type": "code",
   "execution_count": null,
   "metadata": {},
   "outputs": [],
   "source": []
  },
  {
   "cell_type": "code",
   "execution_count": null,
   "metadata": {},
   "outputs": [],
   "source": []
  },
  {
   "attachments": {},
   "cell_type": "markdown",
   "metadata": {},
   "source": [
    "### Pattern Testing\n"
   ]
  },
  {
   "cell_type": "code",
   "execution_count": 1,
   "metadata": {},
   "outputs": [
    {
     "name": "stdout",
     "output_type": "stream",
     "text": [
      "2023-03-12 21:23:07,204 — root — INFO — connect_to_microscope:3125 — Connected to Demo Microscope\n",
      "2023-03-12 21:23:07,206 — root — INFO — setup_session:227 — Finished setup for session: autoliftout_2023-03-12-09-23-07PM\n"
     ]
    }
   ],
   "source": [
    "%load_ext autoreload\n",
    "%autoreload 2\n",
    "\n",
    "from fibsem import utils, patterning\n",
    "import matplotlib.pyplot as plt\n",
    "\n",
    "# protocol_path = \"/home/patrick/github/autoliftout/liftout/protocol/protocol.yaml\"\n",
    "protocol_path = r\"C:\\Users\\pcle0002\\Documents\\repos\\autoliftout\\liftout\\protocol\\protocol.yaml\"\n",
    "microscope, settings = utils.setup_session(protocol_path=protocol_path)"
   ]
  },
  {
   "cell_type": "code",
   "execution_count": 3,
   "metadata": {},
   "outputs": [
    {
     "name": "stdout",
     "output_type": "stream",
     "text": [
      "{'Circle': <class 'fibsem.patterning.CirclePattern'>,\n",
      " 'Fiducial': <class 'fibsem.patterning.FiducialPattern'>,\n",
      " 'Horseshoe': <class 'fibsem.patterning.HorseshoePattern'>,\n",
      " 'Line': <class 'fibsem.patterning.LinePattern'>,\n",
      " 'MicroExpansion': <class 'fibsem.patterning.MicroExpansionPattern'>,\n",
      " 'Rectangle': <class 'fibsem.patterning.RectanglePattern'>,\n",
      " 'SpotWeld': <class 'fibsem.patterning.SpotWeldPattern'>,\n",
      " 'Trench': <class 'fibsem.patterning.TrenchPattern'>,\n",
      " 'Undercut': <class 'fibsem.patterning.UndercutPattern'>}\n"
     ]
    }
   ],
   "source": [
    "patterns_fn = {f\"{pattern.name}\": pattern for pattern in patterning.__PATTERNS__}\n",
    "\n",
    "from pprint import pprint\n",
    "\n",
    "pprint(patterns_fn)"
   ]
  },
  {
   "cell_type": "code",
   "execution_count": null,
   "metadata": {},
   "outputs": [],
   "source": [
    "\n"
   ]
  },
  {
   "cell_type": "code",
   "execution_count": null,
   "metadata": {},
   "outputs": [],
   "source": []
  },
  {
   "cell_type": "code",
   "execution_count": 4,
   "metadata": {},
   "outputs": [
    {
     "name": "stdout",
     "output_type": "stream",
     "text": [
      "Rectangle\n",
      "[FibsemPatternSettings(pattern=FibsemPattern.Rectangle, width=1e-05, height=5e-06, depth=2e-06, rotation=0, centre_x=0.0, centre_y=0.0, scan_direction=TopToBottom, cleaning_cross_section=True)]\n"
     ]
    }
   ],
   "source": [
    "from fibsem.structures import FibsemPatternSettings, FibsemPattern\n",
    "\n",
    "rect_pattern = patterns_fn[\"Rectangle\"]()\n",
    "\n",
    "rp = rect_pattern.define(protocol={\"pattern\": \"Rectangle\", \"width\": 10e-6, \"height\": 5e-6, \n",
    "                                              \"depth\": 2e-6, \"rotation\": 0, \n",
    "                                              \"centre_x\": 0, \"centre_y\": 0, \n",
    "                                              \"scan_direction\": \"TopToBottom\", \"cleaning_cross_section\": True})\n",
    "\n",
    "\n",
    "print(rp)"
   ]
  },
  {
   "cell_type": "code",
   "execution_count": null,
   "metadata": {},
   "outputs": [],
   "source": []
  },
  {
   "cell_type": "code",
   "execution_count": 14,
   "metadata": {},
   "outputs": [
    {
     "name": "stdout",
     "output_type": "stream",
     "text": [
      "('lamella_width', 'lamella_height', 'trench_height', 'size_ratio', 'offset', 'milling_depth')\n",
      "[FibsemPatternSettings(pattern=FibsemPattern.Rectangle, width=1.7e-05, height=6e-07, depth=4e-07, rotation=0.0, centre_x=0.0, centre_y=-5.5e-07, scan_direction=BottomToTop, cleaning_cross_section=True),\n",
      " FibsemPatternSettings(pattern=FibsemPattern.Rectangle, width=1.7e-05, height=6e-07, depth=4e-07, rotation=0.0, centre_x=0.0, centre_y=5.5e-07, scan_direction=TopToBottom, cleaning_cross_section=True)]\n",
      "---------------------------------------\n"
     ]
    }
   ],
   "source": [
    "\n",
    "\n",
    "\n",
    "pattern_fn = patterns_fn[\"Trench\"]()\n",
    "print(pattern_fn.required_keys)\n",
    "pattern = pattern_fn.define(protocol=settings.protocol[\"polish_lamella\"])\n",
    "\n",
    "pprint(pattern)\n",
    "\n",
    "print(\"---------------------------------------\")"
   ]
  },
  {
   "cell_type": "code",
   "execution_count": null,
   "metadata": {},
   "outputs": [],
   "source": [
    "for p in patterns_fn:\n",
    "    print(p, patterns_fn[p], patterns_fn[p]())"
   ]
  },
  {
   "cell_type": "code",
   "execution_count": null,
   "metadata": {},
   "outputs": [],
   "source": []
  },
  {
   "attachments": {},
   "cell_type": "markdown",
   "metadata": {},
   "source": [
    "### Test AutoFOCUS\n",
    "\n"
   ]
  },
  {
   "cell_type": "code",
   "execution_count": 2,
   "metadata": {},
   "outputs": [
    {
     "name": "stdout",
     "output_type": "stream",
     "text": [
      "The autoreload extension is already loaded. To reload it, use:\n",
      "  %reload_ext autoreload\n"
     ]
    }
   ],
   "source": [
    "%load_ext autoreload\n",
    "%autoreload 2\n",
    "\n",
    "import sys\n",
    "from fibsem import utils, calibration, patterning\n",
    "from fibsem.structures import BeamType"
   ]
  },
  {
   "cell_type": "code",
   "execution_count": 4,
   "metadata": {},
   "outputs": [
    {
     "name": "stdout",
     "output_type": "stream",
     "text": [
      "2023-03-12 11:47:30,965 — root — INFO — connect_to_microscope:3125 — Connected to Demo Microscope\n",
      "2023-03-12 11:47:30,967 — root — INFO — setup_session:227 — Finished setup for session: demo_2023-03-12-11-47-30AM\n"
     ]
    }
   ],
   "source": [
    "microscope, settings = utils.setup_session()"
   ]
  },
  {
   "cell_type": "code",
   "execution_count": 6,
   "metadata": {},
   "outputs": [
    {
     "name": "stdout",
     "output_type": "stream",
     "text": [
      "2023-03-12 11:47:36,757 — root — INFO — auto_focus:3159 — Auto focus: BeamType.ELECTRON\n",
      "2023-03-12 11:47:36,759 — root — INFO — auto_focus:3160 — I'm focusing my laser...\n"
     ]
    }
   ],
   "source": [
    "# default\n",
    "\n",
    "calibration.auto_focus_beam(microscope, settings, beam_type=BeamType.ELECTRON)"
   ]
  },
  {
   "cell_type": "code",
   "execution_count": 17,
   "metadata": {},
   "outputs": [
    {
     "name": "stdout",
     "output_type": "stream",
     "text": [
      "2023-03-12 11:54:51,255 — root — INFO — get:3325 — Getting working_distance (BeamType.ELECTRON)\n",
      "2023-03-12 11:54:51,257 — root — INFO — auto_focus_beam:64 — image 0: 3.90e-03\n",
      "2023-03-12 11:54:51,258 — root — INFO — set:3347 — Setting working_distance to 0.0039000000000000016 (BeamType.ELECTRON)\n",
      "2023-03-12 11:54:51,263 — root — INFO — autocontrast:3156 — Autocontrast: BeamType.ELECTRON\n",
      "2023-03-12 11:54:51,273 — root — INFO — _sharpness:105 — calculating sharpness (accutance) of image <fibsem.structures.FibsemImage object at 0x00000174C3EF7220>: 5\n",
      "2023-03-12 11:54:51,541 — root — INFO — auto_focus_beam:64 — image 1: 3.95e-03\n",
      "2023-03-12 11:54:51,541 — root — INFO — set:3347 — Setting working_distance to 0.003950000000000001 (BeamType.ELECTRON)\n",
      "2023-03-12 11:54:51,543 — root — INFO — autocontrast:3156 — Autocontrast: BeamType.ELECTRON\n",
      "2023-03-12 11:54:51,553 — root — INFO — _sharpness:105 — calculating sharpness (accutance) of image <fibsem.structures.FibsemImage object at 0x00000174C4B05F40>: 5\n",
      "2023-03-12 11:54:51,855 — root — INFO — auto_focus_beam:64 — image 2: 4.00e-03\n",
      "2023-03-12 11:54:51,857 — root — INFO — set:3347 — Setting working_distance to 0.004000000000000002 (BeamType.ELECTRON)\n",
      "2023-03-12 11:54:51,858 — root — INFO — autocontrast:3156 — Autocontrast: BeamType.ELECTRON\n",
      "2023-03-12 11:54:51,872 — root — INFO — _sharpness:105 — calculating sharpness (accutance) of image <fibsem.structures.FibsemImage object at 0x00000174B32B1940>: 5\n",
      "2023-03-12 11:54:52,139 — root — INFO — auto_focus_beam:64 — image 3: 4.05e-03\n",
      "2023-03-12 11:54:52,140 — root — INFO — set:3347 — Setting working_distance to 0.0040500000000000015 (BeamType.ELECTRON)\n",
      "2023-03-12 11:54:52,141 — root — INFO — autocontrast:3156 — Autocontrast: BeamType.ELECTRON\n",
      "2023-03-12 11:54:52,156 — root — INFO — _sharpness:105 — calculating sharpness (accutance) of image <fibsem.structures.FibsemImage object at 0x00000174C3EF7BB0>: 5\n",
      "2023-03-12 11:54:52,427 — root — INFO — auto_focus_beam:64 — image 4: 4.10e-03\n",
      "2023-03-12 11:54:52,431 — root — INFO — set:3347 — Setting working_distance to 0.004100000000000002 (BeamType.ELECTRON)\n",
      "2023-03-12 11:54:52,435 — root — INFO — autocontrast:3156 — Autocontrast: BeamType.ELECTRON\n",
      "2023-03-12 11:54:52,448 — root — INFO — _sharpness:105 — calculating sharpness (accutance) of image <fibsem.structures.FibsemImage object at 0x00000174B32B14C0>: 5\n",
      "2023-03-12 11:54:52,734 — root — INFO — auto_focus_beam:64 — image 5: 4.15e-03\n",
      "2023-03-12 11:54:52,735 — root — INFO — set:3347 — Setting working_distance to 0.004150000000000002 (BeamType.ELECTRON)\n",
      "2023-03-12 11:54:52,737 — root — INFO — autocontrast:3156 — Autocontrast: BeamType.ELECTRON\n",
      "2023-03-12 11:54:52,746 — root — INFO — _sharpness:105 — calculating sharpness (accutance) of image <fibsem.structures.FibsemImage object at 0x00000174C3EF7C70>: 5\n",
      "2023-03-12 11:54:52,998 — root — INFO — auto_focus_beam:64 — image 6: 4.20e-03\n",
      "2023-03-12 11:54:53,000 — root — INFO — set:3347 — Setting working_distance to 0.0042000000000000015 (BeamType.ELECTRON)\n",
      "2023-03-12 11:54:53,001 — root — INFO — autocontrast:3156 — Autocontrast: BeamType.ELECTRON\n",
      "2023-03-12 11:54:53,014 — root — INFO — _sharpness:105 — calculating sharpness (accutance) of image <fibsem.structures.FibsemImage object at 0x00000174B32B1940>: 5\n",
      "2023-03-12 11:54:53,296 — root — INFO — auto_focus_beam:64 — image 7: 4.25e-03\n",
      "2023-03-12 11:54:53,298 — root — INFO — set:3347 — Setting working_distance to 0.004250000000000002 (BeamType.ELECTRON)\n",
      "2023-03-12 11:54:53,299 — root — INFO — autocontrast:3156 — Autocontrast: BeamType.ELECTRON\n",
      "2023-03-12 11:54:53,307 — root — INFO — _sharpness:105 — calculating sharpness (accutance) of image <fibsem.structures.FibsemImage object at 0x00000174C3EF7A30>: 5\n",
      "2023-03-12 11:54:53,597 — root — INFO — auto_focus_beam:64 — image 8: 4.30e-03\n",
      "2023-03-12 11:54:53,598 — root — INFO — set:3347 — Setting working_distance to 0.004300000000000002 (BeamType.ELECTRON)\n",
      "2023-03-12 11:54:53,599 — root — INFO — autocontrast:3156 — Autocontrast: BeamType.ELECTRON\n",
      "2023-03-12 11:54:53,607 — root — INFO — _sharpness:105 — calculating sharpness (accutance) of image <fibsem.structures.FibsemImage object at 0x00000174B32B15E0>: 5\n",
      "2023-03-12 11:54:53,822 — root — INFO — auto_focus_beam:64 — image 9: 4.35e-03\n",
      "2023-03-12 11:54:53,823 — root — INFO — set:3347 — Setting working_distance to 0.004350000000000002 (BeamType.ELECTRON)\n",
      "2023-03-12 11:54:53,824 — root — INFO — autocontrast:3156 — Autocontrast: BeamType.ELECTRON\n",
      "2023-03-12 11:54:53,832 — root — INFO — _sharpness:105 — calculating sharpness (accutance) of image <fibsem.structures.FibsemImage object at 0x00000174C3EF7A30>: 5\n",
      "2023-03-12 11:54:54,035 — root — INFO — auto_focus_beam:64 — image 10: 4.40e-03\n",
      "2023-03-12 11:54:54,035 — root — INFO — set:3347 — Setting working_distance to 0.004400000000000002 (BeamType.ELECTRON)\n",
      "2023-03-12 11:54:54,036 — root — INFO — autocontrast:3156 — Autocontrast: BeamType.ELECTRON\n",
      "2023-03-12 11:54:54,045 — root — INFO — _sharpness:105 — calculating sharpness (accutance) of image <fibsem.structures.FibsemImage object at 0x00000174B32B15E0>: 5\n",
      "2023-03-12 11:54:54,245 — root — INFO — set:3347 — Setting working_distance to 0.004150000000000002 (BeamType.ELECTRON)\n"
     ]
    }
   ],
   "source": [
    "# sharpness\n",
    "from fibsem.calibration import _sharpness, _dog\n",
    "calibration.auto_focus_beam(microscope, settings, beam_type=BeamType.ELECTRON, metric_fn=_sharpness, kwargs={\"disk_size\": 5}, num_steps=10)"
   ]
  },
  {
   "cell_type": "code",
   "execution_count": 26,
   "metadata": {},
   "outputs": [
    {
     "name": "stdout",
     "output_type": "stream",
     "text": [
      "2023-03-12 11:57:44,310 — root — INFO — get:3325 — Getting working_distance (BeamType.ELECTRON)\n",
      "2023-03-12 11:57:44,311 — root — INFO — auto_focus_beam:50 — _dog based auto-focus routine\n",
      "2023-03-12 11:57:44,312 — root — INFO — auto_focus_beam:51 — doc: Calculate difference of gaussian (DoG) of an image.\n",
      "\n",
      "    Args:\n",
      "        img (FibsemImage): _description_\n",
      "\n",
      "    Returns:\n",
      "        _type_: _description_\n",
      "    \n",
      "2023-03-12 11:57:44,317 — root — INFO — auto_focus_beam:52 — initial working distance: 2.50e-03\n",
      "2023-03-12 11:57:44,319 — root — INFO — auto_focus_beam:64 — image 0: 2.25e-03\n",
      "2023-03-12 11:57:44,320 — root — INFO — set:3347 — Setting working_distance to 0.0022500000000000003 (BeamType.ELECTRON)\n",
      "2023-03-12 11:57:44,322 — root — INFO — autocontrast:3156 — Autocontrast: BeamType.ELECTRON\n",
      "2023-03-12 11:57:44,373 — root — INFO — auto_focus_beam:64 — image 1: 2.30e-03\n",
      "2023-03-12 11:57:44,375 — root — INFO — set:3347 — Setting working_distance to 0.0023000000000000004 (BeamType.ELECTRON)\n",
      "2023-03-12 11:57:44,376 — root — INFO — autocontrast:3156 — Autocontrast: BeamType.ELECTRON\n",
      "2023-03-12 11:57:44,427 — root — INFO — auto_focus_beam:64 — image 2: 2.35e-03\n",
      "2023-03-12 11:57:44,428 — root — INFO — set:3347 — Setting working_distance to 0.0023500000000000005 (BeamType.ELECTRON)\n",
      "2023-03-12 11:57:44,429 — root — INFO — autocontrast:3156 — Autocontrast: BeamType.ELECTRON\n",
      "2023-03-12 11:57:44,558 — root — INFO — auto_focus_beam:64 — image 3: 2.40e-03\n",
      "2023-03-12 11:57:44,560 — root — INFO — set:3347 — Setting working_distance to 0.0024000000000000002 (BeamType.ELECTRON)\n",
      "2023-03-12 11:57:44,561 — root — INFO — autocontrast:3156 — Autocontrast: BeamType.ELECTRON\n",
      "2023-03-12 11:57:44,641 — root — INFO — auto_focus_beam:64 — image 4: 2.45e-03\n",
      "2023-03-12 11:57:44,643 — root — INFO — set:3347 — Setting working_distance to 0.0024500000000000004 (BeamType.ELECTRON)\n",
      "2023-03-12 11:57:44,645 — root — INFO — autocontrast:3156 — Autocontrast: BeamType.ELECTRON\n",
      "2023-03-12 11:57:44,726 — root — INFO — auto_focus_beam:64 — image 5: 2.50e-03\n",
      "2023-03-12 11:57:44,728 — root — INFO — set:3347 — Setting working_distance to 0.0025000000000000005 (BeamType.ELECTRON)\n",
      "2023-03-12 11:57:44,730 — root — INFO — autocontrast:3156 — Autocontrast: BeamType.ELECTRON\n",
      "2023-03-12 11:57:44,808 — root — INFO — auto_focus_beam:64 — image 6: 2.55e-03\n",
      "2023-03-12 11:57:44,810 — root — INFO — set:3347 — Setting working_distance to 0.0025500000000000006 (BeamType.ELECTRON)\n",
      "2023-03-12 11:57:44,812 — root — INFO — autocontrast:3156 — Autocontrast: BeamType.ELECTRON\n",
      "2023-03-12 11:57:44,899 — root — INFO — auto_focus_beam:64 — image 7: 2.60e-03\n",
      "2023-03-12 11:57:44,902 — root — INFO — set:3347 — Setting working_distance to 0.0026000000000000007 (BeamType.ELECTRON)\n",
      "2023-03-12 11:57:44,907 — root — INFO — autocontrast:3156 — Autocontrast: BeamType.ELECTRON\n",
      "2023-03-12 11:57:45,026 — root — INFO — auto_focus_beam:64 — image 8: 2.65e-03\n",
      "2023-03-12 11:57:45,027 — root — INFO — set:3347 — Setting working_distance to 0.0026500000000000004 (BeamType.ELECTRON)\n",
      "2023-03-12 11:57:45,029 — root — INFO — autocontrast:3156 — Autocontrast: BeamType.ELECTRON\n",
      "2023-03-12 11:57:45,139 — root — INFO — auto_focus_beam:64 — image 9: 2.70e-03\n",
      "2023-03-12 11:57:45,140 — root — INFO — set:3347 — Setting working_distance to 0.0027000000000000006 (BeamType.ELECTRON)\n",
      "2023-03-12 11:57:45,143 — root — INFO — autocontrast:3156 — Autocontrast: BeamType.ELECTRON\n",
      "2023-03-12 11:57:45,241 — root — INFO — auto_focus_beam:64 — image 10: 2.75e-03\n",
      "2023-03-12 11:57:45,242 — root — INFO — set:3347 — Setting working_distance to 0.0027500000000000007 (BeamType.ELECTRON)\n",
      "2023-03-12 11:57:45,245 — root — INFO — autocontrast:3156 — Autocontrast: BeamType.ELECTRON\n",
      "2023-03-12 11:57:45,342 — root — INFO — auto_focus_beam:79 — ['2.25e-03: 0.0000', '2.30e-03: 0.0000', '2.35e-03: 0.0000', '2.40e-03: -0.0000', '2.45e-03: 0.0000', '2.50e-03: 0.0000', '2.55e-03: 0.0000', '2.60e-03: 0.0000', '2.65e-03: -0.0000', '2.70e-03: 0.0000', '2.75e-03: 0.0000']\n",
      "2023-03-12 11:57:45,344 — root — INFO — auto_focus_beam:80 — 9, 2.70e-03, 0.0000\n",
      "2023-03-12 11:57:45,346 — root — INFO — set:3347 — Setting working_distance to 0.0027000000000000006 (BeamType.ELECTRON)\n"
     ]
    }
   ],
   "source": [
    "calibration.auto_focus_beam(microscope, settings, beam_type=BeamType.ELECTRON, metric_fn=_dog, num_steps=10, verbose=True)"
   ]
  },
  {
   "cell_type": "code",
   "execution_count": null,
   "metadata": {},
   "outputs": [],
   "source": []
  }
 ],
 "metadata": {
  "kernelspec": {
   "display_name": "Python 3.9.13 ('autoliftout')",
   "language": "python",
   "name": "python3"
  },
  "language_info": {
   "codemirror_mode": {
    "name": "ipython",
    "version": 3
   },
   "file_extension": ".py",
   "mimetype": "text/x-python",
   "name": "python",
   "nbconvert_exporter": "python",
   "pygments_lexer": "ipython3",
   "version": "3.9.12"
  },
  "orig_nbformat": 4,
  "vscode": {
   "interpreter": {
    "hash": "ea78b76b2c840a5577de64ec81812954f7a3177bd4e73b9895b7933ce81940d2"
   }
  }
 },
 "nbformat": 4,
 "nbformat_minor": 2
}
