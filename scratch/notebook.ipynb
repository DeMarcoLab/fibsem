{
 "cells": [
  {
   "cell_type": "code",
   "execution_count": null,
   "metadata": {},
   "outputs": [],
   "source": [
    "%load_ext autoreload\n",
    "%autoreload 2\n",
    "\n",
    "import matplotlib.pyplot as plt\n",
    "import numpy as np\n",
    "import glob\n",
    "\n",
    "import tifffile as tf\n",
    "\n",
    "import os\n",
    "\n",
    "path = \"/home/patrick/github/data\"\n",
    "\n",
    "filenames = glob.glob(os.path.join(path, \"dm*/**/*.tif*\"), recursive=True)\n",
    "\n",
    "print(len(filenames))"
   ]
  },
  {
   "cell_type": "code",
   "execution_count": null,
   "metadata": {},
   "outputs": [],
   "source": [
    "# filter lamella, landing\n",
    "\n",
    "print(len(filenames))\n",
    "# filenames = [fname for fname in filenames if \"ref_landing\" not in fname and \"ref_lamella\" not in fname and \"trench\" not in fname and \"low_res\" not in fname]\n",
    "\n",
    "filenames = [fname for fname in filenames if \"needle\" in fname]\n",
    "print(len(filenames))"
   ]
  },
  {
   "cell_type": "code",
   "execution_count": null,
   "metadata": {},
   "outputs": [],
   "source": [
    "for fname in filenames[:10]:\n",
    "    img = tf.imread(fname)\n",
    "    plt.imshow(img, cmap=\"gray\")\n",
    "    plt.show()"
   ]
  },
  {
   "cell_type": "code",
   "execution_count": null,
   "metadata": {},
   "outputs": [],
   "source": [
    "save_path = \"/home/patrick/github/data/training\"\n",
    "for i, fname in enumerate(filenames):\n",
    "    \n",
    "    img = tf.imread(fname)\n",
    "    new_fname = os.path.join(save_path,f\"a{i:05d}.tif\")\n",
    "\n",
    "    tf.imsave(new_fname, img)\n"
   ]
  },
  {
   "cell_type": "code",
   "execution_count": null,
   "metadata": {},
   "outputs": [],
   "source": [
    "train_filenames = sorted(glob.glob(os.path.join(save_path, \"*.tif\")))\n",
    "for fname in train_filenames[:10]:\n",
    "\n",
    "    img = tf.imread(fname)\n",
    "    plt.imshow(img, cmap=\"gray\")\n",
    "    plt.show()"
   ]
  },
  {
   "cell_type": "code",
   "execution_count": null,
   "metadata": {},
   "outputs": [],
   "source": [
    "import zarr\n",
    "\n",
    "images = zarr.open(tf.imread(os.path.join(\"/home/patrick/github/data/training/\", \"images\", \"*.tif*\"), aszarr=True)) \n",
    "labels = zarr.open(tf.imread(os.path.join(\"/home/patrick/github/data/training/\", \"labels\",\"*.tif*\"), aszarr=True))\n",
    "\n",
    "\n",
    "print(images.shape)\n",
    "print(labels.shape)\n",
    "\n",
    "\n",
    "for img, label in zip(images, labels):\n",
    "\n",
    "\n",
    "    fig, ax = plt.subplots(1, 2, figsize=(10, 5))\n",
    "    ax[0].imshow(img, cmap=\"gray\")\n",
    "    ax[1].imshow(label)\n",
    "    plt.show()\n",
    "\n"
   ]
  },
  {
   "cell_type": "code",
   "execution_count": null,
   "metadata": {},
   "outputs": [],
   "source": []
  },
  {
   "cell_type": "markdown",
   "metadata": {},
   "source": [
    "### Model Testing"
   ]
  },
  {
   "cell_type": "code",
   "execution_count": null,
   "metadata": {},
   "outputs": [],
   "source": [
    "%load_ext autoreload\n",
    "%autoreload 2 \n",
    "\n",
    "\n",
    "import glob\n",
    "import os\n",
    "import tifffile as tf\n",
    "import matplotlib.pyplot as plt\n",
    "\n",
    "images = sorted(glob.glob(os.path.join(\"/home/patrick/github/data/training/train/images\", \"*.tif*\")))\n",
    "labels = sorted(glob.glob(os.path.join(\"/home/patrick/github/data/training/train/labels\", \"*.tif*\")))\n",
    "\n",
    "for ii, (i, l) in enumerate(zip(images, labels)):\n",
    "    print(os.path.basename(i), os.path.basename(l))\n",
    "\n",
    "    img, lbl = tf.imread(i), tf.imread(l)\n",
    "\n",
    "    fig, ax = plt.subplots(1, 2, figsize=(7, 5))\n",
    "    ax[0].imshow(img, cmap=\"gray\")\n",
    "    ax[0].set_title(\"Image\")\n",
    "    ax[1].imshow(lbl)\n",
    "    ax[1].set_title(\"Label\")\n",
    "    plt.show()\n",
    "    \n",
    "    if ii == 2:\n",
    "        break\n",
    "\n"
   ]
  },
  {
   "cell_type": "code",
   "execution_count": null,
   "metadata": {},
   "outputs": [],
   "source": [
    "filenames = sorted(glob.glob(os.path.join(\"/home/patrick/github/data/liftout/training/train/images/\", \"*.tif*\")))\n",
    "\n",
    "print(\"files: \", len(filenames))\n",
    "# filenames.append(*list(sorted(glob.glob(os.path.join(\"/home/patrick/github/data/training/train/images/\", \"*.tif*\")))\n",
    "print(\"files: \", len(filenames))\n",
    "import random\n",
    "random.shuffle(filenames)\n",
    "\n",
    "\n",
    "from fibsem.segmentation.model import SegmentationModel\n",
    "\n",
    "baseline = \"/home/patrick/github/fibsem/fibsem/segmentation/models/model.pt\"\n",
    "# checkpoint_2 = \"/home/patrick/github/fibsem/fibsem/segmentation/models/03_11_2022_19_01_51_n08_model.pt\"\n",
    "# checkpoint_5 = \"/home/patrick/github/fibsem/fibsem/segmentation/models/03_11_2022_19_00_58_n05_model.pt\"\n",
    "# checkpoint_10 = \"/home/patrick/github/fibsem/fibsem/segmentation/models/03_11_2022_19_02_27_n10_model.pt\"\n",
    "# checkpoints = [baseline, checkpoint_2, checkpoint_5, checkpoint_10]\n",
    "\n",
    "small_model = \"/home/patrick/github/fibsem/fibsem/segmentation/models/model2.pt\"\n",
    "# checkpoint_10 = \"/home/patrick/github/fibsem/fibsem/segmentation/models/combined/03_11_2022_20_00_10_n10_model.pt\"\n",
    "# checkpoint_15 = \"/home/patrick/github/fibsem/fibsem/segmentation/models/combined/03_11_2022_20_09_22_n15_model.pt\"\n",
    "# checkpoint_20 = \"/home/patrick/github/fibsem/fibsem/segmentation/models/combined/03_11_2022_20_18_32_n20_model.pt\"\n",
    "\n",
    "checkpoint_10 = \"/home/patrick/github/fibsem/fibsem/segmentation/models/combined34/04_11_2022_18_37_32_n10_model.pt\"\n",
    "checkpoint_15 = \"/home/patrick/github/fibsem/fibsem/segmentation/models/combined34/04_11_2022_18_46_48_n15_model.pt\"\n",
    "checkpoint_20 = \"/home/patrick/github/fibsem/fibsem/segmentation/models/combined34/04_11_2022_18_56_00_n20_model.pt\"\n",
    "\n",
    "\n",
    "checkpoints = [baseline, small_model, checkpoint_10, checkpoint_15, checkpoint_20]\n",
    "for i, fname in enumerate(filenames):\n",
    "\n",
    "    img = tf.imread(fname)\n",
    "\n",
    "    print(i, fname) \n",
    "\n",
    "    fig, ax = plt.subplots(1, len(checkpoints) + 1, figsize=(15, 5))\n",
    "    ax[0].imshow(img, cmap=\"gray\")\n",
    "    ax[0].set_title(\"Image\")\n",
    "\n",
    "\n",
    "    titles = [\"Baseline\", \"Update\", \"Checkpoint 10\", \"Checkpoint 15\", \"Checkpoint 20\"]\n",
    "    for j, (checkpoint, title) in enumerate(zip(checkpoints, titles), 1):\n",
    "        model = SegmentationModel(checkpoint=checkpoint, num_classes=3)\n",
    "\n",
    "        mask = model.inference(img)\n",
    "\n",
    "        ax[j].imshow(mask)\n",
    "        ax[j].set_title(title)\n",
    "\n",
    "    save_path = \"results34\"\n",
    "    os.makedirs(save_path, exist_ok=True)\n",
    "    fig.savefig(os.path.join(save_path, f\"{os.path.basename(fname).replace('tif', 'png')}\"))\n",
    "\n",
    "    plt.show()"
   ]
  },
  {
   "cell_type": "code",
   "execution_count": null,
   "metadata": {},
   "outputs": [],
   "source": []
  },
  {
   "cell_type": "code",
   "execution_count": null,
   "metadata": {},
   "outputs": [],
   "source": []
  },
  {
   "attachments": {},
   "cell_type": "markdown",
   "metadata": {},
   "source": [
    "### Pattern Testing\n"
   ]
  },
  {
   "cell_type": "code",
   "execution_count": 1,
   "metadata": {},
   "outputs": [
    {
     "name": "stdout",
     "output_type": "stream",
     "text": [
      "2023-03-12 21:23:07,204 — root — INFO — connect_to_microscope:3125 — Connected to Demo Microscope\n",
      "2023-03-12 21:23:07,206 — root — INFO — setup_session:227 — Finished setup for session: autoliftout_2023-03-12-09-23-07PM\n"
     ]
    }
   ],
   "source": [
    "%load_ext autoreload\n",
    "%autoreload 2\n",
    "\n",
    "from fibsem import utils, patterning\n",
    "import matplotlib.pyplot as plt\n",
    "\n",
    "# protocol_path = \"/home/patrick/github/autoliftout/liftout/protocol/protocol.yaml\"\n",
    "protocol_path = r\"C:\\Users\\pcle0002\\Documents\\repos\\autoliftout\\liftout\\protocol\\protocol.yaml\"\n",
    "microscope, settings = utils.setup_session(protocol_path=protocol_path)"
   ]
  },
  {
   "cell_type": "code",
   "execution_count": 3,
   "metadata": {},
   "outputs": [
    {
     "name": "stdout",
     "output_type": "stream",
     "text": [
      "{'Circle': <class 'fibsem.patterning.CirclePattern'>,\n",
      " 'Fiducial': <class 'fibsem.patterning.FiducialPattern'>,\n",
      " 'Horseshoe': <class 'fibsem.patterning.HorseshoePattern'>,\n",
      " 'Line': <class 'fibsem.patterning.LinePattern'>,\n",
      " 'MicroExpansion': <class 'fibsem.patterning.MicroExpansionPattern'>,\n",
      " 'Rectangle': <class 'fibsem.patterning.RectanglePattern'>,\n",
      " 'SpotWeld': <class 'fibsem.patterning.SpotWeldPattern'>,\n",
      " 'Trench': <class 'fibsem.patterning.TrenchPattern'>,\n",
      " 'Undercut': <class 'fibsem.patterning.UndercutPattern'>}\n"
     ]
    }
   ],
   "source": [
    "patterns_fn = {f\"{pattern.name}\": pattern for pattern in patterning.__PATTERNS__}\n",
    "\n",
    "from pprint import pprint\n",
    "\n",
    "pprint(patterns_fn)"
   ]
  },
  {
   "cell_type": "code",
   "execution_count": null,
   "metadata": {},
   "outputs": [],
   "source": [
    "\n"
   ]
  },
  {
   "cell_type": "code",
   "execution_count": null,
   "metadata": {},
   "outputs": [],
   "source": []
  },
  {
   "cell_type": "code",
   "execution_count": 4,
   "metadata": {},
   "outputs": [
    {
     "name": "stdout",
     "output_type": "stream",
     "text": [
      "Rectangle\n",
      "[FibsemPatternSettings(pattern=FibsemPattern.Rectangle, width=1e-05, height=5e-06, depth=2e-06, rotation=0, centre_x=0.0, centre_y=0.0, scan_direction=TopToBottom, cleaning_cross_section=True)]\n"
     ]
    }
   ],
   "source": [
    "from fibsem.structures import FibsemPatternSettings, FibsemPattern\n",
    "\n",
    "rect_pattern = patterns_fn[\"Rectangle\"]()\n",
    "\n",
    "rp = rect_pattern.define(protocol={\"pattern\": \"Rectangle\", \"width\": 10e-6, \"height\": 5e-6, \n",
    "                                              \"depth\": 2e-6, \"rotation\": 0, \n",
    "                                              \"centre_x\": 0, \"centre_y\": 0, \n",
    "                                              \"scan_direction\": \"TopToBottom\", \"cleaning_cross_section\": True})\n",
    "\n",
    "\n",
    "print(rp)"
   ]
  },
  {
   "cell_type": "code",
   "execution_count": null,
   "metadata": {},
   "outputs": [],
   "source": []
  },
  {
   "cell_type": "code",
   "execution_count": 14,
   "metadata": {},
   "outputs": [
    {
     "name": "stdout",
     "output_type": "stream",
     "text": [
      "('lamella_width', 'lamella_height', 'trench_height', 'size_ratio', 'offset', 'milling_depth')\n",
      "[FibsemPatternSettings(pattern=FibsemPattern.Rectangle, width=1.7e-05, height=6e-07, depth=4e-07, rotation=0.0, centre_x=0.0, centre_y=-5.5e-07, scan_direction=BottomToTop, cleaning_cross_section=True),\n",
      " FibsemPatternSettings(pattern=FibsemPattern.Rectangle, width=1.7e-05, height=6e-07, depth=4e-07, rotation=0.0, centre_x=0.0, centre_y=5.5e-07, scan_direction=TopToBottom, cleaning_cross_section=True)]\n",
      "---------------------------------------\n"
     ]
    }
   ],
   "source": [
    "\n",
    "\n",
    "\n",
    "pattern_fn = patterns_fn[\"Trench\"]()\n",
    "print(pattern_fn.required_keys)\n",
    "pattern = pattern_fn.define(protocol=settings.protocol[\"polish_lamella\"])\n",
    "\n",
    "pprint(pattern)\n",
    "\n",
    "print(\"---------------------------------------\")"
   ]
  },
  {
   "cell_type": "code",
   "execution_count": null,
   "metadata": {},
   "outputs": [],
   "source": [
    "for p in patterns_fn:\n",
    "    print(p, patterns_fn[p], patterns_fn[p]())"
   ]
  },
  {
   "cell_type": "code",
   "execution_count": null,
   "metadata": {},
   "outputs": [],
   "source": []
  },
  {
   "attachments": {},
   "cell_type": "markdown",
   "metadata": {},
   "source": [
    "### Test AutoFOCUS\n",
    "\n"
   ]
  },
  {
   "cell_type": "code",
   "execution_count": 18,
   "metadata": {},
   "outputs": [
    {
     "name": "stdout",
     "output_type": "stream",
     "text": [
      "The autoreload extension is already loaded. To reload it, use:\n",
      "  %reload_ext autoreload\n"
     ]
    }
   ],
   "source": [
    "%load_ext autoreload\n",
    "%autoreload 2\n",
    "\n",
    "import sys\n",
    "from fibsem import utils, calibration, patterning\n",
    "from fibsem.structures import BeamType"
   ]
  },
  {
   "cell_type": "code",
   "execution_count": 19,
   "metadata": {},
   "outputs": [
    {
     "name": "stdout",
     "output_type": "stream",
     "text": [
      "2023-03-13 10:43:31,143 — root — INFO — connect_to_microscope:386 — Microscope client connecting to [10.0.0.1:7520]\n",
      "Client connecting to [10.0.0.1:7520]...\n",
      "Client connected to [10.0.0.1:7520]\n",
      "2023-03-13 10:43:31,146 — root — INFO — connect_to_microscope:388 — Microscope client connected to [10.0.0.1:7520]\n",
      "2023-03-13 10:43:31,147 — root — INFO — setup_session:227 — Finished setup for session: demo_2023-03-13-10-43-31AM\n"
     ]
    }
   ],
   "source": [
    "microscope, settings = utils.setup_session()"
   ]
  },
  {
   "cell_type": "code",
   "execution_count": 20,
   "metadata": {},
   "outputs": [
    {
     "name": "stdout",
     "output_type": "stream",
     "text": [
      "2023-03-13 10:43:36,017 — root — INFO — auto_focus:504 — Running auto-focus on ELECTRON.\n"
     ]
    }
   ],
   "source": [
    "# default\n",
    "calibration.auto_focus_beam(microscope, settings, beam_type=BeamType.ELECTRON)"
   ]
  },
  {
   "cell_type": "code",
   "execution_count": 21,
   "metadata": {},
   "outputs": [
    {
     "name": "stdout",
     "output_type": "stream",
     "text": [
      "working distance: 4.000000e-03\n"
     ]
    }
   ],
   "source": [
    "wd = microscope.get(\"working_distance\", BeamType.ELECTRON)\n",
    "print(f\"working distance: {wd:2e}\")"
   ]
  },
  {
   "cell_type": "code",
   "execution_count": 22,
   "metadata": {},
   "outputs": [
    {
     "name": "stdout",
     "output_type": "stream",
     "text": [
      "2023-03-13 10:44:40,925 — root — INFO — auto_focus_beam:71 — image 0: 3.50e-03\n",
      "2023-03-13 10:44:44,426 — root — INFO — set:1555 — ELECTRON working distance set to 0.0035 m.\n",
      "2023-03-13 10:44:44,427 — root — WARNING — set:1652 — Unknown key: working_distance (BeamType.ELECTRON)\n",
      "2023-03-13 10:44:44,428 — root — INFO — autocontrast:493 — Running autocontrast on ELECTRON.\n",
      "2023-03-13 10:44:44,967 — root — INFO — acquire_image:432 — acquiring new ELECTRON image.\n",
      "2023-03-13 10:44:45,835 — root — INFO — _sharpness:113 — calculating sharpness (accutance) of image <fibsem.structures.FibsemImage object at 0x000001D208E72B60>: 5\n",
      "2023-03-13 10:44:45,867 — root — INFO — auto_focus_beam:71 — image 1: 3.55e-03\n",
      "2023-03-13 10:44:49,332 — root — INFO — set:1555 — ELECTRON working distance set to 0.00355 m.\n",
      "2023-03-13 10:44:49,333 — root — WARNING — set:1652 — Unknown key: working_distance (BeamType.ELECTRON)\n",
      "2023-03-13 10:44:49,334 — root — INFO — autocontrast:493 — Running autocontrast on ELECTRON.\n",
      "2023-03-13 10:44:49,800 — root — INFO — acquire_image:432 — acquiring new ELECTRON image.\n",
      "2023-03-13 10:44:50,062 — root — INFO — _sharpness:113 — calculating sharpness (accutance) of image <fibsem.structures.FibsemImage object at 0x000001D20C592B00>: 5\n",
      "2023-03-13 10:44:50,091 — root — INFO — auto_focus_beam:71 — image 2: 3.60e-03\n",
      "2023-03-13 10:44:53,589 — root — INFO — set:1555 — ELECTRON working distance set to 0.0036 m.\n",
      "2023-03-13 10:44:53,590 — root — WARNING — set:1652 — Unknown key: working_distance (BeamType.ELECTRON)\n",
      "2023-03-13 10:44:53,591 — root — INFO — autocontrast:493 — Running autocontrast on ELECTRON.\n",
      "2023-03-13 10:44:54,037 — root — INFO — acquire_image:432 — acquiring new ELECTRON image.\n",
      "2023-03-13 10:44:54,316 — root — INFO — _sharpness:113 — calculating sharpness (accutance) of image <fibsem.structures.FibsemImage object at 0x000001D20C58A680>: 5\n",
      "2023-03-13 10:44:54,344 — root — INFO — auto_focus_beam:71 — image 3: 3.65e-03\n",
      "2023-03-13 10:44:57,810 — root — INFO — set:1555 — ELECTRON working distance set to 0.00365 m.\n",
      "2023-03-13 10:44:57,812 — root — WARNING — set:1652 — Unknown key: working_distance (BeamType.ELECTRON)\n",
      "2023-03-13 10:44:57,813 — root — INFO — autocontrast:493 — Running autocontrast on ELECTRON.\n",
      "2023-03-13 10:44:58,365 — root — INFO — acquire_image:432 — acquiring new ELECTRON image.\n",
      "2023-03-13 10:44:58,642 — root — INFO — _sharpness:113 — calculating sharpness (accutance) of image <fibsem.structures.FibsemImage object at 0x000001D20C5861D0>: 5\n",
      "2023-03-13 10:44:58,669 — root — INFO — auto_focus_beam:71 — image 4: 3.70e-03\n",
      "2023-03-13 10:45:02,142 — root — INFO — set:1555 — ELECTRON working distance set to 0.0037 m.\n",
      "2023-03-13 10:45:02,143 — root — WARNING — set:1652 — Unknown key: working_distance (BeamType.ELECTRON)\n",
      "2023-03-13 10:45:02,144 — root — INFO — autocontrast:493 — Running autocontrast on ELECTRON.\n",
      "2023-03-13 10:45:02,588 — root — INFO — acquire_image:432 — acquiring new ELECTRON image.\n",
      "2023-03-13 10:45:02,898 — root — INFO — _sharpness:113 — calculating sharpness (accutance) of image <fibsem.structures.FibsemImage object at 0x000001D20C5A5D20>: 5\n",
      "2023-03-13 10:45:02,927 — root — INFO — auto_focus_beam:71 — image 5: 3.75e-03\n",
      "2023-03-13 10:45:06,428 — root — INFO — set:1555 — ELECTRON working distance set to 0.0037500000000000003 m.\n",
      "2023-03-13 10:45:06,429 — root — WARNING — set:1652 — Unknown key: working_distance (BeamType.ELECTRON)\n",
      "2023-03-13 10:45:06,429 — root — INFO — autocontrast:493 — Running autocontrast on ELECTRON.\n",
      "2023-03-13 10:45:06,851 — root — INFO — acquire_image:432 — acquiring new ELECTRON image.\n",
      "2023-03-13 10:45:07,117 — root — INFO — _sharpness:113 — calculating sharpness (accutance) of image <fibsem.structures.FibsemImage object at 0x000001D20C581870>: 5\n",
      "2023-03-13 10:45:07,146 — root — INFO — auto_focus_beam:71 — image 6: 3.80e-03\n",
      "2023-03-13 10:45:10,622 — root — INFO — set:1555 — ELECTRON working distance set to 0.0038000000000000004 m.\n",
      "2023-03-13 10:45:10,624 — root — WARNING — set:1652 — Unknown key: working_distance (BeamType.ELECTRON)\n",
      "2023-03-13 10:45:10,624 — root — INFO — autocontrast:493 — Running autocontrast on ELECTRON.\n",
      "2023-03-13 10:45:11,106 — root — INFO — acquire_image:432 — acquiring new ELECTRON image.\n",
      "2023-03-13 10:45:11,410 — root — INFO — _sharpness:113 — calculating sharpness (accutance) of image <fibsem.structures.FibsemImage object at 0x000001D20C5993F0>: 5\n",
      "2023-03-13 10:45:11,437 — root — INFO — auto_focus_beam:71 — image 7: 3.85e-03\n",
      "2023-03-13 10:45:14,919 — root — INFO — set:1555 — ELECTRON working distance set to 0.00385 m.\n",
      "2023-03-13 10:45:14,920 — root — WARNING — set:1652 — Unknown key: working_distance (BeamType.ELECTRON)\n",
      "2023-03-13 10:45:14,921 — root — INFO — autocontrast:493 — Running autocontrast on ELECTRON.\n",
      "2023-03-13 10:45:15,310 — root — INFO — acquire_image:432 — acquiring new ELECTRON image.\n",
      "2023-03-13 10:45:15,584 — root — INFO — _sharpness:113 — calculating sharpness (accutance) of image <fibsem.structures.FibsemImage object at 0x000001D20C5A7790>: 5\n",
      "2023-03-13 10:45:15,611 — root — INFO — auto_focus_beam:71 — image 8: 3.90e-03\n",
      "2023-03-13 10:45:19,084 — root — INFO — set:1555 — ELECTRON working distance set to 0.0039000000000000003 m.\n",
      "2023-03-13 10:45:19,086 — root — WARNING — set:1652 — Unknown key: working_distance (BeamType.ELECTRON)\n",
      "2023-03-13 10:45:19,087 — root — INFO — autocontrast:493 — Running autocontrast on ELECTRON.\n",
      "2023-03-13 10:45:19,439 — root — INFO — acquire_image:432 — acquiring new ELECTRON image.\n",
      "2023-03-13 10:45:19,757 — root — INFO — _sharpness:113 — calculating sharpness (accutance) of image <fibsem.structures.FibsemImage object at 0x000001D20C5635E0>: 5\n",
      "2023-03-13 10:45:19,785 — root — INFO — auto_focus_beam:71 — image 9: 3.95e-03\n",
      "2023-03-13 10:45:23,293 — root — INFO — set:1555 — ELECTRON working distance set to 0.00395 m.\n",
      "2023-03-13 10:45:23,294 — root — WARNING — set:1652 — Unknown key: working_distance (BeamType.ELECTRON)\n",
      "2023-03-13 10:45:23,295 — root — INFO — autocontrast:493 — Running autocontrast on ELECTRON.\n",
      "2023-03-13 10:45:23,732 — root — INFO — acquire_image:432 — acquiring new ELECTRON image.\n",
      "2023-03-13 10:45:24,001 — root — INFO — _sharpness:113 — calculating sharpness (accutance) of image <fibsem.structures.FibsemImage object at 0x000001D20C576A10>: 5\n",
      "2023-03-13 10:45:24,029 — root — INFO — auto_focus_beam:71 — image 10: 4.00e-03\n",
      "2023-03-13 10:45:27,546 — root — INFO — set:1555 — ELECTRON working distance set to 0.004 m.\n",
      "2023-03-13 10:45:27,548 — root — WARNING — set:1652 — Unknown key: working_distance (BeamType.ELECTRON)\n",
      "2023-03-13 10:45:27,548 — root — INFO — autocontrast:493 — Running autocontrast on ELECTRON.\n",
      "2023-03-13 10:45:27,976 — root — INFO — acquire_image:432 — acquiring new ELECTRON image.\n",
      "2023-03-13 10:45:28,378 — root — INFO — _sharpness:113 — calculating sharpness (accutance) of image <fibsem.structures.FibsemImage object at 0x000001D20C582BF0>: 5\n",
      "2023-03-13 10:45:28,405 — root — INFO — auto_focus_beam:71 — image 11: 4.05e-03\n",
      "2023-03-13 10:45:31,866 — root — INFO — set:1555 — ELECTRON working distance set to 0.004050000000000001 m.\n",
      "2023-03-13 10:45:31,867 — root — WARNING — set:1652 — Unknown key: working_distance (BeamType.ELECTRON)\n",
      "2023-03-13 10:45:31,869 — root — INFO — autocontrast:493 — Running autocontrast on ELECTRON.\n",
      "2023-03-13 10:45:32,340 — root — INFO — acquire_image:432 — acquiring new ELECTRON image.\n",
      "2023-03-13 10:45:32,625 — root — INFO — _sharpness:113 — calculating sharpness (accutance) of image <fibsem.structures.FibsemImage object at 0x000001D20C585330>: 5\n",
      "2023-03-13 10:45:32,652 — root — INFO — auto_focus_beam:71 — image 12: 4.10e-03\n",
      "2023-03-13 10:45:36,122 — root — INFO — set:1555 — ELECTRON working distance set to 0.0041 m.\n",
      "2023-03-13 10:45:36,123 — root — WARNING — set:1652 — Unknown key: working_distance (BeamType.ELECTRON)\n",
      "2023-03-13 10:45:36,124 — root — INFO — autocontrast:493 — Running autocontrast on ELECTRON.\n",
      "2023-03-13 10:45:36,546 — root — INFO — acquire_image:432 — acquiring new ELECTRON image.\n",
      "2023-03-13 10:45:36,956 — root — INFO — _sharpness:113 — calculating sharpness (accutance) of image <fibsem.structures.FibsemImage object at 0x000001D20C5A6CB0>: 5\n",
      "2023-03-13 10:45:36,983 — root — INFO — auto_focus_beam:71 — image 13: 4.15e-03\n",
      "2023-03-13 10:45:40,523 — root — INFO — set:1555 — ELECTRON working distance set to 0.00415 m.\n",
      "2023-03-13 10:45:40,524 — root — WARNING — set:1652 — Unknown key: working_distance (BeamType.ELECTRON)\n",
      "2023-03-13 10:45:40,525 — root — INFO — autocontrast:493 — Running autocontrast on ELECTRON.\n",
      "2023-03-13 10:45:40,939 — root — INFO — acquire_image:432 — acquiring new ELECTRON image.\n",
      "2023-03-13 10:45:41,272 — root — INFO — _sharpness:113 — calculating sharpness (accutance) of image <fibsem.structures.FibsemImage object at 0x000001D20C56E920>: 5\n",
      "2023-03-13 10:45:41,299 — root — INFO — auto_focus_beam:71 — image 14: 4.20e-03\n",
      "2023-03-13 10:45:44,757 — root — INFO — set:1555 — ELECTRON working distance set to 0.004200000000000001 m.\n",
      "2023-03-13 10:45:44,759 — root — WARNING — set:1652 — Unknown key: working_distance (BeamType.ELECTRON)\n",
      "2023-03-13 10:45:44,759 — root — INFO — autocontrast:493 — Running autocontrast on ELECTRON.\n",
      "2023-03-13 10:45:45,155 — root — INFO — acquire_image:432 — acquiring new ELECTRON image.\n",
      "2023-03-13 10:45:45,418 — root — INFO — _sharpness:113 — calculating sharpness (accutance) of image <fibsem.structures.FibsemImage object at 0x000001D20C587340>: 5\n",
      "2023-03-13 10:45:45,446 — root — INFO — auto_focus_beam:71 — image 15: 4.25e-03\n",
      "2023-03-13 10:45:48,906 — root — INFO — set:1555 — ELECTRON working distance set to 0.00425 m.\n",
      "2023-03-13 10:45:48,907 — root — WARNING — set:1652 — Unknown key: working_distance (BeamType.ELECTRON)\n",
      "2023-03-13 10:45:48,908 — root — INFO — autocontrast:493 — Running autocontrast on ELECTRON.\n",
      "2023-03-13 10:45:49,286 — root — INFO — acquire_image:432 — acquiring new ELECTRON image.\n",
      "2023-03-13 10:45:49,527 — root — INFO — _sharpness:113 — calculating sharpness (accutance) of image <fibsem.structures.FibsemImage object at 0x000001D20C56DCC0>: 5\n",
      "2023-03-13 10:45:49,554 — root — INFO — auto_focus_beam:71 — image 16: 4.30e-03\n",
      "2023-03-13 10:45:53,163 — root — INFO — set:1555 — ELECTRON working distance set to 0.0043 m.\n",
      "2023-03-13 10:45:53,164 — root — WARNING — set:1652 — Unknown key: working_distance (BeamType.ELECTRON)\n",
      "2023-03-13 10:45:53,164 — root — INFO — autocontrast:493 — Running autocontrast on ELECTRON.\n",
      "2023-03-13 10:45:53,583 — root — INFO — acquire_image:432 — acquiring new ELECTRON image.\n",
      "2023-03-13 10:45:53,876 — root — INFO — _sharpness:113 — calculating sharpness (accutance) of image <fibsem.structures.FibsemImage object at 0x000001D20C5A6BF0>: 5\n",
      "2023-03-13 10:45:53,905 — root — INFO — auto_focus_beam:71 — image 17: 4.35e-03\n",
      "2023-03-13 10:45:57,392 — root — INFO — set:1555 — ELECTRON working distance set to 0.004350000000000001 m.\n",
      "2023-03-13 10:45:57,393 — root — WARNING — set:1652 — Unknown key: working_distance (BeamType.ELECTRON)\n",
      "2023-03-13 10:45:57,394 — root — INFO — autocontrast:493 — Running autocontrast on ELECTRON.\n",
      "2023-03-13 10:45:57,820 — root — INFO — acquire_image:432 — acquiring new ELECTRON image.\n",
      "2023-03-13 10:45:58,345 — root — INFO — _sharpness:113 — calculating sharpness (accutance) of image <fibsem.structures.FibsemImage object at 0x000001D20C582590>: 5\n",
      "2023-03-13 10:45:58,373 — root — INFO — auto_focus_beam:71 — image 18: 4.40e-03\n",
      "2023-03-13 10:46:01,881 — root — INFO — set:1555 — ELECTRON working distance set to 0.0044 m.\n",
      "2023-03-13 10:46:01,882 — root — WARNING — set:1652 — Unknown key: working_distance (BeamType.ELECTRON)\n",
      "2023-03-13 10:46:01,883 — root — INFO — autocontrast:493 — Running autocontrast on ELECTRON.\n",
      "2023-03-13 10:46:02,260 — root — INFO — acquire_image:432 — acquiring new ELECTRON image.\n",
      "2023-03-13 10:46:02,513 — root — INFO — _sharpness:113 — calculating sharpness (accutance) of image <fibsem.structures.FibsemImage object at 0x000001D20C575CC0>: 5\n",
      "2023-03-13 10:46:02,541 — root — INFO — auto_focus_beam:71 — image 19: 4.45e-03\n",
      "2023-03-13 10:46:06,017 — root — INFO — set:1555 — ELECTRON working distance set to 0.004450000000000001 m.\n",
      "2023-03-13 10:46:06,018 — root — WARNING — set:1652 — Unknown key: working_distance (BeamType.ELECTRON)\n",
      "2023-03-13 10:46:06,019 — root — INFO — autocontrast:493 — Running autocontrast on ELECTRON.\n",
      "2023-03-13 10:46:06,503 — root — INFO — acquire_image:432 — acquiring new ELECTRON image.\n",
      "2023-03-13 10:46:06,865 — root — INFO — _sharpness:113 — calculating sharpness (accutance) of image <fibsem.structures.FibsemImage object at 0x000001D20C5A5C60>: 5\n",
      "2023-03-13 10:46:06,893 — root — INFO — auto_focus_beam:71 — image 20: 4.50e-03\n",
      "2023-03-13 10:46:10,378 — root — INFO — set:1555 — ELECTRON working distance set to 0.0045000000000000005 m.\n",
      "2023-03-13 10:46:10,380 — root — WARNING — set:1652 — Unknown key: working_distance (BeamType.ELECTRON)\n",
      "2023-03-13 10:46:10,381 — root — INFO — autocontrast:493 — Running autocontrast on ELECTRON.\n",
      "2023-03-13 10:46:10,805 — root — INFO — acquire_image:432 — acquiring new ELECTRON image.\n",
      "2023-03-13 10:46:11,144 — root — INFO — _sharpness:113 — calculating sharpness (accutance) of image <fibsem.structures.FibsemImage object at 0x000001D20C56F880>: 5\n",
      "2023-03-13 10:46:14,666 — root — INFO — set:1555 — ELECTRON working distance set to 0.0039000000000000003 m.\n",
      "2023-03-13 10:46:14,668 — root — WARNING — set:1652 — Unknown key: working_distance (BeamType.ELECTRON)\n"
     ]
    }
   ],
   "source": [
    "# sharpness\n",
    "from fibsem.calibration import _sharpness, _dog\n",
    "calibration.auto_focus_beam(microscope=microscope, settings=settings, \n",
    "                            beam_type=BeamType.ELECTRON, \n",
    "                            metric_fn=_sharpness, kwargs={\"disk_size\": 5}, \n",
    "                            num_steps=20, step_size=0.05e-3)"
   ]
  },
  {
   "cell_type": "code",
   "execution_count": 26,
   "metadata": {},
   "outputs": [
    {
     "name": "stdout",
     "output_type": "stream",
     "text": [
      "2023-03-12 11:57:44,310 — root — INFO — get:3325 — Getting working_distance (BeamType.ELECTRON)\n",
      "2023-03-12 11:57:44,311 — root — INFO — auto_focus_beam:50 — _dog based auto-focus routine\n",
      "2023-03-12 11:57:44,312 — root — INFO — auto_focus_beam:51 — doc: Calculate difference of gaussian (DoG) of an image.\n",
      "\n",
      "    Args:\n",
      "        img (FibsemImage): _description_\n",
      "\n",
      "    Returns:\n",
      "        _type_: _description_\n",
      "    \n",
      "2023-03-12 11:57:44,317 — root — INFO — auto_focus_beam:52 — initial working distance: 2.50e-03\n",
      "2023-03-12 11:57:44,319 — root — INFO — auto_focus_beam:64 — image 0: 2.25e-03\n",
      "2023-03-12 11:57:44,320 — root — INFO — set:3347 — Setting working_distance to 0.0022500000000000003 (BeamType.ELECTRON)\n",
      "2023-03-12 11:57:44,322 — root — INFO — autocontrast:3156 — Autocontrast: BeamType.ELECTRON\n",
      "2023-03-12 11:57:44,373 — root — INFO — auto_focus_beam:64 — image 1: 2.30e-03\n",
      "2023-03-12 11:57:44,375 — root — INFO — set:3347 — Setting working_distance to 0.0023000000000000004 (BeamType.ELECTRON)\n",
      "2023-03-12 11:57:44,376 — root — INFO — autocontrast:3156 — Autocontrast: BeamType.ELECTRON\n",
      "2023-03-12 11:57:44,427 — root — INFO — auto_focus_beam:64 — image 2: 2.35e-03\n",
      "2023-03-12 11:57:44,428 — root — INFO — set:3347 — Setting working_distance to 0.0023500000000000005 (BeamType.ELECTRON)\n",
      "2023-03-12 11:57:44,429 — root — INFO — autocontrast:3156 — Autocontrast: BeamType.ELECTRON\n",
      "2023-03-12 11:57:44,558 — root — INFO — auto_focus_beam:64 — image 3: 2.40e-03\n",
      "2023-03-12 11:57:44,560 — root — INFO — set:3347 — Setting working_distance to 0.0024000000000000002 (BeamType.ELECTRON)\n",
      "2023-03-12 11:57:44,561 — root — INFO — autocontrast:3156 — Autocontrast: BeamType.ELECTRON\n",
      "2023-03-12 11:57:44,641 — root — INFO — auto_focus_beam:64 — image 4: 2.45e-03\n",
      "2023-03-12 11:57:44,643 — root — INFO — set:3347 — Setting working_distance to 0.0024500000000000004 (BeamType.ELECTRON)\n",
      "2023-03-12 11:57:44,645 — root — INFO — autocontrast:3156 — Autocontrast: BeamType.ELECTRON\n",
      "2023-03-12 11:57:44,726 — root — INFO — auto_focus_beam:64 — image 5: 2.50e-03\n",
      "2023-03-12 11:57:44,728 — root — INFO — set:3347 — Setting working_distance to 0.0025000000000000005 (BeamType.ELECTRON)\n",
      "2023-03-12 11:57:44,730 — root — INFO — autocontrast:3156 — Autocontrast: BeamType.ELECTRON\n",
      "2023-03-12 11:57:44,808 — root — INFO — auto_focus_beam:64 — image 6: 2.55e-03\n",
      "2023-03-12 11:57:44,810 — root — INFO — set:3347 — Setting working_distance to 0.0025500000000000006 (BeamType.ELECTRON)\n",
      "2023-03-12 11:57:44,812 — root — INFO — autocontrast:3156 — Autocontrast: BeamType.ELECTRON\n",
      "2023-03-12 11:57:44,899 — root — INFO — auto_focus_beam:64 — image 7: 2.60e-03\n",
      "2023-03-12 11:57:44,902 — root — INFO — set:3347 — Setting working_distance to 0.0026000000000000007 (BeamType.ELECTRON)\n",
      "2023-03-12 11:57:44,907 — root — INFO — autocontrast:3156 — Autocontrast: BeamType.ELECTRON\n",
      "2023-03-12 11:57:45,026 — root — INFO — auto_focus_beam:64 — image 8: 2.65e-03\n",
      "2023-03-12 11:57:45,027 — root — INFO — set:3347 — Setting working_distance to 0.0026500000000000004 (BeamType.ELECTRON)\n",
      "2023-03-12 11:57:45,029 — root — INFO — autocontrast:3156 — Autocontrast: BeamType.ELECTRON\n",
      "2023-03-12 11:57:45,139 — root — INFO — auto_focus_beam:64 — image 9: 2.70e-03\n",
      "2023-03-12 11:57:45,140 — root — INFO — set:3347 — Setting working_distance to 0.0027000000000000006 (BeamType.ELECTRON)\n",
      "2023-03-12 11:57:45,143 — root — INFO — autocontrast:3156 — Autocontrast: BeamType.ELECTRON\n",
      "2023-03-12 11:57:45,241 — root — INFO — auto_focus_beam:64 — image 10: 2.75e-03\n",
      "2023-03-12 11:57:45,242 — root — INFO — set:3347 — Setting working_distance to 0.0027500000000000007 (BeamType.ELECTRON)\n",
      "2023-03-12 11:57:45,245 — root — INFO — autocontrast:3156 — Autocontrast: BeamType.ELECTRON\n",
      "2023-03-12 11:57:45,342 — root — INFO — auto_focus_beam:79 — ['2.25e-03: 0.0000', '2.30e-03: 0.0000', '2.35e-03: 0.0000', '2.40e-03: -0.0000', '2.45e-03: 0.0000', '2.50e-03: 0.0000', '2.55e-03: 0.0000', '2.60e-03: 0.0000', '2.65e-03: -0.0000', '2.70e-03: 0.0000', '2.75e-03: 0.0000']\n",
      "2023-03-12 11:57:45,344 — root — INFO — auto_focus_beam:80 — 9, 2.70e-03, 0.0000\n",
      "2023-03-12 11:57:45,346 — root — INFO — set:3347 — Setting working_distance to 0.0027000000000000006 (BeamType.ELECTRON)\n"
     ]
    }
   ],
   "source": [
    "calibration.auto_focus_beam(microscope, settings, beam_type=BeamType.ELECTRON, metric_fn=_dog, num_steps=10, verbose=True)"
   ]
  },
  {
   "cell_type": "code",
   "execution_count": 23,
   "metadata": {},
   "outputs": [],
   "source": [
    "wd = wd\n",
    "wd1 = microscope.get(\"working_distance\", BeamType.ELECTRON)"
   ]
  },
  {
   "cell_type": "code",
   "execution_count": 24,
   "metadata": {},
   "outputs": [
    {
     "name": "stdout",
     "output_type": "stream",
     "text": [
      "working distance: 4.000000e-03\n",
      "working distance: 3.900000e-03\n"
     ]
    }
   ],
   "source": [
    "print(f\"working distance: {wd:2e}\") # default\n",
    "print(f\"working distance: {wd1:2e}\") # fibsem "
   ]
  },
  {
   "cell_type": "code",
   "execution_count": 25,
   "metadata": {},
   "outputs": [
    {
     "name": "stdout",
     "output_type": "stream",
     "text": [
      "2023-03-13 10:46:55,443 — root — INFO — set:1555 — ELECTRON working distance set to 0.004 m.\n",
      "2023-03-13 10:46:55,444 — root — WARNING — set:1652 — Unknown key: working_distance (BeamType.ELECTRON)\n",
      "2023-03-13 10:46:55,445 — root — INFO — autocontrast:493 — Running autocontrast on ELECTRON.\n",
      "2023-03-13 10:46:55,865 — root — INFO — acquire_image:432 — acquiring new ELECTRON image.\n"
     ]
    }
   ],
   "source": [
    "settings.image.beam_type = BeamType.ELECTRON\n",
    "settings.image.save = True\n",
    "\n",
    "from fibsem import acquire\n",
    "\n",
    "microscope.set(\"working_distance\", wd, BeamType.ELECTRON)\n",
    "settings.image.label = \"default_autofocus\"\n",
    "eb_image = acquire.new_image(microscope, settings.image)"
   ]
  },
  {
   "cell_type": "code",
   "execution_count": 26,
   "metadata": {},
   "outputs": [
    {
     "name": "stdout",
     "output_type": "stream",
     "text": [
      "2023-03-13 10:47:02,722 — root — INFO — set:1555 — ELECTRON working distance set to 0.0039000000000000003 m.\n",
      "2023-03-13 10:47:02,723 — root — WARNING — set:1652 — Unknown key: working_distance (BeamType.ELECTRON)\n",
      "2023-03-13 10:47:02,724 — root — INFO — autocontrast:493 — Running autocontrast on ELECTRON.\n",
      "2023-03-13 10:47:03,275 — root — INFO — acquire_image:432 — acquiring new ELECTRON image.\n"
     ]
    }
   ],
   "source": [
    "microscope.set(\"working_distance\", wd1, BeamType.ELECTRON)\n",
    "settings.image.label = \"fibsem_autofocus\"\n",
    "eb_image = acquire.new_image(microscope, settings.image)"
   ]
  },
  {
   "cell_type": "code",
   "execution_count": 27,
   "metadata": {},
   "outputs": [
    {
     "name": "stdout",
     "output_type": "stream",
     "text": [
      "wd_3_5000e-03\n",
      "2023-03-13 10:47:24,780 — root — INFO — set:1555 — ELECTRON working distance set to 0.0035 m.\n",
      "2023-03-13 10:47:24,781 — root — WARNING — set:1652 — Unknown key: working_distance (BeamType.ELECTRON)\n",
      "2023-03-13 10:47:24,781 — root — INFO — autocontrast:493 — Running autocontrast on ELECTRON.\n",
      "2023-03-13 10:47:25,253 — root — INFO — acquire_image:432 — acquiring new ELECTRON image.\n",
      "wd_3_5526e-03\n",
      "2023-03-13 10:47:30,701 — root — INFO — set:1555 — ELECTRON working distance set to 0.0035526315789473684 m.\n",
      "2023-03-13 10:47:30,703 — root — WARNING — set:1652 — Unknown key: working_distance (BeamType.ELECTRON)\n",
      "2023-03-13 10:47:30,704 — root — INFO — autocontrast:493 — Running autocontrast on ELECTRON.\n",
      "2023-03-13 10:47:31,091 — root — INFO — acquire_image:432 — acquiring new ELECTRON image.\n",
      "wd_3_6053e-03\n",
      "2023-03-13 10:47:36,869 — root — INFO — set:1555 — ELECTRON working distance set to 0.003605263157894737 m.\n",
      "2023-03-13 10:47:36,870 — root — WARNING — set:1652 — Unknown key: working_distance (BeamType.ELECTRON)\n",
      "2023-03-13 10:47:36,871 — root — INFO — autocontrast:493 — Running autocontrast on ELECTRON.\n",
      "2023-03-13 10:47:37,252 — root — INFO — acquire_image:432 — acquiring new ELECTRON image.\n",
      "wd_3_6579e-03\n",
      "2023-03-13 10:47:42,735 — root — INFO — set:1555 — ELECTRON working distance set to 0.003657894736842105 m.\n",
      "2023-03-13 10:47:42,736 — root — WARNING — set:1652 — Unknown key: working_distance (BeamType.ELECTRON)\n",
      "2023-03-13 10:47:42,737 — root — INFO — autocontrast:493 — Running autocontrast on ELECTRON.\n",
      "2023-03-13 10:47:43,151 — root — INFO — acquire_image:432 — acquiring new ELECTRON image.\n",
      "wd_3_7105e-03\n",
      "2023-03-13 10:47:48,657 — root — INFO — set:1555 — ELECTRON working distance set to 0.0037105263157894736 m.\n",
      "2023-03-13 10:47:48,658 — root — WARNING — set:1652 — Unknown key: working_distance (BeamType.ELECTRON)\n",
      "2023-03-13 10:47:48,659 — root — INFO — autocontrast:493 — Running autocontrast on ELECTRON.\n",
      "2023-03-13 10:47:49,041 — root — INFO — acquire_image:432 — acquiring new ELECTRON image.\n",
      "wd_3_7632e-03\n",
      "2023-03-13 10:47:54,543 — root — INFO — set:1555 — ELECTRON working distance set to 0.003763157894736842 m.\n",
      "2023-03-13 10:47:54,544 — root — WARNING — set:1652 — Unknown key: working_distance (BeamType.ELECTRON)\n",
      "2023-03-13 10:47:54,545 — root — INFO — autocontrast:493 — Running autocontrast on ELECTRON.\n",
      "2023-03-13 10:47:54,931 — root — INFO — acquire_image:432 — acquiring new ELECTRON image.\n",
      "wd_3_8158e-03\n",
      "2023-03-13 10:48:00,388 — root — INFO — set:1555 — ELECTRON working distance set to 0.0038157894736842103 m.\n",
      "2023-03-13 10:48:00,389 — root — WARNING — set:1652 — Unknown key: working_distance (BeamType.ELECTRON)\n",
      "2023-03-13 10:48:00,390 — root — INFO — autocontrast:493 — Running autocontrast on ELECTRON.\n",
      "2023-03-13 10:48:00,844 — root — INFO — acquire_image:432 — acquiring new ELECTRON image.\n",
      "wd_3_8684e-03\n",
      "2023-03-13 10:48:06,501 — root — INFO — set:1555 — ELECTRON working distance set to 0.0038684210526315787 m.\n",
      "2023-03-13 10:48:06,502 — root — WARNING — set:1652 — Unknown key: working_distance (BeamType.ELECTRON)\n",
      "2023-03-13 10:48:06,503 — root — INFO — autocontrast:493 — Running autocontrast on ELECTRON.\n",
      "2023-03-13 10:48:06,887 — root — INFO — acquire_image:432 — acquiring new ELECTRON image.\n",
      "wd_3_9211e-03\n",
      "2023-03-13 10:48:12,478 — root — INFO — set:1555 — ELECTRON working distance set to 0.0039210526315789475 m.\n",
      "2023-03-13 10:48:12,479 — root — WARNING — set:1652 — Unknown key: working_distance (BeamType.ELECTRON)\n",
      "2023-03-13 10:48:12,480 — root — INFO — autocontrast:493 — Running autocontrast on ELECTRON.\n",
      "2023-03-13 10:48:12,913 — root — INFO — acquire_image:432 — acquiring new ELECTRON image.\n",
      "wd_3_9737e-03\n",
      "2023-03-13 10:48:18,499 — root — INFO — set:1555 — ELECTRON working distance set to 0.003973684210526316 m.\n",
      "2023-03-13 10:48:18,501 — root — WARNING — set:1652 — Unknown key: working_distance (BeamType.ELECTRON)\n",
      "2023-03-13 10:48:18,502 — root — INFO — autocontrast:493 — Running autocontrast on ELECTRON.\n",
      "2023-03-13 10:48:18,900 — root — INFO — acquire_image:432 — acquiring new ELECTRON image.\n",
      "wd_4_0263e-03\n",
      "2023-03-13 10:48:24,325 — root — INFO — set:1555 — ELECTRON working distance set to 0.004026315789473684 m.\n",
      "2023-03-13 10:48:24,326 — root — WARNING — set:1652 — Unknown key: working_distance (BeamType.ELECTRON)\n",
      "2023-03-13 10:48:24,327 — root — INFO — autocontrast:493 — Running autocontrast on ELECTRON.\n",
      "2023-03-13 10:48:24,780 — root — INFO — acquire_image:432 — acquiring new ELECTRON image.\n",
      "wd_4_0789e-03\n",
      "2023-03-13 10:48:30,224 — root — INFO — set:1555 — ELECTRON working distance set to 0.004078947368421053 m.\n",
      "2023-03-13 10:48:30,225 — root — WARNING — set:1652 — Unknown key: working_distance (BeamType.ELECTRON)\n",
      "2023-03-13 10:48:30,226 — root — INFO — autocontrast:493 — Running autocontrast on ELECTRON.\n",
      "2023-03-13 10:48:30,639 — root — INFO — acquire_image:432 — acquiring new ELECTRON image.\n",
      "wd_4_1316e-03\n",
      "2023-03-13 10:48:36,200 — root — INFO — set:1555 — ELECTRON working distance set to 0.004131578947368421 m.\n",
      "2023-03-13 10:48:36,202 — root — WARNING — set:1652 — Unknown key: working_distance (BeamType.ELECTRON)\n",
      "2023-03-13 10:48:36,203 — root — INFO — autocontrast:493 — Running autocontrast on ELECTRON.\n",
      "2023-03-13 10:48:36,599 — root — INFO — acquire_image:432 — acquiring new ELECTRON image.\n",
      "wd_4_1842e-03\n",
      "2023-03-13 10:48:42,045 — root — INFO — set:1555 — ELECTRON working distance set to 0.004184210526315789 m.\n",
      "2023-03-13 10:48:42,046 — root — WARNING — set:1652 — Unknown key: working_distance (BeamType.ELECTRON)\n",
      "2023-03-13 10:48:42,047 — root — INFO — autocontrast:493 — Running autocontrast on ELECTRON.\n",
      "2023-03-13 10:48:42,429 — root — INFO — acquire_image:432 — acquiring new ELECTRON image.\n",
      "wd_4_2368e-03\n",
      "2023-03-13 10:48:47,906 — root — INFO — set:1555 — ELECTRON working distance set to 0.004236842105263158 m.\n",
      "2023-03-13 10:48:47,907 — root — WARNING — set:1652 — Unknown key: working_distance (BeamType.ELECTRON)\n",
      "2023-03-13 10:48:47,908 — root — INFO — autocontrast:493 — Running autocontrast on ELECTRON.\n",
      "2023-03-13 10:48:48,452 — root — INFO — acquire_image:432 — acquiring new ELECTRON image.\n",
      "wd_4_2895e-03\n",
      "2023-03-13 10:48:54,326 — root — INFO — set:1555 — ELECTRON working distance set to 0.004289473684210526 m.\n",
      "2023-03-13 10:48:54,327 — root — WARNING — set:1652 — Unknown key: working_distance (BeamType.ELECTRON)\n",
      "2023-03-13 10:48:54,328 — root — INFO — autocontrast:493 — Running autocontrast on ELECTRON.\n",
      "2023-03-13 10:48:54,787 — root — INFO — acquire_image:432 — acquiring new ELECTRON image.\n",
      "wd_4_3421e-03\n",
      "2023-03-13 10:49:00,299 — root — INFO — set:1555 — ELECTRON working distance set to 0.0043421052631578945 m.\n",
      "2023-03-13 10:49:00,301 — root — WARNING — set:1652 — Unknown key: working_distance (BeamType.ELECTRON)\n",
      "2023-03-13 10:49:00,302 — root — INFO — autocontrast:493 — Running autocontrast on ELECTRON.\n",
      "2023-03-13 10:49:00,720 — root — INFO — acquire_image:432 — acquiring new ELECTRON image.\n",
      "wd_4_3947e-03\n",
      "2023-03-13 10:49:06,504 — root — INFO — set:1555 — ELECTRON working distance set to 0.004394736842105263 m.\n",
      "2023-03-13 10:49:06,505 — root — WARNING — set:1652 — Unknown key: working_distance (BeamType.ELECTRON)\n",
      "2023-03-13 10:49:06,506 — root — INFO — autocontrast:493 — Running autocontrast on ELECTRON.\n",
      "2023-03-13 10:49:06,915 — root — INFO — acquire_image:432 — acquiring new ELECTRON image.\n",
      "wd_4_4474e-03\n",
      "2023-03-13 10:49:12,403 — root — INFO — set:1555 — ELECTRON working distance set to 0.004447368421052631 m.\n",
      "2023-03-13 10:49:12,404 — root — WARNING — set:1652 — Unknown key: working_distance (BeamType.ELECTRON)\n",
      "2023-03-13 10:49:12,405 — root — INFO — autocontrast:493 — Running autocontrast on ELECTRON.\n",
      "2023-03-13 10:49:12,792 — root — INFO — acquire_image:432 — acquiring new ELECTRON image.\n",
      "wd_4_5000e-03\n",
      "2023-03-13 10:49:18,239 — root — INFO — set:1555 — ELECTRON working distance set to 0.0045 m.\n",
      "2023-03-13 10:49:18,240 — root — WARNING — set:1652 — Unknown key: working_distance (BeamType.ELECTRON)\n",
      "2023-03-13 10:49:18,241 — root — INFO — autocontrast:493 — Running autocontrast on ELECTRON.\n",
      "2023-03-13 10:49:18,690 — root — INFO — acquire_image:432 — acquiring new ELECTRON image.\n"
     ]
    }
   ],
   "source": [
    "import numpy as np\n",
    "wds = np.linspace(3.5e-3, 4.5e-3, 20)\n",
    "\n",
    "settings.image.save = True\n",
    "settings.image.save_path = r\"C:\\Users\\Admin\\Github\\fibsem\\demo_2023-03-13-10-27-17AM\"\n",
    "\n",
    "for wd in wds:\n",
    "    print(f\"wd_{wd:.4e}\".replace('.', '_'))\n",
    "    microscope.set(\"working_distance\", wd, BeamType.ELECTRON)\n",
    "    settings.image.label = f\"wd_{wd:.4e}\".replace('.', '_')\n",
    "    eb_image = acquire.new_image(microscope, settings.image)"
   ]
  },
  {
   "cell_type": "code",
   "execution_count": null,
   "metadata": {},
   "outputs": [],
   "source": []
  }
 ],
 "metadata": {
  "kernelspec": {
   "display_name": "Python 3.9.13 ('autoliftout')",
   "language": "python",
   "name": "python3"
  },
  "language_info": {
   "codemirror_mode": {
    "name": "ipython",
    "version": 3
   },
   "file_extension": ".py",
   "mimetype": "text/x-python",
   "name": "python",
   "nbconvert_exporter": "python",
   "pygments_lexer": "ipython3",
   "version": "3.10.4"
  },
  "orig_nbformat": 4,
  "vscode": {
   "interpreter": {
    "hash": "ea78b76b2c840a5577de64ec81812954f7a3177bd4e73b9895b7933ce81940d2"
   }
  }
 },
 "nbformat": 4,
 "nbformat_minor": 2
}
