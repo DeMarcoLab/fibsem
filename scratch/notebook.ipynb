{
 "cells": [
  {
   "cell_type": "markdown",
   "metadata": {},
   "source": [
    "### Testing Notebook"
   ]
  },
  {
   "cell_type": "code",
   "execution_count": null,
   "metadata": {},
   "outputs": [],
   "source": [
    "%load_ext autoreload \n",
    "%autoreload 2\n",
    "\n",
    "from fibsem import utils\n",
    "from fibsem.structures import BeamType\n",
    "from pprint import pprint\n",
    "\n",
    "microscope, settings = utils.setup_session()"
   ]
  },
  {
   "cell_type": "code",
   "execution_count": null,
   "metadata": {},
   "outputs": [],
   "source": [
    "electron_settings = microscope.get_beam_settings(BeamType.ELECTRON)\n",
    "pprint(electron_settings.__to_dict__())\n",
    "\n",
    "electron_settings.shift.x = 10e-6\n",
    "microscope.set_beam_settings(electron_settings)\n",
    "\n",
    "ion_settings = microscope.get_beam_settings(BeamType.ION)\n",
    "pprint(ion_settings.__to_dict__())\n",
    "\n",
    "ion_settings.shift.x = 10e-6\n",
    "microscope.set_beam_settings(ion_settings)"
   ]
  },
  {
   "cell_type": "code",
   "execution_count": null,
   "metadata": {},
   "outputs": [],
   "source": [
    "electron_settings = microscope.get_beam_system_settings(BeamType.ELECTRON)\n",
    "pprint(electron_settings.__to_dict__())\n",
    "ion_settings = microscope.get_beam_system_settings(BeamType.ION)\n",
    "pprint(ion_settings.__to_dict__())"
   ]
  },
  {
   "cell_type": "code",
   "execution_count": null,
   "metadata": {},
   "outputs": [],
   "source": [
    "eb_detector = microscope.get_detector_settings(BeamType.ELECTRON)\n",
    "pprint(eb_detector.__to_dict__())\n",
    "ib_detector = microscope.get_detector_settings(BeamType.ION)\n",
    "pprint(ib_detector.__to_dict__())"
   ]
  },
  {
   "cell_type": "code",
   "execution_count": null,
   "metadata": {},
   "outputs": [],
   "source": [
    "state = microscope.get_current_microscope_state()\n",
    "pprint(state.__to_dict__())"
   ]
  },
  {
   "cell_type": "code",
   "execution_count": null,
   "metadata": {},
   "outputs": [],
   "source": [
    "from fibsem import acquire\n",
    "image = acquire.acquire_image(microscope, settings.image) "
   ]
  },
  {
   "cell_type": "code",
   "execution_count": 32,
   "metadata": {},
   "outputs": [
    {
     "name": "stdout",
     "output_type": "stream",
     "text": [
      "Overwriting autoscript version to 4.7, for Monash dev install\n",
      "Pumped\n",
      "0.000398\n"
     ]
    }
   ],
   "source": [
    "chamber_state = microscope.get(\"chamber_state\")\n",
    "print(chamber_state)\n",
    "chamber_pressure = microscope.get(\"chamber_pressure\")\n",
    "print(chamber_pressure)"
   ]
  },
  {
   "cell_type": "code",
   "execution_count": null,
   "metadata": {},
   "outputs": [],
   "source": []
  }
 ],
 "metadata": {
  "kernelspec": {
   "display_name": "liftout",
   "language": "python",
   "name": "python3"
  },
  "language_info": {
   "codemirror_mode": {
    "name": "ipython",
    "version": 3
   },
   "file_extension": ".py",
   "mimetype": "text/x-python",
   "name": "python",
   "nbconvert_exporter": "python",
   "pygments_lexer": "ipython3",
   "version": "3.9.12"
  }
 },
 "nbformat": 4,
 "nbformat_minor": 2
}
