{
 "cells": [
  {
   "cell_type": "code",
   "execution_count": 1,
   "metadata": {},
   "outputs": [],
   "source": [
    "from fibsem.structures import (BeamType, FibsemMillingSettings,\n",
    "                               FibsemPatternSettings, MicroscopeSettings,\n",
    "                               Point, FibsemPattern)\n",
    "from fibsem.patterning import FibsemMillingStage                              "
   ]
  },
  {
   "cell_type": "code",
   "execution_count": 2,
   "metadata": {},
   "outputs": [],
   "source": [
    "milling_settings = FibsemMillingSettings()\n",
    "point = Point(0, 0)\n",
    "pattern_settings = FibsemPatternSettings()\n",
    "\n"
   ]
  },
  {
   "cell_type": "code",
   "execution_count": 3,
   "metadata": {},
   "outputs": [
    {
     "name": "stdout",
     "output_type": "stream",
     "text": [
      "FibsemMillingSettings(milling_current=2e-11, spot_size=5e-08, rate=3e-11, dwell_time=1e-06, hfw=0.00015, patterning_mode='Serial', application_file='Si', preset='30 keV; UHR imaging', spacing=1.0)\n"
     ]
    }
   ],
   "source": []
  }
 ],
 "metadata": {
  "kernelspec": {
   "display_name": "fibsem",
   "language": "python",
   "name": "python3"
  },
  "language_info": {
   "codemirror_mode": {
    "name": "ipython",
    "version": 3
   },
   "file_extension": ".py",
   "mimetype": "text/x-python",
   "name": "python",
   "nbconvert_exporter": "python",
   "pygments_lexer": "ipython3",
   "version": "3.9.17"
  },
  "orig_nbformat": 4
 },
 "nbformat": 4,
 "nbformat_minor": 2
}
