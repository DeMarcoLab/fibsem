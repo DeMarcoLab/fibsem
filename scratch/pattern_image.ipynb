{
 "cells": [
  {
   "cell_type": "code",
   "execution_count": 2,
   "metadata": {},
   "outputs": [],
   "source": [
    "from fibsem.structures import (BeamType, FibsemMillingSettings,\n",
    "                               FibsemPatternSettings, MicroscopeSettings,\n",
    "                               Point, FibsemPattern)\n",
    "from fibsem.patterning import FibsemMillingStage    \n",
    "from fibsem.ui.utils import import_milling_stages_yaml                          "
   ]
  },
  {
   "cell_type": "code",
   "execution_count": 3,
   "metadata": {},
   "outputs": [
    {
     "ename": "",
     "evalue": "",
     "output_type": "error",
     "traceback": [
      "\u001b[1;31mCannot execute code, session has been disposed. Please try restarting the Kernel."
     ]
    },
    {
     "ename": "",
     "evalue": "",
     "output_type": "error",
     "traceback": [
      "\u001b[1;31mThe Kernel crashed while executing code in the the current cell or a previous cell. Please review the code in the cell(s) to identify a possible cause of the failure. Click <a href='https://aka.ms/vscodeJupyterKernelCrash'>here</a> for more info. View Jupyter <a href='command:jupyter.viewOutput'>log</a> for further details."
     ]
    }
   ],
   "source": [
    "milling_stages = import_milling_stages_yaml(r'C:\\Users\\rkan0039\\Documents\\codeFIBSEM\\fibsem\\fibsem\\log\\test3.yaml')\n"
   ]
  },
  {
   "cell_type": "code",
   "execution_count": 3,
   "metadata": {},
   "outputs": [
    {
     "name": "stdout",
     "output_type": "stream",
     "text": [
      "FibsemMillingSettings(milling_current=2e-11, spot_size=5e-08, rate=3e-11, dwell_time=1e-06, hfw=0.00015, patterning_mode='Serial', application_file='Si', preset='30 keV; UHR imaging', spacing=1.0)\n"
     ]
    }
   ],
   "source": []
  }
 ],
 "metadata": {
  "kernelspec": {
   "display_name": "fibsem",
   "language": "python",
   "name": "python3"
  },
  "language_info": {
   "codemirror_mode": {
    "name": "ipython",
    "version": 3
   },
   "file_extension": ".py",
   "mimetype": "text/x-python",
   "name": "python",
   "nbconvert_exporter": "python",
   "pygments_lexer": "ipython3",
   "version": "3.9.17"
  },
  "orig_nbformat": 4
 },
 "nbformat": 4,
 "nbformat_minor": 2
}
