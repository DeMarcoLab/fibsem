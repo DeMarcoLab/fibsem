{
 "cells": [
  {
   "cell_type": "code",
   "execution_count": 13,
   "metadata": {},
   "outputs": [],
   "source": [
    "import numpy as np\n",
    "import zarr\n",
    "import os\n",
    "\n",
    "from pycromanager import Bridge\n",
    "from pycromanager import Studio; "
   ]
  },
  {
   "cell_type": "markdown",
   "metadata": {},
   "source": [
    "construct java object"
   ]
  },
  {
   "cell_type": "code",
   "execution_count": 2,
   "metadata": {},
   "outputs": [
    {
     "name": "stdout",
     "output_type": "stream",
     "text": [
      "<pycromanager.bridge.mmcorej_CMMCore object at 0x00000176515B9430>\n"
     ]
    }
   ],
   "source": [
    "from pycromanager import Core\n",
    "\n",
    "core = Core()\n",
    "print(core)"
   ]
  },
  {
   "cell_type": "code",
   "execution_count": 4,
   "metadata": {},
   "outputs": [
    {
     "name": "stderr",
     "output_type": "stream",
     "text": [
      "C:\\Users\\lucil\\AppData\\Local\\Temp\\ipykernel_31216\\3220403713.py:3: DeprecationWarning: Deprecated. use \"from pycromanager import Studio; studio = Studio()\"\n",
      "  mm = bridge.get_studio()\n"
     ]
    }
   ],
   "source": [
    "studio = Studio()\n",
    "bridge = Bridge()\n",
    "mm = bridge.get_studio()\n",
    "#ds = mm.displays().get_active_data_viewer().get_data_provider()"
   ]
  },
  {
   "cell_type": "markdown",
   "metadata": {},
   "source": [
    "parameters"
   ]
  },
  {
   "cell_type": "code",
   "execution_count": 26,
   "metadata": {},
   "outputs": [],
   "source": [
    "nb_tp = 500  # number of time points\n",
    "nb_ch = 2  # number of channels\n",
    "nz = 600  # number of z slices\n",
    "ny = 1024  # number of y pixels in each image\n",
    "nx = 1536  # number of x pixels in each image\n",
    "save_to = r\"C:\\Users\\lucil\\OneDrive\\Bureau\\DeMarco_Lab\\fibse\\zarr folder\\data.zarr\"  # save to this directory"
   ]
  },
  {
   "cell_type": "markdown",
   "metadata": {},
   "source": [
    "create zarr folder"
   ]
  },
  {
   "cell_type": "code",
   "execution_count": 27,
   "metadata": {},
   "outputs": [
    {
     "name": "stdout",
     "output_type": "stream",
     "text": [
      "/\n",
      " ├── ch0 (500, 600, 1024, 1536) int16\n",
      " └── ch1 (2, 600, 1024, 1536) int16\n"
     ]
    }
   ],
   "source": [
    "if not os.path.isdir(save_to):\n",
    "    # create new zarr folder\n",
    "    root = zarr.open(save_to, mode=\"w\")\n",
    "    ch0 = root.zeros(\n",
    "        \"ch0\", shape=(nb_tp, nz, ny, nx), chunks=(1, 64, 512, 512), dtype=\"i2\"\n",
    "    )\n",
    "    ch1 = root.zeros(\n",
    "        \"ch1\", shape=(nb_ch, nz, ny, nx), chunks=(1, 64, 512, 512), dtype=\"i2\"\n",
    "    )\n",
    "    print(root.tree())"
   ]
  },
  {
   "cell_type": "code",
   "execution_count": 28,
   "metadata": {},
   "outputs": [],
   "source": [
    "# open the zarr folder to save data into it\n",
    "root = zarr.open(save_to, mode=\"rw\")\n",
    "ch0 = root[\"ch0\"]\n",
    "ch1 = root[\"ch1\"]"
   ]
  },
  {
   "cell_type": "code",
   "execution_count": null,
   "metadata": {},
   "outputs": [],
   "source": [
    "data_stack = np.zeros((nz, ny, nx))  # initialize nparray to store a z-stack\n",
    "for t in range(nb_tp):\n",
    "    for ch in range(nb_ch):\n",
    "        for z in range(nz):\n",
    "            coords_string = \"t={0},p=0,c={1},z={2}\".format(t, ch, z)\n",
    "            coords = mm.data().create_coords(coords_string)\n",
    "            mimg = ds.get_image(coords)\n",
    "            data_stack[z, :, :] = np.reshape(\n",
    "                mimg.get_raw_pixels(), newshape=[mimg.get_height(), mimg.get_width()]\n",
    "            )\n",
    "        if ch == 0:\n",
    "            ch0[t, :, :, :] = data_stack\n",
    "        else:\n",
    "            ch1[t, :, :, :] = data_stack\n",
    "\n",
    "bridge.close()"
   ]
  }
 ],
 "metadata": {
  "kernelspec": {
   "display_name": "Python 3.6.13",
   "language": "python",
   "name": "python3"
  },
  "language_info": {
   "codemirror_mode": {
    "name": "ipython",
    "version": 3
   },
   "file_extension": ".py",
   "mimetype": "text/x-python",
   "name": "python",
   "nbconvert_exporter": "python",
   "pygments_lexer": "ipython3",
   "version": "3.9.13"
  },
  "orig_nbformat": 4,
  "vscode": {
   "interpreter": {
    "hash": "dfd385977d9ccdc365b7fa138fb5baebfcc47440065f7b0362d539c2851e81a2"
   }
  }
 },
 "nbformat": 4,
 "nbformat_minor": 2
}
