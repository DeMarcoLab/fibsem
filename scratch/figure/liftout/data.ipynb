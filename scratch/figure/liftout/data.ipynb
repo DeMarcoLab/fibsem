{
 "cells": [
  {
   "cell_type": "markdown",
   "metadata": {},
   "source": [
    "### Serial Liftout Data\n"
   ]
  },
  {
   "cell_type": "code",
   "execution_count": null,
   "metadata": {},
   "outputs": [],
   "source": [
    "%load_ext autoreload\n",
    "%autoreload 2\n",
    "\n",
    "import glob\n",
    "import os\n",
    "\n",
    "import matplotlib.pyplot as plt\n",
    "from random import shuffle\n",
    "\n",
    "\n",
    "\n",
    "PATH =  \"/home/patrick/github/data/liftout/serial-liftout/\"\n",
    "RAW_PATH = os.path.join(PATH, \"raw/20230322_Cele_NK2476_B2_G1_SerLO/Movie\")\n",
    "DATA_PATH = os.path.join(PATH, \"data\")\n",
    "RAW_PATH = os.path.join(DATA_PATH, \"tmp\")\n",
    "TRAIN_PATH = os.path.join(DATA_PATH, \"train\")\n",
    "TEST_PATH = os.path.join(DATA_PATH, \"test\")\n",
    "\n",
    "\n",
    "os.makedirs(TRAIN_PATH, exist_ok=True)\n",
    "os.makedirs(TEST_PATH, exist_ok=True)\n",
    "\n",
    "\n",
    "filenames = glob.glob(os.path.join(RAW_PATH, \"*Channel 2*.tif\"))\n",
    "\n",
    "# shuffle(filenames)\n",
    "\n",
    "print(f\"Found {len(filenames)} files\")"
   ]
  },
  {
   "cell_type": "code",
   "execution_count": null,
   "metadata": {},
   "outputs": [],
   "source": [
    "\n",
    "shuffle(filenames)\n",
    "\n",
    "import tifffile as tff\n",
    "\n",
    "shapes = {  }\n",
    "new_filenames = glob.glob(os.path.join(TRAIN_PATH, \"*.tif\"))\n",
    "processed = []\n",
    "for i, fname in enumerate(filenames):\n",
    "    # print(fname)\n",
    "\n",
    "    basename = os.path.basename(fname)\n",
    "    newfname = basename.split(\" \")[-1].removesuffix(\".tif\")\n",
    "\n",
    "    print(basename, newfname, f\"{i:05d}\")\n",
    "\n",
    "    if newfname in new_filenames:\n",
    "        print(\"DUPLICATE, SKIPPING\")\n",
    "        continue\n",
    "\n",
    "    new_filenames.append(newfname)\n",
    "\n",
    "    img = tff.imread(fname)\n",
    "\n",
    "    CROP_PX = 45\n",
    "    crop_img = img[:-CROP_PX, :]\n",
    "    # print(basename, newfname, crop_img.shape)\n",
    "\n",
    "    # # resize image to 1536x1024\n",
    "\n",
    "    import cv2\n",
    "    crop_img = cv2.resize(crop_img, (1536, 1024))\n",
    "\n",
    "    # fig, ax = plt.subplots(1, 2, figsize=(20, 5))\n",
    "    # ax[0].imshow(img, cmap=\"gray\")\n",
    "    # ax[1].imshow(crop_img, cmap=\"gray\")\n",
    "    # plt.show()\n",
    "\n",
    "\n",
    "    if i <= 50:        \n",
    "        tff.imwrite(os.path.join(TRAIN_PATH, f\"{newfname}.tif\"), crop_img)\n",
    "        # print(i, \"TRAIN\")\n",
    "    else:\n",
    "        # print(i, \"TEST\")\n",
    "        tff.imwrite(os.path.join(TEST_PATH, f\"{newfname}.tif\"), crop_img)\n",
    "\n",
    "    processed.append(newfname)\n",
    "\n",
    "    if i > 300:\n",
    "        break"
   ]
  },
  {
   "cell_type": "code",
   "execution_count": null,
   "metadata": {},
   "outputs": [],
   "source": [
    "print(shapes)"
   ]
  },
  {
   "cell_type": "code",
   "execution_count": null,
   "metadata": {},
   "outputs": [],
   "source": [
    "\n",
    "\n",
    "\n"
   ]
  },
  {
   "cell_type": "markdown",
   "metadata": {},
   "source": [
    "### EVALS\n"
   ]
  },
  {
   "cell_type": "code",
   "execution_count": null,
   "metadata": {},
   "outputs": [],
   "source": [
    "filenames = sorted(glob.glob(os.path.join(TEST_PATH, \"*.tif\")))\n",
    "\n",
    "EVAL_PATH = os.path.join(DATA_PATH, \"eval/v3/final\")\n",
    "os.makedirs(EVAL_PATH, exist_ok=True)\n",
    "\n",
    "print(f\"Found {len(filenames)} files\")\n",
    "\n",
    "from fibsem.structures import FibsemImage\n",
    "from fibsem.detection import detection\n",
    "from fibsem.segmentation.model import load_model\n",
    "\n",
    "\n",
    "CHECKPOINTS = [\n",
    "    # {\"checkpoint\": \"/home/patrick/github/fibsem/fibsem/segmentation/models/autoliftout/serial/base/v3/model04.pt\", \"encoder\": \"resnet34\", \"nc\": 5},\n",
    "    # {\"checkpoint\": \"/home/patrick/github/fibsem/fibsem/segmentation/models/autoliftout/serial/base/v3/model14.pt\", \"encoder\": \"resnet34\", \"nc\": 5},\n",
    "    # {\"checkpoint\": \"/home/patrick/github/fibsem/fibsem/segmentation/models/autoliftout/serial/base/v3/model19.pt\", \"encoder\": \"resnet34\", \"nc\": 5},\n",
    "    # {\"checkpoint\": \"/home/patrick/github/fibsem/fibsem/segmentation/models/autoliftout/serial/base/v3/model24.pt\", \"encoder\": \"resnet34\", \"nc\": 5},\n",
    "    {\"checkpoint\": \"/home/patrick/github/fibsem/fibsem/segmentation/models/autoliftout/serial/base/v3/model29.pt\", \"encoder\": \"resnet34\", \"nc\": 5},\n",
    "]\n",
    "\n",
    "# shuffle(filenames)\n",
    "for fname in filenames:\n",
    "    \n",
    "    img = FibsemImage.load(fname)\n",
    "\n",
    "    features = [detection.LamellaCentre(), detection.NeedleTipBottom(), detection.CopperAdapterBottomEdge()]\n",
    "    dets = []\n",
    "    for i, ckpt in enumerate(CHECKPOINTS):\n",
    "\n",
    "        model = load_model(checkpoint=ckpt[\"checkpoint\"], encoder=ckpt[\"encoder\"], nc=ckpt[\"nc\"])\n",
    "\n",
    "        det  = detection.detect_features(img.data, model, features=features, pixelsize=25e-9, filter=True)\n",
    "        dets.append(det)\n",
    "    \n",
    "    print(fname)\n",
    "    fig = detection.plot_detections(dets, titles=[os.path.basename(ckpt[\"checkpoint\"]) for ckpt in CHECKPOINTS])\n",
    "\n",
    "    # save to eval\n",
    "    eval_fname = os.path.join(EVAL_PATH, os.path.basename(fname))\n",
    "    # as png\n",
    "    plt.savefig(eval_fname.removesuffix(\".tif\") + \".png\", dpi=300, bbox_inches=\"tight\") \n",
    "    # save figure\n",
    "    plt.close(fig)\n",
    "\n",
    "    # break\n"
   ]
  },
  {
   "cell_type": "code",
   "execution_count": null,
   "metadata": {},
   "outputs": [],
   "source": []
  }
 ],
 "metadata": {
  "kernelspec": {
   "display_name": "fibsem",
   "language": "python",
   "name": "python3"
  },
  "language_info": {
   "codemirror_mode": {
    "name": "ipython",
    "version": 3
   },
   "file_extension": ".py",
   "mimetype": "text/x-python",
   "name": "python",
   "nbconvert_exporter": "python",
   "pygments_lexer": "ipython3",
   "version": "3.9.16"
  },
  "orig_nbformat": 4
 },
 "nbformat": 4,
 "nbformat_minor": 2
}
