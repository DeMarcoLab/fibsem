{
 "cells": [
  {
   "cell_type": "markdown",
   "metadata": {},
   "source": [
    "### AutoLamella Model\n"
   ]
  },
  {
   "cell_type": "code",
   "execution_count": null,
   "metadata": {},
   "outputs": [],
   "source": [
    "# openfibsem-baseline-34.pt\n",
    "# autolamella-02-34.pt\n",
    "\n",
    "\n",
    "%load_ext autoreload\n",
    "%autoreload 2\n",
    "\n",
    "import os\n",
    "import glob\n",
    "import numpy as np\n",
    "import matplotlib.pyplot as plt\n",
    "\n",
    "TEST_DATA_PATH = \"/home/patrick/github/data/autolamella/test\"\n",
    "\n",
    "\n",
    "filenames = glob.glob(os.path.join(TEST_DATA_PATH, \"*.tif\"))\n",
    "\n",
    "\n",
    "print(filenames)"
   ]
  },
  {
   "cell_type": "code",
   "execution_count": null,
   "metadata": {},
   "outputs": [],
   "source": [
    "from fibsem.segmentation.model import load_model\n",
    "from fibsem.detection import detection\n",
    "from fibsem.structures import FibsemImage\n",
    "\n",
    "CHECKPOINT_BASELINE = \"openfibsem-baseline-34.pt\" # autoliftout-base\n",
    "CHECKPOINT_ONE = \"autolamella-02-34.pt\"\n",
    "CHECKPOINT_v3 = \"autolamella-03-34.pt\"\n",
    "\n",
    "CHECKPOINTS = [CHECKPOINT_BASELINE, CHECKPOINT_ONE, CHECKPOINT_v3]\n",
    "\n",
    "FEATURES = [detection.LamellaCentre()]\n",
    "\n",
    "DETECTIONS = []\n",
    "\n",
    "\n",
    "for fname in filenames:\n",
    "    print(fname)\n",
    "    img = FibsemImage.load(fname)\n",
    "\n",
    "    dets: list[detection.DetectedFeatures] = []\n",
    "\n",
    "    for CHECKPOINT in CHECKPOINTS:\n",
    "        print(CHECKPOINT)\n",
    "        model = load_model(CHECKPOINT, encoder=\"resnet34\")\n",
    "        \n",
    "        det = detection.detect_features(img, model, \n",
    "                                            features=[detection.LamellaCentre()], \n",
    "                                            pixelsize=img.metadata.pixel_size.x, filter=False)\n",
    "        dets.append(det)\n",
    "    \n",
    "    DETECTIONS.append(dets)\n"
   ]
  },
  {
   "cell_type": "code",
   "execution_count": null,
   "metadata": {},
   "outputs": [],
   "source": [
    "\n",
    "\n",
    "for fname, dets in zip(filenames, DETECTIONS):\n",
    "\n",
    "    titles = [f\"{checkpoint}\" for checkpoint in CHECKPOINTS]\n",
    "\n",
    "    fig = detection.plot_detections(dets, titles=titles)\n",
    "\n",
    "    # save figure\n",
    "    # plot_fname = os.path.basename(fname).replace(\".tif\", \".png\")\n",
    "    \n",
    "    # fig.savefig(plot_fname, dpi=300, bbox_inches=\"tight\")"
   ]
  },
  {
   "cell_type": "code",
   "execution_count": null,
   "metadata": {},
   "outputs": [],
   "source": [
    "# dataset sizes\n",
    "\n",
    "DATA_PATH_BASE  = \"/home/patrick/github/data/autolamella\"\n",
    "BASELINE_TRAIN_PATH = \"/home/patrick/github/data/liftout/training/train/images\"\n",
    "\n",
    "PATH_TRAIN_2 = os.path.join(DATA_PATH_BASE, \"train2\")\n",
    "PATH_TRAIN_3 = os.path.join(DATA_PATH_BASE, \"train3\")\n",
    "\n",
    "files_train_2 = glob.glob(os.path.join(PATH_TRAIN_2, \"*.tif\"))\n",
    "files_train_3 = glob.glob(os.path.join(PATH_TRAIN_3, \"*.tif\"))\n",
    "baseline_train = glob.glob(os.path.join(BASELINE_TRAIN_PATH, \"*.tif\"))\n",
    "\n",
    "print(\"autolamella dataset sizes\")\n",
    "print(\"baseline: \", len(baseline_train))\n",
    "print(\"train2: \", len(files_train_2))\n",
    "print(\"train3: \", len(files_train_3))\n",
    "\n",
    "\n",
    "import plotly.express as px\n",
    "\n",
    "# plot count on top of bars\n",
    "fig = px.bar(x=[\"baseline (common)\", \"train2\", \"train3\"], \n",
    "    y=[len(baseline_train), len(files_train_2), len(files_train_3)], \n",
    "    text=[len(baseline_train), len(files_train_2), len(files_train_3)],\n",
    "    color=[\"baseline (common)\", \"train2\", \"train3\"],\n",
    "    title=\"AutoLamella Training Dataset Sizes\")\n",
    "\n",
    "fig.show()\n"
   ]
  }
 ],
 "metadata": {
  "kernelspec": {
   "display_name": "fibsem",
   "language": "python",
   "name": "python3"
  },
  "language_info": {
   "codemirror_mode": {
    "name": "ipython",
    "version": 3
   },
   "file_extension": ".py",
   "mimetype": "text/x-python",
   "name": "python",
   "nbconvert_exporter": "python",
   "pygments_lexer": "ipython3",
   "version": "3.9.16"
  },
  "orig_nbformat": 4
 },
 "nbformat": 4,
 "nbformat_minor": 2
}
