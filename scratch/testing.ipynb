{
 "cells": [
  {
   "cell_type": "code",
   "execution_count": 24,
   "metadata": {},
   "outputs": [
    {
     "name": "stdout",
     "output_type": "stream",
     "text": [
      "The autoreload extension is already loaded. To reload it, use:\n",
      "  %reload_ext autoreload\n"
     ]
    }
   ],
   "source": [
    "%load_ext autoreload\n",
    "%autoreload 2\n",
    "\n",
    "from fibsem import utils\n",
    "from fibsem.structures import MicroscopeSettings, SystemSettings\n",
    "from pprint import pprint"
   ]
  },
  {
   "cell_type": "code",
   "execution_count": 25,
   "metadata": {},
   "outputs": [],
   "source": [
    "settings = utils.load_settings_from_config()"
   ]
  },
  {
   "cell_type": "code",
   "execution_count": 26,
   "metadata": {},
   "outputs": [
    {
     "name": "stdout",
     "output_type": "stream",
     "text": [
      "MicroscopeSettings(system=SystemSettings(ip_address='10.0.0.1', application_file='autolamella', stage=StageSettings(rotation_flat_to_electron=50, rotation_flat_to_ion=230, tilt_flat_to_electron=27, tilt_flat_to_ion=52, needle_stage_height_limit=0.0037), ion=BeamSystemSettings(beam_type=<BeamType.ION: 2>, voltage=30000, current=2e-11, detector_type='ETD', detector_mode='SecondaryElectrons', eucentric_height=0.0165, plasma_gas='Argon'), electron=BeamSystemSettings(beam_type=<BeamType.ELECTRON: 1>, voltage=2000, current=1e-12, detector_type='ETD', detector_mode='SecondaryElectrons', eucentric_height=0.004, plasma_gas='Null')), default=DefaultSettings(imaging_current=2e-11, milling_current=2e-09), image_settings=ImageSettings(resolution='1536x1024', dwell_time=1e-06, hfw=0.00015, autocontrast=True, beam_type=<BeamType.ELECTRON: 1>, save=False, label='', gamma=GammaSettings(enabled=True, min_gamma=0.15, max_gamma=1.8, scale_factor=0.01, threshold=46), save_path=''), protocol={'name': 'demo'})\n"
     ]
    }
   ],
   "source": [
    "pprint(settings)"
   ]
  },
  {
   "cell_type": "code",
   "execution_count": null,
   "metadata": {},
   "outputs": [],
   "source": []
  },
  {
   "cell_type": "code",
   "execution_count": null,
   "metadata": {},
   "outputs": [],
   "source": []
  },
  {
   "cell_type": "code",
   "execution_count": null,
   "metadata": {},
   "outputs": [],
   "source": []
  },
  {
   "cell_type": "code",
   "execution_count": null,
   "metadata": {},
   "outputs": [],
   "source": []
  },
  {
   "cell_type": "code",
   "execution_count": null,
   "metadata": {},
   "outputs": [],
   "source": []
  }
 ],
 "metadata": {
  "kernelspec": {
   "display_name": "Python 3.9.12 ('autoliftout')",
   "language": "python",
   "name": "python3"
  },
  "language_info": {
   "codemirror_mode": {
    "name": "ipython",
    "version": 3
   },
   "file_extension": ".py",
   "mimetype": "text/x-python",
   "name": "python",
   "nbconvert_exporter": "python",
   "pygments_lexer": "ipython3",
   "version": "3.9.12"
  },
  "orig_nbformat": 4,
  "vscode": {
   "interpreter": {
    "hash": "0ae5a722a47a2a43262ee6d419b08874066f95ae58929cb636099b0410b63756"
   }
  }
 },
 "nbformat": 4,
 "nbformat_minor": 2
}
