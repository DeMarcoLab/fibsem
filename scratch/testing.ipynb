{
 "cells": [
  {
   "cell_type": "code",
   "execution_count": 1,
   "metadata": {},
   "outputs": [
    {
     "ename": "ModuleNotFoundError",
     "evalue": "No module named 'fibsem'",
     "output_type": "error",
     "traceback": [
      "\u001b[1;31m---------------------------------------------------------------------------\u001b[0m",
      "\u001b[1;31mModuleNotFoundError\u001b[0m                       Traceback (most recent call last)",
      "\u001b[1;32mc:\\Users\\lucil\\OneDrive\\Bureau\\DeMarco_Lab\\fibsem\\scratch\\testing.ipynb Cell 1\u001b[0m in \u001b[0;36m<cell line: 4>\u001b[1;34m()\u001b[0m\n\u001b[0;32m      <a href='vscode-notebook-cell:/c%3A/Users/lucil/OneDrive/Bureau/DeMarco_Lab/fibsem/scratch/testing.ipynb#W0sZmlsZQ%3D%3D?line=0'>1</a>\u001b[0m get_ipython()\u001b[39m.\u001b[39mrun_line_magic(\u001b[39m'\u001b[39m\u001b[39mload_ext\u001b[39m\u001b[39m'\u001b[39m, \u001b[39m'\u001b[39m\u001b[39mautoreload\u001b[39m\u001b[39m'\u001b[39m)\n\u001b[0;32m      <a href='vscode-notebook-cell:/c%3A/Users/lucil/OneDrive/Bureau/DeMarco_Lab/fibsem/scratch/testing.ipynb#W0sZmlsZQ%3D%3D?line=1'>2</a>\u001b[0m get_ipython()\u001b[39m.\u001b[39mrun_line_magic(\u001b[39m'\u001b[39m\u001b[39mautoreload\u001b[39m\u001b[39m'\u001b[39m, \u001b[39m'\u001b[39m\u001b[39m2\u001b[39m\u001b[39m'\u001b[39m)\n\u001b[1;32m----> <a href='vscode-notebook-cell:/c%3A/Users/lucil/OneDrive/Bureau/DeMarco_Lab/fibsem/scratch/testing.ipynb#W0sZmlsZQ%3D%3D?line=3'>4</a>\u001b[0m \u001b[39mfrom\u001b[39;00m \u001b[39mfibsem\u001b[39;00m \u001b[39mimport\u001b[39;00m utils\n\u001b[0;32m      <a href='vscode-notebook-cell:/c%3A/Users/lucil/OneDrive/Bureau/DeMarco_Lab/fibsem/scratch/testing.ipynb#W0sZmlsZQ%3D%3D?line=4'>5</a>\u001b[0m \u001b[39mfrom\u001b[39;00m \u001b[39mfibsem\u001b[39;00m\u001b[39m.\u001b[39;00m\u001b[39mstructures\u001b[39;00m \u001b[39mimport\u001b[39;00m MicroscopeSettings, SystemSettings\n\u001b[0;32m      <a href='vscode-notebook-cell:/c%3A/Users/lucil/OneDrive/Bureau/DeMarco_Lab/fibsem/scratch/testing.ipynb#W0sZmlsZQ%3D%3D?line=5'>6</a>\u001b[0m \u001b[39mfrom\u001b[39;00m \u001b[39mpprint\u001b[39;00m \u001b[39mimport\u001b[39;00m pprint\n",
      "\u001b[1;31mModuleNotFoundError\u001b[0m: No module named 'fibsem'"
     ]
    }
   ],
   "source": [
    "%load_ext autoreload\n",
    "%autoreload 2\n",
    "\n",
    "import matplotlib.pyplot as plt\n",
    "\n",
    "\n",
    "import numpy as np\n",
    "from autoscript_sdb_microscope_client.structures import AdornedImage\n",
    "from fibsem import utils\n",
    "from fibsem.structures import MicroscopeSettings, SystemSettings\n",
    "from pprint import pprint"
   ]
  },
  {
   "cell_type": "code",
   "execution_count": null,
   "metadata": {},
   "outputs": [],
   "source": [
    "# microscope, settings = utils.setup_session(protocol_path=\"../example/protocol_slice_and_view.yaml\")"
   ]
  },
  {
   "cell_type": "code",
   "execution_count": null,
   "metadata": {},
   "outputs": [],
   "source": [
    "# pprint(settings)"
   ]
  },
  {
   "cell_type": "code",
   "execution_count": null,
   "metadata": {},
   "outputs": [],
   "source": []
  },
  {
   "cell_type": "code",
   "execution_count": null,
   "metadata": {},
   "outputs": [],
   "source": [
    "\n",
    "arr = np.ones(shape=(100, 100))\n",
    "arr = np.pad(arr, pad_width=100, mode = \"constant\", constant_values=0)\n",
    "\n",
    "plt.imshow(arr)\n",
    "plt.show()"
   ]
  },
  {
   "cell_type": "code",
   "execution_count": null,
   "metadata": {},
   "outputs": [],
   "source": [
    "from fibsem.detection import detection\n",
    "from fibsem.structures import Point\n",
    "\n",
    "arr[50, 250] = 1\n",
    "arr[250, 250] = 1\n",
    "\n",
    "top_right = detection.detect_corner(arr)\n",
    "top_left = detection.detect_corner(arr, left=True)\n",
    "bottom_right = detection.detect_corner(arr, left=False, bottom=True)\n",
    "bottom_left = detection.detect_corner(arr, left=True, bottom=True)\n",
    "\n",
    "pt = Point(50, 250)\n",
    "closest = detection.detect_closest_edge_v2(arr, pt)\n",
    "\n",
    "plt.imshow(arr, cmap=\"gray\")\n",
    "plt.plot(pt.x, pt.y, \"r+\", ms=20)\n",
    "plt.plot(closest.x, closest.y, \"c+\", ms=20)\n",
    "plt.plot(top_left.x, top_left.y, \"c+\", ms=20)\n",
    "plt.plot(top_right.x, top_right.y, \"r+\", ms=20)\n",
    "plt.plot(bottom_left.x, bottom_left.y, \"y+\", ms=20)\n",
    "plt.plot(bottom_right.x, bottom_right.y, \"g+\", ms=20)\n",
    "plt.show()\n",
    "\n"
   ]
  },
  {
   "cell_type": "code",
   "execution_count": null,
   "metadata": {},
   "outputs": [],
   "source": [
    "path = settings.image.save_path\n",
    "import zarr\n",
    "from pathlib import Path\n",
    "import os\n",
    "from autoscript_sdb_microscope_client.structures import AdornedImage\n",
    "\n",
    "def create_zarr_from_image(img: AdornedImage, path: Path, name: str) -> zarr.Array:\n",
    "\n",
    "    return zarr.open(os.path.join(path, f\"{name}.zarr\"), mode='w', shape=img.data.shape)"
   ]
  },
  {
   "cell_type": "code",
   "execution_count": null,
   "metadata": {},
   "outputs": [],
   "source": []
  },
  {
   "cell_type": "code",
   "execution_count": null,
   "metadata": {},
   "outputs": [],
   "source": []
  },
  {
   "cell_type": "code",
   "execution_count": null,
   "metadata": {},
   "outputs": [],
   "source": [
    "import numpy as np\n",
    "from PIL import Image    \n",
    "import matplotlib.pyplot as plt\n"
   ]
  },
  {
   "cell_type": "code",
   "execution_count": null,
   "metadata": {},
   "outputs": [],
   "source": [
    "\n",
    "\n",
    "arr = np.random.random((500, 500))\n",
    "\n",
    "save_profile_to_bmp(arr)"
   ]
  },
  {
   "cell_type": "code",
   "execution_count": null,
   "metadata": {},
   "outputs": [],
   "source": [
    "img = Image.open(\"profile.bmp\")"
   ]
  },
  {
   "cell_type": "code",
   "execution_count": null,
   "metadata": {},
   "outputs": [],
   "source": [
    "plt.imshow(img, cmap=\"gray\")\n",
    "plt.show()"
   ]
  },
  {
   "cell_type": "code",
   "execution_count": null,
   "metadata": {},
   "outputs": [],
   "source": []
  },
  {
   "cell_type": "code",
   "execution_count": null,
   "metadata": {},
   "outputs": [],
   "source": []
  },
  {
   "cell_type": "code",
   "execution_count": null,
   "metadata": {},
   "outputs": [],
   "source": [
    "\n",
    "%load_ext autoreload\n",
    "%autoreload 2\n",
    "\n",
    "from fibsem import utils, acquire, calibration\n",
    "import matplotlib.pyplot as plt\n",
    "import numpy as np\n",
    "\n",
    "microscope, settings = utils.setup_session()\n"
   ]
  },
  {
   "cell_type": "code",
   "execution_count": null,
   "metadata": {},
   "outputs": [],
   "source": [
    "eb_image = acquire.new_image(microscope, settings.image, reduced_area=None)\n"
   ]
  },
  {
   "cell_type": "code",
   "execution_count": 22,
   "metadata": {},
   "outputs": [
    {
     "name": "stderr",
     "output_type": "stream",
     "text": [
      "2022-10-04 18:56:24,044 — root — INFO — auto_focus_beam:71 — sharpness (accutance) based auto-focus routine\n",
      "2022-10-04 18:56:24,045 — root — INFO — auto_focus_beam:73 — initial working distance: 4.925000e-03\n",
      "2022-10-04 18:56:24,046 — root — INFO — auto_focus_beam:85 — Img 0: 4.80e-03\n",
      "2022-10-04 18:56:27,032 — root — INFO — autocontrast:27 — automatically adjusting contrast...\n",
      "2022-10-04 18:56:27,708 — root — INFO — acquire_image:186 — acquiring new ELECTRON image.\n",
      "2022-10-04 18:56:28,113 — root — INFO — auto_gamma:86 — AUTO_GAMMA | Electron | -105.636 | 0.150\n",
      "2022-10-04 18:56:28,143 — root — INFO — auto_focus_beam:85 — Img 1: 4.85e-03\n",
      "2022-10-04 18:56:31,129 — root — INFO — autocontrast:27 — automatically adjusting contrast...\n",
      "2022-10-04 18:56:31,853 — root — INFO — acquire_image:186 — acquiring new ELECTRON image.\n",
      "2022-10-04 18:56:32,273 — root — INFO — auto_gamma:86 — AUTO_GAMMA | Electron | -106.345 | 0.150\n",
      "2022-10-04 18:56:32,297 — root — INFO — auto_focus_beam:85 — Img 2: 4.90e-03\n",
      "2022-10-04 18:56:35,281 — root — INFO — autocontrast:27 — automatically adjusting contrast...\n",
      "2022-10-04 18:56:36,030 — root — INFO — acquire_image:186 — acquiring new ELECTRON image.\n",
      "2022-10-04 18:56:36,395 — root — INFO — auto_gamma:86 — AUTO_GAMMA | Electron | -105.086 | 0.150\n",
      "2022-10-04 18:56:36,425 — root — INFO — auto_focus_beam:85 — Img 3: 4.95e-03\n",
      "2022-10-04 18:56:39,412 — root — INFO — autocontrast:27 — automatically adjusting contrast...\n",
      "2022-10-04 18:56:40,143 — root — INFO — acquire_image:186 — acquiring new ELECTRON image.\n",
      "2022-10-04 18:56:40,541 — root — INFO — auto_gamma:86 — AUTO_GAMMA | Electron | -106.096 | 0.150\n",
      "2022-10-04 18:56:40,566 — root — INFO — auto_focus_beam:85 — Img 4: 5.00e-03\n",
      "2022-10-04 18:56:43,547 — root — INFO — autocontrast:27 — automatically adjusting contrast...\n",
      "2022-10-04 18:56:44,206 — root — INFO — acquire_image:186 — acquiring new ELECTRON image.\n",
      "2022-10-04 18:56:44,638 — root — INFO — auto_gamma:86 — AUTO_GAMMA | Electron | -105.230 | 0.150\n",
      "2022-10-04 18:56:44,668 — root — INFO — auto_focus_beam:85 — Img 5: 5.05e-03\n",
      "2022-10-04 18:56:47,648 — root — INFO — autocontrast:27 — automatically adjusting contrast...\n",
      "2022-10-04 18:56:48,347 — root — INFO — acquire_image:186 — acquiring new ELECTRON image.\n",
      "2022-10-04 18:56:48,726 — root — INFO — auto_gamma:86 — AUTO_GAMMA | Electron | -106.691 | 0.150\n",
      "2022-10-04 18:56:48,750 — root — INFO — auto_focus_beam:100 — ['4.800000e-03: 86.0571', '4.850000e-03: 194.9659', '4.900000e-03: 88.6513', '4.950000e-03: 195.0675', '5.000000e-03: 85.4650', '5.050000e-03: 194.9778']\n",
      "2022-10-04 18:56:48,751 — root — INFO — auto_focus_beam:101 — 3, 4.95e-03, 195.0675\n"
     ]
    }
   ],
   "source": [
    "calibration.auto_focus_beam(microscope, settings.image, mode=\"sharpness\")"
   ]
  },
  {
   "cell_type": "code",
   "execution_count": null,
   "metadata": {},
   "outputs": [],
   "source": []
  }
 ],
 "metadata": {
  "kernelspec": {

   "display_name": "Python 3.9.12 ('liftout')",

   "language": "python",
   "name": "python3"
  },
  "language_info": {
   "codemirror_mode": {
    "name": "ipython",
    "version": 3
   },
   "file_extension": ".py",
   "mimetype": "text/x-python",
   "name": "python",
   "nbconvert_exporter": "python",
   "pygments_lexer": "ipython3",
   "version": "3.9.13"
  },
  "orig_nbformat": 4,
  "vscode": {
   "interpreter": {

    "hash": "5cb17a689ea48522a268bdcd61b0f399058cec9c1acbad013779623d1fd2c02a"
    
   }
  }
 },
 "nbformat": 4,
 "nbformat_minor": 2
}
