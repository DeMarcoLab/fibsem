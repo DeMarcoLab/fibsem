{
 "cells": [
  {
   "cell_type": "code",
   "execution_count": null,
   "metadata": {},
   "outputs": [],
   "source": [
    "%load_ext autoreload\n",
    "%autoreload 2\n",
    "\n",
    "import matplotlib.pyplot as plt\n",
    "\n",
    "\n",
    "import numpy as np\n",
    "from autoscript_sdb_microscope_client.structures import AdornedImage\n",
    "from fibsem import utils\n",
    "from fibsem.structures import MicroscopeSettings, SystemSettings\n",
    "from pprint import pprint"
   ]
  },
  {
   "cell_type": "code",
   "execution_count": null,
   "metadata": {},
   "outputs": [],
   "source": [
    "\n",
    "arr = np.ones(shape=(100, 100))\n",
    "arr = np.pad(arr, pad_width=100, mode = \"constant\", constant_values=0)\n",
    "\n",
    "plt.imshow(arr)\n",
    "plt.show()"
   ]
  },
  {
   "cell_type": "code",
   "execution_count": null,
   "metadata": {},
   "outputs": [],
   "source": [
    "from fibsem.detection import detection\n",
    "from fibsem.structures import Point\n",
    "\n",
    "arr[50, 250] = 1\n",
    "arr[250, 250] = 1\n",
    "\n",
    "top_right = detection.detect_corner(arr)\n",
    "top_left = detection.detect_corner(arr, left=True)\n",
    "bottom_right = detection.detect_corner(arr, left=False, bottom=True)\n",
    "bottom_left = detection.detect_corner(arr, left=True, bottom=True)\n",
    "\n",
    "pt = Point(50, 250)\n",
    "closest = detection.detect_closest_edge_v2(arr, pt)\n",
    "\n",
    "plt.imshow(arr, cmap=\"gray\")\n",
    "plt.plot(pt.x, pt.y, \"r+\", ms=20)\n",
    "plt.plot(closest.x, closest.y, \"c+\", ms=20)\n",
    "plt.plot(top_left.x, top_left.y, \"c+\", ms=20)\n",
    "plt.plot(top_right.x, top_right.y, \"r+\", ms=20)\n",
    "plt.plot(bottom_left.x, bottom_left.y, \"y+\", ms=20)\n",
    "plt.plot(bottom_right.x, bottom_right.y, \"g+\", ms=20)\n",
    "plt.show()\n",
    "\n"
   ]
  },
  {
   "cell_type": "code",
   "execution_count": null,
   "metadata": {},
   "outputs": [],
   "source": [
    "path = settings.image.save_path\n",
    "import zarr\n",
    "from pathlib import Path\n",
    "import os\n",
    "from autoscript_sdb_microscope_client.structures import AdornedImage\n",
    "\n",
    "def create_zarr_from_image(img: AdornedImage, path: Path, name: str) -> zarr.Array:\n",
    "\n",
    "    return zarr.open(os.path.join(path, f\"{name}.zarr\"), mode='w', shape=img.data.shape)"
   ]
  },
  {
   "cell_type": "code",
   "execution_count": null,
   "metadata": {},
   "outputs": [],
   "source": []
  },
  {
   "cell_type": "code",
   "execution_count": null,
   "metadata": {},
   "outputs": [],
   "source": []
  },
  {
   "cell_type": "code",
   "execution_count": null,
   "metadata": {},
   "outputs": [],
   "source": [
    "import numpy as np\n",
    "from PIL import Image    \n",
    "import matplotlib.pyplot as plt\n"
   ]
  },
  {
   "cell_type": "code",
   "execution_count": null,
   "metadata": {},
   "outputs": [],
   "source": [
    "\n",
    "\n",
    "arr = np.random.random((500, 500))\n",
    "\n",
    "save_profile_to_bmp(arr)"
   ]
  },
  {
   "cell_type": "code",
   "execution_count": null,
   "metadata": {},
   "outputs": [],
   "source": [
    "img = Image.open(\"profile.bmp\")"
   ]
  },
  {
   "cell_type": "code",
   "execution_count": null,
   "metadata": {},
   "outputs": [],
   "source": [
    "plt.imshow(img, cmap=\"gray\")\n",
    "plt.show()"
   ]
  },
  {
   "cell_type": "code",
   "execution_count": null,
   "metadata": {},
   "outputs": [],
   "source": []
  },
  {
   "cell_type": "code",
   "execution_count": null,
   "metadata": {},
   "outputs": [],
   "source": []
  },
  {
   "cell_type": "code",
   "execution_count": null,
   "metadata": {},
   "outputs": [],
   "source": [
    "\n",
    "%load_ext autoreload\n",
    "%autoreload 2\n",
    "\n",
    "from fibsem import utils, acquire, calibration\n",
    "import matplotlib.pyplot as plt\n",
    "import numpy as np\n",
    "\n",
    "microscope, settings = utils.setup_session()\n"
   ]
  },
  {
   "cell_type": "code",
   "execution_count": null,
   "metadata": {},
   "outputs": [],
   "source": [
    "eb_image = acquire.new_image(microscope, settings.image, reduced_area=None)\n"
   ]
  },
  {
   "cell_type": "code",
   "execution_count": null,
   "metadata": {},
   "outputs": [],
   "source": [
    "calibration.auto_focus_beam(microscope, settings.image, mode=\"sharpness\")"
   ]
  },
  {
   "cell_type": "code",
   "execution_count": null,
   "metadata": {},
   "outputs": [],
   "source": []
  }
 ],
 "metadata": {
  "kernelspec": {
   "display_name": "Python 3.9.13 ('autoliftout')",
   "language": "python",
   "name": "python3"
  },
  "language_info": {
   "codemirror_mode": {
    "name": "ipython",
    "version": 3
   },
   "file_extension": ".py",
   "mimetype": "text/x-python",
   "name": "python",
   "nbconvert_exporter": "python",
   "pygments_lexer": "ipython3",
   "version": "3.9.13"
  },
  "orig_nbformat": 4,
  "vscode": {
   "interpreter": {
    "hash": "ea78b76b2c840a5577de64ec81812954f7a3177bd4e73b9895b7933ce81940d2"
   }
  }
 },
 "nbformat": 4,
 "nbformat_minor": 2
}
