{
 "cells": [
  {
   "cell_type": "code",
   "execution_count": 37,
   "metadata": {},
   "outputs": [],
   "source": [
    "import os\n",
    "from fibsem import utils, acquire, milling, movement\n",
    "import numpy as np\n",
    "from autoscript_sdb_microscope_client.structures import StagePosition\n",
    "\n",
    "from PIL import Image\n",
    "from pprint import pprint\n",
    "\n",
    "from autoscript_sdb_microscope_client.structures import BitmapPatternDefinition\n",
    "from fibsem.ui import windows\n",
    "import matplotlib.pyplot as plt\n",
    "\n",
    "BASE_PATH = os.path.dirname(r\"C:\\Users\\Admin\\Github\\fibsem\\example\\lens_milling.py\")"
   ]
  },
  {
   "cell_type": "code",
   "execution_count": 38,
   "metadata": {},
   "outputs": [
    {
     "name": "stderr",
     "output_type": "stream",
     "text": [
      "2022-09-19 15:54:31,867 — root — INFO — connect_to_microscope:28 — Microscope client connecting to [10.0.0.1]\n",
      "2022-09-19 15:54:31,889 — root — INFO — connect_to_microscope:31 — Microscope client connected to [10.0.0.1]\n",
      "2022-09-19 15:54:31,890 — root — INFO — setup_session:241 — Finished setup for session: lens_milling_demo_2022-09-19.03-54-31PM\n"
     ]
    },
    {
     "name": "stdout",
     "output_type": "stream",
     "text": [
      "Client connecting to [10.0.0.1:7520]...\n",
      "Client connected to [10.0.0.1:7520]\n"
     ]
    }
   ],
   "source": [
    "    \n",
    "PROTOCOL_PATH = os.path.join(BASE_PATH, \"protocol_lens_milling.yaml\")\n",
    "\n",
    "microscope, settings = utils.setup_session(protocol_path=PROTOCOL_PATH)\n"
   ]
  },
  {
   "cell_type": "code",
   "execution_count": 39,
   "metadata": {},
   "outputs": [],
   "source": [
    "# arr = np.ones(shape=(500, 500)) * 10e-6"
   ]
  },
  {
   "cell_type": "code",
   "execution_count": 67,
   "metadata": {},
   "outputs": [],
   "source": [
    "def save_profile_to_bmp(arr: np.ndarray, fname: str = \"profile.bmp\"):\n",
    "    \n",
    "    # invert profile\n",
    "    arr = abs(arr - np.max(arr)).T\n",
    "    arr = np.rot90(arr)\n",
    "\n",
    "    # scale values to int\n",
    "    arr = (arr / np.max(arr)) * 255\n",
    "    arr = arr.astype(np.uint8)\n",
    "\n",
    "    # save profile\n",
    "    img = Image.fromarray(arr).convert(\"RGB\")\n",
    "       \n",
    "    img.save(fname)\n"
   ]
  },
  {
   "cell_type": "code",
   "execution_count": 68,
   "metadata": {},
   "outputs": [],
   "source": [
    "# lens plane\n",
    "settings.system.stage.tilt_flat_to_electron = 0\n"
   ]
  },
  {
   "cell_type": "code",
   "execution_count": 69,
   "metadata": {},
   "outputs": [
    {
     "name": "stdout",
     "output_type": "stream",
     "text": [
      "C:\\Users\\Admin\\Github\\fibsem\\example\\lens_lowres_half.npy\n"
     ]
    }
   ],
   "source": [
    "# lens profile files\n",
    "npy_path = os.path.join(BASE_PATH, settings.protocol[\"profile\"])\n",
    "bmp_path = os.path.join(BASE_PATH, \"profile.bmp\")\n",
    "\n",
    "print(npy_path)\n",
    "# load lens properties\n",
    "lens_profile = np.load(npy_path)\n",
    "# lens_profile = arr\n",
    "pixel_size = settings.protocol[\"pixelsize\"]\n",
    "lens_height = lens_profile.shape[0] * pixel_size\n",
    "lens_width = 1 * pixel_size\n",
    "\n",
    "\n",
    "# save profile to bmp\n",
    "save_profile_to_bmp(lens_profile, bmp_path)\n",
    "\n"
   ]
  },
  {
   "cell_type": "code",
   "execution_count": 70,
   "metadata": {},
   "outputs": [],
   "source": [
    "# acquire.new_image(microscope, settings.image)"
   ]
  },
  {
   "cell_type": "code",
   "execution_count": 71,
   "metadata": {},
   "outputs": [],
   "source": [
    "# bmp_path = r\"C:\\Users\\Admin\\Github\\fibsem\\example\\lens.bmp\"\n",
    "# load bmp pattern\n",
    "bitmap_pattern = BitmapPatternDefinition()\n",
    "bitmap_pattern = bitmap_pattern.load(bmp_path)\n"
   ]
  },
  {
   "cell_type": "code",
   "execution_count": 72,
   "metadata": {},
   "outputs": [
    {
     "name": "stderr",
     "output_type": "stream",
     "text": [
      "2022-09-19 16:11:00,720 — root — INFO — setup_milling:35 — setup ion beam milling\n",
      "2022-09-19 16:11:00,721 — root — INFO — setup_milling:36 — application file:  Si, pattern mode: Serial, hfw: 0.0009\n"
     ]
    }
   ],
   "source": [
    "# # milling setup\n",
    "milling.setup_milling(\n",
    "    microscope, \n",
    "    application_file=settings.protocol[\"application_file\"],\n",
    "    hfw=900e-6\n",
    ")\n"
   ]
  },
  {
   "cell_type": "code",
   "execution_count": 74,
   "metadata": {},
   "outputs": [],
   "source": [
    "microscope.patterning.clear_patterns()\n",
    "\n",
    "# initial exposure\n",
    "pattern = microscope.patterning.create_rectangle(\n",
    "    center_x=0, center_y=0,\n",
    "    width = 800e-6,\n",
    "    height= 400e-6,\n",
    "    depth=  0.6e-6\n",
    ")\n",
    "\n",
    "pattern  = microscope.patterning.create_bitmap(\n",
    "    center_x=0, center_y=0,\n",
    "    width=800e-6,   # length\n",
    "    height=400e-6,  # diameter\n",
    "    depth=5e-6,     # height\n",
    "    bitmap_pattern_definition=bitmap_pattern,\n",
    ")\n"
   ]
  },
  {
   "cell_type": "code",
   "execution_count": 56,
   "metadata": {},
   "outputs": [
    {
     "name": "stdout",
     "output_type": "stream",
     "text": [
      "138286.91199431228\n"
     ]
    }
   ],
   "source": [
    "# npixels of bmp determines resolution\n",
    "# bitmap needs to be 2D, struggles with 1D.\n",
    "# pixelsize determines resolution, probs best to always use 2D.\n",
    "\n",
    "print(f\"pattern:\", pattern.time)\n"
   ]
  },
  {
   "cell_type": "code",
   "execution_count": 75,
   "metadata": {},
   "outputs": [
    {
     "name": "stderr",
     "output_type": "stream",
     "text": [
      "2022-09-19 16:13:33,478 — root — INFO — run_milling:60 — running ion beam milling now... asynchronous=False\n"
     ]
    }
   ],
   "source": [
    "milling.run_milling(microscope, milling_current=500e-9)"
   ]
  },
  {
   "cell_type": "code",
   "execution_count": null,
   "metadata": {},
   "outputs": [],
   "source": [
    "milling.finish_milling(microscope)\n"
   ]
  },
  {
   "cell_type": "code",
   "execution_count": null,
   "metadata": {},
   "outputs": [],
   "source": []
  },
  {
   "cell_type": "code",
   "execution_count": 19,
   "metadata": {},
   "outputs": [
    {
     "name": "stdout",
     "output_type": "stream",
     "text": [
      "(880001,)\n"
     ]
    },
    {
     "data": {
      "image/png": "[encoded data removed]",
      "text/plain": [
       "<Figure size 432x288 with 1 Axes>"
      ]
     },
     "metadata": {
      "needs_background": "light"
     },
     "output_type": "display_data"
    }
   ],
   "source": [
    "import matplotlib.pyplot as plt\n",
    "\n",
    "\n",
    "arr = np.load(npy_path)\n",
    "\n",
    "print(arr.shape)\n",
    "\n",
    "\n",
    "plt.plot(arr)\n",
    "plt.show()"
   ]
  },
  {
   "cell_type": "code",
   "execution_count": 2,
   "metadata": {},
   "outputs": [
    {
     "name": "stdout",
     "output_type": "stream",
     "text": [
      "(500, 1000)\n"
     ]
    },
    {
     "data": {
      "image/png": "[encoded data removed]",
      "text/plain": [
       "<Figure size 640x480 with 1 Axes>"
      ]
     },
     "metadata": {},
     "output_type": "display_data"
    }
   ],
   "source": [
    "import numpy as np\n",
    "\n",
    "\n",
    "arr1 = np.ones(shape=(500, 500))\n",
    "arr2 = np.zeros_like(arr1)\n",
    "\n",
    "\n",
    "arr = np.concatenate([arr1, arr2], axis=1)\n",
    "\n",
    "print(arr.shape)\n",
    "import matplotlib.pyplot as plt\n",
    "\n",
    "plt.imshow(arr)\n",
    "plt.show()"
   ]
  },
  {
   "cell_type": "code",
   "execution_count": null,
   "metadata": {},
   "outputs": [],
   "source": []
  }
 ],
 "metadata": {
  "kernelspec": {
   "display_name": "Python 3.9.12 ('liftout')",
   "language": "python",
   "name": "python3"
  },
  "language_info": {
   "codemirror_mode": {
    "name": "ipython",
    "version": 3
   },
   "file_extension": ".py",
   "mimetype": "text/x-python",
   "name": "python",
   "nbconvert_exporter": "python",
   "pygments_lexer": "ipython3",
   "version": "3.9.12"
  },
  "orig_nbformat": 4,
  "vscode": {
   "interpreter": {
    "hash": "5cb17a689ea48522a268bdcd61b0f399058cec9c1acbad013779623d1fd2c02a"
   }
  }
 },
 "nbformat": 4,
 "nbformat_minor": 2
}
