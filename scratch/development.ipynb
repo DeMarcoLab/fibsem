{
 "cells": [
  {
   "cell_type": "markdown",
   "metadata": {},
   "source": [
    "# Development Notebook"
   ]
  },
  {
   "cell_type": "markdown",
   "metadata": {},
   "source": []
  },
  {
   "cell_type": "markdown",
   "metadata": {},
   "source": [
    "#### CCD Implementation"
   ]
  },
  {
   "cell_type": "code",
   "execution_count": 2,
   "metadata": {},
   "outputs": [
    {
     "name": "stderr",
     "output_type": "stream",
     "text": [
      "c:\\Users\\Admin\\.conda\\envs\\liftout\\lib\\site-packages\\numpy\\_distributor_init.py:30: UserWarning: loaded more than 1 DLL from .libs:\n",
      "c:\\Users\\Admin\\.conda\\envs\\liftout\\lib\\site-packages\\numpy\\.libs\\libopenblas.FB5AE2TYXYH2IJRDKGDGQ3XBKLKTF43H.gfortran-win_amd64.dll\n",
      "c:\\Users\\Admin\\.conda\\envs\\liftout\\lib\\site-packages\\numpy\\.libs\\libopenblas64__v0.3.23-gcc_10_3_0.dll\n",
      "  warnings.warn(\"loaded more than 1 DLL from .libs:\"\n"
     ]
    },
    {
     "name": "stdout",
     "output_type": "stream",
     "text": [
      "2023-09-06 17:28:23,125 — root — INFO — connect_to_microscope:453 — Microscope client connecting to [10.0.0.1:7520]\n",
      "Client connecting to [10.0.0.1:7520]...\n",
      "Client connected to [10.0.0.1:7520]\n",
      "2023-09-06 17:28:23,129 — root — INFO — connect_to_microscope:455 — Microscope client connected to [10.0.0.1:7520]\n",
      "2023-09-06 17:28:23,132 — root — INFO — connect_to_microscope:459 — Microscope client connected to model Helios G4 PFIB UNSPECIFIED with serial number 9925949 and software version 14.5.1.432.\n",
      "2023-09-06 17:28:23,141 — root — INFO — setup_session:206 — Finished setup for session: demo_2023-09-06-05-28-23PM\n"
     ]
    }
   ],
   "source": [
    "%load_ext autoreload\n",
    "%autoreload 2\n",
    "\n",
    "from fibsem import utils, acquire\n",
    "from fibsem.structures import BeamType\n",
    "\n",
    "import numpy as np\n",
    "import matplotlib.pyplot as plt\n",
    "\n",
    "\n",
    "\n",
    "microscope, settings = utils.setup_session(ip_address=\"10.0.0.1\", manufacturer=\"Thermo\")\n"
   ]
  },
  {
   "cell_type": "code",
   "execution_count": 3,
   "metadata": {},
   "outputs": [
    {
     "name": "stdout",
     "output_type": "stream",
     "text": [
      "2023-09-06 17:28:25,073 — numexpr.utils — INFO — _init_num_threads:160 — NumExpr defaulting to 4 threads.\n"
     ]
    }
   ],
   "source": [
    "\n",
    "import napari\n",
    "viewer = napari.Viewer()\n",
    "\n"
   ]
  },
  {
   "cell_type": "code",
   "execution_count": 4,
   "metadata": {},
   "outputs": [
    {
     "name": "stdout",
     "output_type": "stream",
     "text": [
      "Acquiring image... 0000"
     ]
    },
    {
     "name": "stdout",
     "output_type": "stream",
     "text": [
      "\n",
      "Acquiring image... 0001\n",
      "Acquiring image... 0002\n",
      "Acquiring image... 0003\n",
      "Acquiring image... 0004\n",
      "Acquiring image... 0005\n",
      "Acquiring image... 0006\n",
      "Acquiring image... 0007\n",
      "Acquiring image... 0008\n",
      "Acquiring image... 0009\n",
      "Acquiring image... 0010\n",
      "Acquiring image... 0011\n",
      "Acquiring image... 0012\n",
      "Acquiring image... 0013\n",
      "Acquiring image... 0014\n",
      "Acquiring image... 0015\n",
      "Acquiring image... 0016\n",
      "Acquiring image... 0017\n",
      "Acquiring image... 0018\n",
      "Acquiring image... 0019\n",
      "Acquiring image... 0020\n",
      "Acquiring image... 0021\n",
      "Acquiring image... 0022\n",
      "Acquiring image... 0023\n",
      "Acquiring image... 0024\n",
      "Acquiring image... 0025\n",
      "Acquiring image... 0026\n",
      "Acquiring image... 0027\n",
      "Acquiring image... 0028\n",
      "Acquiring image... 0029\n",
      "Acquiring image... 0030\n",
      "Acquiring image... 0031\n",
      "Acquiring image... 0032\n",
      "Acquiring image... 0033\n",
      "Acquiring image... 0034\n",
      "Acquiring image... 0035\n",
      "Acquiring image... 0036\n",
      "Acquiring image... 0037\n",
      "Acquiring image... 0038\n",
      "Acquiring image... 0039\n",
      "Acquiring image... 0040\n",
      "Acquiring image... 0041\n",
      "Acquiring image... 0042\n",
      "Acquiring image... 0043\n",
      "Acquiring image... 0044\n",
      "Acquiring image... 0045\n",
      "Acquiring image... 0046\n",
      "Acquiring image... 0047\n",
      "Acquiring image... 0048\n",
      "Acquiring image... 0049\n",
      "Acquiring image... 0050\n",
      "Acquiring image... 0051\n",
      "Acquiring image... 0052\n",
      "Acquiring image... 0053\n",
      "Acquiring image... 0054\n",
      "Acquiring image... 0055\n",
      "Acquiring image... 0056\n",
      "Acquiring image... 0057\n",
      "Acquiring image... 0058\n",
      "Acquiring image... 0059\n",
      "Acquiring image... 0060\n",
      "Acquiring image... 0061\n",
      "Acquiring image... 0062\n",
      "Acquiring image... 0063\n",
      "Acquiring image... 0064\n",
      "Acquiring image... 0065\n",
      "Acquiring image... 0066\n",
      "Acquiring image... 0067\n",
      "Acquiring image... 0068\n",
      "Acquiring image... 0069\n",
      "Acquiring image... 0070\n",
      "Acquiring image... 0071\n",
      "Acquiring image... 0072\n",
      "Acquiring image... 0073\n",
      "Acquiring image... 0074\n",
      "Acquiring image... 0075\n",
      "Acquiring image... 0076\n",
      "Acquiring image... 0077\n",
      "Acquiring image... 0078\n",
      "Acquiring image... 0079\n",
      "Acquiring image... 0080\n",
      "Acquiring image... 0081\n",
      "Acquiring image... 0082\n",
      "Acquiring image... 0083\n",
      "Acquiring image... 0084\n",
      "Acquiring image... 0085\n",
      "Acquiring image... 0086\n",
      "Acquiring image... 0087\n",
      "Acquiring image... 0088\n",
      "Acquiring image... 0089\n",
      "Acquiring image... 0090\n",
      "Acquiring image... 0091\n",
      "Acquiring image... 0092\n",
      "Acquiring image... 0093\n",
      "Acquiring image... 0094\n",
      "Acquiring image... 0095\n",
      "Acquiring image... 0096\n",
      "Acquiring image... 0097\n",
      "Acquiring image... 0098\n",
      "Acquiring image... 0099\n",
      "Acquiring image... 0100\n",
      "Finished!\n"
     ]
    }
   ],
   "source": [
    "from pprint import pprint \n",
    "\n",
    "microscope.connection.imaging.set_active_view(4)\n",
    "microscope.connection.imaging.set_active_device(3) #CCD = DEVICE 3, BUT VIEW=4 USUALLY WHAT?\n",
    "\n",
    "import time\n",
    "from fibsem.structures import FibsemImage\n",
    "\n",
    "\n",
    "from napari.qt.threading import thread_worker\n",
    "\n",
    "\n",
    "@thread_worker\n",
    "def _acquire_image(microscope):\n",
    "    i = 0\n",
    "    images = []\n",
    "    while True:\n",
    "\n",
    "        print(f\"Acquiring image... {i:04d}\")\n",
    "        image = microscope.connection.imaging.get_image()\n",
    "        image = FibsemImage(image.data, None)\n",
    "        # images.append(image)\n",
    "\n",
    "        yield image\n",
    "        \n",
    "        time.sleep(0.2)\n",
    "        i += 1\n",
    "        if i > 100:\n",
    "            break\n",
    "\n",
    "\n",
    "\n",
    "\n",
    "def _on_yield(image):\n",
    "    try:\n",
    "        viewer.layers[\"data\"].data = image.data\n",
    "    except KeyError:\n",
    "        viewer.add_image(image.data, name=\"data\")\n",
    "\n",
    "\n",
    "worker = _acquire_image(microscope)\n",
    "worker.yielded.connect(_on_yield)\n",
    "worker.finished.connect(lambda: print(\"Finished!\"))\n",
    "worker.finished.connect(viewer.close)\n",
    "worker.start()\n",
    "\n"
   ]
  },
  {
   "cell_type": "code",
   "execution_count": null,
   "metadata": {},
   "outputs": [],
   "source": [
    "\n"
   ]
  },
  {
   "cell_type": "code",
   "execution_count": null,
   "metadata": {},
   "outputs": [],
   "source": [
    "\n",
    "# plot all images\n",
    "\n",
    "fig, axes = plt.subplots(1, len(images), figsize=(20, 20))\n",
    "for i, image in enumerate(images):\n",
    "    axes[i].imshow(image.data, cmap='gray')\n",
    "    axes[i].set_title(f'Image {i}')\n",
    "    axes[i].axis('off')\n",
    "\n",
    "\n",
    "plt.subplots_adjust(wspace=0, hspace=0)\n",
    "plt.show()"
   ]
  },
  {
   "cell_type": "code",
   "execution_count": null,
   "metadata": {},
   "outputs": [],
   "source": []
  }
 ],
 "metadata": {
  "kernelspec": {
   "display_name": "liftout",
   "language": "python",
   "name": "python3"
  },
  "language_info": {
   "codemirror_mode": {
    "name": "ipython",
    "version": 3
   },
   "file_extension": ".py",
   "mimetype": "text/x-python",
   "name": "python",
   "nbconvert_exporter": "python",
   "pygments_lexer": "ipython3",
   "version": "3.9.12"
  },
  "orig_nbformat": 4
 },
 "nbformat": 4,
 "nbformat_minor": 2
}
