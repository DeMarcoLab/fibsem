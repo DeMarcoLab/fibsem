{
 "cells": [
  {
   "cell_type": "markdown",
   "metadata": {},
   "source": [
    "# Development Notebook"
   ]
  },
  {
   "cell_type": "markdown",
   "metadata": {},
   "source": []
  },
  {
   "cell_type": "markdown",
   "metadata": {},
   "source": [
    "#### CCD Implementation"
   ]
  },
  {
   "cell_type": "code",
   "execution_count": null,
   "metadata": {},
   "outputs": [],
   "source": [
    "%load_ext autoreload\n",
    "%autoreload 2\n",
    "\n",
    "from fibsem import utils, acquire\n",
    "from fibsem.structures import BeamType\n",
    "\n",
    "import numpy as np\n",
    "import matplotlib.pyplot as plt\n",
    "\n",
    "\n",
    "\n",
    "microscope, settings = utils.setup_session(ip_address=\"10.0.0.1\", manufacturer=\"Thermo\")\n"
   ]
  },
  {
   "cell_type": "code",
   "execution_count": null,
   "metadata": {},
   "outputs": [],
   "source": [
    "\n",
    "import napari\n",
    "viewer = napari.Viewer()\n",
    "\n"
   ]
  },
  {
   "cell_type": "code",
   "execution_count": null,
   "metadata": {},
   "outputs": [],
   "source": [
    "from pprint import pprint \n",
    "\n",
    "microscope.connection.imaging.set_active_view(4)\n",
    "microscope.connection.imaging.set_active_device(3) #CCD = DEVICE 3, BUT VIEW=4 USUALLY WHAT?\n",
    "\n",
    "import time\n",
    "from fibsem.structures import FibsemImage\n",
    "\n",
    "\n",
    "from napari.qt.threading import thread_worker\n",
    "\n",
    "\n",
    "@thread_worker\n",
    "def _acquire_image(microscope):\n",
    "    i = 0\n",
    "    images = []\n",
    "    while True:\n",
    "\n",
    "        print(f\"Acquiring image... {i:04d}\")\n",
    "        image = microscope.connection.imaging.get_image()\n",
    "        image = FibsemImage(image.data, None)\n",
    "        # images.append(image)\n",
    "\n",
    "        yield image\n",
    "        \n",
    "        time.sleep(0.2)\n",
    "        i += 1\n",
    "        if i > 100:\n",
    "            break\n",
    "\n",
    "\n",
    "\n",
    "\n",
    "def _on_yield(image):\n",
    "    try:\n",
    "        viewer.layers[\"data\"].data = image.data\n",
    "    except KeyError:\n",
    "        viewer.add_image(image.data, name=\"data\")\n",
    "\n",
    "\n",
    "worker = _acquire_image(microscope)\n",
    "worker.yielded.connect(_on_yield)\n",
    "worker.finished.connect(lambda: print(\"Finished!\"))\n",
    "worker.finished.connect(viewer.close)\n",
    "worker.start()\n",
    "\n"
   ]
  },
  {
   "cell_type": "code",
   "execution_count": null,
   "metadata": {},
   "outputs": [],
   "source": [
    "\n"
   ]
  },
  {
   "cell_type": "code",
   "execution_count": null,
   "metadata": {},
   "outputs": [],
   "source": [
    "\n",
    "# plot all images\n",
    "\n",
    "fig, axes = plt.subplots(1, len(images), figsize=(20, 20))\n",
    "for i, image in enumerate(images):\n",
    "    axes[i].imshow(image.data, cmap='gray')\n",
    "    axes[i].set_title(f'Image {i}')\n",
    "    axes[i].axis('off')\n",
    "\n",
    "\n",
    "plt.subplots_adjust(wspace=0, hspace=0)\n",
    "plt.show()"
   ]
  },
  {
   "cell_type": "code",
   "execution_count": null,
   "metadata": {},
   "outputs": [],
   "source": []
  },
  {
   "cell_type": "markdown",
   "metadata": {},
   "source": [
    "## Metadata display utils"
   ]
  },
  {
   "cell_type": "code",
   "execution_count": null,
   "metadata": {},
   "outputs": [],
   "source": [
    "%load_ext autoreload\n",
    "%autoreload 2\n",
    "from fibsem.structures import FibsemImage, BeamType\n",
    "import fibsem.utils as utils\n",
    "import os"
   ]
  },
  {
   "cell_type": "code",
   "execution_count": null,
   "metadata": {},
   "outputs": [],
   "source": [
    "PATH = \"/home/patrick/github/data/EXPERIMENTS/HANNAH-WAFFLE-01-12092023/05-pet-rabbit\"\n",
    "\n",
    "eb_image = FibsemImage.load(os.path.join(PATH, \"ref_MillPolishingCut_final_high_res_eb.tif\"))\n",
    "\n",
    "fig = utils._display_metadata(eb_image, show=True)\n",
    "\n",
    "ib_image = FibsemImage.load(os.path.join(PATH, \"ref_MillPolishingCut_final_high_res_ib.tif\"))\n",
    "fig = utils._display_metadata(ib_image, show=True)\n"
   ]
  },
  {
   "cell_type": "code",
   "execution_count": null,
   "metadata": {},
   "outputs": [],
   "source": []
  }
 ],
 "metadata": {
  "kernelspec": {
   "display_name": "liftout",
   "language": "python",
   "name": "python3"
  },
  "language_info": {
   "codemirror_mode": {
    "name": "ipython",
    "version": 3
   },
   "file_extension": ".py",
   "mimetype": "text/x-python",
   "name": "python",
   "nbconvert_exporter": "python",
   "pygments_lexer": "ipython3",
   "version": "3.9.16"
  },
  "orig_nbformat": 4
 },
 "nbformat": 4,
 "nbformat_minor": 2
}
