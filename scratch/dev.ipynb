{
 "cells": [
  {
   "cell_type": "code",
   "execution_count": null,
   "metadata": {},
   "outputs": [],
   "source": [
    "%load_ext autoreload\n",
    "%autoreload 2\n",
    "\n",
    "\n",
    "import fibsem.utils as utils\n",
    "from fibsem.structures import MicroscopeState, FibsemImage, FibsemImageMetadata\n",
    "\n",
    "from pprint import pprint"
   ]
  },
  {
   "cell_type": "code",
   "execution_count": null,
   "metadata": {},
   "outputs": [],
   "source": [
    "microscope, settings = utils.setup_session(ip_address=\"10.0.0.1\", manufacturer=\"Thermo\")\n",
    "\n",
    "state = microscope.get_current_microscope_state()\n",
    "\n",
    "pprint(state.__to_dict__())"
   ]
  },
  {
   "cell_type": "code",
   "execution_count": null,
   "metadata": {},
   "outputs": [],
   "source": [
    "\n",
    "pprint(microscope.get_current_microscope_state().__to_dict__()[\"eb_detector\"])\n",
    "pprint(microscope.get_current_microscope_state().__to_dict__()[\"ib_detector\"])\n",
    "\n",
    "microscope.set_microscope_state(state)\n",
    "\n",
    "pprint(microscope.get_current_microscope_state().__to_dict__()[\"eb_detector\"])\n",
    "pprint(microscope.get_current_microscope_state().__to_dict__()[\"ib_detector\"])\n"
   ]
  },
  {
   "cell_type": "code",
   "execution_count": null,
   "metadata": {},
   "outputs": [],
   "source": []
  }
 ],
 "metadata": {
  "kernelspec": {
   "display_name": "fibsem",
   "language": "python",
   "name": "python3"
  },
  "language_info": {
   "codemirror_mode": {
    "name": "ipython",
    "version": 3
   },
   "file_extension": ".py",
   "mimetype": "text/x-python",
   "name": "python",
   "nbconvert_exporter": "python",
   "pygments_lexer": "ipython3",
   "version": "3.9.12"
  },
  "orig_nbformat": 4
 },
 "nbformat": 4,
 "nbformat_minor": 2
}
