{
 "cells": [
  {
   "cell_type": "markdown",
   "id": "238f9af8",
   "metadata": {},
   "source": [
    "## Tescan Testing Notebook"
   ]
  },
  {
   "cell_type": "markdown",
   "id": "cbda850a",
   "metadata": {},
   "source": [
    "#### Installation Instructions\n",
    "\n",
    "1. Download fibsem, autolamella\n",
    "2. Install VSCode\n",
    "3. Install Miniconda\n",
    "4. Create openfibsem env python=3.9/3.11 pip (conda create -n openfibsem python=3.9 pip)\n",
    "5. Install SharkSEM, SharkSEMAutomation in openfibsem environment\n",
    "6. Install fibsem, autolamella into the openfibsem environment (pip install -e .[ui])\n",
    "\n",
    "Ready to Run"
   ]
  },
  {
   "cell_type": "markdown",
   "id": "6c334567",
   "metadata": {},
   "source": [
    "### Microscope Connection and Configuration"
   ]
  },
  {
   "cell_type": "code",
   "execution_count": null,
   "id": "cbdc519b",
   "metadata": {},
   "outputs": [],
   "source": [
    "%load_ext autoreload\n",
    "%autoreload 2\n",
    "\n",
    "import os\n",
    "from pprint import pprint\n",
    "\n",
    "import matplotlib.pyplot as plt\n",
    "\n",
    "from fibsem import acquire, utils\n",
    "from fibsem.config import CONFIG_PATH\n",
    "from fibsem.microscopes.tescan import TescanMicroscope\n",
    "from fibsem.structures import BeamType, FibsemStagePosition\n",
    "\n",
    "TESCAN_CONFIGURATION = os.path.join(CONFIG_PATH, \"tescan-configuration.yaml\")\n",
    "\n",
    "microscope: TescanMicroscope\n",
    "microscope, settings = utils.setup_session(config_path=TESCAN_CONFIGURATION)"
   ]
  },
  {
   "cell_type": "code",
   "execution_count": null,
   "id": "f387dedd",
   "metadata": {},
   "outputs": [],
   "source": [
    "def plot_image(image, title=None, crosshair=True):\n",
    "    plt.figure(figsize=(10, 10))\n",
    "    plt.imshow(image.data, cmap='gray')\n",
    "    if title:\n",
    "        plt.title(title)\n",
    "    if crosshair:\n",
    "        plt.hlines(image.data.shape[0] // 2, 0, image.data.shape[1], colors='yellow', linestyles='dashed')\n",
    "        plt.vlines(image.data.shape[1] // 2, 0, image.data.shape[0], colors='yellow', linestyles='dashed')\n",
    "    plt.axis('off')\n",
    "    plt.show()\n",
    "\n",
    "\n",
    "def plot_images(images, titles=None):\n",
    "    n = len(images)\n",
    "    fig, axs = plt.subplots(1, n, figsize=(5 * n, 5))\n",
    "    for i, image in enumerate(images):\n",
    "        axs[i].imshow(image.data, cmap='gray')\n",
    "        if titles:\n",
    "            axs[i].set_title(titles[i])\n",
    "        axs[i].axis('off')\n",
    "    \n",
    "        axs[i].hlines(image.data.shape[0] // 2, 0, image.data.shape[1], colors='yellow', linestyles='dashed')\n",
    "        axs[i].vlines(image.data.shape[1] // 2, 0, image.data.shape[0], colors='yellow', linestyles='dashed')\n",
    "    plt.tight_layout()\n",
    "    plt.show()"
   ]
  },
  {
   "cell_type": "code",
   "execution_count": null,
   "id": "fb5a99a4",
   "metadata": {},
   "outputs": [],
   "source": [
    "# Get microscope configuration\n",
    "\n",
    "# manufacturer info\n",
    "print(\"Manufacturer Info:\")\n",
    "pprint(microscope.system.info.to_dict())\n",
    "\n",
    "print(\"\\nStage Configuration:\")\n",
    "pprint(microscope.system.stage.to_dict())\n",
    "\n",
    "print(f\"\\nSEM Configuration - Column Tilt: {microscope.system.electron.column_tilt}\")\n",
    "print(f\"\\nFIB Configuration - Column Tilt: {microscope.system.ion.column_tilt}\")"
   ]
  },
  {
   "cell_type": "markdown",
   "id": "f5a7d0be",
   "metadata": {},
   "source": [
    "### Image Acquisition"
   ]
  },
  {
   "cell_type": "code",
   "execution_count": null,
   "id": "c632801f",
   "metadata": {},
   "outputs": [],
   "source": [
    "settings.image.hfw = 200e-6\n",
    "settings.image.dwell_time = 0.2e-6\n",
    "settings.image.autocontrast = False\n",
    "settings.image.beam_type = BeamType.ELECTRON\n",
    "\n",
    "sem_image = acquire.acquire_image(microscope, settings.image)\n",
    "\n",
    "plot_image(sem_image, title=\"SEM Image\", crosshair=True)\n"
   ]
  },
  {
   "cell_type": "code",
   "execution_count": null,
   "id": "1680e944",
   "metadata": {},
   "outputs": [],
   "source": [
    "settings.image.beam_type = BeamType.ION\n",
    "fib_image = acquire.acquire_image(microscope, settings.image)\n",
    "\n",
    "# Display the acquired FIB image\n",
    "plot_image(fib_image, title=\"FIB Image\", crosshair=True)\n"
   ]
  },
  {
   "cell_type": "code",
   "execution_count": null,
   "id": "b1887cb1",
   "metadata": {},
   "outputs": [],
   "source": [
    "# Acquire both SEM and FIB images\n",
    "images = acquire.take_reference_images(microscope, settings.image)\n",
    "\n",
    "plot_images(images, titles=[\"SEM Image\", \"FIB Image\"])"
   ]
  },
  {
   "cell_type": "markdown",
   "id": "4c6afc62",
   "metadata": {},
   "source": [
    "### Stage Position and Movement"
   ]
  },
  {
   "cell_type": "code",
   "execution_count": null,
   "id": "4d65338f",
   "metadata": {},
   "outputs": [],
   "source": [
    "stage_position = microscope.get_stage_position()\n",
    "print(f\"\\nStage Position: {stage_position}\")\n",
    "\n",
    "stage_orientation = microscope.get_stage_orientation()\n",
    "print(f\"\\nStage Orientation: {stage_orientation}\")"
   ]
  },
  {
   "cell_type": "code",
   "execution_count": null,
   "id": "033139eb",
   "metadata": {},
   "outputs": [],
   "source": [
    "# relative movement\n",
    "\n",
    "sem_image1, fib_image1 = acquire.take_reference_images(microscope, settings.image)\n",
    "microscope.move_stage_relative(FibsemStagePosition(x=20e-6))\n",
    "sem_image2, fib_image2 = acquire.take_reference_images(microscope, settings.image)\n",
    "\n",
    "plot_images([sem_image1, fib_image1], titles=[\"SEM Image 1\", \"FIB Image 1\"])\n",
    "plot_images([sem_image2, fib_image2], titles=[\"SEM Image 2\", \"FIB Image 2\"])"
   ]
  },
  {
   "cell_type": "code",
   "execution_count": null,
   "id": "f264651e",
   "metadata": {},
   "outputs": [],
   "source": [
    "# absolute movement\n",
    "initial_position = microscope.get_stage_position()\n",
    "\n",
    "# move relative dx=50e-6, dy=50e-6\n",
    "microscope.move_stage_relative(FibsemStagePosition(x=50e-6, y=50e-6))\n",
    "end_position = microscope.get_stage_position()\n",
    "\n",
    "print(f\"\\nInitial Stage Position: {initial_position}\")\n",
    "print(f\"End Stage Position: {end_position}\")\n",
    "microscope.move_stage_absolute(initial_position)\n",
    "print(f\"Moved back to Initial Stage Position: {microscope.get_stage_position()}\")"
   ]
  },
  {
   "cell_type": "code",
   "execution_count": null,
   "id": "0d95646e",
   "metadata": {},
   "outputs": [],
   "source": [
    "# target orientation\n",
    "current_position = microscope.get_stage_position()\n",
    "target_position = microscope.get_target_position(current_position, \"SEM\")\n",
    "microscope.safe_absolute_stage_movement(target_position)"
   ]
  },
  {
   "cell_type": "code",
   "execution_count": null,
   "id": "29ef8cc6",
   "metadata": {},
   "outputs": [],
   "source": [
    "# stable movement\n",
    "initial_position = microscope.get_stage_position()\n",
    "sem_image1, fib_image1 = acquire.take_reference_images(microscope, settings.image)\n",
    "microscope.stable_move(dx=50e-6, dy=50e-6, beam_type=BeamType.ELECTRON)\n",
    "\n",
    "final_position = microscope.get_stage_position()\n",
    "sem_image2, fib_image2 = acquire.take_reference_images(microscope, settings.image)\n",
    "\n",
    "print(f\"\\nInitial Position: {initial_position}\")\n",
    "print(f\"Final Position: {final_position}\")\n",
    "\n",
    "plot_images([sem_image1, fib_image1], titles=[\"SEM Image 1\", \"FIB Image 1\"])\n",
    "plot_images([sem_image2, fib_image2], titles=[\"SEM Image 2\", \"FIB Image 2\"])"
   ]
  },
  {
   "cell_type": "code",
   "execution_count": null,
   "id": "e409f306",
   "metadata": {},
   "outputs": [],
   "source": [
    "# vertical stage movement\n",
    "\n",
    "initial_position = microscope.get_stage_position()\n",
    "sem_image1, fib_image1 = acquire.take_reference_images(microscope, settings.image)\n",
    "microscope.vertical_move(dy=50e-6)\n",
    "final_position = microscope.get_stage_position()\n",
    "sem_image2, fib_image2 = acquire.take_reference_images(microscope, settings.image)\n",
    "\n",
    "print(f\"\\nInitial Position: {initial_position}\")\n",
    "print(f\"Final Position: {final_position}\")\n",
    "\n",
    "plot_images([sem_image1, fib_image1], titles=[\"SEM Image 1\", \"FIB Image 1\"])\n",
    "plot_images([sem_image2, fib_image2], titles=[\"SEM Image 2\", \"FIB Image 2\"])"
   ]
  },
  {
   "cell_type": "markdown",
   "id": "85ff03f5",
   "metadata": {},
   "source": [
    "### Beam Shift Alignment\n"
   ]
  },
  {
   "cell_type": "code",
   "execution_count": null,
   "id": "d899209e",
   "metadata": {},
   "outputs": [],
   "source": [
    "import numpy as np\n",
    "\n",
    "# NOTE: on simulator, beam shift is applied before scan rotation. i.e. it moves in opposite direction when scan rotation is applied.\n",
    "\n",
    "for sr in [0, 180]:\n",
    "    microscope.set_scan_rotation(sr, BeamType.ION)\n",
    "\n",
    "    microscope.reset_beam_shifts()\n",
    "    initial_beam_shift = microscope.get_beam_shift(BeamType.ION)\n",
    "\n",
    "    settings.image.beam_type = BeamType.ION\n",
    "    fib_image1 = acquire.acquire_image(microscope, settings.image)\n",
    "    microscope.beam_shift(dx=0e-6, dy=10e-6, beam_type=BeamType.ION)\n",
    "    fib_image2 = acquire.acquire_image(microscope, settings.image)\n",
    "    final_beam_shift = microscope.get_beam_shift(BeamType.ION)\n",
    "\n",
    "    plot_images([fib_image1, fib_image2], titles=[\"FIB Image 1\", \"FIB Image 2\"])\n",
    "    print(f\"Scan Rotation: {sr} degrees\")\n",
    "    print(f\"Initial Beam Shift: {initial_beam_shift}\")\n",
    "    print(f\"Final Beam Shift: {final_beam_shift}\")\n",
    "\n",
    "    microscope.reset_beam_shifts()"
   ]
  },
  {
   "cell_type": "code",
   "execution_count": null,
   "id": "772f6291",
   "metadata": {},
   "outputs": [],
   "source": [
    "from fibsem import alignment\n",
    "from fibsem.structures import FibsemRectangle\n",
    "\n",
    "\n",
    "for sr in [0, 180]:\n",
    "    print(f\"\\nApplying Scan Rotation: {sr} degrees\")\n",
    "    microscope.set_scan_rotation(sr, BeamType.ION)\n",
    "    # reset beam shifts before alignment\n",
    "    microscope.reset_beam_shifts()\n",
    "\n",
    "    # Acquire a reference image with reduced area for beam shift alignment\n",
    "    settings.image.reduced_area = FibsemRectangle(0.25, 0.25, 0.5, 0.5) # centred bbox\n",
    "    settings.image.beam_type = BeamType.ION\n",
    "    ref_image = acquire.acquire_image(microscope, settings.image)\n",
    "\n",
    "    # randomly apply beam shift to ION\n",
    "    microscope.beam_shift(dx=10e-6, dy=10e-6, beam_type=BeamType.ION)\n",
    "    shifted_image = acquire.acquire_image(microscope, settings.image)\n",
    "\n",
    "    # Perform beam shift alignment\n",
    "    alignment.multi_step_alignment_v2(microscope, ref_image, beam_type=BeamType.ION, steps=3)\n",
    "\n",
    "    # Verify the alignment by acquiring another image\n",
    "    aligned_image = acquire.acquire_image(microscope, settings.image)\n",
    "\n",
    "    # Plot the images to compare\n",
    "    plot_images([ref_image, shifted_image, aligned_image], \n",
    "                titles=[\"Reference Image\", \"Shifted Image\", \"Aligned Image\"])\n",
    "\n",
    "    print(\"Beam shift alignment completed successfully.\")\n",
    "    print(f\"Final Beam Shift: {microscope.get_beam_shift(BeamType.ION)}\")"
   ]
  },
  {
   "cell_type": "markdown",
   "id": "6e4ec791",
   "metadata": {},
   "source": [
    "### Milling"
   ]
  },
  {
   "cell_type": "code",
   "execution_count": null,
   "id": "26cd2a7f",
   "metadata": {},
   "outputs": [],
   "source": [
    "from fibsem.milling import mill_stages, FibsemMillingStage\n",
    "from fibsem.milling.base import FibsemMillingSettings\n",
    "from fibsem.milling.patterning.patterns2 import RectanglePattern\n",
    "from fibsem.milling.patterning.plotting import draw_milling_patterns\n",
    "\n",
    "\n",
    "# Define milling settings and pattern\n",
    "milling_settings = FibsemMillingSettings(\n",
    "    hfw=150e-6,\n",
    "    preset=\"30 keV; 10 nA\",\n",
    "    rate=30.0e-11,  # in um^3/s\n",
    ")\n",
    "\n",
    "rect_pattern = RectanglePattern(\n",
    "    width=20e-6,\n",
    "    height=10e-6,\n",
    "    depth=0.5e-6\n",
    ")\n",
    "    \n",
    "milling_stage = FibsemMillingStage(name=\"Tescan Test\", \n",
    "                                   milling=milling_settings, pattern=rect_pattern,)\n",
    "milling_stage.alignment.enabled = False\n"
   ]
  },
  {
   "cell_type": "code",
   "execution_count": null,
   "id": "2a524b46",
   "metadata": {},
   "outputs": [],
   "source": [
    "# acquire the milling stage image\n",
    "settings.image.beam_type = BeamType.ION\n",
    "settings.image.hfw = milling_stage.milling.hfw\n",
    "fib_image = acquire.acquire_image(microscope, settings.image)"
   ]
  },
  {
   "cell_type": "code",
   "execution_count": null,
   "id": "3bfadf02",
   "metadata": {},
   "outputs": [],
   "source": [
    "fig = draw_milling_patterns(image=fib_image, \n",
    "                            milling_stages=[milling_stage], \n",
    "                            title=\"Milling Patterns\", show_preset=True )\n",
    "plt.show()"
   ]
  },
  {
   "cell_type": "code",
   "execution_count": null,
   "id": "1dfcbb9f",
   "metadata": {},
   "outputs": [],
   "source": [
    "# run milling \n",
    "mill_stages(microscope=microscope, stages=[milling_stage])"
   ]
  },
  {
   "cell_type": "code",
   "execution_count": null,
   "id": "409f3726",
   "metadata": {},
   "outputs": [],
   "source": [
    "from autolamella.config import PROTOCOL_PATH\n",
    "from autolamella.structures import AutoLamellaProtocol\n",
    "\n",
    "protocol = AutoLamellaProtocol.load(PROTOCOL_PATH)\n",
    "\n",
    "print(protocol.milling)\n",
    "\n",
    "rough_milling_stages = protocol.milling[\"mill_rough\"]\n",
    "\n",
    "# acquire the rough milling stage image\n",
    "settings.image.hfw = rough_milling_stages[0].milling.hfw\n",
    "\n",
    "fib_image = acquire.acquire_image(microscope, settings.image)\n",
    "fig = draw_milling_patterns(image=fib_image,\n",
    "                            milling_stages=rough_milling_stages,\n",
    "                            title=\"Rough Milling Stages\", show_preset=True)\n"
   ]
  },
  {
   "cell_type": "code",
   "execution_count": null,
   "id": "6c84276b",
   "metadata": {},
   "outputs": [],
   "source": [
    "mill_stages(microscope=microscope, stages=rough_milling_stages)"
   ]
  },
  {
   "cell_type": "code",
   "execution_count": null,
   "id": "2e79daed",
   "metadata": {},
   "outputs": [],
   "source": []
  }
 ],
 "metadata": {
  "kernelspec": {
   "display_name": "tescan",
   "language": "python",
   "name": "python3"
  },
  "language_info": {
   "codemirror_mode": {
    "name": "ipython",
    "version": 3
   },
   "file_extension": ".py",
   "mimetype": "text/x-python",
   "name": "python",
   "nbconvert_exporter": "python",
   "pygments_lexer": "ipython3",
   "version": "3.9.20"
  }
 },
 "nbformat": 4,
 "nbformat_minor": 5
}
