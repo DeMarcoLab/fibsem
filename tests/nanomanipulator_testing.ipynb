{
 "cells": [
  {
   "cell_type": "code",
   "execution_count": 1,
   "metadata": {},
   "outputs": [],
   "source": [
    "%load_ext autoreload\n",
    "%autoreload 2 \n",
    "from fibsem import utils, milling, acquire, constants \n",
    "from fibsem.microscope import FibsemMicroscope, ThermoMicroscope\n",
    "from fibsem.structures import FibsemPatternSettings, FibsemPattern, FibsemImage, BeamType, FibsemStagePosition, Point, FibsemManipulatorPosition\n",
    "import matplotlib\n",
    "import matplotlib.pyplot as plt\n",
    "import math \n"
   ]
  },
  {
   "attachments": {},
   "cell_type": "markdown",
   "metadata": {},
   "source": [
    "connection and setup"
   ]
  },
  {
   "cell_type": "code",
   "execution_count": 3,
   "metadata": {},
   "outputs": [
    {
     "name": "stdout",
     "output_type": "stream",
     "text": [
      "2023-03-30 12:31:19,133 — root — INFO — connect_to_microscope:1939 — Microscope client connecting to [localhost:8300]\n",
      "2023-03-30 12:31:19,136 — root — INFO — connect_to_microscope:1941 — Microscope client connected to [localhost:8300]\n",
      "2023-03-30 12:31:19,137 — root — INFO — setup_session:228 — Finished setup for session: autolamella_demo_2023-03-30-12-31-19PM\n"
     ]
    }
   ],
   "source": [
    "microscope, settings = utils.setup_session(config_path= r\"C:\\Users\\rkan0039\\Documents\\codeFIBSEM\\fibsem\\fibsem\\config\", protocol_path=r'C:\\Users\\rkan0039\\Documents\\codeFIBSEM\\fibsem\\example\\protocol_autolamella.yaml')\n",
    "assert isinstance(microscope, FibsemMicroscope)"
   ]
  },
  {
   "cell_type": "code",
   "execution_count": 6,
   "metadata": {},
   "outputs": [
    {
     "name": "stdout",
     "output_type": "stream",
     "text": [
      "x: -8.888394572000001 mm, y: 0.6148000248 m, z: -4.848864861 mm, rotation: 0.0 degrees\n"
     ]
    }
   ],
   "source": [
    "zero_point = FibsemManipulatorPosition()\n",
    "\n",
    "position = microscope.get_manipulator_position()\n",
    "\n",
    "print(f\"x: {position.x*constants.METRE_TO_MILLIMETRE} mm, y: {position.y*constants.METRE_TO_MILLIMETRE} m, z: {position.z*constants.METRE_TO_MILLIMETRE} mm, rotation: {position.r*constants.RADIANS_TO_DEGREES} degrees\")"
   ]
  },
  {
   "cell_type": "code",
   "execution_count": 15,
   "metadata": {},
   "outputs": [
    {
     "name": "stdout",
     "output_type": "stream",
     "text": [
      "2023-03-30 13:37:34,569 — root — INFO — move_manipulator_absolute:2589 — moving manipulator to FibsemManipulatorPosition(x=0.0, y=0.0, z=0.0, r=0.0, t=0.0, coordinate_system=None)\n",
      "x: 0.0 mm, y: 0.0 m, z: 0.0 mm, rotation: 0.0 degrees\n"
     ]
    }
   ],
   "source": [
    "microscope.move_manipulator_absolute(zero_point)\n",
    "\n",
    "position = microscope.get_manipulator_position()\n",
    "\n",
    "print(f\"x: {position.x*constants.METRE_TO_MILLIMETRE} mm, y: {position.y*constants.METRE_TO_MILLIMETRE} m, z: {position.z*constants.METRE_TO_MILLIMETRE} mm, rotation: {position.r*constants.RADIANS_TO_DEGREES} degrees\")"
   ]
  },
  {
   "cell_type": "code",
   "execution_count": 17,
   "metadata": {},
   "outputs": [
    {
     "name": "stdout",
     "output_type": "stream",
     "text": [
      "2023-03-30 13:38:33,056 — root — INFO — move_manipulator_relative:2575 — moving manipulator by FibsemManipulatorPosition(x=0.001, y=0.003, z=0, r=0.0, t=0.0, coordinate_system=None)\n",
      "x: 2.0000000950000003 mm, y: 3.000000026 m, z: 0.0 mm, rotation: 0.0 degrees\n"
     ]
    }
   ],
   "source": [
    "pointA = FibsemManipulatorPosition(x=0.001, y=0.003, z=0, r=0.0)\n",
    "microscope.move_manipulator_relative(pointA)\n",
    "position = microscope.get_manipulator_position()\n",
    "\n",
    "print(f\"x: {position.x*constants.METRE_TO_MILLIMETRE} mm, y: {position.y*constants.METRE_TO_MILLIMETRE} m, z: {position.z*constants.METRE_TO_MILLIMETRE} mm, rotation: {position.r*constants.RADIANS_TO_DEGREES} degrees\")"
   ]
  }
 ],
 "metadata": {
  "kernelspec": {
   "display_name": "fibsem",
   "language": "python",
   "name": "python3"
  },
  "language_info": {
   "codemirror_mode": {
    "name": "ipython",
    "version": 3
   },
   "file_extension": ".py",
   "mimetype": "text/x-python",
   "name": "python",
   "nbconvert_exporter": "python",
   "pygments_lexer": "ipython3",
   "version": "3.9.15"
  },
  "orig_nbformat": 4
 },
 "nbformat": 4,
 "nbformat_minor": 2
}
